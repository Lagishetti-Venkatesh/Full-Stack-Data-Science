{
  "nbformat": 4,
  "nbformat_minor": 0,
  "metadata": {
    "colab": {
      "name": "Assignment_18.ipynb",
      "provenance": [],
      "collapsed_sections": []
    },
    "kernelspec": {
      "name": "python3",
      "display_name": "Python 3"
    },
    "language_info": {
      "name": "python"
    }
  },
  "cells": [
    {
      "cell_type": "markdown",
      "source": [
        "<p>Question 1</br>\n",
        "Create a function that takes a list of non-negative integers and strings and </br>return a new list without the strings.</br>\n",
        "Examples</br>\n",
        "filter_list([1, 2, \"a\", \"b\"]) ➞ [1, 2]</br>\n",
        "\n",
        "filter_list([1, \"a\", \"b\", 0, 15]) ➞ [1, 0, 15]</br>\n",
        "\n",
        "filter_list([1, 2, \"aasf\", \"1\", \"123\", 123]) ➞ [1, 2, 123]</br>\n"
      ],
      "metadata": {
        "id": "odYUXgWjvqCW"
      }
    },
    {
      "cell_type": "code",
      "source": [
        "def filter_list(list_data):\n",
        "    new_list=[]\n",
        "    for i in list_data:\n",
        "        if type(i) == int and i >= 0 :\n",
        "            new_list.append(i)\n",
        "    return new_list\n",
        "print(f'filter_list([1, 2, \"a\", \"b\"]) ==> {filter_list([1, 2, \"a\", \"b\"])}')\n",
        "print(f'filter_list([1, \"a\", \"b\", 0, 15])==> {filter_list([1, \"a\", \"b\", 0, 15])}')\n",
        "print(f'filter_list([1, 2, \"aasf\", \"1\", \"123\", 123])==> {filter_list([1, 2, \"aasf\", \"1\", \"123\", 123])}')"
      ],
      "metadata": {
        "id": "ah5-OGmlxNfJ",
        "colab": {
          "base_uri": "https://localhost:8080/"
        },
        "outputId": "c7220d9f-1975-401f-fd31-96afe0824b4e"
      },
      "execution_count": 4,
      "outputs": [
        {
          "output_type": "stream",
          "name": "stdout",
          "text": [
            "filter_list([1, 2, \"a\", \"b\"]) ==> [1, 2]\n",
            "filter_list([1, \"a\", \"b\", 0, 15])==> [1, 0, 15]\n",
            "filter_list([1, 2, \"aasf\", \"1\", \"123\", 123])==> [1, 2, 123]\n"
          ]
        }
      ]
    },
    {
      "cell_type": "markdown",
      "source": [
        "Question 2</br>\n",
        "The \"Reverser\" takes a string as input and returns that string in reverse order, with the opposite case.\n",
        "Examples\n",
        "reverse(\"Hello World\") ➞ \"DLROw OLLEh\"\n",
        "\n",
        "reverse(\"ReVeRsE\") ➞ \"eSrEvEr\"\n",
        "\n",
        "reverse(\"Radar\") ➞ \"RADAr\""
      ],
      "metadata": {
        "id": "wSaGO3rEvp0G"
      }
    },
    {
      "cell_type": "code",
      "source": [
        "def reverse(string_data):\n",
        "    new_string = \"\"\n",
        "    for i in string_data[::-1]:\n",
        "        if i.isupper():\n",
        "            new_string+=i.lower()\n",
        "        if i.islower():\n",
        "            new_string+=i.upper()\n",
        "    return new_string\n",
        "\n",
        "print(f'{reverse(\"ReVeRsE\")}')\n",
        "print(f'{reverse(\"Radar\")}')"
      ],
      "metadata": {
        "id": "NeIlwwIDxM0y",
        "colab": {
          "base_uri": "https://localhost:8080/"
        },
        "outputId": "ee96fd16-d4dd-47d5-cf5e-d2c744d9545d"
      },
      "execution_count": 6,
      "outputs": [
        {
          "output_type": "stream",
          "name": "stdout",
          "text": [
            "eSrEvEr\n",
            "RADAr\n"
          ]
        }
      ]
    },
    {
      "cell_type": "markdown",
      "source": [
        "Question 3\n",
        "<p>You can assign variables from lists like this:</br>\n",
        "lst = [1, 2, 3, 4, 5, 6]</br>\n",
        "first = lst[0]</br>\n",
        "middle = lst[1:-1]</br>\n",
        "last = lst[-1]</br>\n",
        "\n",
        "print(first) ➞ outputs 1</br>\n",
        "print(middle) ➞ outputs [2, 3, 4, 5]</br>\n",
        "print(last) ➞ outputs 6</br>\n",
        "With Python 3, you can assign variables from lists in a much more succinct way.</br> Create variables first, middle and last from the given list using destructuring </br>assignment (check the Resources tab for some examples), where:</br>\n",
        "first  ➞ 1</br>\n",
        "\n",
        "middle ➞ [2, 3, 4, 5]</br>\n",
        "\n",
        "last ➞ 6</br>\n",
        "Your task is to unpack the list write yourcode here into three variables, being </br>first, middle, and last, with middle being everything in between the first and </br>last element. Then print all three variables.</br>\n",
        "</p>"
      ],
      "metadata": {
        "id": "OpFk6etNvpqn"
      }
    },
    {
      "cell_type": "code",
      "source": [
        "def first_middle_last(list_data):\n",
        "    first = list_data[0]\n",
        "    middle = list_data[1:-1]\n",
        "    last = list_data[-1]\n",
        "    return first, middle, last\n",
        "\n",
        "result = first_middle_last([1, 2, 3, 4, 5, 6])\n",
        "print(f'first ==> {result[0]} ')\n",
        "print(f'middle ==> {result[1]} ')\n",
        "print(f'Last ==> {result[2]}') "
      ],
      "metadata": {
        "id": "ukMISXpsxL08",
        "colab": {
          "base_uri": "https://localhost:8080/"
        },
        "outputId": "ef33a36f-16a2-4db3-f0bd-620829209793"
      },
      "execution_count": 9,
      "outputs": [
        {
          "output_type": "stream",
          "name": "stdout",
          "text": [
            "first ==> 1 \n",
            "middle ==> [2, 3, 4, 5] \n",
            "Last ==> 6\n"
          ]
        }
      ]
    },
    {
      "cell_type": "markdown",
      "source": [
        "Question 4</br>\n",
        "Write a function that calculates the factorial of a number recursively.\n",
        "Examples\n",
        "factorial(5) ➞ 120\n",
        "\n",
        "factorial(3) ➞ 6\n",
        "\n",
        "factorial(1) ➞ 1\n",
        "\n",
        "factorial(0) ➞ 1\n"
      ],
      "metadata": {
        "id": "L19QtBPLvphz"
      }
    },
    {
      "cell_type": "code",
      "source": [
        "def factorial(data):\n",
        "    if data == 1 or data == 0:\n",
        "        return 1\n",
        "    else:\n",
        "        return data * factorial(data-1)\n",
        "print(f' factorial(5)=>{factorial(5)}')\n",
        "print(f' factorial(3)=>{factorial(3)}')\n",
        "print(f' factorial(2)=>{factorial(2)}')\n",
        "print(f' factorial(1)=>{factorial(1)}')"
      ],
      "metadata": {
        "id": "aJPe06WVxLIO",
        "colab": {
          "base_uri": "https://localhost:8080/"
        },
        "outputId": "ac13335a-a79d-4332-9ed6-174a55f26585"
      },
      "execution_count": 10,
      "outputs": [
        {
          "output_type": "stream",
          "name": "stdout",
          "text": [
            " factorial(5)=>120\n",
            " factorial(3)=>6\n",
            " factorial(2)=>2\n",
            " factorial(1)=>1\n"
          ]
        }
      ]
    },
    {
      "cell_type": "markdown",
      "source": [
        "<p>Question 5</br>\n",
        "Write a function that moves all elements of one type to the end of the list.</br>\n",
        "Examples</br>\n",
        "move_to_end([1, 3, 2, 4, 4, 1], 1) ➞ [3, 2, 4, 4, 1, 1]</br>\n",
        "#### Move all the 1s to the end of the array.</br>\n",
        "\n",
        "move_to_end([7, 8, 9, 1, 2, 3, 4], 9) ➞ [7, 8, 1, 2, 3, 4, 9]</br>\n",
        "\n",
        "move_to_end([\"a\", \"a\", \"a\", \"b\"], \"a\") ➞ [\"b\", \"a\", \"a\", \"a\"]</br>\n"
      ],
      "metadata": {
        "id": "yQ-H7l_JwwkN"
      }
    },
    {
      "cell_type": "code",
      "source": [
        "def move_to_end(list_data, value):\n",
        "    same_type = []\n",
        "    new_list = []\n",
        "    for i in list_data:\n",
        "        if i == value:\n",
        "            same_type.append(i)\n",
        "        else:\n",
        "            new_list.append(i)\n",
        "    return new_list+same_type\n",
        "\n",
        "print(f' ([1, 3, 2, 4, 4, 1], 1)==> {move_to_end([1, 3, 2, 4, 4, 1], 1)}')\n",
        "print(f' ([7, 8, 9, 1, 2, 3, 4], 9)==> {move_to_end([7, 8, 9, 1, 2, 3, 4], 9)}')\n",
        "print(f' [\"a\", \"a\", \"a\", \"b\"], \"a\")==> {move_to_end([\"a\", \"a\", \"a\", \"b\"], \"a\")}')\n"
      ],
      "metadata": {
        "id": "dAsPN7tTxKPC",
        "colab": {
          "base_uri": "https://localhost:8080/"
        },
        "outputId": "4d6b645e-7a1d-4626-8010-3979c8d77e1f"
      },
      "execution_count": 13,
      "outputs": [
        {
          "output_type": "stream",
          "name": "stdout",
          "text": [
            " ([1, 3, 2, 4, 4, 1], 1)==> [3, 2, 4, 4, 1, 1]\n",
            " ([7, 8, 9, 1, 2, 3, 4], 9)==> [7, 8, 1, 2, 3, 4, 9]\n",
            " [\"a\", \"a\", \"a\", \"b\"], \"a\")==> ['b', 'a', 'a', 'a']\n"
          ]
        }
      ]
    },
    {
      "cell_type": "code",
      "source": [
        ""
      ],
      "metadata": {
        "id": "m-foUMMhsi5I"
      },
      "execution_count": null,
      "outputs": []
    }
  ]
}