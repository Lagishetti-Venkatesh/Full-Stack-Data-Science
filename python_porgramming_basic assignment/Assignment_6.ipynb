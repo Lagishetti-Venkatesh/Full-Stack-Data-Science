{
  "nbformat": 4,
  "nbformat_minor": 0,
  "metadata": {
    "colab": {
      "name": "Assignment_6.ipynb",
      "provenance": [],
      "collapsed_sections": []
    },
    "kernelspec": {
      "name": "python3",
      "display_name": "Python 3"
    },
    "language_info": {
      "name": "python"
    }
  },
  "cells": [
    {
      "cell_type": "markdown",
      "source": [
        "1. Write a Python Program to Display Fibonacci Sequence Using Recursion?"
      ],
      "metadata": {
        "id": "uuXaAodE3MoL"
      }
    },
    {
      "cell_type": "code",
      "source": [
        "def Fibonacci(limit, v1, v2):\n",
        "    if v2 >= limit:\n",
        "        return \"Limit Reached\"\n",
        "\n",
        "    print(v2, end=\" \")\n",
        "    temp = v1 + v2\n",
        "    v1 = v2\n",
        "    v2 = temp\n",
        "    return Fibonacci(limit, v1, v2)\n",
        "\n",
        "\n",
        "    \n",
        "Fibonacci(200, 0, 1)   \n"
      ],
      "metadata": {
        "id": "HlFIoEykhO98",
        "colab": {
          "base_uri": "https://localhost:8080/",
          "height": 35
        },
        "outputId": "358450a1-7a61-46cb-f120-8b2b84b28e1d"
      },
      "execution_count": 1,
      "outputs": [
        {
          "output_type": "stream",
          "name": "stdout",
          "text": [
            "1 1 2 3 5 8 13 21 34 55 89 144 "
          ]
        },
        {
          "output_type": "execute_result",
          "data": {
            "text/plain": [
              "'Limit Reached'"
            ],
            "application/vnd.google.colaboratory.intrinsic+json": {
              "type": "string"
            }
          },
          "metadata": {},
          "execution_count": 1
        }
      ]
    },
    {
      "cell_type": "markdown",
      "source": [
        "2. Write a Python Program to Find Factorial of Number Using Recursion?"
      ],
      "metadata": {
        "id": "bjVPU3nQ3MLu"
      }
    },
    {
      "cell_type": "code",
      "source": [
        "def Factorial(num):\n",
        "    if num == 0 or num == 1:\n",
        "        return 1\n",
        "    return Factorial(num-1)*num\n",
        "num = int(input(\"Enter the Integer\"))\n",
        "print(\"Factorial of {0} is {1}\".format(num, Factorial(num)))"
      ],
      "metadata": {
        "colab": {
          "base_uri": "https://localhost:8080/"
        },
        "id": "9rIeUZj-hPz9",
        "outputId": "97a7a4bd-53fe-48f7-dbfc-99f1ab34258a"
      },
      "execution_count": 2,
      "outputs": [
        {
          "output_type": "stream",
          "name": "stdout",
          "text": [
            "Enter the Integer12\n",
            "Factorial of 12 is 479001600\n"
          ]
        }
      ]
    },
    {
      "cell_type": "markdown",
      "source": [
        "3. Write a Python Program to calculate your Body Mass Index?"
      ],
      "metadata": {
        "id": "snx9szRi3MIv"
      }
    },
    {
      "cell_type": "code",
      "source": [
        "import pyinputplus\n",
        "def BMI(weight, height):\n",
        "    try:\n",
        "        return round(weight/(height/100)**2, 3)\n",
        "    except ZeroDivisionError:\n",
        "        print(ZeroDivisionError)\n",
        "\n",
        "weight = pyinputplus.inputFloat(\"Enter your weight in kg : \")\n",
        "height = pyinputplus.inputFloat(\"Enter your height in cm: \")\n",
        "print(\"BMI value is {0}\".format(BMI(weight, height)))"
      ],
      "metadata": {
        "id": "6y5ANZJMhQZ5",
        "colab": {
          "base_uri": "https://localhost:8080/"
        },
        "outputId": "50269c35-8fe6-45e4-d6d5-d755b2c4f863"
      },
      "execution_count": 7,
      "outputs": [
        {
          "output_type": "stream",
          "name": "stdout",
          "text": [
            "Enter your weight in kg : 60\n",
            "Enter your height in cm: 150\n",
            "BMI value is 26.667\n"
          ]
        }
      ]
    },
    {
      "cell_type": "markdown",
      "source": [
        "4. Write a Python Program to calculate the natural logarithm of any number?"
      ],
      "metadata": {
        "id": "oKPgPpKe3MFo"
      }
    },
    {
      "cell_type": "code",
      "source": [
        "import math\n",
        "def natural_logarithm(num):\n",
        "    return math.log(num)\n",
        "\n",
        "print(natural_logarithm(pyinputplus.inputInt(\"Enter any Integer: \")))"
      ],
      "metadata": {
        "id": "8Ufz5wHmhQ8Z",
        "colab": {
          "base_uri": "https://localhost:8080/"
        },
        "outputId": "451dd1d7-5e5c-4c64-e5d6-800f0035abed"
      },
      "execution_count": 8,
      "outputs": [
        {
          "output_type": "stream",
          "name": "stdout",
          "text": [
            "Enter any Integer: 23\n",
            "3.1354942159291497\n"
          ]
        }
      ]
    },
    {
      "cell_type": "markdown",
      "source": [
        "5. Write a Python Program for cube sum of first n natural numbers?"
      ],
      "metadata": {
        "id": "COhoWFdO3MDR"
      }
    },
    {
      "cell_type": "code",
      "execution_count": 9,
      "metadata": {
        "id": "uYlyOwAgnAxZ",
        "colab": {
          "base_uri": "https://localhost:8080/"
        },
        "outputId": "013f7eef-5698-43bb-8aeb-1efa9cf22925"
      },
      "outputs": [
        {
          "output_type": "stream",
          "name": "stdout",
          "text": [
            "Enter Any integer: 23\n",
            "76176.0\n"
          ]
        }
      ],
      "source": [
        "def cube_of_natural_numbers(num):\n",
        "    try:\n",
        "        return round((num * (num+1)/2)**2, 4)\n",
        "    except ZeroDivisionError:\n",
        "        print(ZeroDivisionError)\n",
        "\n",
        "\n",
        "print(cube_of_natural_numbers(pyinputplus.inputInt(\"Enter Any integer: \")))"
      ]
    }
  ]
}