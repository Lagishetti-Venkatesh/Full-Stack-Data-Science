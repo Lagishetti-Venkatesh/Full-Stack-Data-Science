{
  "nbformat": 4,
  "nbformat_minor": 0,
  "metadata": {
    "colab": {
      "name": "Assignment_7.ipynb",
      "provenance": [],
      "collapsed_sections": []
    },
    "kernelspec": {
      "name": "python3",
      "display_name": "Python 3"
    },
    "language_info": {
      "name": "python"
    }
  },
  "cells": [
    {
      "cell_type": "markdown",
      "source": [
        "1. Write a Python Program to find sum of array?"
      ],
      "metadata": {
        "id": "tOv-7Y0a9JMH"
      }
    },
    {
      "cell_type": "code",
      "source": [
        "def sum_of_array():\n",
        "    arr = eval(input(\"Enter the Array of integer Elments: \"))\n",
        "    print(f\"Sum of the Elements {arr} is {sum(arr)}\")\n",
        "sum_of_array()"
      ],
      "metadata": {
        "id": "6q_9KHIC9dUu",
        "colab": {
          "base_uri": "https://localhost:8080/"
        },
        "outputId": "fc3fdfb3-2922-4ee1-a7ed-f31abd9010ab"
      },
      "execution_count": 1,
      "outputs": [
        {
          "output_type": "stream",
          "name": "stdout",
          "text": [
            "Enter the Array of integer Elments: [1, 3, 7, 89, 98]\n",
            "Sum of the [1, 3, 7, 89, 98] is 198\n"
          ]
        }
      ]
    },
    {
      "cell_type": "markdown",
      "source": [
        "2. Write a Python Program to find largest element in an array?"
      ],
      "metadata": {
        "id": "YyVi7nSl9I7u"
      }
    },
    {
      "cell_type": "code",
      "source": [
        "def largest_element():\n",
        "    arr = eval(input(\"Enter The array of largest elements: \"))\n",
        "    print(f\"Largest elements in The array is {arr} is {sorted(arr, reverse=True)[0]}\")\n",
        "largest_element()"
      ],
      "metadata": {
        "id": "6xsPt4d89dt6",
        "colab": {
          "base_uri": "https://localhost:8080/"
        },
        "outputId": "27ee3dd6-f28f-4338-cfbd-671cdda0d358"
      },
      "execution_count": 6,
      "outputs": [
        {
          "output_type": "stream",
          "name": "stdout",
          "text": [
            "Enter The array of largest elements: [1, 2, 3, 4, 5, 6]\n",
            "Largest elements in The array is [1, 2, 3, 4, 5, 6] is 6\n"
          ]
        }
      ]
    },
    {
      "cell_type": "markdown",
      "source": [
        "3. Write a Python Program for array rotation?"
      ],
      "metadata": {
        "id": "Dqz2mxT-9Iv8"
      }
    },
    {
      "cell_type": "code",
      "source": [
        "def rotate_array():\n",
        "    arr = eval(input(\"Enter the Array: \"))\n",
        "    print(f'rotation of the array {arr} is {arr[::-1]}')\n",
        "rotate_array()"
      ],
      "metadata": {
        "id": "Rd-IkXhp9eOm",
        "colab": {
          "base_uri": "https://localhost:8080/"
        },
        "outputId": "3f52cf4d-0091-4f2d-db73-43e5a8daeebd"
      },
      "execution_count": 7,
      "outputs": [
        {
          "output_type": "stream",
          "name": "stdout",
          "text": [
            "Enter the Array: [3, 4, 5, 6, 7, 8, 9, 10]\n",
            "rotation of the array [3, 4, 5, 6, 7, 8, 9, 10] is [10, 9, 8, 7, 6, 5, 4, 3]\n"
          ]
        }
      ]
    },
    {
      "cell_type": "markdown",
      "source": [
        "4. Write a Python Program to Split the array and add the first part to the end?"
      ],
      "metadata": {
        "id": "NG8rSb9e9IXx"
      }
    },
    {
      "cell_type": "code",
      "source": [
        "def split():\n",
        "    arr = eval(input(\"Enter the Array: \"))\n",
        "    print(f'splitting the array{arr} and adding first and last is {arr[0]+arr[-1]}')\n",
        "split()"
      ],
      "metadata": {
        "id": "Rmrsfc_b9fK1",
        "colab": {
          "base_uri": "https://localhost:8080/"
        },
        "outputId": "a29c895f-3ebb-4ba8-8128-412599fdfee0"
      },
      "execution_count": 8,
      "outputs": [
        {
          "output_type": "stream",
          "name": "stdout",
          "text": [
            "Enter the Array: [1, 2, 3, 4, 5, 6, 7, 8, 9]\n",
            "splitting the array[1, 2, 3, 4, 5, 6, 7, 8, 9] and adding first and last is 10\n"
          ]
        }
      ]
    },
    {
      "cell_type": "markdown",
      "source": [
        "5. Write a Python Program to check if given array is Monotonic?"
      ],
      "metadata": {
        "id": "ylUBcK3t9IMe"
      }
    },
    {
      "cell_type": "code",
      "execution_count": 11,
      "metadata": {
        "id": "ky7tdVCGm_nZ",
        "colab": {
          "base_uri": "https://localhost:8080/"
        },
        "outputId": "700789fb-0439-4b1b-ef31-f7aa0e67d6d3"
      },
      "outputs": [
        {
          "output_type": "stream",
          "name": "stdout",
          "text": [
            "Enter the array: [2, 1, 4, 5, 2]\n",
            "Array [2, 1, 4, 5, 2] is not Monotonic\n"
          ]
        }
      ],
      "source": [
        "def Monotonic():\n",
        "    arr = eval(input(\"Enter the array: \"))\n",
        "    if (all(arr[i]<=arr[i+1] for i in range(len(arr)-1)))or (all(arr[i]>=arr[i+1] for i in range(len(arr)-1))):\n",
        "        print(f\"Array {arr} is Monotonic\")\n",
        "    else:\n",
        "        print(f\"Array {arr} is not Monotonic\")\n",
        "\n",
        "Monotonic()"
      ]
    },
    {
      "cell_type": "code",
      "source": [
        ""
      ],
      "metadata": {
        "id": "dn6WxqrAkuwc"
      },
      "execution_count": 10,
      "outputs": []
    }
  ]
}