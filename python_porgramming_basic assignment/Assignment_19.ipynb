{
  "nbformat": 4,
  "nbformat_minor": 0,
  "metadata": {
    "colab": {
      "name": "Assignment_19.ipynb",
      "provenance": [],
      "collapsed_sections": []
    },
    "kernelspec": {
      "name": "python3",
      "display_name": "Python 3"
    },
    "language_info": {
      "name": "python"
    }
  },
  "cells": [
    {
      "cell_type": "markdown",
      "source": [
        "Question1</br>\n",
        "Create a function that takes a string and returns a string in which each character is repeated once.</br>\n",
        "Examples</br>\n",
        "double_char(\"String\") ➞ \"SSttrriinngg\"\n",
        "\n",
        "double_char(\"Hello World!\") ➞ \"HHeelllloo  WWoorrlldd!!\"\n",
        "\n",
        "double_char(\"1234!_ \") ➞ \"11223344!!__  \"\n"
      ],
      "metadata": {
        "id": "933buz8OxzMu"
      }
    },
    {
      "cell_type": "code",
      "source": [
        "def double_char(string_data):\n",
        "    modified_string = \"\"\n",
        "    \n",
        "    for i in string_data:\n",
        "        if i == \" \":\n",
        "            continue\n",
        "        modified_string+= i*2\n",
        "    \n",
        "    return modified_string\n",
        "\n",
        "print(f'String => {double_char(\"String\")}')\n",
        "print(f'Hello World! => {double_char(\"Hello World!\") }')\n",
        "print(f'1234!_ => {double_char(\"1234!_ \")}')\n",
        "\n",
        "    "
      ],
      "metadata": {
        "id": "UYKYNhgayVez",
        "colab": {
          "base_uri": "https://localhost:8080/"
        },
        "outputId": "246d7820-6fb1-49e2-ce89-4fd80178265f"
      },
      "execution_count": 2,
      "outputs": [
        {
          "output_type": "stream",
          "name": "stdout",
          "text": [
            "String => SSttrriinngg\n",
            "Hello World! => HHeellllooWWoorrlldd!!\n",
            "1234!_ => 11223344!!__\n"
          ]
        }
      ]
    },
    {
      "cell_type": "markdown",
      "source": [
        "Question2</br>\n",
        "Create a function that reverses a boolean value and returns the string \"boolean expected\" if another variable type is given.</br>\n",
        "Examples</br>\n",
        "reverse(True) ➞ False\n",
        "\n",
        "reverse(False) ➞ True\n",
        "\n",
        "reverse(0) ➞ \"boolean expected\"\n",
        "\n",
        "reverse(None) ➞ \"boolean expected\"\n"
      ],
      "metadata": {
        "id": "6sQMPHHdxzKT"
      }
    },
    {
      "cell_type": "code",
      "source": [
        "def reverse(boolean):\n",
        "    if boolean == True:\n",
        "        return False\n",
        "    elif boolean == False:\n",
        "        return True\n",
        "    else:\n",
        "        return 'boolean expected'\n",
        "\n",
        "print(f' True => {reverse(True)}')\n",
        "print(f' False => {reverse(False)}')\n",
        "print(f' 0 => {reverse(0)}')\n",
        "print(f' None => {reverse(None)}')\n"
      ],
      "metadata": {
        "id": "RG9aKCeYzgVx",
        "colab": {
          "base_uri": "https://localhost:8080/"
        },
        "outputId": "7add4bc1-d712-4f7b-ac08-bd1807f963a8"
      },
      "execution_count": 4,
      "outputs": [
        {
          "output_type": "stream",
          "name": "stdout",
          "text": [
            " True => False\n",
            " False => True\n",
            " 0 => True\n",
            " None => boolean expected\n"
          ]
        }
      ]
    },
    {
      "cell_type": "markdown",
      "source": [
        "Question3</br>\n",
        "Create a function that returns the thickness (in meters) of a piece of paper </br>after folding it n number of times. The paper starts off with a thickness of 0.5mm.</br>\n",
        "Examples</br>\n",
        "num_layers(1) ➞ \"0.001m\"</br>\n",
        "##### Paper folded once is 1mm (equal to 0.001m)\n",
        "</br>\n",
        "num_layers(4) ➞ \"0.008m\"</br>\n",
        "\n",
        "#####Paper folded 4 times is 8mm (equal to 0.008m)</br>\n",
        "\n",
        "num_layers(21) ➞ \"1048.576m\"</br>\n",
        "##### Paper folded 21 times is 1048576mm (equal to 1048.576m)\n"
      ],
      "metadata": {
        "id": "0qMyhinByfoM"
      }
    },
    {
      "cell_type": "code",
      "source": [
        "def num_layers(folds):\n",
        "    std_thick = 0.5\n",
        "    for i in range(folds):\n",
        "        std_thick*= 2\n",
        "    return round(std_thick/1000, 3)\n",
        "print(f' Layers:1  Thickness:{num_layers(1)}')\n",
        "print(f' Layers:4 Thickness:{num_layers(4)}')\n",
        "print(f' Layers:21 Thickness:{num_layers(21)}')"
      ],
      "metadata": {
        "id": "qTT0crbAy8_Q",
        "colab": {
          "base_uri": "https://localhost:8080/"
        },
        "outputId": "f502400b-bf6c-4689-bf85-5e410a48d684"
      },
      "execution_count": 5,
      "outputs": [
        {
          "output_type": "stream",
          "name": "stdout",
          "text": [
            " Layers:1  Thickness:0.001\n",
            " Layers:4 Thickness:0.008\n",
            " Layers:21 Thickness:1048.576\n"
          ]
        }
      ]
    },
    {
      "cell_type": "markdown",
      "source": [
        "Question4</br>\n",
        "Create a function that takes a single string as argument and returns an ordered</br> list containing the indices of all capital letters in the string.</br>\n",
        "Examples</br>\n",
        "index_of_caps(\"eDaBiT\") ➞ [1, 3, 5]</br>\n",
        "\n",
        "index_of_caps(\"eQuINoX\") ➞ [1, 3, 4, 6]</br>\n",
        "\n",
        "index_of_caps(\"determine\") ➞ []</br>\n",
        "\n",
        "index_of_caps(\"STRIKE\") ➞ [0, 1, 2, 3, 4, 5]</br>\n",
        "\n",
        "index_of_caps(\"sUn\") ➞ [1]</br>\n"
      ],
      "metadata": {
        "id": "PNlhJ_J3xzHE"
      }
    },
    {
      "cell_type": "code",
      "source": [
        "def index_of_caps(string_data):\n",
        "    caps_index_list = []\n",
        "    for i in string_data:\n",
        "        if i.isupper():\n",
        "            caps_index_list.append(string_data.index(i))\n",
        "    return caps_index_list\n",
        "            \n",
        "print(f' eDaBiT => {index_of_caps(\"eDaBiT\")}')\n",
        "print(f' eQuINoX => {index_of_caps(\"eQuINoX\")}')\n",
        "print(f' determine =>{index_of_caps(\"determine\") }')\n",
        "print(f' STRIKE => {index_of_caps(\"STRIKE\")}')\n",
        "print(f' sUn => {index_of_caps(\"sUn\") }')"
      ],
      "metadata": {
        "id": "x6wI0XZezPEK",
        "colab": {
          "base_uri": "https://localhost:8080/"
        },
        "outputId": "780fb1e5-dc1e-4f23-c52f-a3a484d6b03a"
      },
      "execution_count": 11,
      "outputs": [
        {
          "output_type": "stream",
          "name": "stdout",
          "text": [
            " eDaBiT => [1, 3, 5]\n",
            " eQuINoX => [1, 3, 4, 6]\n",
            " determine =>[]\n",
            " STRIKE => [0, 1, 2, 3, 4, 5]\n",
            " sUn => [1]\n"
          ]
        }
      ]
    },
    {
      "cell_type": "markdown",
      "source": [
        "Question5</br>\n",
        "Using list comprehensions, create a function that finds all even numbers from 1</br> to the given number.</br>\n",
        "Examples</br>\n",
        "find_even_nums(8) ➞ [2, 4, 6, 8]</br>\n",
        "\n",
        "find_even_nums(4) ➞ [2, 4]</br>\n",
        "\n",
        "find_even_nums(2) ➞ [2]</br>"
      ],
      "metadata": {
        "id": "7DJO7BR0xzEJ"
      }
    },
    {
      "cell_type": "code",
      "source": [
        "def find_even_nums(limit):\n",
        "    return [i for i in range(1,limit+1) if i%2==0]\n",
        "print(f' even numbers below: 8 =>{find_even_nums(8)}')\n",
        "print(f' even numbers below: 4 =>{find_even_nums(4)}')\n",
        "print(f' even numbers below: 2 =>{find_even_nums(2)}')"
      ],
      "metadata": {
        "id": "rrlXVIm7zcvG",
        "colab": {
          "base_uri": "https://localhost:8080/"
        },
        "outputId": "0f09babe-3650-4301-b613-6765a36f3fa0"
      },
      "execution_count": 14,
      "outputs": [
        {
          "output_type": "stream",
          "name": "stdout",
          "text": [
            " even numbers below: 8 =>[2, 4, 6, 8]\n",
            " even numbers below: 4 =>[2, 4]\n",
            " even numbers below: 2 =>[2]\n"
          ]
        }
      ]
    }
  ]
}