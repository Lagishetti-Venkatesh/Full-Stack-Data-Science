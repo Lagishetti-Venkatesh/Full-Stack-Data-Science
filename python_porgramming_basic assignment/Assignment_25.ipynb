{
  "nbformat": 4,
  "nbformat_minor": 0,
  "metadata": {
    "colab": {
      "name": "Assignment_25.ipynb",
      "provenance": [],
      "collapsed_sections": []
    },
    "kernelspec": {
      "name": "python3",
      "display_name": "Python 3"
    },
    "language_info": {
      "name": "python"
    }
  },
  "cells": [
    {
      "cell_type": "markdown",
      "source": [
        "Question1</br>\n",
        "Create a function that takes three integer arguments (a, b, c) and returns the</br> amount of integers which are of equal value.</br>\n",
        "Examples</br>\n",
        "equal(3, 4, 3) ➞ 2</br>\n",
        "</br>\n",
        "equal(1, 1, 1) ➞ 3</br>\n",
        "\n",
        "equal(3, 4, 1) ➞ 0 </br>\n",
        "Notes</br>\n",
        "Your function must return 0, 2 or 3.\n",
        "</br>"
      ],
      "metadata": {
        "id": "P6g0J1JqADmK"
      }
    },
    {
      "cell_type": "code",
      "source": [
        "def equal(a, b, c):\n",
        "    if a == b :\n",
        "        if b == c:\n",
        "            return 3\n",
        "        if b != c :\n",
        "            return 2\n",
        "    if a == c:\n",
        "        if b == c:\n",
        "            return 3\n",
        "        if b != c:\n",
        "            return 2\n",
        "    if a != b and b != c:\n",
        "        return 0\n",
        "    \n",
        "print(equal(3, 4, 3))\n",
        "print(equal(1, 1, 1))\n",
        "print(equal(3, 4, 1))"
      ],
      "metadata": {
        "colab": {
          "base_uri": "https://localhost:8080/"
        },
        "id": "DkupwZk6AVfz",
        "outputId": "3001ab51-0ede-4d3b-988c-18bb45868e2d"
      },
      "execution_count": 4,
      "outputs": [
        {
          "output_type": "stream",
          "name": "stdout",
          "text": [
            "2\n",
            "3\n",
            "0\n"
          ]
        }
      ]
    },
    {
      "cell_type": "markdown",
      "source": [
        "Question2<br>\n",
        "Write a function that converts a dictionary into a list of keys-values tuples.\n",
        "Examples<br>\n",
        "dict_to_list({<br>\n",
        "  \"D\": 1,<br>\n",
        "  \"B\": 2,<br>\n",
        "  \"C\": 3<br>\n",
        "}) ➞ [(\"B\", 2), (\"C\", 3), (\"D\", 1)]<br>\n",
        "<br>\n",
        "dict_to_list({<br>\n",
        "  \"likes\": 2,<br>\n",
        "  \"dislikes\": 3,<br>\n",
        "  \"followers\": 10<br>\n",
        "}) ➞ [(\"dislikes\", 3), (\"followers\", 10), (\"likes\", 2)]<br>\n",
        "Notes<br>\n",
        "Return the elements in the list in alphabetical order.<br>"
      ],
      "metadata": {
        "id": "EcThxjowADfs"
      }
    },
    {
      "cell_type": "code",
      "source": [
        "def dict_to_list(dict_values):\n",
        "    dict_values = sorted(dict_values.items())\n",
        "    return dict_values\n",
        "    \n",
        "\n",
        "\n",
        "dict_1 = {\"D\": 1, \"B\": 2, \"C\": 3}\n",
        "dict_2 = {\"likes\": 2, \"dislikes\": 3, \"followers\": 10}\n",
        "print(dict_to_list(dict_1))\n",
        "print(dict_to_list(dict_2))"
      ],
      "metadata": {
        "colab": {
          "base_uri": "https://localhost:8080/"
        },
        "id": "AnACiTLpAoYW",
        "outputId": "bb2399d4-ace9-4457-9502-59b4bce49863"
      },
      "execution_count": 12,
      "outputs": [
        {
          "output_type": "stream",
          "name": "stdout",
          "text": [
            "[('B', 2), ('C', 3), ('D', 1)]\n",
            "[('dislikes', 3), ('followers', 10), ('likes', 2)]\n"
          ]
        }
      ]
    },
    {
      "cell_type": "markdown",
      "source": [
        "Question3</br>\n",
        "Write a function that creates a dictionary with each (key, value) pair being</br> the (lower case, upper case) versions of a letter, respectively.</br>\n",
        "Examples</br>\n",
        "mapping([\"p\", \"s\"]) ➞ { \"p\": \"P\", \"s\": \"S\" }\n",
        "</br>\n",
        "mapping([\"a\", \"b\", \"c\"]) ➞ { \"a\": \"A\", \"b\": \"B\", \"c\": \"C\" }\n",
        "</br>\n",
        "mapping([\"a\", \"v\", \"y\", \"z\"]) ➞ { \"a\": \"A\", \"v\": \"V\", \"y\": \"Y\", \"z\": \"Z\" }</br>\n",
        "Notes</br>\n",
        "All of the letters in the input list will always be lowercase.\n"
      ],
      "metadata": {
        "id": "dr_fQiBYADX1"
      }
    },
    {
      "cell_type": "code",
      "source": [
        "def mapping(list_values):\n",
        "    dict_values = {}\n",
        "    for i in list_values:\n",
        "        dict_values[i] = i.capitalize()\n",
        "    \n",
        "    return dict_values\n",
        "print(mapping([\"p\", \"s\"]))\n",
        "print(mapping([\"a\", \"b\", \"c\"]))\n",
        "print(mapping([\"a\", \"v\", \"y\", \"z\"]))"
      ],
      "metadata": {
        "colab": {
          "base_uri": "https://localhost:8080/"
        },
        "id": "QUmcJM4eBWpY",
        "outputId": "0419be06-3f8a-4e54-f65a-5ad1a1395e89"
      },
      "execution_count": 16,
      "outputs": [
        {
          "output_type": "stream",
          "name": "stdout",
          "text": [
            "{'p': 'P', 's': 'S'}\n",
            "{'a': 'A', 'b': 'B', 'c': 'C'}\n",
            "{'a': 'A', 'v': 'V', 'y': 'Y', 'z': 'Z'}\n"
          ]
        }
      ]
    },
    {
      "cell_type": "markdown",
      "source": [
        "Question4</br>\n",
        "Write a function, that replaces all vowels in a string with a specified vowel.</br>\n",
        "Examples</br>\n",
        "vow_replace(\"apples and bananas\", \"u\") ➞ \"upplus und bununus\"</br>\n",
        "\n",
        "vow_replace(\"cheese casserole\", \"o\") ➞ \"chooso cossorolo\"</br>\n",
        "\n",
        "vow_replace(\"stuffed jalapeno poppers\", \"e\") ➞ \"steffed jelepene peppers\"</br>\n",
        "Notes</br>\n",
        "All words will be lowercase. Y is not considered a vowel.\n",
        "</br>"
      ],
      "metadata": {
        "id": "jb0Imps4ADVM"
      }
    },
    {
      "cell_type": "code",
      "execution_count": 24,
      "metadata": {
        "id": "JxXzUtZgulIk",
        "colab": {
          "base_uri": "https://localhost:8080/"
        },
        "outputId": "3feeccaa-f3b8-4ab5-90ef-d104eb7b1b00"
      },
      "outputs": [
        {
          "output_type": "stream",
          "name": "stdout",
          "text": [
            "upplus und bununus\n",
            "chooso cossorolo\n",
            "steffed jelepene peppers\n"
          ]
        }
      ],
      "source": [
        "def vow_replace(string_data, vowel):\n",
        "    list_of_vowels = ['a', 'e', 'i', 'o', 'u']\n",
        "    modified_string = \"\"\n",
        "    for i in string_data:\n",
        "        if i in list_of_vowels:\n",
        "            modified_string+=vowel\n",
        "        else:\n",
        "            modified_string+=i\n",
        "    \n",
        "    return modified_string\n",
        "\n",
        "print(vow_replace(\"apples and bananas\", \"u\"))\n",
        "print(vow_replace(\"cheese casserole\", \"o\"))\n",
        "print(vow_replace(\"stuffed jalapeno poppers\", \"e\"))\n"
      ]
    },
    {
      "cell_type": "markdown",
      "source": [
        "Question5</br>\n",
        "Create a function that takes a string as input and capitalizes a letter if its</br> ASCII code is even and returns its lower case version if its ASCII code is odd.</br>\n",
        "Examples</br>\n",
        "ascii_capitalize(\"to be or not to be!\") ➞ \"To Be oR NoT To Be!\"</br>\n",
        "\n",
        "ascii_capitalize(\"THE LITTLE MERMAID\") ➞ \"THe LiTTLe meRmaiD\"</br>\n",
        "\n",
        "ascii_capitalize(\"Oh what a beautiful morning.\") ➞ \"oH wHaT a BeauTiFuL moRNiNg.\"</br>\n"
      ],
      "metadata": {
        "id": "CCE-7saXBIn_"
      }
    },
    {
      "cell_type": "code",
      "source": [
        "def ascii_capitalize(string_data):\n",
        "    modified_string=\"\"\n",
        "    for i in string_data.lower():\n",
        "        if ord(i)%2 == 0:\n",
        "            if  not i.isupper():\n",
        "                modified_string+=i.capitalize()\n",
        "            else:\n",
        "                modified_string+=i.lower()\n",
        "        else:\n",
        "            modified_string+=i\n",
        "    return modified_string\n",
        "\n",
        "print(ascii_capitalize(\"to be or not to be!\"))\n",
        "print(ascii_capitalize(\"THE LITTLE MERMAID\"))\n",
        "print(ascii_capitalize(\"Oh what a beautiful morning.\"))"
      ],
      "metadata": {
        "colab": {
          "base_uri": "https://localhost:8080/"
        },
        "id": "1U4cmHNWBULZ",
        "outputId": "42ae05e1-1592-40e2-8798-82bc42337e3d"
      },
      "execution_count": 31,
      "outputs": [
        {
          "output_type": "stream",
          "name": "stdout",
          "text": [
            "To Be oR NoT To Be!\n",
            "THe LiTTLe meRmaiD\n",
            "oH wHaT a BeauTiFuL moRNiNg.\n"
          ]
        }
      ]
    }
  ]
}