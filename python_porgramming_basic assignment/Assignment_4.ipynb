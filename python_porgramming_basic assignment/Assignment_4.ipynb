{
  "nbformat": 4,
  "nbformat_minor": 0,
  "metadata": {
    "colab": {
      "name": "Assignment_4.ipynb",
      "provenance": [],
      "collapsed_sections": []
    },
    "kernelspec": {
      "name": "python3",
      "display_name": "Python 3"
    },
    "language_info": {
      "name": "python"
    }
  },
  "cells": [
    {
      "cell_type": "markdown",
      "source": [
        "1. Write a Python Program to Find the Factorial of a Number?"
      ],
      "metadata": {
        "id": "FixGR82gwWeY"
      }
    },
    {
      "cell_type": "code",
      "source": [
        "import pyinputplus\n",
        "\n",
        "def factorial(num):\n",
        "    if num == 1 or num == 0:\n",
        "        return 1\n",
        "    else:\n",
        "        return factorial(num-1) * num \n",
        "print(factorial(pyinputplus.inputInt(\"Enter the number: \")))"
      ],
      "metadata": {
        "id": "lXJmnULAxLtk",
        "colab": {
          "base_uri": "https://localhost:8080/"
        },
        "outputId": "b91cfafb-7b18-4ee8-fb1a-710984fb1eb3"
      },
      "execution_count": 10,
      "outputs": [
        {
          "output_type": "stream",
          "name": "stdout",
          "text": [
            "Enter the number: 0\n",
            "1\n"
          ]
        }
      ]
    },
    {
      "cell_type": "markdown",
      "source": [
        "2. Write a Python Program to Display the multiplication Table?"
      ],
      "metadata": {
        "id": "HSyTwd8lwWhu"
      }
    },
    {
      "cell_type": "code",
      "source": [
        "def multiplication_table(num):\n",
        "    for i in range(1, 11):\n",
        "        print(\"{0} x {1} = {2}\".format(num, i, (num * i)))\n",
        "multiplication_table(pyinputplus.inputInt(\"Enter the integer value: \"))"
      ],
      "metadata": {
        "id": "h-2nDKuqxMO1",
        "colab": {
          "base_uri": "https://localhost:8080/"
        },
        "outputId": "887f9473-1cc7-4bde-d1cc-248ad74ace1e"
      },
      "execution_count": 13,
      "outputs": [
        {
          "output_type": "stream",
          "name": "stdout",
          "text": [
            "Enter the integer value: 3\n",
            "3 x 1 = 3\n",
            "3 x 2 = 6\n",
            "3 x 3 = 9\n",
            "3 x 4 = 12\n",
            "3 x 5 = 15\n",
            "3 x 6 = 18\n",
            "3 x 7 = 21\n",
            "3 x 8 = 24\n",
            "3 x 9 = 27\n",
            "3 x 10 = 30\n",
            "None\n"
          ]
        }
      ]
    },
    {
      "cell_type": "markdown",
      "source": [
        "3. Write a Python Program to Print the Fibonacci sequence?"
      ],
      "metadata": {
        "id": "nZ2lvW4dwWkn"
      }
    },
    {
      "cell_type": "code",
      "source": [
        "def fibonacci(number):\n",
        "    a = 0\n",
        "    b = 1\n",
        "    print(0, sep=\" \", end=\" \")\n",
        "    for i in range(number-1):\n",
        "        temp = a+b\n",
        "        a = b\n",
        "        b = temp\n",
        "        print(a, sep=\" \", end=\" \")\n",
        "\n",
        "fibonacci(10)\n"
      ],
      "metadata": {
        "id": "OlXsY8XLxM6m",
        "colab": {
          "base_uri": "https://localhost:8080/"
        },
        "outputId": "3127810e-95ee-4075-88ba-4c1809961330"
      },
      "execution_count": 18,
      "outputs": [
        {
          "output_type": "stream",
          "name": "stdout",
          "text": [
            "0 1 1 2 3 5 8 13 21 34 "
          ]
        }
      ]
    },
    {
      "cell_type": "markdown",
      "source": [
        "4. Write a Python Program to Check Armstrong Number?"
      ],
      "metadata": {
        "id": "W5PuLn3XwWnl"
      }
    },
    {
      "cell_type": "code",
      "source": [
        "def armstrong_number(num):\n",
        "    length = len(num)\n",
        "    s = 0\n",
        "    for i in range(length):\n",
        "        s += (int(num[i])**length)\n",
        "    if s == int(num):\n",
        "        return \"Armstrong\"\n",
        "    else:\n",
        "        return \"Not Armstrong\"\n",
        "\n",
        "print(armstrong_number(pyinputplus.inputStr(\"Enter the number\")))"
      ],
      "metadata": {
        "id": "SrJPQgySxNg4",
        "colab": {
          "base_uri": "https://localhost:8080/"
        },
        "outputId": "f571defb-63c0-49d0-8903-42d6a89d83dc"
      },
      "execution_count": 21,
      "outputs": [
        {
          "output_type": "stream",
          "name": "stdout",
          "text": [
            "Enter the number21\n",
            "Not Armstrong\n"
          ]
        }
      ]
    },
    {
      "cell_type": "markdown",
      "source": [
        "5. Write a Python Program to Find Armstrong Number in an Interval?"
      ],
      "metadata": {
        "id": "Df5j6O4cwXO4"
      }
    },
    {
      "cell_type": "code",
      "source": [
        "def armstrong_interval(interval):\n",
        "    list_of_armstrongs = []\n",
        "    for num in range(10, interval):\n",
        "        number = str(num)\n",
        "        length = len(str(number))\n",
        "        s = 0\n",
        "        for i in range(length):\n",
        "            s += (int(number[i])**length)\n",
        "         \n",
        "        if s == int(number):\n",
        "            list_of_armstrongs.append(s)\n",
        "            print(s)\n",
        "        else:\n",
        "            continue\n",
        "    return list_of_armstrongs\n",
        "print(armstrong_interval(pyinputplus.inputInt(\"Enter the Interval: \")))"
      ],
      "metadata": {
        "id": "cTyDmNCRxOBj",
        "colab": {
          "base_uri": "https://localhost:8080/"
        },
        "outputId": "a214ac6e-8dcb-4cd0-a013-04dad1f8b9eb"
      },
      "execution_count": 32,
      "outputs": [
        {
          "output_type": "stream",
          "name": "stdout",
          "text": [
            "Enter the Interval: 100000\n",
            "153\n",
            "370\n",
            "371\n",
            "407\n",
            "1634\n",
            "8208\n",
            "9474\n",
            "54748\n",
            "92727\n",
            "93084\n",
            "[153, 370, 371, 407, 1634, 8208, 9474, 54748, 92727, 93084]\n"
          ]
        }
      ]
    },
    {
      "cell_type": "markdown",
      "source": [
        "6. Write a Python Program to Find the Sum of Natural Numbers?"
      ],
      "metadata": {
        "id": "8q8G0ml6xHvD"
      }
    },
    {
      "cell_type": "code",
      "source": [
        "def sum_of_natural_numbers(num):\n",
        "   return (num * (num+1))/2\n",
        "\n",
        "print(sum_of_natural_numbers(pyinputplus.inputInt(\"Enter any number: \")))"
      ],
      "metadata": {
        "id": "AoxnDBVixOwV",
        "colab": {
          "base_uri": "https://localhost:8080/"
        },
        "outputId": "8e14352d-1aaa-43ac-ec9e-3e938b1a1fef"
      },
      "execution_count": 37,
      "outputs": [
        {
          "output_type": "stream",
          "name": "stdout",
          "text": [
            "Enter any number: 12334\n",
            "76069945.0\n"
          ]
        }
      ]
    },
    {
      "cell_type": "code",
      "source": [
        ""
      ],
      "metadata": {
        "id": "z4er22EhINBu"
      },
      "execution_count": null,
      "outputs": []
    }
  ]
}