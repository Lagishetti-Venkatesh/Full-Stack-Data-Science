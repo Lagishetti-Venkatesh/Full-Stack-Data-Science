{
  "nbformat": 4,
  "nbformat_minor": 0,
  "metadata": {
    "colab": {
      "name": "Assignment_13.ipynb",
      "provenance": [],
      "collapsed_sections": []
    },
    "kernelspec": {
      "name": "python3",
      "display_name": "Python 3"
    },
    "language_info": {
      "name": "python"
    }
  },
  "cells": [
    {
      "cell_type": "markdown",
      "source": [
        "1. <p>Write a program that calculates and prints the value according to the given formula:</br>\n",
        "Q = Square root of [(2 * C * D)/H]</br>\n",
        "Following are the fixed values of C and H:</br>\n",
        "C is 50. H is 30.</br>\n",
        "D is the variable whose values should be input to your program in a comma-separated\n",
        "sequence.</br>\n",
        "Example</br>\n",
        "Let us assume the following comma separated input sequence is given to the program:</br>\n",
        "100,150,180</br>\n",
        "The output of the program should be:</br>\n",
        "18,22,24\n",
        "</p>"
      ],
      "metadata": {
        "id": "9I89INzlw43W"
      }
    },
    {
      "cell_type": "code",
      "source": [
        "def Q_function(list_of_D):\n",
        "    C = 50\n",
        "    H = 30\n",
        "    return [round(((2*C*int(D))/H)**(0.5)) for D in list_of_D]\n",
        "\n",
        "D_values = input(\"Enter D values: \").split(\",\")\n",
        "Q_function(D_values)"
      ],
      "metadata": {
        "colab": {
          "base_uri": "https://localhost:8080/"
        },
        "id": "0TaBDPZGyHC_",
        "outputId": "e106bac1-b925-4e43-924c-14bfd953e35c"
      },
      "execution_count": 1,
      "outputs": [
        {
          "name": "stdout",
          "output_type": "stream",
          "text": [
            "Enter D values: 100,150,180\n"
          ]
        },
        {
          "output_type": "execute_result",
          "data": {
            "text/plain": [
              "[18, 22, 24]"
            ]
          },
          "metadata": {},
          "execution_count": 1
        }
      ]
    },
    {
      "cell_type": "markdown",
      "source": [
        ""
      ],
      "metadata": {
        "id": "nCkzMYJvw4t3"
      }
    },
    {
      "cell_type": "markdown",
      "source": [
        "<p>2. Write a program which takes 2 digits, X,Y as input and generates a 2-dimensional array.</br> The\n",
        "element value in the i-th row and j-th column of the array should be i*j.</br>\n",
        "Note: i=0,1.., X-1; j=0,1,¡Y-1.</br>\n",
        "Example</br>\n",
        "Suppose the following inputs are given to the program:\n",
        "3,5</br>\n",
        "Then, the output of the program should be:</br>\n",
        "[[0, 0, 0, 0, 0], [0, 1, 2, 3, 4], [0, 2, 4, 6, 8]]</p>"
      ],
      "metadata": {
        "id": "PAiNMgMIxTTi"
      }
    },
    {
      "cell_type": "code",
      "source": [
        "import random\n",
        "def generate_array(x, y):\n",
        "    array = []\n",
        "    for i in range(x):\n",
        "        sub_array = []\n",
        "        for j in range(y):\n",
        "            sub_array.append(i*j)\n",
        "        array.append(sub_array)\n",
        "    return array\n",
        "\n",
        "x,y= input(\"Enter x,y value \").split(\",\")\n",
        "x, y = int(x), int(y)\n",
        "generate_array(x, y)"
      ],
      "metadata": {
        "colab": {
          "base_uri": "https://localhost:8080/"
        },
        "id": "kG2TB2VFyI_m",
        "outputId": "ef043323-9005-4f46-805e-9a1a091332b8"
      },
      "execution_count": 2,
      "outputs": [
        {
          "name": "stdout",
          "output_type": "stream",
          "text": [
            "Enter x,y value 3,5\n"
          ]
        },
        {
          "output_type": "execute_result",
          "data": {
            "text/plain": [
              "[[0, 0, 0, 0, 0], [0, 1, 2, 3, 4], [0, 2, 4, 6, 8]]"
            ]
          },
          "metadata": {},
          "execution_count": 2
        }
      ]
    },
    {
      "cell_type": "markdown",
      "source": [
        "<p>3. Write a program that accepts a comma separated sequence of words as input and prints the\n",
        "words in a comma-separated </br>sequence after sorting them alphabetically.</br>\n",
        "Suppose the following input is supplied to the program:</br>\n",
        "without,hello,bag,world</br>\n",
        "Then, the output should be:</br>\n",
        "bag,hello,without,world</br>\n",
        "\n",
        "\n",
        "</p>"
      ],
      "metadata": {
        "id": "_8x5tiYPw4oi"
      }
    },
    {
      "cell_type": "code",
      "source": [
        "def sort_words(data_list):\n",
        "    return sorted(data_list)\n",
        "\n",
        "data_list = input(\"Enter the String Data: \").split(\",\")\n",
        "print(f\"Sorted list of Data: {', '.join(sort_words(data_list))}\")\n",
        "\n"
      ],
      "metadata": {
        "colab": {
          "base_uri": "https://localhost:8080/"
        },
        "id": "mOQ_j7W8yKVI",
        "outputId": "1bd1f26e-e2f9-4e38-a19c-2cac3f32607f"
      },
      "execution_count": 3,
      "outputs": [
        {
          "output_type": "stream",
          "name": "stdout",
          "text": [
            "Enter the String Data: without,hello,bag,world\n",
            "Sorted list of Data: bag, hello, without, world\n"
          ]
        }
      ]
    },
    {
      "cell_type": "markdown",
      "source": [
        "<p>\n",
        "4. Write a program that accepts a sequence of whitespace separated words as input and prints</br>\n",
        "the words after removing all duplicate words and sorting them alphanumerically.</br>\n",
        "Suppose the following input is supplied to the program:</br>\n",
        "hello world and practice makes perfect and hello world again</br>\n",
        "Then, the output should be:</br>\n",
        "again and hello makes perfect practice world</br>\n",
        "</p>"
      ],
      "metadata": {
        "id": "DaTpW9vGw4id"
      }
    },
    {
      "cell_type": "code",
      "source": [
        "def sort_and_remove_duplicates(data):\n",
        "    sorted_list = sorted(list(set(data)))\n",
        "    return \" \".join(sorted_list)\n",
        "\n",
        "\n",
        "data = input(\"Enter the string String  \").split(\" \")\n",
        "sort_and_remove_duplicates(data)"
      ],
      "metadata": {
        "colab": {
          "base_uri": "https://localhost:8080/",
          "height": 53
        },
        "id": "J5UYlkXPyQj6",
        "outputId": "176924d6-3e9f-4c35-a38c-9228bda44be2"
      },
      "execution_count": 4,
      "outputs": [
        {
          "name": "stdout",
          "output_type": "stream",
          "text": [
            "Enter the string String  hello world and practice makes perfect and hello world again\n"
          ]
        },
        {
          "output_type": "execute_result",
          "data": {
            "text/plain": [
              "'again and hello makes perfect practice world'"
            ],
            "application/vnd.google.colaboratory.intrinsic+json": {
              "type": "string"
            }
          },
          "metadata": {},
          "execution_count": 4
        }
      ]
    },
    {
      "cell_type": "markdown",
      "source": [
        "5. <p>\n",
        "Write a program that accepts a sentence and calculate the number of letters and digits.</br>\n",
        "Suppose the following input is supplied to the program:</br>\n",
        "hello world! 123</br>\n",
        "Then, the output should be:</br>\n",
        "LETTERS 10\n",
        "</p>"
      ],
      "metadata": {
        "id": "LhnyOKqYw4cv"
      }
    },
    {
      "cell_type": "code",
      "source": [
        "def calculate_letters_and_digits(data):\n",
        "    letters = 'abcdefghijklmnopqrstuvwxyz'\n",
        "    digits = '0123456789'\n",
        "    count_l = 0\n",
        "    count_d = 0\n",
        "    for i in data:\n",
        "        if i in letters:\n",
        "            count_l+=1\n",
        "        if i in digits:\n",
        "            count_d+=1\n",
        "    return (count_l, count_d)\n",
        "\n",
        "count_list = calculate_letters_and_digits(input(\"Enter a String Data: \"))\n",
        "print(f\"Letters: {count_list[0]} \\nDigits: {count_list[1]} \")"
      ],
      "metadata": {
        "colab": {
          "base_uri": "https://localhost:8080/"
        },
        "id": "enAwMTeKyR7Z",
        "outputId": "ea7e1f67-463b-455b-cfd1-9e8c09a26872"
      },
      "execution_count": 5,
      "outputs": [
        {
          "output_type": "stream",
          "name": "stdout",
          "text": [
            "Enter a String Data: hello world! 123\n",
            "Letters: 10 \n",
            "Digits: 3 \n"
          ]
        }
      ]
    },
    {
      "cell_type": "markdown",
      "source": [
        "6. <p>\n",
        "A website requires the users to input username and password to register. Write a program to\n",
        "check the validity of password input by users.</br>\n",
        "Following are the criteria for checking the password:</br>\n",
        "1. At least 1 letter between [a-z]</br>\n",
        "2. At least 1 number between [0-9]</br>\n",
        "1. At least 1 letter between [A-Z]</br>\n",
        "3. At least 1 character from [$#@]</br>\n",
        "4. Minimum length of transaction password: 6</br>\n",
        "5. Maximum length of transaction password: 12</br>\n",
        "Your program should accept a sequence of comma separated passwords and will check them</br>\n",
        "according to the above criteria. Passwords that match the criteria are to be printed, each\n",
        "separated by a comma.</br>\n",
        "Example</br>\n",
        "If the following passwords are given as input to the program:</br>\n",
        "ABd1234@1,a F1#,2w3E*,2We3345</br>\n",
        "Then, the output of the program should be:</br>\n",
        "ABd1234@1\n",
        "</p>"
      ],
      "metadata": {
        "id": "YaK12q5AyXie"
      }
    },
    {
      "cell_type": "code",
      "source": [
        "def password_check(passwords_list):\n",
        "    small_letters = 'abcdefghijklmnopqrstuvwxyz'\n",
        "    capital_letters = 'ABCDEFGHIJKLMNOPQRSTUVWXYZ'\n",
        "    numbers = '0123456789'\n",
        "    spl_chars = \"$#@\"\n",
        "    valid_passwords=[]\n",
        "    for password in passwords_list:\n",
        "        pass_len = len(password)\n",
        "        if pass_len >= 6 and pass_len <=12:\n",
        "                if any(i.isupper() for i in password):\n",
        "                    if (any(i.islower() for i in password)):\n",
        "                        if any(i in numbers for i in password):\n",
        "                            if any(i in spl_chars for i in password):\n",
        "                                valid_passwords.append(password)\n",
        "\n",
        "    return valid_passwords                         \n",
        "\n",
        "\n",
        "\n",
        "passwords = input(\"Enter the Passwords: \").split(\",\")\n",
        "print(f\"Valid Passwords are:  {', '.join(password_check(passwords))}\")"
      ],
      "metadata": {
        "id": "np8JMV0IyL1X",
        "colab": {
          "base_uri": "https://localhost:8080/"
        },
        "outputId": "baf7728f-23fb-43e5-9353-42143001a39c"
      },
      "execution_count": 6,
      "outputs": [
        {
          "output_type": "stream",
          "name": "stdout",
          "text": [
            "Enter the Passwords: ABd1234@1,a F1#,2w3E*,2We3345\n",
            "Valid Passwords are:  ABd1234@1\n"
          ]
        }
      ]
    }
  ]
}