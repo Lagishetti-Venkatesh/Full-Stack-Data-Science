{
  "nbformat": 4,
  "nbformat_minor": 0,
  "metadata": {
    "colab": {
      "name": "Assignment_1.ipynb",
      "provenance": [],
      "collapsed_sections": []
    },
    "kernelspec": {
      "name": "python3",
      "display_name": "Python 3"
    },
    "language_info": {
      "name": "python"
    }
  },
  "cells": [
    {
      "cell_type": "markdown",
      "source": [
        "1. Write a Python program to print \"Hello Python\"?"
      ],
      "metadata": {
        "id": "626A4kPau0lv"
      }
    },
    {
      "cell_type": "code",
      "source": [
        "print(\"Hello Python\")"
      ],
      "metadata": {
        "id": "tW1PMzMGvM2Q",
        "colab": {
          "base_uri": "https://localhost:8080/"
        },
        "outputId": "db3fed6d-dd04-4834-868a-f113c825c9a7"
      },
      "execution_count": null,
      "outputs": [
        {
          "output_type": "stream",
          "name": "stdout",
          "text": [
            "Hello Python\n"
          ]
        }
      ]
    },
    {
      "cell_type": "markdown",
      "source": [
        "2. Write a Python program to do arithmetical operations addition and division.?"
      ],
      "metadata": {
        "id": "0Tlqpl9Ju0d-"
      }
    },
    {
      "cell_type": "code",
      "source": [
        "def addition(a, b):\n",
        "    return a+b\n",
        "\n",
        "def division(a, b):\n",
        "    try:\n",
        "        return a/b\n",
        "    except ZeroDivisionError:\n",
        "        print(ZeroDivisionError)\n",
        "\n",
        "print(addition(3, 5))\n",
        "print(division(9, 3))\n",
        "print(division(3, 0))"
      ],
      "metadata": {
        "id": "5YJCiZCIvNSL",
        "colab": {
          "base_uri": "https://localhost:8080/"
        },
        "outputId": "9572a828-1a6e-496d-cd11-6f33186f25c4"
      },
      "execution_count": null,
      "outputs": [
        {
          "output_type": "stream",
          "name": "stdout",
          "text": [
            "8\n",
            "3.0\n",
            "<class 'ZeroDivisionError'>\n",
            "None\n"
          ]
        }
      ]
    },
    {
      "cell_type": "markdown",
      "source": [
        "3. Write a Python program to find the area of a triangle?"
      ],
      "metadata": {
        "id": "ej6LCeK-u0W7"
      }
    },
    {
      "cell_type": "code",
      "source": [
        "def area_of_triangle(radius):\n",
        "    return 3.14 * (radius **2)\n",
        "print(area_of_triangle(7))"
      ],
      "metadata": {
        "id": "vdNiTjbTvOJm",
        "colab": {
          "base_uri": "https://localhost:8080/"
        },
        "outputId": "df2955ed-b92e-45b3-8df8-88b14bdd663d"
      },
      "execution_count": null,
      "outputs": [
        {
          "output_type": "stream",
          "name": "stdout",
          "text": [
            "153.86\n"
          ]
        }
      ]
    },
    {
      "cell_type": "markdown",
      "source": [
        "4. Write a Python program to swap two variables?"
      ],
      "metadata": {
        "id": "cfWPddFMu0Q1"
      }
    },
    {
      "cell_type": "code",
      "source": [
        "\n",
        "a, b = 2, 3\n",
        "print(\"Before Swapping a = {0}, b = {1}\".format(a, b))\n",
        "a, b = b, a\n",
        "print(\"After Swapping a = {0}, b = {1}\".format(a, b))\n"
      ],
      "metadata": {
        "id": "wPxsbKwnvOvo",
        "colab": {
          "base_uri": "https://localhost:8080/"
        },
        "outputId": "697adb1e-b3a5-40c3-b3c4-14726c514c27"
      },
      "execution_count": null,
      "outputs": [
        {
          "output_type": "stream",
          "name": "stdout",
          "text": [
            "Before Swapping a = 2, b = 3\n",
            "After Swapping a = 3, b = 2\n"
          ]
        }
      ]
    },
    {
      "cell_type": "markdown",
      "source": [
        "5. Write a Python program to generate a random number?"
      ],
      "metadata": {
        "id": "RVKDKBqZu0LZ"
      }
    },
    {
      "cell_type": "code",
      "execution_count": null,
      "metadata": {
        "id": "GfRm6u6JpxWf",
        "colab": {
          "base_uri": "https://localhost:8080/"
        },
        "outputId": "ad8e3c6d-cc67-4c35-af63-720936ec8e12"
      },
      "outputs": [
        {
          "output_type": "stream",
          "name": "stdout",
          "text": [
            "163\n"
          ]
        }
      ],
      "source": [
        "import random\n",
        "print(random.randint(0, 1000))"
      ]
    }
  ]
}