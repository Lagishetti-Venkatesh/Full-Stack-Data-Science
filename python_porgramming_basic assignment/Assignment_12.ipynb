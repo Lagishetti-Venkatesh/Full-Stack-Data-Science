{
  "nbformat": 4,
  "nbformat_minor": 0,
  "metadata": {
    "colab": {
      "name": "Assignment_12.ipynb",
      "provenance": [],
      "collapsed_sections": []
    },
    "kernelspec": {
      "name": "python3",
      "display_name": "Python 3"
    },
    "language_info": {
      "name": "python"
    }
  },
  "cells": [
    {
      "cell_type": "markdown",
      "source": [
        "1. Write a Python program to Extract Unique values dictionary values?"
      ],
      "metadata": {
        "id": "-Wit1Bh8Al7s"
      }
    },
    {
      "cell_type": "code",
      "source": [
        "dictionary_data = {1:\"game of thrones\", 2:\"money Heist\", 3: \"Kiss the ground\", 4: \"money Heist\"}\n",
        "print(f\"Unique values of dictionary: {set(dictionary_data.values())}\")"
      ],
      "metadata": {
        "id": "ztbphNguBKll",
        "colab": {
          "base_uri": "https://localhost:8080/"
        },
        "outputId": "6aac6c4a-6557-4779-cd38-7f044ed83f0c"
      },
      "execution_count": 1,
      "outputs": [
        {
          "output_type": "stream",
          "name": "stdout",
          "text": [
            "Unique values of dictionary: {'Kiss the ground', 'game of thrones', 'money Heist'}\n"
          ]
        }
      ]
    },
    {
      "cell_type": "markdown",
      "source": [
        "2. Write a Python program to find the sum of all items in a dictionary?"
      ],
      "metadata": {
        "id": "cyWUgYSlAlzk"
      }
    },
    {
      "cell_type": "code",
      "source": [
        "dictionary_data = {\"one\":1, \"two\": 2, \"three\":3, \"four\":4}\n",
        "print(f\"Sum of all dictionary values is {sum(dictionary_data.values())}\")"
      ],
      "metadata": {
        "id": "7pYGsQToBKE5",
        "colab": {
          "base_uri": "https://localhost:8080/"
        },
        "outputId": "f886cc5c-90a3-4892-ffbd-c619e58be5a9"
      },
      "execution_count": 2,
      "outputs": [
        {
          "output_type": "stream",
          "name": "stdout",
          "text": [
            "Sum of all dictionary values 10\n"
          ]
        }
      ]
    },
    {
      "cell_type": "markdown",
      "source": [
        "3. Write a Python program to Merging two Dictionaries?"
      ],
      "metadata": {
        "id": "oquxW1OPAlpw"
      }
    },
    {
      "cell_type": "code",
      "source": [
        "dict_1 = {\"Fire\":1, \"earth\": 2}\n",
        "dict_2 = {\"water\":3, \"Air\": 4, \"space\":5}\n",
        "merged_dictionary = {**dict_1 , **dict_2}\n",
        "print(f\"Merged Dictionary: {merged_dictionary} \")"
      ],
      "metadata": {
        "id": "YsfkzztRBJdD",
        "colab": {
          "base_uri": "https://localhost:8080/"
        },
        "outputId": "20d049f2-4077-44b8-8a9d-6344f0a201a7"
      },
      "execution_count": 5,
      "outputs": [
        {
          "output_type": "stream",
          "name": "stdout",
          "text": [
            "Merged Dictionary: {'Fire': 1, 'earth': 2, 'water': 3, 'Air': 4, 'space': 5} \n"
          ]
        }
      ]
    },
    {
      "cell_type": "markdown",
      "source": [
        "4. Write a Python program to convert key-values list to flat dictionary?"
      ],
      "metadata": {
        "id": "5Tiw0ahRAlgs"
      }
    },
    {
      "cell_type": "code",
      "source": [
        "data = [(1, 'A'), (2, 'B'), (3, 'C'), (4, 'D'), (5, 'E'), (6, 'F'), (7, 'G')]\n",
        "flat_dictionary = dict()\n",
        "for i in data:\n",
        "    flat_dictionary[i[0]]=i[1]\n",
        "print(flat_dictionary)"
      ],
      "metadata": {
        "id": "8KdoEyGvBJG9",
        "colab": {
          "base_uri": "https://localhost:8080/"
        },
        "outputId": "41a6dfd9-1f58-453c-aa3c-bab0a6d72bea"
      },
      "execution_count": 6,
      "outputs": [
        {
          "output_type": "stream",
          "name": "stdout",
          "text": [
            "{1: 'A', 2: 'B', 3: 'C', 4: 'D', 5: 'E', 6: 'F', 7: 'G'}\n"
          ]
        }
      ]
    },
    {
      "cell_type": "markdown",
      "source": [
        "5. Write a Python program to insertion at the beginning in OrderedDict?"
      ],
      "metadata": {
        "id": "zpygUt43AlYy"
      }
    },
    {
      "cell_type": "code",
      "source": [
        "from collections import OrderedDict\n",
        "\n",
        "dict_data = OrderedDict([('b', 2),('c', 3), ('d', 4)])\n",
        "print(f\"data before inserting: {dict_data}\")\n",
        "\n",
        "dict_data.update({'a':1}, last=False)\n",
        "dict_data.move_to_end('a', last=False)\n",
        "\n",
        "print(f\"data after inserting: {dict_data}\")"
      ],
      "metadata": {
        "id": "pgeoDaISBIwR",
        "colab": {
          "base_uri": "https://localhost:8080/"
        },
        "outputId": "29bb4a91-0f1c-4cf6-f8c7-d7cb9a462fb6"
      },
      "execution_count": 13,
      "outputs": [
        {
          "output_type": "stream",
          "name": "stdout",
          "text": [
            "data before inserting: OrderedDict([('b', 2), ('c', 3), ('d', 4)])\n",
            "data after inserting: OrderedDict([('a', 1), ('b', 2), ('c', 3), ('d', 4), ('last', False)])\n"
          ]
        }
      ]
    },
    {
      "cell_type": "markdown",
      "source": [
        "6. Write a Python program to check order of character in string using OrderedDict()?"
      ],
      "metadata": {
        "id": "vHwp4AScAlRF"
      }
    },
    {
      "cell_type": "code",
      "source": [
        "from collections import OrderedDict\n",
        "\n",
        "dict_data = {'a':1, 'b':2, 'c':3, 'd':4, 'e':5}\n",
        "print(f\"Final list {OrderedDict(dict(sorted(dict_data.items())))}\")"
      ],
      "metadata": {
        "id": "fmItGAhSBIXa",
        "colab": {
          "base_uri": "https://localhost:8080/"
        },
        "outputId": "cee98f16-bc2d-461c-e92c-8f9b3e4e9327"
      },
      "execution_count": 3,
      "outputs": [
        {
          "output_type": "stream",
          "name": "stdout",
          "text": [
            "Final list OrderedDict([('a', 1), ('b', 2), ('c', 3), ('d', 4), ('e', 5)])\n"
          ]
        }
      ]
    },
    {
      "cell_type": "markdown",
      "source": [
        "7. Write a Python program to sort Python Dictionaries by Key or Value?"
      ],
      "metadata": {
        "id": "-a5QfCloAlLU"
      }
    },
    {
      "cell_type": "code",
      "execution_count": 6,
      "metadata": {
        "id": "f5C8P5Ubot26",
        "colab": {
          "base_uri": "https://localhost:8080/"
        },
        "outputId": "2e35f2c0-416e-44ac-81f5-db1cf49f929a"
      },
      "outputs": [
        {
          "output_type": "stream",
          "name": "stdout",
          "text": [
            "d(ictionary sorted by Key : {1: 'game of thrones', 2: 'money Heist', 3: 'Kiss the ground'}\n",
            "Dictionary sorted by value: {2: 'money Heist', 1: 'game of thrones', 3: 'Kiss the ground'} \n"
          ]
        }
      ],
      "source": [
        "dict_data = {1:\"game of thrones\", 2:\"money Heist\", 3: \"Kiss the ground\"}\n",
        "\n",
        "sort_by_key = dict(sorted(dict_data.items(), key = lambda x: x[0], reverse=False))\n",
        "print(f\"d(ictionary sorted by Key : {sort_by_key}\")\n",
        "\n",
        "sort_by_value = dict(sorted(dict_data.items(), key = lambda x: x[1], reverse=True))\n",
        "print(f\"Dictionary sorted by value: {sort_by_value} \")"
      ]
    }
  ]
}