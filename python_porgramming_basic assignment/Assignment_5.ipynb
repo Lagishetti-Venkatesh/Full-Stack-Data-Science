{
  "nbformat": 4,
  "nbformat_minor": 0,
  "metadata": {
    "colab": {
      "name": "Assignment_5.ipynb",
      "provenance": [],
      "collapsed_sections": []
    },
    "kernelspec": {
      "name": "python3",
      "display_name": "Python 3"
    },
    "language_info": {
      "name": "python"
    }
  },
  "cells": [
    {
      "cell_type": "markdown",
      "source": [
        "1. Write a Python Program to Find LCM?"
      ],
      "metadata": {
        "id": "-79lHxybyS5v"
      }
    },
    {
      "cell_type": "code",
      "source": [
        "import pyinputplus\n",
        "\n",
        "def LCM(n, m):\n",
        "    if n > m:\n",
        "        n, m = m, n\n",
        "    for i in range(1, n+1):\n",
        "        if n % i == 0 and m % i == 0:\n",
        "            gcd = i \n",
        "    \n",
        "    return \"lcm of {0} and {1} is {2}\".format(n, m, round(n*m/gcd, 2))\n",
        "print(LCM(3, 6))\n",
        "print(LCM(18, 9))\n"
      ],
      "metadata": {
        "id": "IQfdJM4Oyzaa",
        "colab": {
          "base_uri": "https://localhost:8080/"
        },
        "outputId": "c743e397-b192-4b86-f976-0bd6a16ab8db"
      },
      "execution_count": 22,
      "outputs": [
        {
          "output_type": "stream",
          "name": "stdout",
          "text": [
            "lcm of 3 and 6 is 6.0\n",
            "lcm of 9 and 18 is 18.0\n",
            "lcm of 32 and 81 is 2592.0\n"
          ]
        }
      ]
    },
    {
      "cell_type": "markdown",
      "source": [
        "2. Write a Python Program to Find HCF?"
      ],
      "metadata": {
        "id": "D0Jl6GDQyYKe"
      }
    },
    {
      "cell_type": "code",
      "source": [
        "def HCF(n, m):\n",
        "    if n > m:\n",
        "        n, m = m, n\n",
        "    for i in range(1, n+1):\n",
        "        if n % i == 0 and m % i == 0:\n",
        "            hcf = i \n",
        "    \n",
        "    return \"HCF of {0} and {1} is {2}\".format(n, m, round(hcf, 2))\n",
        "print(HCF(100, 75))"
      ],
      "metadata": {
        "id": "2CLaj7D7yzt3",
        "colab": {
          "base_uri": "https://localhost:8080/"
        },
        "outputId": "6aa4d65e-1fde-4440-9a17-147ccc3ad89b"
      },
      "execution_count": 23,
      "outputs": [
        {
          "output_type": "stream",
          "name": "stdout",
          "text": [
            "HCF of 75 and 100 is 25\n"
          ]
        }
      ]
    },
    {
      "cell_type": "markdown",
      "source": [
        "3. Write a Python Program to Convert Decimal to Binary, Octal and Hexadecimal?"
      ],
      "metadata": {
        "id": "LkquZI56yYHU"
      }
    },
    {
      "cell_type": "code",
      "source": [
        "def number_system(num):\n",
        "    print(\"Decimal number: {0}\".format(num))\n",
        "    print(\"Binary number: {0}\".format(bin(num)))\n",
        "    print(\"Octal number: {0}\".format(oct(num)))\n",
        "    print(\"HexaDecimal number: {0}\".format(hex(num)))\n",
        "number_system(pyinputplus.inputInt(\"Enter any number: \"))\n",
        "\n"
      ],
      "metadata": {
        "id": "F4hMVe4ay0Mq",
        "colab": {
          "base_uri": "https://localhost:8080/"
        },
        "outputId": "59843b5c-ad84-4b64-feac-e1c7f54e3e79"
      },
      "execution_count": 8,
      "outputs": [
        {
          "output_type": "stream",
          "name": "stdout",
          "text": [
            "Enter any number: 25\n",
            "Decimal number: 25\n",
            "Binary number: 0b11001\n",
            "Octal number: 0o31\n",
            "HexaDecimal number: 0x19\n"
          ]
        }
      ]
    },
    {
      "cell_type": "markdown",
      "source": [
        "4. Write a Python Program To Find ASCII value of a character?"
      ],
      "metadata": {
        "id": "FvnPrZi6yYEQ"
      }
    },
    {
      "cell_type": "code",
      "source": [
        "def ascii_value(char):\n",
        "    print(\"character ({0}) Ascii Value is {1}\".format(char, ord(char)))\n",
        "value = pyinputplus.inputStr(\"Enter Single Character\")\n",
        "if len(value) == 1:\n",
        "    ascii_value(value)\n",
        "else:\n",
        "    print(\"please make sure you enter Single character\")\n"
      ],
      "metadata": {
        "id": "G2hxapUqy0lP",
        "colab": {
          "base_uri": "https://localhost:8080/"
        },
        "outputId": "9978ca2c-0efa-4645-f187-4185177c64fb"
      },
      "execution_count": 18,
      "outputs": [
        {
          "output_type": "stream",
          "name": "stdout",
          "text": [
            "Enter Single Character*\n",
            "character (*) Ascii Value is 42\n"
          ]
        }
      ]
    },
    {
      "cell_type": "markdown",
      "source": [
        "5. Write a Python Program to Make a Simple Calculator with 4 basic mathematical operations?"
      ],
      "metadata": {
        "id": "wedm0fyzyX9G"
      }
    },
    {
      "cell_type": "code",
      "execution_count": 17,
      "metadata": {
        "id": "uRuu3BdonBnc",
        "colab": {
          "base_uri": "https://localhost:8080/"
        },
        "outputId": "3d067136-0105-44f9-98fb-7ef68cb505ab"
      },
      "outputs": [
        {
          "name": "stdout",
          "output_type": "stream",
          "text": [
            "Enter the symbol (+, *, - /)and exit: +\n",
            "Enter number: 12\n",
            "Enter number: 23\n",
            "35.0\n",
            "Success\n",
            "Enter the symbol (+, *, - /)and exit: *\n",
            "Enter number: 34\n",
            "Enter number: 5\n",
            "170.0\n",
            "Success\n",
            "Enter the symbol (+, *, - /)and exit: -\n",
            "Enter number: 45\n",
            "Enter number: 12\n",
            "33.0\n",
            "Success\n",
            "Enter the symbol (+, *, - /)and exit: /\n",
            "Enter number: 32\n",
            "Enter number: 4\n",
            "8.0\n",
            "Success\n",
            "Enter the symbol (+, *, - /)and exit: exit\n"
          ]
        }
      ],
      "source": [
        "def calculator(symbol):\n",
        "    if symbol == 'exit':\n",
        "        return False\n",
        "    else:\n",
        "        n1 = pyinputplus.inputFloat(\"Enter number: \")\n",
        "        n2 = pyinputplus.inputFloat(\"Enter number: \")\n",
        "        if symbol == '+':\n",
        "            print(n1 + n2)\n",
        "            return True\n",
        "        elif symbol == '-':\n",
        "            print(n1 - n2)\n",
        "            return True\n",
        "        elif symbol == '*':\n",
        "            print(n1 * n2)\n",
        "            return True\n",
        "        elif symbol == '/':\n",
        "            print(n1/n2)\n",
        "            return True\n",
        "   \n",
        "display = \"Enter the symbol (+, *, - /)and exit: \"\n",
        "while calculator(pyinputplus.inputStr(display)):\n",
        "    print(\"Success\")\n"
      ]
    }
  ]
}