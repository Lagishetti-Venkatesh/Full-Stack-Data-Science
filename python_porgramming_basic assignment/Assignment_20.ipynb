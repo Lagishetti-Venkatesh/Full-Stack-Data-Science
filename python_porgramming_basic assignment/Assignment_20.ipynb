{
  "nbformat": 4,
  "nbformat_minor": 0,
  "metadata": {
    "colab": {
      "name": "Assignment_20.ipynb",
      "provenance": [],
      "collapsed_sections": []
    },
    "kernelspec": {
      "name": "python3",
      "display_name": "Python 3"
    },
    "language_info": {
      "name": "python"
    }
  },
  "cells": [
    {
      "cell_type": "markdown",
      "source": [
        "Question1</br>\n",
        "Create a function that takes a list of strings and integers, and filters out </br>the list so that it returns a list of integers only.</br>\n",
        "Examples</br>\n",
        "filter_list([1, 2, 3, \"a\", \"b\", 4]) ➞ [1, 2, 3, 4]</br>\n",
        "\n",
        "filter_list([\"A\", 0, \"Edabit\", 1729, \"Python\", \"1729\"]) ➞ [0, 1729]</br>\n",
        "\n",
        "filter_list([\"Nothing\", \"here\"]) ➞ []</br>"
      ],
      "metadata": {
        "id": "YjrC6wmAznwP"
      }
    },
    {
      "cell_type": "code",
      "source": [
        "def filter_list(list_values):\n",
        "    integer_list = []\n",
        "    for i in list_values:\n",
        "        if type(i) == int:\n",
        "            integer_list.append(i)\n",
        "    \n",
        "    return integer_list\n",
        "print(f' [1, 2, 3, \"a\", \"b\", 4] => {filter_list([1, 2, 3, \"a\", \"b\", 4])}')\n",
        "print(f' [\"A\", 0, \"Edabit\", 1729, \"Python\", \"1729\"] => {filter_list([\"A\", 0, \"Edabit\", 1729, \"Python\", \"1729\"])}')\n",
        "print(f' [\"Nothing\", \"here\"] => {filter_list([\"Nothing\", \"here\"])}')"
      ],
      "metadata": {
        "id": "jdqyrJ30zyJh",
        "colab": {
          "base_uri": "https://localhost:8080/"
        },
        "outputId": "70018ded-620b-4eed-f72a-56aa854235a6"
      },
      "execution_count": 3,
      "outputs": [
        {
          "output_type": "stream",
          "name": "stdout",
          "text": [
            " [1, 2, 3, \"a\", \"b\", 4] => [1, 2, 3, 4]\n",
            " [\"A\", 0, \"Edabit\", 1729, \"Python\", \"1729\"] => [0, 1729]\n",
            " [\"Nothing\", \"here\"] => []\n"
          ]
        }
      ]
    },
    {
      "cell_type": "markdown",
      "source": [
        "Question2</br>\n",
        "Given a list of numbers, create a function which returns the list but with each </br>element's index in the list added to itself. This means you add 0 to the </br>number at index 0, add 1 to the number at index 1, etc...</br>\n",
        "Examples</br>\n",
        "add_indexes([0, 0, 0, 0, 0]) ➞ [0, 1, 2, 3, 4]</br>\n",
        "\n",
        "add_indexes([1, 2, 3, 4, 5]) ➞ [1, 3, 5, 7, 9]</br>\n",
        "\n",
        "add_indexes([5, 4, 3, 2, 1]) ➞ [5, 5, 5, 5, 5]</br>\n"
      ],
      "metadata": {
        "id": "P7wZgNFEznsx"
      }
    },
    {
      "cell_type": "code",
      "source": [
        "def add_indexes(list_values):\n",
        "    modified_list = []\n",
        "    for i in range(len(list_values)):\n",
        "        modified_list.append(list_values[i]+i)\n",
        "    \n",
        "    return modified_list\n",
        "\n",
        "print(f' [0, 0, 0, 0, 0] => {add_indexes([0, 0, 0, 0, 0])}')\n",
        "print(f' [1, 2, 3, 4, 5] => {add_indexes([1, 2, 3, 4, 5])}')\n",
        "print(f' [5, 4, 3, 2, 1] => {add_indexes([5, 4, 3, 2, 1])}')\n"
      ],
      "metadata": {
        "id": "zgMpoMYdz7Ps"
      },
      "execution_count": null,
      "outputs": []
    },
    {
      "cell_type": "markdown",
      "source": [
        "Question3</br>\n",
        "Create a function that takes the height and radius of a cone as arguments and </br>returns the volume of the cone rounded to the nearest hundredth. See the </br>resources tab for the formula.</br>\n",
        "\n",
        "Examples</br>\n",
        "cone_volume(3, 2) ➞ 12.57</br>\n",
        "\n",
        "cone_volume(15, 6) ➞ 565.49</br>\n",
        "\n",
        "cone_volume(18, 0) ➞ 0</br>\n"
      ],
      "metadata": {
        "id": "-mzEl1bRznoU"
      }
    },
    {
      "cell_type": "code",
      "source": [
        "from math import pi\n",
        "\n",
        "def cone_volume(height, radius):\n",
        "    return round(pi * (radius**2) *(height/3), 2)\n",
        "print(f'height: 3, radius 2: Cone Volume: {cone_volume(3, 2)}')\n",
        "print(f'height: 15, radius 6: Cone Volume: {cone_volume(15, 6)}')\n",
        "print(f'height: 18, radius 0: Cone Volume: {cone_volume(18, 0)}')"
      ],
      "metadata": {
        "id": "AJhzKxU00KNb",
        "colab": {
          "base_uri": "https://localhost:8080/"
        },
        "outputId": "38cac241-9382-4a56-e28a-a4352168e7e5"
      },
      "execution_count": 4,
      "outputs": [
        {
          "output_type": "stream",
          "name": "stdout",
          "text": [
            "height: 3, radius 2: Cone Volume: 12.57\n",
            "height: 15, radius 6: Cone Volume: 565.49\n",
            "height: 18, radius 0: Cone Volume: 0.0\n"
          ]
        }
      ]
    },
    {
      "cell_type": "markdown",
      "source": [
        "Question4</br>\n",
        "This Triangular Number Sequence is generated from a pattern of dots that form a</br> triangle. The first 5 numbers of the sequence, or dots, are: </br>\n",
        "1, 3, 6, 10, 15</br>\n",
        "This means that the first triangle has just one dot, the second one has three </br>dots, the third one has 6 dots and so on.</br>\n",
        "Write a function that gives the number of dots with its corresponding triangle number of the sequence.</br>\n",
        "Examples</br>\n",
        "triangle(1) ➞ 1</br>\n",
        "\n",
        "triangle(6) ➞ 21</br>\n",
        "\n",
        "triangle(215) ➞ 23220</br>"
      ],
      "metadata": {
        "id": "JPrUKkPbznlv"
      }
    },
    {
      "cell_type": "code",
      "execution_count": 8,
      "metadata": {
        "id": "f4DfQKHHp1Cw",
        "colab": {
          "base_uri": "https://localhost:8080/"
        },
        "outputId": "9158f591-56f5-459e-edac-f3a901a80f82"
      },
      "outputs": [
        {
          "output_type": "stream",
          "name": "stdout",
          "text": [
            " 1st triangle has 1 dots \n",
            " 6th triangle has 21 dots \n",
            " 215th triangle has 23220 dots \n"
          ]
        }
      ],
      "source": [
        "def triangle(n):\n",
        "    return round(n*(n+1)/2)\n",
        "\n",
        "print(f' 1st triangle has {triangle(1)} dots ')\n",
        "print(f' 6th triangle has {triangle(6)} dots ')\n",
        "print(f' 215th triangle has {triangle(215)} dots ')"
      ]
    },
    {
      "cell_type": "markdown",
      "source": [
        "Question5</br>\n",
        "Create a function that takes a list of numbers between 1 and 10 (excluding one number) and returns the missing number.</br>\n",
        "Examples:</br>\n",
        "missing_num([1, 2, 3, 4, 6, 7, 8, 9, 10]) ➞ 5</br>\n",
        "\n",
        "missing_num([7, 2, 3, 6, 5, 9, 1, 4, 8]) ➞ 10</br>\n",
        "\n",
        "missing_num([10, 5, 1, 2, 4, 6, 8, 3, 9]) ➞ 7</br>\n"
      ],
      "metadata": {
        "id": "pd4fxaq20dre"
      }
    },
    {
      "cell_type": "code",
      "source": [
        "def missing_num(list_values):\n",
        "    for i in range(1, 11):\n",
        "        if i not in list_values:\n",
        "            return i\n",
        "print(f' missing number is : {missing_num([1, 2, 3, 4, 6, 7, 8, 9, 10])}')\n",
        "print(f' missing number is : {missing_num([7, 2, 3, 6, 5, 9, 1, 4, 8])}')\n",
        "print(f' missing number is : {missing_num([10, 5, 1, 2, 4, 6, 8, 3, 9])}')"
      ],
      "metadata": {
        "id": "twQWJ2R_0mP-",
        "colab": {
          "base_uri": "https://localhost:8080/"
        },
        "outputId": "a7bbf1a8-dbab-4eda-ad4e-c939363d5bfd"
      },
      "execution_count": 10,
      "outputs": [
        {
          "output_type": "stream",
          "name": "stdout",
          "text": [
            " missing number is : 5\n",
            " missing number is : 10\n",
            " missing number is : 7\n"
          ]
        }
      ]
    }
  ]
}