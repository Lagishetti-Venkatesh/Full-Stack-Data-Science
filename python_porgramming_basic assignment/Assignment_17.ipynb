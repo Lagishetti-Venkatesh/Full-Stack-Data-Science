{
  "nbformat": 4,
  "nbformat_minor": 0,
  "metadata": {
    "colab": {
      "name": "Assignment_17.ipynb",
      "provenance": [],
      "collapsed_sections": []
    },
    "kernelspec": {
      "name": "python3",
      "display_name": "Python 3"
    },
    "language_info": {
      "name": "python"
    }
  },
  "cells": [
    {
      "cell_type": "markdown",
      "source": [
        "<p>1. Create a function that takes three arguments a, b, c and returns the sum\n",
        "</br> of the numbers that are evenly divided by c from the range a, b </br>inclusive ?</br>\n",
        "Examples:</br>\n",
        "`evenly_divisible(1, 10, 20) ➞ 0\n",
        "\n",
        "<h6> No number between 1 and 10 can be evenly divided by 20.</h6>\n",
        "evenly_divisible(1, 10, 2) ➞ 30\n",
        "\n",
        "<h6> 2 + 4 + 6 + 8 + 10 = 30</h6>\n",
        "evenly_divisible(1, 10, 3) ➞ 18\n",
        "\n",
        "<h6>3 + 6 + 9 = 18 </h6>\n",
        "</p>"
      ],
      "metadata": {
        "id": "yMI8D4o5ry_2"
      }
    },
    {
      "cell_type": "code",
      "execution_count": 6,
      "metadata": {
        "id": "74ox0FUhooWa",
        "colab": {
          "base_uri": "https://localhost:8080/"
        },
        "outputId": "09af009a-9c5a-4434-ec59-875bce250cbd"
      },
      "outputs": [
        {
          "output_type": "stream",
          "name": "stdout",
          "text": [
            " evenly_divisible(1, 10, 20) => 0\n",
            " evenly_divisible(1, 10, 2) => 30\n",
            " evenly_divisible(1, 10, 3) => 18\n"
          ]
        }
      ],
      "source": [
        "def evenly_divisible(a, b, c):\n",
        "    sum = 0\n",
        "    for i in range(a, b+1):\n",
        "        if i%c == 0:\n",
        "            sum+=i\n",
        "    return sum\n",
        "print(f' evenly_divisible(1, 10, 20) => {evenly_divisible(1, 10, 20)}') \n",
        "print(f' evenly_divisible(1, 10, 2) => {evenly_divisible(1, 10, 2)}')\n",
        "print(f' evenly_divisible(1, 10, 3) => {evenly_divisible(1, 10, 3)}')"
      ]
    },
    {
      "cell_type": "markdown",
      "source": [
        "<p>2. Create a function that returns True if a given inequality expression is \n",
        "</br>correct and False otherwise ?</br>\n",
        "Examples:</br>\n",
        "correct_signs(\"3 < 7 < 11\") ➞ True</br>\n",
        "correct_signs(\"13 > 44 > 33 > 1\") ➞ False</br>\n",
        "correct_signs(\"1 < 2 < 6 < 9 > 3\") ➞ True</p>"
      ],
      "metadata": {
        "id": "7LsC7SEBsx63"
      }
    },
    {
      "cell_type": "code",
      "source": [
        "def correct_signs(string):\n",
        "    return eval(string)\n",
        "\n",
        "print(f'correct_signs(\"3 < 7 < 11\") ==> {correct_signs(\"3 < 7 < 11\")}')\n",
        "print(f'correct_signs(\"13 > 44 > 33 > 1\") ==> {correct_signs(\"13 > 44 > 33 > 1\")}')\n",
        "print(f'correct_signs(\"1 < 2 < 6 < 9 > 3\") ==> {correct_signs(\"1 < 2 < 6 < 9 > 3\")}')"
      ],
      "metadata": {
        "id": "kgVaGrNVtNO2",
        "colab": {
          "base_uri": "https://localhost:8080/"
        },
        "outputId": "8c5681b2-d6ad-4a98-8db1-04c542251150"
      },
      "execution_count": 9,
      "outputs": [
        {
          "output_type": "stream",
          "name": "stdout",
          "text": [
            "correct_signs(\"3 < 7 < 11\") ==> True\n",
            "correct_signs(\"13 > 44 > 33 > 1\") ==> False\n",
            "correct_signs(\"1 < 2 < 6 < 9 > 3\") ==> True\n"
          ]
        }
      ]
    },
    {
      "cell_type": "markdown",
      "source": [
        "<p>3.Create a function that replaces all the vowels in a string with a specified character ?</br>\n",
        "Examples:</br>\n",
        "replace_vowels(\"the aardvark\", \"#\") ➞ \"th# ##rdv#rk\"</br>\n",
        "replace_vowels(\"minnie mouse\", \"?\") ➞ \"m?nn?? m??s?\"</br>\n",
        "replace_vowels(\"shakespeare\", \"*\") ➞ \"shksp**r\"</p>"
      ],
      "metadata": {
        "id": "uSiWRD8ntRju"
      }
    },
    {
      "cell_type": "code",
      "source": [
        "def replace_vowels(string_data, char):\n",
        "    vowels = 'aieou'\n",
        "    new_string = ''\n",
        "    for i in string_data:\n",
        "        if i in vowels:\n",
        "            new_string+=char\n",
        "        else:\n",
        "            new_string+=i\n",
        "        \n",
        "    return new_string\n",
        "print(f' replace_vowels(\"the aardvark\", \"#\") ==> {replace_vowels(\"the aardvark\", \"#\")}')\n",
        "print(f' replace_vowels(\"minnie mouse\", \"?\")  ==> {replace_vowels(\"minnie mouse\", \"?\")}')\n",
        "print(f' replace_vowels(\"shakespeare\", \"*\") ==> {replace_vowels(\"shakespeare\", \"*\")}')"
      ],
      "metadata": {
        "id": "NMYo3YpTtxlS",
        "colab": {
          "base_uri": "https://localhost:8080/"
        },
        "outputId": "d0dd1e7c-d167-4993-c915-607c693caa7e"
      },
      "execution_count": 11,
      "outputs": [
        {
          "output_type": "stream",
          "name": "stdout",
          "text": [
            " replace_vowels(\"the aardvark\", \"#\") ==> th# ##rdv#rk\n",
            " replace_vowels(\"minnie mouse\", \"?\")  ==> m?nn?? m??s?\n",
            " replace_vowels(\"shakespeare\", \"*\") ==> sh*k*sp**r*\n"
          ]
        }
      ]
    },
    {
      "cell_type": "markdown",
      "source": [
        "<p>4. Write a function that calculates the factorial of a number recursively ?\n",
        "</br>\n",
        "Examples:</br>\n",
        "factorial(5) ➞ 120</br>\n",
        "factorial(3) ➞ 6</br>\n",
        "factorial(1) ➞ 1</br>\n",
        "factorial(0) ➞ 1</p>"
      ],
      "metadata": {
        "id": "UL3CnaqzuP30"
      }
    },
    {
      "cell_type": "code",
      "source": [
        "def factorial(data):\n",
        "    if data == 1 or data == 0:\n",
        "        return 1\n",
        "    return factorial(data - 1) * data\n",
        "\n",
        "print(f' factorial(5) => {factorial(5)}')\n",
        "print(f' factorial(3) => {factorial(3)}')\n",
        "print(f' factorial(1) => {factorial(1)}')\n",
        "print(f' factorial(0) => {factorial(0)}')"
      ],
      "metadata": {
        "id": "tcC-PHCCvtQ5",
        "colab": {
          "base_uri": "https://localhost:8080/"
        },
        "outputId": "43fd2386-4e1b-409d-f798-c72df17a990b"
      },
      "execution_count": 12,
      "outputs": [
        {
          "output_type": "stream",
          "name": "stdout",
          "text": [
            " factorial(5) => 120\n",
            " factorial(3) => 6\n",
            " factorial(1) => 1\n",
            " factorial(0) => 1\n"
          ]
        }
      ]
    },
    {
      "cell_type": "markdown",
      "source": [
        "<p>5.Hamming distance is the number of characters that differ between two strings ?</br>\n",
        "To illustrate:</br>\n",
        "String1: \"abcbba\"</br>\n",
        "String2: \"abcbda\"</br>\n",
        "Hamming Distance: 1 - \"b\" vs. \"d\" is the only difference.</br>\n",
        "Create a function that computes the hamming distance between two strings.</br>\n",
        "Examples:</br>\n",
        "hamming_distance(\"abcde\", \"bcdef\") ➞ 5</br>\n",
        "hamming_distance(\"abcde\", \"abcde\") ➞ 0</br>\n",
        "hamming_distance(\"strong\", \"strung\") ➞ 1</br>\n",
        "</p>"
      ],
      "metadata": {
        "id": "MmPReAkwuXPZ"
      }
    },
    {
      "cell_type": "code",
      "source": [
        "def hamming_distance(string1, string2):\n",
        "    distance = 0 \n",
        "    for i in range(len(string1)):\n",
        "        if string1[i] != string2[i]:\n",
        "            distance+=1\n",
        "    \n",
        "    return distance\n",
        "\n",
        "print(f'hamming_distance(\"abcde\", \"bcdef\") ==> {hamming_distance(\"abcde\", \"bcdef\")}')\n",
        "print(f'hamming_distance(\"abcde\", \"abcde\")  ==> {hamming_distance(\"abcde\", \"abcde\")}')\n",
        "print(f'hamming_distance(\"abcde\", \"bcdef\") ==> {hamming_distance(\"strong\", \"strung\")}')\n"
      ],
      "metadata": {
        "id": "DuUI2ucMt3He",
        "colab": {
          "base_uri": "https://localhost:8080/"
        },
        "outputId": "7d4dfd9c-e12a-4fce-8fc8-2504b6ca17d0"
      },
      "execution_count": 13,
      "outputs": [
        {
          "output_type": "stream",
          "name": "stdout",
          "text": [
            "hamming_distance(\"abcde\", \"bcdef\") ==> 5\n",
            "hamming_distance(\"abcde\", \"abcde\")  ==> 0\n",
            "hamming_distance(\"abcde\", \"bcdef\") ==> 1\n"
          ]
        }
      ]
    }
  ]
}