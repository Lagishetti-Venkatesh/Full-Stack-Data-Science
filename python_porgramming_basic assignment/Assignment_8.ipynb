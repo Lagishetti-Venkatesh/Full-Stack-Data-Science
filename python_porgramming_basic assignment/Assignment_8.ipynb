{
  "nbformat": 4,
  "nbformat_minor": 0,
  "metadata": {
    "colab": {
      "name": "Assignment_8.ipynb",
      "provenance": [],
      "collapsed_sections": []
    },
    "kernelspec": {
      "name": "python3",
      "display_name": "Python 3"
    },
    "language_info": {
      "name": "python"
    }
  },
  "cells": [
    {
      "cell_type": "markdown",
      "source": [
        "1. Write a Python Program to Add Two Matrices?"
      ],
      "metadata": {
        "id": "GsFt2x3v9kJP"
      }
    },
    {
      "cell_type": "code",
      "source": [
        "def add_matrices(a, b):\n",
        "    print(f\"Addition of matrices is {a}, {b}\")\n",
        "    output = []\n",
        "    if len(a) == len(b):\n",
        "        for i in range(len(a)):\n",
        "            if len(a[i]) == len(b[i]):\n",
        "                for j in range(len(a[i])):\n",
        "                    print(a[i][j]+b[i][j], end=\" \")\n",
        "                print()\n",
        "\n",
        "            \n",
        "            else:\n",
        "                return \"No Addition of matrices is not possible because Dimensions are different\"\n",
        "\n",
        "    else:\n",
        "        return \"No Addition of matrices is not possible because Dimensions are different\"\n",
        "\n",
        "\n",
        "add_matrices([[1,2,3],[4,5,6],[7,8,9]],\n",
        "             [[9,8,7],[6,5,4],[3,2,1]])\n",
        "\n",
        "add_matrices([[2,3,5],[1,1,1],[2,2,2]]\n",
        "             ,[[4,3,5],[1,2,3],[3,2,1]])"
      ],
      "metadata": {
        "id": "l6gAnCNt98fk",
        "colab": {
          "base_uri": "https://localhost:8080/"
        },
        "outputId": "a38b7569-c2cc-4b91-a75e-ac84df1e1f1f"
      },
      "execution_count": null,
      "outputs": [
        {
          "output_type": "stream",
          "name": "stdout",
          "text": [
            "Addition of matrices is [[1, 2, 3], [4, 5, 6], [7, 8, 9]], [[9, 8, 7], [6, 5, 4], [3, 2, 1]]\n",
            "10 10 10 \n",
            "10 10 10 \n",
            "10 10 10 \n",
            "Addition of matrices is [[2, 3, 5], [1, 1, 1], [2, 2, 2]], [[4, 3, 5], [1, 2, 3], [3, 2, 1]]\n",
            "6 6 10 \n",
            "2 3 4 \n",
            "5 4 3 \n"
          ]
        }
      ]
    },
    {
      "cell_type": "markdown",
      "source": [
        "2. Write a Python Program to Multiply Two Matrices?"
      ],
      "metadata": {
        "id": "yt7DkG1O9j9_"
      }
    },
    {
      "cell_type": "code",
      "source": [
        "def multiply(a,b):\n",
        "    print(f\"Multiplication of Matrices{a}, {b} is :\")\n",
        "    if len(a) == len(b):\n",
        "        for i in range(len(a)):\n",
        "            for j in range(len(a[i])):\n",
        "                sum = 0\n",
        "                for k in range(len(a[i])):\n",
        "                    sum+=a[i][k]*b[k][j]\n",
        "                print(sum, end = \", \")\n",
        "            print()\n",
        "        \n",
        "    else:\n",
        "        return \"Not Possible for multiplication\"\n",
        "\n",
        "\n",
        "\n",
        "multiply([[1,2,3],[4,5,6],[7,8,9]],[[9,8,7],[6,5,4],[3,2,1]])"
      ],
      "metadata": {
        "id": "ywVIgvzH986t",
        "colab": {
          "base_uri": "https://localhost:8080/"
        },
        "outputId": "5d05098c-074a-44ce-e765-31ab9a5e2d9a"
      },
      "execution_count": null,
      "outputs": [
        {
          "output_type": "stream",
          "name": "stdout",
          "text": [
            "Multiplication of Matrices[[1, 2, 3], [4, 5, 6], [7, 8, 9]], [[9, 8, 7], [6, 5, 4], [3, 2, 1]] is :\n",
            "30, 24, 18, \n",
            "84, 69, 54, \n",
            "138, 114, 90, \n"
          ]
        }
      ]
    },
    {
      "cell_type": "markdown",
      "source": [
        "3. Write a Python Program to Transpose a Matrix?"
      ],
      "metadata": {
        "id": "De_Ecw9k9jzL"
      }
    },
    {
      "cell_type": "code",
      "source": [
        "def transpose(a):\n",
        "    print(f\"transpose of a given matrix {a} is \")\n",
        "    output = list()\n",
        "    for i in range(len(a[0])):\n",
        "        output.append([0 for j in range(len(a))])\n",
        "    for i in range(len(a)):\n",
        "        for j in range(len(a[i])):\n",
        "            output[j][i]=a[i][j]\n",
        "    \n",
        "    print(output)\n",
        "transpose([[1,2],[4,5],[7,8]])"
      ],
      "metadata": {
        "id": "FRwNDX0M99e0",
        "colab": {
          "base_uri": "https://localhost:8080/"
        },
        "outputId": "17121997-eed5-4034-e13a-f9ef159823c2"
      },
      "execution_count": null,
      "outputs": [
        {
          "output_type": "stream",
          "name": "stdout",
          "text": [
            "transpose of a given matrix [[1, 2], [4, 5], [7, 8]] is \n",
            "[[1, 4, 7], [2, 5, 8]]\n"
          ]
        }
      ]
    },
    {
      "cell_type": "markdown",
      "source": [
        "4. Write a Python Program to Sort Words in Alphabetic Order?"
      ],
      "metadata": {
        "id": "CDqZlRx89jnO"
      }
    },
    {
      "cell_type": "code",
      "source": [
        "def words_sorting(list_of_words):\n",
        "    return  sorted(list_of_words)\n",
        "\n",
        "list_of_words = input(\"Enter The Words with single space\").split(' ')\n",
        "print(words_sorting(list_of_words))\n"
      ],
      "metadata": {
        "colab": {
          "base_uri": "https://localhost:8080/"
        },
        "id": "GDb49gFlcrKe",
        "outputId": "d3fc21f9-ae25-4396-f978-7ce08cec5df0"
      },
      "execution_count": 6,
      "outputs": [
        {
          "output_type": "stream",
          "name": "stdout",
          "text": [
            "Enter The Words with single spaced c a b shyam ram apple\n",
            "['a', 'apple', 'b', 'c', 'd', 'ram', 'shyam']\n"
          ]
        }
      ]
    },
    {
      "cell_type": "markdown",
      "source": [
        "5. Write a Python Program to Remove Punctuation From a String?"
      ],
      "metadata": {
        "id": "sOATQTPX94mU"
      }
    },
    {
      "cell_type": "code",
      "execution_count": 8,
      "metadata": {
        "id": "V1DjBQNRoxJg",
        "colab": {
          "base_uri": "https://localhost:8080/",
          "height": 35
        },
        "outputId": "2db57331-eeae-4ca0-9f29-52895d7530f0"
      },
      "outputs": [
        {
          "output_type": "execute_result",
          "data": {
            "text/plain": [
              "'somethings need to be   removed'"
            ],
            "application/vnd.google.colaboratory.intrinsic+json": {
              "type": "string"
            }
          },
          "metadata": {},
          "execution_count": 8
        }
      ],
      "source": [
        "def remove_punctuation(input_data):\n",
        "    punctuations = '''!()-[]{};:'\"\\,<>./?@#$%^&*_~'''\n",
        "    output_data = \"\"\n",
        "    for i in input_data:\n",
        "        if i in punctuations:\n",
        "            continue\n",
        "        else:\n",
        "            output_data+=i\n",
        "    return output_data\n",
        "\n",
        "remove_punctuation(\"some;things.,>/ need to be # ! removed\")\n",
        "    \n"
      ]
    },
    {
      "cell_type": "code",
      "source": [
        ""
      ],
      "metadata": {
        "id": "RJRxEmeEgIrY"
      },
      "execution_count": null,
      "outputs": []
    }
  ]
}