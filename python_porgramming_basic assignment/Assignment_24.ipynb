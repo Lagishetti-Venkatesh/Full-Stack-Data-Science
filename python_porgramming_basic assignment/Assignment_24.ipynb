{
  "nbformat": 4,
  "nbformat_minor": 0,
  "metadata": {
    "colab": {
      "name": "Assignment_24.ipynb",
      "provenance": [],
      "collapsed_sections": []
    },
    "kernelspec": {
      "name": "python3",
      "display_name": "Python 3"
    },
    "language_info": {
      "name": "python"
    }
  },
  "cells": [
    {
      "cell_type": "markdown",
      "source": [
        "Question1</br>\n",
        "Create a function that takes an integer and returns a list from 1 to the given number, where:</br>\n",
        "    1. If the number can be divided evenly by 4, amplify it by 10 (i.e. return 10 times the number).</br>\n",
        "    2. If the number cannot be divided evenly by 4, simply return the number.</br>\n",
        "Examples</br>\n",
        "amplify(4) ➞ [1, 2, 3, 40]</br>\n",
        "\n",
        "amplify(3) ➞ [1, 2, 3]</br>\n",
        "</br>\n",
        "amplify(25) ➞ [1, 2, 3, 40, 5, 6, 7, 80, 9, 10, 11, 120, 13, 14, 15, 160, 17, 18, 19, 200, 21, 22, 23, 240, 25]</br>\n",
        "Notes</br>\n",
        "    • The given integer will always be equal to or greater than 1.</br>\n",
        "    • Include the number (see example above).</br>\n",
        "    • To perform this problem with its intended purpose, try doing it with list</br> comprehensions. If that's too difficult, just solve the challenge any way you can.</br>\n"
      ],
      "metadata": {
        "id": "Y0HBCHvJ5J5a"
      }
    },
    {
      "cell_type": "code",
      "source": [
        "def amplify(number):\n",
        "    list_values = [x*10 if x%4 == 0 else x for x in range(1, number+1) ]\n",
        "    return list_values\n",
        "print(amplify(4))\n",
        "print(amplify(3))\n",
        "print(amplify(25))"
      ],
      "metadata": {
        "id": "27WcX1OO5gmn",
        "colab": {
          "base_uri": "https://localhost:8080/"
        },
        "outputId": "d7eb3a1e-b40f-4fd8-acd9-108583c53f22"
      },
      "execution_count": 6,
      "outputs": [
        {
          "output_type": "stream",
          "name": "stdout",
          "text": [
            "[1, 2, 3, 40]\n",
            "[1, 2, 3]\n",
            "[1, 2, 3, 40, 5, 6, 7, 80, 9, 10, 11, 120, 13, 14, 15, 160, 17, 18, 19, 200, 21, 22, 23, 240, 25]\n"
          ]
        }
      ]
    },
    {
      "cell_type": "markdown",
      "source": [
        "Question2</br>\n",
        "Create a function that takes a list of numbers and return the number that's unique.</br>\n",
        "Examples</br>\n",
        "unique([3, 3, 3, 7, 3, 3]) ➞ 7</br>\n",
        "\n",
        "unique([0, 0, 0.77, 0, 0]) ➞ 0.77</br>\n",
        "\n",
        "unique([0, 1, 1, 1, 1, 1, 1, 1]) ➞ 0</br>\n",
        "Notes</br>\n",
        "Test cases will always have exactly one unique number while all others are the same.</br>\n"
      ],
      "metadata": {
        "id": "S9cFJXr_5Jt6"
      }
    },
    {
      "cell_type": "code",
      "source": [
        "def unique(list_values):\n",
        "    for i in set(list_values):\n",
        "        if list_values.count(i) == 1:\n",
        "            return i\n",
        "\n",
        "print(f\"unique value: {unique([3, 3, 3, 7, 3, 3])}\")\n",
        "print(f\"unique value: { unique([0, 0, 0.77, 0, 0])}\")\n",
        "print(f\"unique value: {unique([0, 1, 1, 1, 1, 1, 1, 1])}\")"
      ],
      "metadata": {
        "id": "7GLleaSz5yyN",
        "colab": {
          "base_uri": "https://localhost:8080/"
        },
        "outputId": "58586a95-8790-42f9-deb7-b7d49396d2d6"
      },
      "execution_count": 8,
      "outputs": [
        {
          "output_type": "stream",
          "name": "stdout",
          "text": [
            "unique value: 7\n",
            "unique value: 0.77\n",
            "unique value: 0\n"
          ]
        }
      ]
    },
    {
      "cell_type": "markdown",
      "source": [
        "Question3 </br>\n",
        "Your task is to create a Circle constructor that creates a circle with a radius</br> provided by an argument. The circles constructed must have two</br> getters getArea() (PIr^2) and getPerimeter() (2PI*r) which give both respective areas and perimeter (circumference).</br>\n",
        "For help with this class, I have provided you with a Rectangle constructor which you can use as a base example.</br>\n",
        "Examples</br>\n",
        "circy = Circle(11)</br>\n",
        "circy.getArea()</br>\n",
        "</br>\n",
        "###### Should return 380.132711084365\n",
        "\n",
        "circy = Circle(4.44)</br>\n",
        "circy.getPerimeter()</br>\n",
        "\n",
        "###### Should return 27.897342763877365\n",
        "Notes</br>\n",
        "Round results up to the nearest integer.\n",
        "</br>"
      ],
      "metadata": {
        "id": "Yj6HDQUX5JrD"
      }
    },
    {
      "cell_type": "code",
      "source": [
        "from math import pi\n",
        "class Circle:\n",
        "\n",
        "    def __init__(self, radius):\n",
        "        self.radius = radius\n",
        "    \n",
        "    def getArea(self):\n",
        "        return pi * (self.radius**2)\n",
        "    \n",
        "    def getPerimeter(self):\n",
        "        return 2 * pi * self.radius\n",
        "\n",
        "circy = Circle(11)\n",
        "print(f\"Area of circle with radius {circy.radius}: {circy.getArea()}\")\n",
        "\n",
        "circy = Circle(4.4)\n",
        "print(f\"Perimeter of circle with radius {circy.radius}: {circy.getPerimeter()}\")\n"
      ],
      "metadata": {
        "id": "y4tGQk9d67T6",
        "colab": {
          "base_uri": "https://localhost:8080/"
        },
        "outputId": "043a9519-810c-412a-d3a8-eaec9d9d815a"
      },
      "execution_count": 11,
      "outputs": [
        {
          "output_type": "stream",
          "name": "stdout",
          "text": [
            "Area of circle with radius 11: 380.132711084365\n",
            "Perimeter of circle with radius 4.4: 27.646015351590183\n"
          ]
        }
      ]
    },
    {
      "cell_type": "markdown",
      "source": [
        "Question4</br>\n",
        "Create a function that takes a list of strings and return a list, sorted from shortest to longest.</br>\n",
        "Examples</br>\n",
        "sort_by_length([\"Google\", \"Apple\", \"Microsoft\"])</br>\n",
        "➞ [\"Apple\", \"Google\", \"Microsoft\"]</br>\n",
        "\n",
        "sort_by_length([\"Leonardo\", \"Michelangelo\", \"Raphael\", \"Donatello\"])\n",
        "➞ [\"Raphael\", \"Leonardo\", \"Donatello\", \"Michelangelo\"]</br>\n",
        "</br>\n",
        "sort_by_length([\"Turing\", \"Einstein\", \"Jung\"])\n",
        "➞ [\"Jung\", \"Turing\", \"Einstein\"]</br>\n",
        "Notes</br>\n",
        "All test cases contain lists with strings of different lengths, so you won't</br> have to deal with multiple strings of the same length.\n",
        "</br>"
      ],
      "metadata": {
        "id": "pYC1yzlA5JoM"
      }
    },
    {
      "cell_type": "code",
      "source": [
        "def sort_by_length(list_data):\n",
        "    list_data.sort(key=len)\n",
        "    return list_data\n",
        "\n",
        "print(sort_by_length([\"Google\", \"Apple\", \"Microsoft\"]))\n",
        "print(sort_by_length([\"Leonardo\", \"Michelangelo\", \"Raphael\", \"Donatello\"]))\n",
        "print(sort_by_length([\"Turing\", \"Einstein\", \"Jung\"]) )"
      ],
      "metadata": {
        "id": "ZIiNUdUd7OS8",
        "colab": {
          "base_uri": "https://localhost:8080/"
        },
        "outputId": "72c07d74-b60c-43ce-8d4a-e5a7c13fba58"
      },
      "execution_count": 18,
      "outputs": [
        {
          "output_type": "stream",
          "name": "stdout",
          "text": [
            "['Apple', 'Google', 'Microsoft']\n",
            "['Raphael', 'Leonardo', 'Donatello', 'Michelangelo']\n",
            "['Jung', 'Turing', 'Einstein']\n"
          ]
        }
      ]
    },
    {
      "cell_type": "markdown",
      "source": [
        "Question5</br>\n",
        "Create a function that validates whether three given integers form a</br> Pythagorean triplet. The sum of the squares of the two smallest integers must</br> equal the square of the largest number to be validated.\n",
        "</br>\n",
        "\n",
        "Examples</br>\n",
        "is_triplet(3, 4, 5) ➞ True</br>\n",
        "    3² + 4² = 25</br>\n",
        "    5² = 25\n",
        "</br>\n",
        "is_triplet(13, 5, 12) ➞ True</br>\n",
        "    5² + 12² = 169</br>\n",
        "    13² = 169</br>\n",
        "</br>\n",
        "is_triplet(1, 2, 3) ➞ False</br>\n",
        "    1² + 2² = 5\n",
        "    3² = 9\n",
        "Notes</br>\n",
        "Numbers may not be given in a sorted order.\n",
        "</br>"
      ],
      "metadata": {
        "id": "pwI9Iq2T5Jk4"
      }
    },
    {
      "cell_type": "code",
      "execution_count": 21,
      "metadata": {
        "id": "xpoeati3pyO2",
        "colab": {
          "base_uri": "https://localhost:8080/"
        },
        "outputId": "3d3d1293-7d5a-4673-faa4-e26faf3706ec"
      },
      "outputs": [
        {
          "output_type": "stream",
          "name": "stdout",
          "text": [
            "is triplet 3, 4, 5 : True\n",
            "is triplet 13, 5, 12 : True\n",
            "is triplet 1, 2, 3 :False \n"
          ]
        }
      ],
      "source": [
        "def is_triplet(a, b, c):\n",
        "    a_sqre = a**2\n",
        "    b_sqre = b**2\n",
        "    c_sqre = c**2\n",
        "    if a_sqre + b_sqre == c_sqre:\n",
        "        return True\n",
        "    elif b_sqre + c_sqre == a_sqre:\n",
        "        return True\n",
        "    elif  a_sqre + c_sqre == b_sqre:\n",
        "        return True\n",
        "    else:\n",
        "        return False \n",
        "\n",
        "\n",
        "print(f\"is triplet 3, 4, 5 : {is_triplet(3, 4, 5)}\") \n",
        "print(f\"is triplet 13, 5, 12 : {is_triplet(13, 5, 12)}\")\n",
        "print(f\"is triplet 1, 2, 3 :{is_triplet(1, 2, 3)} \")"
      ]
    }
  ]
}