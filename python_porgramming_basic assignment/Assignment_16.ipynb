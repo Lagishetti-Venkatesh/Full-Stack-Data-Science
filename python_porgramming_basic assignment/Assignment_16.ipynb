{
  "nbformat": 4,
  "nbformat_minor": 0,
  "metadata": {
    "colab": {
      "name": "Assignment_16.ipynb",
      "provenance": [],
      "collapsed_sections": []
    },
    "kernelspec": {
      "name": "python3",
      "display_name": "Python 3"
    },
    "language_info": {
      "name": "python"
    }
  },
  "cells": [
    {
      "cell_type": "markdown",
      "source": [
        "<p> 1.Write a function that stutters a word as if someone is struggling to read</br> it. The first two letters are repeated twice with an ellipsis ... and</br> space after each, and then the word is pronounced with a question mark ?</br>\n",
        "Examples:</br> stutter(\"incredible\") ➞ \"in... in... incredible?\"</br>\n",
        "stutter(\"enthusiastic\") ➞ \"en... en... enthusiastic?\"</br>\n",
        "stutter(\"outstanding\") ➞ \"ou... ou... outstanding?\"</br>\n",
        "\n",
        "Hint :- Assume all input is in lower case and at least two characters long.</p>"
      ],
      "metadata": {
        "id": "e-xTzNP1oSfc"
      }
    },
    {
      "cell_type": "code",
      "execution_count": 2,
      "metadata": {
        "id": "9fFThYePopLz",
        "colab": {
          "base_uri": "https://localhost:8080/"
        },
        "outputId": "d43a9bf3-b849-4ca0-9dff-40df8ec96e33"
      },
      "outputs": [
        {
          "output_type": "stream",
          "name": "stdout",
          "text": [
            " stutter(\"incredible\") ➞ in... in... incredible\n",
            " stutter(\"enthusiastic\") ➞ en... en... enthusiastic\n",
            " stutter(\"outstanding\") ➞ ou... ou... outstanding\n"
          ]
        }
      ],
      "source": [
        "def stutter(string_data):\n",
        "    stut = string_data[0:2]+'... '\n",
        "    return stut*2+string_data\n",
        "print(f' stutter(\"incredible\") ➞ {stutter(\"incredible\")}')\n",
        "print(f' stutter(\"enthusiastic\") ➞ {stutter(\"enthusiastic\")}')\n",
        "print(f' stutter(\"outstanding\") ➞ {stutter(\"outstanding\")}')"
      ]
    },
    {
      "cell_type": "markdown",
      "source": [
        "<p>2. Create a function that takes an angle in radians and returns the \n",
        "</br>corresponding angle in degrees rounded to one decimal place ?</br>\n",
        "Examples: radians_to_degrees(1) ➞ 57.3</br>\n",
        "radians_to_degrees(20) ➞ 1145.9</br>\n",
        "radians_to_degrees(50) ➞ 2864.8</p>"
      ],
      "metadata": {
        "id": "HFGaiIxQouTf"
      }
    },
    {
      "cell_type": "code",
      "source": [
        "from math import pi\n",
        "\n",
        "def radians_to_degrees(radians):\n",
        "    return round(radians * (180 / pi), 1)\n",
        "    \n",
        "print(f' radians_to_degrees(1) ➞ {radians_to_degrees(1)}')\n",
        "print(f' radians_to_degrees(20) ➞ {radians_to_degrees(20)}')\n",
        "print(f' radians_to_degrees(50) ➞ {radians_to_degrees(50)}')"
      ],
      "metadata": {
        "id": "Ui1cSOzlovCP",
        "colab": {
          "base_uri": "https://localhost:8080/"
        },
        "outputId": "4d27af30-e4d0-4a2a-b588-6da8fc8ab6f9"
      },
      "execution_count": 5,
      "outputs": [
        {
          "output_type": "stream",
          "name": "stdout",
          "text": [
            " radians_to_degrees(1) ➞ 57.3\n",
            " radians_to_degrees(20) ➞ 1145.9\n",
            " radians_to_degrees(50) ➞ 2864.8\n"
          ]
        }
      ]
    },
    {
      "cell_type": "markdown",
      "source": [
        "<p>3. In this challenge, establish if a given integer num is a Curzon number.</br> If 1 plus 2 elevated to num is exactly divisible by 1 plus 2 multiplied by num, </br>then num is a Curzon number. Given a non-negative integer num, </br>implement a function that returns True if num is a Curzon number, or False otherwise.</br>\n",
        "Examples: \n",
        "<h4>is_curzon(5) ➞ True</h4>\n",
        "\n",
        "<h7> 2 ** 5 + 1 = 33</h7></br>\n",
        "<h7> 2 * 5 + 1 = 11</h7></br>\n",
        "<h7> 33 is a multiple of 11</h7></br>\n",
        "<h4>is_curzon(10) ➞ False</h4>\n",
        "\n",
        "<h7> 2 ** 10 + 1 = 1025</h7></br>\n",
        "<h7> 2 * 10 + 1 = 21</h7></br>\n",
        "<h7> 1025 is not a multiple of 21</h7></br>\n",
        "<h4>is_curzon(14) ➞ True</h4></br>\n",
        "\n",
        "<h7> 2 ** 14 + 1 = 16385</h7></br>\n",
        "<h7>2 * 14 + 1 = 29</h7></br>\n",
        "<h7> 16385 is a multiple of 29</h7></br>\n"
      ],
      "metadata": {
        "id": "sEL32K_7pBGg"
      }
    },
    {
      "cell_type": "code",
      "source": [
        "def is_curzon(data):\n",
        "    n1 = 2**data + 1\n",
        "    n2 = 2*data + 1\n",
        "    if n1%n2 == 0:\n",
        "        return True\n",
        "    else:\n",
        "        return False\n",
        "print(f'is_curzon(5) ➞ {is_curzon(5)}')\n",
        "print(f'is_curzon(10) ➞ {is_curzon(10)}')\n",
        "print(f'is_curzon(14) ➞ {is_curzon(14)}')"
      ],
      "metadata": {
        "id": "TSMha0Ewq7Tt",
        "colab": {
          "base_uri": "https://localhost:8080/"
        },
        "outputId": "c2f53200-4e6d-444d-dafe-78cccf9ac17b"
      },
      "execution_count": 6,
      "outputs": [
        {
          "output_type": "stream",
          "name": "stdout",
          "text": [
            "is_curzon(5) ➞ True\n",
            "is_curzon(10) ➞ False\n",
            "is_curzon(14) ➞ True\n"
          ]
        }
      ]
    },
    {
      "cell_type": "markdown",
      "source": [
        "<p>4.Given the side length x find the area of a hexagon ?</br>\n",
        "Examples: area_of_hexagon(1) ➞ 2.6</br>\n",
        "area_of_hexagon(2) ➞ 10.4</br>\n",
        "area_of_hexagon(3) ➞ 23.4</p>"
      ],
      "metadata": {
        "id": "fiiwZYTGqtZK"
      }
    },
    {
      "cell_type": "code",
      "source": [
        "def area_of_hexagon(data):\n",
        "    return round(((3 * ((3)**0.5))/2) * data**2, 1)\n",
        "\n",
        "print(f'area_of_hexagon(1) ➞ {area_of_hexagon(1)}')\n",
        "print(f'area_of_hexagon(2) ➞ {area_of_hexagon(2)}')\n",
        "print(f'area_of_hexagon(3) ➞ {area_of_hexagon(3)}')"
      ],
      "metadata": {
        "id": "UfhfvTQYq558",
        "colab": {
          "base_uri": "https://localhost:8080/"
        },
        "outputId": "4e05927e-13da-428f-97a0-e4c926bae749"
      },
      "execution_count": 9,
      "outputs": [
        {
          "output_type": "stream",
          "name": "stdout",
          "text": [
            "area_of_hexagon(1) ➞ 2.6\n",
            "area_of_hexagon(2) ➞ 10.4\n",
            "area_of_hexagon(3) ➞ 23.4\n"
          ]
        }
      ]
    },
    {
      "cell_type": "markdown",
      "source": [
        "<p>\n",
        "5. Create a function that returns a base-2 (binary) representation of a base-10 (decimal) string number. To convert is simple:</br>\n",
        "((2) means base-2 and (10) means base-10)</br>\n",
        "010101001(2) = 1 + 8 + 32 + 128.</br>\n",
        "Going from right to left, the value of the most right bit is 1, now from that </br>every bit to the left will be x2 the value, </br>value of an 8 bit binary numbers are (256, 128, 64, 32, 16, 8, 4, 2, 1).</br>\n",
        "Examples:</br>\n",
        "`binary(1) ➞ \"1\"\n",
        "\n",
        "<h6> 1* 1 = 1</h6>\n",
        "binary(5) ➞ \"101\"\n",
        "\n",
        "<h6> 1 1 + 1 4 = 5</h6>\n",
        "binary(10) ➞ \"1010\"\n",
        "\n",
        "<h6>1 2 + 1 8 = 10`</h6>\n",
        "</p>"
      ],
      "metadata": {
        "id": "ax1j0IY-rBjm"
      }
    },
    {
      "cell_type": "code",
      "source": [
        "def binary(decimal):\n",
        "    return \"{0:b}\".format(int(decimal))\n",
        "\n",
        "print(f' binary(1) ➞ {binary(1)}')\n",
        "print(f' binary(5) ➞ {binary(5)}')\n",
        "print(f' binary(10) ➞ {binary(10)}')"
      ],
      "metadata": {
        "colab": {
          "base_uri": "https://localhost:8080/"
        },
        "id": "k2gPEmuY28-o",
        "outputId": "43be73fe-d778-42e2-dad9-be471c15bfbe"
      },
      "execution_count": 18,
      "outputs": [
        {
          "output_type": "stream",
          "name": "stdout",
          "text": [
            " binary(1) ➞ 1\n",
            " binary(5) ➞ 101\n",
            " binary(10) ➞ 1010\n"
          ]
        }
      ]
    }
  ]
}