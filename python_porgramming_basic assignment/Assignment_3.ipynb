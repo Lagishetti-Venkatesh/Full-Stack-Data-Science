{
  "nbformat": 4,
  "nbformat_minor": 0,
  "metadata": {
    "colab": {
      "name": "Assignment_3.ipynb",
      "provenance": [],
      "collapsed_sections": []
    },
    "kernelspec": {
      "name": "python3",
      "display_name": "Python 3"
    },
    "language_info": {
      "name": "python"
    }
  },
  "cells": [
    {
      "cell_type": "code",
      "source": [
        "!pip install pyinputplus"
      ],
      "metadata": {
        "colab": {
          "base_uri": "https://localhost:8080/"
        },
        "id": "9f5nU5MKakXF",
        "outputId": "e125a71e-723a-4a24-8277-ad25dba21cb3"
      },
      "execution_count": 2,
      "outputs": [
        {
          "output_type": "stream",
          "name": "stdout",
          "text": [
            "Collecting pyinputplus\n",
            "  Downloading PyInputPlus-0.2.12.tar.gz (20 kB)\n",
            "  Installing build dependencies ... \u001b[?25l\u001b[?25hdone\n",
            "  Getting requirements to build wheel ... \u001b[?25l\u001b[?25hdone\n",
            "    Preparing wheel metadata ... \u001b[?25l\u001b[?25hdone\n",
            "Collecting stdiomask>=0.0.3\n",
            "  Downloading stdiomask-0.0.6.tar.gz (3.6 kB)\n",
            "  Installing build dependencies ... \u001b[?25l\u001b[?25hdone\n",
            "  Getting requirements to build wheel ... \u001b[?25l\u001b[?25hdone\n",
            "    Preparing wheel metadata ... \u001b[?25l\u001b[?25hdone\n",
            "Collecting pysimplevalidate>=0.2.7\n",
            "  Downloading PySimpleValidate-0.2.12.tar.gz (22 kB)\n",
            "  Installing build dependencies ... \u001b[?25l\u001b[?25hdone\n",
            "  Getting requirements to build wheel ... \u001b[?25l\u001b[?25hdone\n",
            "    Preparing wheel metadata ... \u001b[?25l\u001b[?25hdone\n",
            "Building wheels for collected packages: pyinputplus, pysimplevalidate, stdiomask\n",
            "  Building wheel for pyinputplus (PEP 517) ... \u001b[?25l\u001b[?25hdone\n",
            "  Created wheel for pyinputplus: filename=PyInputPlus-0.2.12-py3-none-any.whl size=11315 sha256=88a5d47c7720401cb9854c0d4c39957d802209ac4b359f67a7525e40c515dabd\n",
            "  Stored in directory: /root/.cache/pip/wheels/e7/33/73/719f8f1bd984d39face880fd22f6c5ef1b85f726e84c687094\n",
            "  Building wheel for pysimplevalidate (PEP 517) ... \u001b[?25l\u001b[?25hdone\n",
            "  Created wheel for pysimplevalidate: filename=PySimpleValidate-0.2.12-py3-none-any.whl size=16193 sha256=2791a056b363f956397c57a203b88bda7eed15a1b03c783fdd36e84d7f51538a\n",
            "  Stored in directory: /root/.cache/pip/wheels/5a/8b/6c/2925d22b93860bdc9b8ce02c3d2cf79336606f7469cef66065\n",
            "  Building wheel for stdiomask (PEP 517) ... \u001b[?25l\u001b[?25hdone\n",
            "  Created wheel for stdiomask: filename=stdiomask-0.0.6-py3-none-any.whl size=3321 sha256=f8ca8510ff9b167356631f5353b7295d6c0a52bc8bcf4a7b4be467c6ac9e7457\n",
            "  Stored in directory: /root/.cache/pip/wheels/cf/13/89/64d0d3b167759523f4c1e68f883bbc30e7bfa27050edeb418e\n",
            "Successfully built pyinputplus pysimplevalidate stdiomask\n",
            "Installing collected packages: stdiomask, pysimplevalidate, pyinputplus\n",
            "Successfully installed pyinputplus-0.2.12 pysimplevalidate-0.2.12 stdiomask-0.0.6\n"
          ]
        }
      ]
    },
    {
      "cell_type": "markdown",
      "source": [
        "1. Write a Python Program to Check if a Number is Positive, Negative or Zero?"
      ],
      "metadata": {
        "id": "Hp2q0OfKv5o4"
      }
    },
    {
      "cell_type": "code",
      "source": [
        "import pyinputplus\n",
        "\n",
        "def pos_or_neg(num):\n",
        "    if num > 0:\n",
        "        return \"positive\"\n",
        "    elif num < 0:\n",
        "        return \"Negative\"\n",
        "    else:\n",
        "        return \"neutral value\"\n",
        "\n",
        "print(pos_or_neg(pyinputplus.inputFloat(\"Enter the number: \")))\n"
      ],
      "metadata": {
        "id": "gC-SYb5gwN-q",
        "colab": {
          "base_uri": "https://localhost:8080/"
        },
        "outputId": "27e8b48b-bfc2-4eba-a53b-05b51ef6fce4"
      },
      "execution_count": 5,
      "outputs": [
        {
          "output_type": "stream",
          "name": "stdout",
          "text": [
            "Enter the number: 0\n",
            "neutral value\n"
          ]
        }
      ]
    },
    {
      "cell_type": "markdown",
      "source": [
        "2. Write a Python Program to Check if a Number is Odd or Even?"
      ],
      "metadata": {
        "id": "cGOMmYWjv5Uz"
      }
    },
    {
      "cell_type": "code",
      "source": [
        "def odd_or_even(num):\n",
        "    if num%2 == 0:\n",
        "        return \"even\"\n",
        "    else:\n",
        "        return \"odd\"\n",
        "print(odd_or_even(pyinputplus.inputInt(\"Enter the number to know odd or even: \")))"
      ],
      "metadata": {
        "id": "Jy1inn4hwNgS",
        "colab": {
          "base_uri": "https://localhost:8080/"
        },
        "outputId": "ba6ae75d-bd1e-46a5-a462-724527de9f43"
      },
      "execution_count": 7,
      "outputs": [
        {
          "output_type": "stream",
          "name": "stdout",
          "text": [
            "Enter the number to know odd or even: 25\n",
            "odd\n"
          ]
        }
      ]
    },
    {
      "cell_type": "markdown",
      "source": [
        "3. Write a Python Program to Check Leap Year?"
      ],
      "metadata": {
        "id": "4BTk_0nfv2Xt"
      }
    },
    {
      "cell_type": "code",
      "source": [
        "def leap_year(num):\n",
        "    if (num%4 == 0) and (num%100 != 0) or (num%400 == 0):\n",
        "        return \"{0} is leap year\".format(num)\n",
        "    else:\n",
        "        return \"{0} is not a leap year\".format(num)\n",
        "print(leap_year(pyinputplus.inputInt(\"Enter the Year\")))"
      ],
      "metadata": {
        "id": "a5dSt1GlwNGP",
        "colab": {
          "base_uri": "https://localhost:8080/"
        },
        "outputId": "1199c645-b402-475b-d221-56a5f48eb20b"
      },
      "execution_count": 15,
      "outputs": [
        {
          "output_type": "stream",
          "name": "stdout",
          "text": [
            "Enter the Year2020\n",
            "2020 is leap year\n"
          ]
        }
      ]
    },
    {
      "cell_type": "markdown",
      "source": [
        "4. Write a Python Program to Check Prime Number?"
      ],
      "metadata": {
        "id": "tiQ2usnUv2Rh"
      }
    },
    {
      "cell_type": "code",
      "source": [
        "\n",
        "def prime_or_not(num):\n",
        "    flag = 0\n",
        "    for i in range(2, num):\n",
        "        if num%i == 0:\n",
        "            flag =1\n",
        "    if flag == 1:\n",
        "        return \"Not a Prime number\"\n",
        "\n",
        "    else:\n",
        "        return \"Prime number\"\n",
        "print(prime_or_not(pyinputplus.inputInt(\"Enter the number: \")))"
      ],
      "metadata": {
        "id": "9l5vfiAywMrW",
        "colab": {
          "base_uri": "https://localhost:8080/"
        },
        "outputId": "d6519bb1-a715-49be-bfa1-909bc1dc3165"
      },
      "execution_count": 18,
      "outputs": [
        {
          "output_type": "stream",
          "name": "stdout",
          "text": [
            "Enter the number: 7\n",
            "Prime number\n"
          ]
        }
      ]
    },
    {
      "cell_type": "markdown",
      "source": [
        "5. Write a Python Program to Print all Prime Numbers in an Interval of 1-10000?"
      ],
      "metadata": {
        "id": "qCdWEBEfv2Lq"
      }
    },
    {
      "cell_type": "code",
      "source": [
        "def prime_numbers_within_range(interval):\n",
        "    list_of_primes = []\n",
        "    print(interval)\n",
        "    for num in range(interval):\n",
        "        flag = 0\n",
        "        for i in range(2, num):\n",
        "            if num%i == 0:\n",
        "                flag =1\n",
        "        if flag == 1:\n",
        "            continue\n",
        "        else:\n",
        "            list_of_primes.append(num)\n",
        "    return list_of_primes\n",
        "print(prime_numbers_within_range(1000))"
      ],
      "metadata": {
        "id": "Ek7_hqQFwMNk",
        "colab": {
          "base_uri": "https://localhost:8080/"
        },
        "outputId": "2b9b347f-1883-4771-9881-832bdef9bd95"
      },
      "execution_count": 21,
      "outputs": [
        {
          "output_type": "stream",
          "name": "stdout",
          "text": [
            "1000\n",
            "[0, 1, 2, 3, 5, 7, 11, 13, 17, 19, 23, 29, 31, 37, 41, 43, 47, 53, 59, 61, 67, 71, 73, 79, 83, 89, 97, 101, 103, 107, 109, 113, 127, 131, 137, 139, 149, 151, 157, 163, 167, 173, 179, 181, 191, 193, 197, 199, 211, 223, 227, 229, 233, 239, 241, 251, 257, 263, 269, 271, 277, 281, 283, 293, 307, 311, 313, 317, 331, 337, 347, 349, 353, 359, 367, 373, 379, 383, 389, 397, 401, 409, 419, 421, 431, 433, 439, 443, 449, 457, 461, 463, 467, 479, 487, 491, 499, 503, 509, 521, 523, 541, 547, 557, 563, 569, 571, 577, 587, 593, 599, 601, 607, 613, 617, 619, 631, 641, 643, 647, 653, 659, 661, 673, 677, 683, 691, 701, 709, 719, 727, 733, 739, 743, 751, 757, 761, 769, 773, 787, 797, 809, 811, 821, 823, 827, 829, 839, 853, 857, 859, 863, 877, 881, 883, 887, 907, 911, 919, 929, 937, 941, 947, 953, 967, 971, 977, 983, 991, 997]\n"
          ]
        }
      ]
    },
    {
      "cell_type": "code",
      "source": [
        ""
      ],
      "metadata": {
        "id": "4tcUKOA0fr_B"
      },
      "execution_count": null,
      "outputs": []
    }
  ]
}