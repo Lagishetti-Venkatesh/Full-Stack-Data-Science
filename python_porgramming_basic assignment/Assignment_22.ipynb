{
  "nbformat": 4,
  "nbformat_minor": 0,
  "metadata": {
    "colab": {
      "name": "Assignment_22.ipynb",
      "provenance": [],
      "collapsed_sections": []
    },
    "kernelspec": {
      "name": "python3",
      "display_name": "Python 3"
    },
    "language_info": {
      "name": "python"
    }
  },
  "cells": [
    {
      "cell_type": "markdown",
      "source": [
        "Question1 </br>\n",
        "Create a function that takes three parameters where:</br>\n",
        "    • x is the start of the range (inclusive). </br>\n",
        "    • y is the end of the range (inclusive). </br>\n",
        "    • n is the divisor to be checked against. </br>\n",
        "Return an ordered list with numbers in the range that are divisible by the</br> third parameter n. Return an empty list if there are no numbers that are </br>divisible by n.</br>\n",
        "Examples</br>\n",
        "list_operation(1, 10, 3) ➞ [3, 6, 9]</br>\n",
        "\n",
        "list_operation(7, 9, 2) ➞ [8] </br>\n",
        "\n",
        "list_operation(15, 20, 7) ➞ [] </br>\n"
      ],
      "metadata": {
        "id": "7PprujSh2N52"
      }
    },
    {
      "cell_type": "code",
      "source": [
        "def list_operation(a, b, c):\n",
        "    list_values = []\n",
        "    for i in range(a, b+1):\n",
        "        if i%c == 0:\n",
        "            list_values.append(i)\n",
        "    \n",
        "    return list_values\n",
        "print(f' list_operation(1, 10, 3)  -> {list_operation(1, 10, 3)}')\n",
        "print(f' list_operationi(7, 9, 2)  -> {list_operation(7, 9, 2)}')\n",
        "print(f' list_operation(15, 20, 7) -> {list_operation(15, 20, 7)}')\n"
      ],
      "metadata": {
        "id": "XLW9e_x82lg9",
        "colab": {
          "base_uri": "https://localhost:8080/"
        },
        "outputId": "945771a0-b82a-4f99-e59a-cd3366c7c3f8"
      },
      "execution_count": null,
      "outputs": [
        {
          "output_type": "stream",
          "name": "stdout",
          "text": [
            " list_operation(1, 10, 3)  -> [3, 6, 9]\n",
            " list_operationi(7, 9, 2)  -> [8]\n",
            " list_operation(15, 20, 7) -> []\n"
          ]
        }
      ]
    },
    {
      "cell_type": "markdown",
      "source": [
        "Question2 </br>\n",
        "Create a function that takes in two lists and returns True if the second list </br>follows the first list by one element, and False otherwise. In other words,</br> determine if the second list is the first list shifted to the right by 1.</br>\n",
        "Examples</br>\n",
        "simon_says([1, 2], [5, 1]) ➞ True</br>\n",
        "\n",
        "simon_says([1, 2], [5, 5]) ➞ False</br>\n",
        "\n",
        "simon_says([1, 2, 3, 4, 5], [0, 1, 2, 3, 4]) ➞ True</br>\n",
        "\n",
        "simon_says([1, 2, 3, 4, 5], [5, 5, 1, 2, 3]) ➞ False</br>\n",
        "Notes</br>\n",
        "    • Both input lists will be of the same length, and will have a minimum</br> length of 2.\n",
        "    • The values of the 0-indexed element in the second list and the n-1th </br>indexed element in the first list do not matter.</br>"
      ],
      "metadata": {
        "id": "frLr8ZxV2NwA"
      }
    },
    {
      "cell_type": "code",
      "source": [
        "def simon_says(list1, list2):\n",
        "    if len(list1) >= 2 and len(list2) >= 2 and (len(list1)== len(list2)):\n",
        "        if list1[:-1] == list2[1:]:\n",
        "            return True\n",
        "        else:\n",
        "            return False\n",
        "        \n",
        "print(f' [1, 2], [5, 1] {simon_says([1, 2], [5, 1])}')\n",
        "print(f' [1, 2], [5, 5] {simon_says([1, 2], [5, 5])}')\n",
        "print(f' [1, 2, 3, 4, 5], [0, 1, 2, 3, 4] {simon_says([1, 2, 3, 4, 5], [0, 1, 2, 3, 4])}')\n",
        "print(f' [1, 2, 3, 4, 5], [5, 5, 1, 2, 3] {simon_says([1, 2, 3, 4, 5], [5, 5, 1, 2, 3]) }')"
      ],
      "metadata": {
        "id": "HULm47w33D92",
        "colab": {
          "base_uri": "https://localhost:8080/"
        },
        "outputId": "5ee653bb-fb61-4a32-bae1-599e205db042"
      },
      "execution_count": null,
      "outputs": [
        {
          "output_type": "stream",
          "name": "stdout",
          "text": [
            " [1, 2], [5, 1] True\n",
            " [1, 2], [5, 5] False\n",
            " [1, 2, 3, 4, 5], [0, 1, 2, 3, 4] True\n",
            " [1, 2, 3, 4, 5], [5, 5, 1, 2, 3] False\n"
          ]
        }
      ]
    },
    {
      "cell_type": "markdown",
      "source": [
        "Question3</br>\n",
        "A group of friends have decided to start a secret society. The name will be the </br>first letter of each of their names, sorted in alphabetical order.</br>\n",
        "Create a function that takes in a list of names and returns the name of the </br>secret society.</br>\n",
        "Examples</br>\n",
        "society_name([\"Adam\", \"Sarah\", \"Malcolm\"]) ➞ \"AMS\"</br>\n",
        "\n",
        "society_name([\"Harry\", \"Newt\", \"Luna\", \"Cho\"]) ➞ \"CHLN\"</br>\n",
        "\n",
        "society_name([\"Phoebe\", \"Chandler\", \"Rachel\", \"Ross\", \"Monica\", \"Joey\"])</br>\n"
      ],
      "metadata": {
        "id": "3swB6l2h2NtD"
      }
    },
    {
      "cell_type": "code",
      "source": [
        "def society_name(list_values):\n",
        "    list_values = sorted(list_values)\n",
        "    code = ''\n",
        "    for i in list_values:\n",
        "        code+=i[0].upper()\n",
        "    \n",
        "    return code\n",
        "\n",
        "print(f' [\"Adam\", \"Sarah\", \"Malcolm\"] -> {society_name([\"Adam\", \"Sarah\", \"Malcolm\"]) }')\n",
        "print(f' [\"Harry\", \"Newt\", \"Luna\", \"Cho\"] -> {society_name([\"Harry\", \"Newt\", \"Luna\", \"Cho\"]) }')\n",
        "print(f' [\"Phoebe\", \"Chandler\", \"Rachel\", \"Ross\", \"Monica\", \"Joey\"] -> {society_name([\"Phoebe\", \"Chandler\", \"Rachel\", \"Ross\", \"Monica\", \"Joey\"])}')\n"
      ],
      "metadata": {
        "id": "i-axgc4F3VG7",
        "colab": {
          "base_uri": "https://localhost:8080/"
        },
        "outputId": "82f267b4-fb4a-48a3-c13c-874373cf9e8b"
      },
      "execution_count": null,
      "outputs": [
        {
          "output_type": "stream",
          "name": "stdout",
          "text": [
            " [\"Adam\", \"Sarah\", \"Malcolm\"] AMS\n",
            " [\"Harry\", \"Newt\", \"Luna\", \"Cho\"] CHLN\n",
            " [\"Phoebe\", \"Chandler\", \"Rachel\", \"Ross\", \"Monica\", \"Joey\"] CJMPRR\n"
          ]
        }
      ]
    },
    {
      "cell_type": "markdown",
      "source": [
        "Question4</br>\n",
        "An isogram is a word that has no duplicate letters. Create a function that </br>takes a string and returns either True or False depending on whether or not it's an \"isogram\".</br>\n",
        "Examples</br>\n",
        "is_isogram(\"Algorism\") ➞ True</br>\n",
        "\n",
        "is_isogram(\"PasSword\") ➞ False</br>\n",
        "##### Not case sensitive.\n",
        "\n",
        "is_isogram(\"Consecutive\") ➞ False</br>\n",
        "Notes\n",
        "    • Ignore letter case (should not be case sensitive).\n",
        "    • All test cases contain valid one word strings.\n"
      ],
      "metadata": {
        "id": "YME_Zj2L2Nqi"
      }
    },
    {
      "cell_type": "code",
      "source": [
        "def is_isogram(string_data):\n",
        "    return all([True if string_data.count(x)== 1 else False for x in string_data])\n",
        "\n",
        "print(f\"Algorism -> {is_isogram('Algorism')}\")\n",
        "\n",
        "print(f\"PasSword ->{is_isogram('PasSword')}\")\n",
        "\n",
        "print(f\"Consecutive -> {is_isogram('Consecutive')}\")"
      ],
      "metadata": {
        "id": "G9NeLuP23mwD",
        "colab": {
          "base_uri": "https://localhost:8080/"
        },
        "outputId": "f5dc1124-dada-4fe9-8da7-3e16df33d2df"
      },
      "execution_count": 4,
      "outputs": [
        {
          "output_type": "stream",
          "name": "stdout",
          "text": [
            "Algorism True\n",
            "PasSword True\n",
            "Consecutive False\n"
          ]
        }
      ]
    },
    {
      "cell_type": "markdown",
      "source": [
        "Question5</br>\n",
        "Create a function that takes a string and returns True or False, depending on </br>whether the characters are in order or not.</br>\n",
        "Examples</br>\n",
        "is_in_order(\"abc\") ➞ True</br>\n",
        "\n",
        "is_in_order(\"edabit\") ➞ False</br>\n",
        "\n",
        "is_in_order(\"123\") ➞ True</br>\n",
        "\n",
        "is_in_order(\"xyzz\") ➞ True</br>\n",
        "Notes</br>\n",
        "You don't have to handle empty strings.\n",
        "</br>"
      ],
      "metadata": {
        "id": "-qDe7emV2Nm6"
      }
    },
    {
      "cell_type": "code",
      "execution_count": 11,
      "metadata": {
        "id": "nylHpec8pzt7",
        "colab": {
          "base_uri": "https://localhost:8080/"
        },
        "outputId": "491d091f-2f76-41af-fa1b-6a7ab88d406a"
      },
      "outputs": [
        {
          "output_type": "stream",
          "name": "stdout",
          "text": [
            " abc -> True\n",
            " edabit -> False\n",
            " 123 -> True\n",
            " xyzz ->True\n"
          ]
        }
      ],
      "source": [
        "def is_in_order(data):\n",
        "    sorted_data = \"\".join(sorted(data))\n",
        "    \n",
        "    if data == sorted_data:\n",
        "        return True\n",
        "    else:\n",
        "        return False\n",
        "print(f' abc -> {is_in_order(\"abc\")}')\n",
        "print(f' edabit -> {is_in_order(\"edabit\")}')\n",
        "print(f' 123 -> {is_in_order(\"123\")}')\n",
        "print(f' xyzz ->{is_in_order(\"xyzz\")}')"
      ]
    }
  ]
}