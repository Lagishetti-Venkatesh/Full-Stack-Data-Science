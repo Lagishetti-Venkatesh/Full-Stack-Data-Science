{
  "nbformat": 4,
  "nbformat_minor": 0,
  "metadata": {
    "colab": {
      "name": "Assignment_15.ipynb",
      "provenance": [],
      "collapsed_sections": []
    },
    "kernelspec": {
      "name": "python3",
      "display_name": "Python 3"
    },
    "language_info": {
      "name": "python"
    }
  },
  "cells": [
    {
      "cell_type": "markdown",
      "source": [
        "<p>1. Please write a program using generator to print the numbers which can be </br>divisible by 5 and 7 between 0 and n in comma separated form while n is </br>input by console ?</br>\n",
        "Example:</br>\n",
        "If the following n is given as input to the program: 100</br>\n",
        "Then, the output of the program should be: 0,35,70</p>"
      ],
      "metadata": {
        "id": "7MVl1FggmT43"
      }
    },
    {
      "cell_type": "code",
      "execution_count": null,
      "metadata": {
        "id": "5su-l6nDop48",
        "colab": {
          "base_uri": "https://localhost:8080/"
        },
        "outputId": "23734073-ac06-4147-fbc1-f9f7ab5be7a0"
      },
      "outputs": [
        {
          "output_type": "stream",
          "name": "stdout",
          "text": [
            "0,35,70, None\n"
          ]
        }
      ],
      "source": [
        "def generate_div_by_5_7(num):\n",
        "    for i in range( num):\n",
        "        if i%5 == 0 and i%7==0:\n",
        "            print(i,end=',')\n",
        "            \n",
        "print(f' {generate_div_by_5_7(100)}')"
      ]
    },
    {
      "cell_type": "markdown",
      "source": [
        "<p>2. Please write a program using generator to print the even numbers between\n",
        "</br> 0 and n in comma separated form while n is input by console ?</br> \n",
        "Example:</br> \n",
        "If the following n is given as input to the program: 10</br> \n",
        "Then, the output of the program should be: 0,2,4,6,8,10</p>"
      ],
      "metadata": {
        "id": "MPePCG0cmh2Y"
      }
    },
    {
      "cell_type": "code",
      "source": [
        "def even_numbers(num):\n",
        "    return [i for i in range(num) if i%2 ==0 ]\n",
        "    \n",
        "even_numbers(int(input(\"Enter the integer input: \")))"
      ],
      "metadata": {
        "id": "PejZbF_jmiNx",
        "colab": {
          "base_uri": "https://localhost:8080/"
        },
        "outputId": "3816d2a4-40f3-4854-964d-5791eb78a300"
      },
      "execution_count": null,
      "outputs": [
        {
          "name": "stdout",
          "output_type": "stream",
          "text": [
            "Enter the integer input: 10\n"
          ]
        },
        {
          "output_type": "execute_result",
          "data": {
            "text/plain": [
              "[0, 2, 4, 6, 8]"
            ]
          },
          "metadata": {},
          "execution_count": 11
        }
      ]
    },
    {
      "cell_type": "markdown",
      "source": [
        "<p>3.The Fibonacci Sequence is computed based on the following formula below, \n",
        "</br>Please write a program using list comprehension to print the Fibonacci Sequence</br> in comma separated form with a given n input by console ?</br>\n",
        "f(n)=0 if n=0</br>\n",
        "f(n)=1 if n=1</br>\n",
        "f(n)=f(n-1)+f(n-2) if n>1</p>"
      ],
      "metadata": {
        "id": "DQ9vDIrFmikV"
      }
    },
    {
      "cell_type": "code",
      "source": [
        "def genFibonaci(in_num):\n",
        "    if in_num == 0:\n",
        "        return 0\n",
        "    elif in_num == 1:\n",
        "        return 1\n",
        "    else:\n",
        "        return genFibonaci(in_num-1)+genFibonaci(in_num-2)\n",
        "    \n",
        "print([genFibonaci(x) for x in range(5)])"
      ],
      "metadata": {
        "id": "-SK0t6TmmjEK",
        "colab": {
          "base_uri": "https://localhost:8080/"
        },
        "outputId": "acdd0884-9be1-4faf-bed6-08244265c844"
      },
      "execution_count": null,
      "outputs": [
        {
          "output_type": "stream",
          "name": "stdout",
          "text": [
            "[0, 1, 1, 2, 3]\n"
          ]
        }
      ]
    },
    {
      "cell_type": "markdown",
      "source": [
        "<p>4. Assuming that we have some email addresses in the \"username@companyname.com\"</br> format, please write program to print the user name of a given email address. </br>Both user names and company names are composed of letters only ?\n",
        "</br>Example:</br>\n",
        "If the following email address is given as input to the program: john@google.com</br>\n",
        "Then, the output of the program should be: john</p>"
      ],
      "metadata": {
        "id": "3XC1hmEMnOsB"
      }
    },
    {
      "cell_type": "code",
      "source": [
        "def extract_name(email):\n",
        "    return email.split('@')[0]\n",
        "\n",
        "print(f\" john@google.com ==> {extract_name('john@google.com')}\")\n"
      ],
      "metadata": {
        "id": "FnxAF7RAnl9n",
        "colab": {
          "base_uri": "https://localhost:8080/"
        },
        "outputId": "cb4e460f-4205-47bf-c58c-9cc0a839444b"
      },
      "execution_count": null,
      "outputs": [
        {
          "output_type": "stream",
          "name": "stdout",
          "text": [
            "  john@google.com ==> john\n"
          ]
        }
      ]
    },
    {
      "cell_type": "markdown",
      "source": [
        "<p>5. Define a class named Shape and its subclass Square. The Square class has </br>an init function which takes a length as argument. Both classes have a \n",
        "</br>area function which can print the area of the shape where Shape's area is 0 by default.</p>"
      ],
      "metadata": {
        "id": "aF2SfU57noQh"
      }
    },
    {
      "cell_type": "code",
      "source": [
        "class shape:\n",
        "    def area(self):\n",
        "        return 0\n",
        "\n",
        "class square(shape):\n",
        "    def __init__(self, length):\n",
        "        self.length = length\n",
        "    def area(self):\n",
        "        return self.length * self.length\n",
        "sqre = square(25)\n",
        "print(f\" area of square with length {sqre.length}: {sqre.area()}\")"
      ],
      "metadata": {
        "id": "6HE1AJS_npaH",
        "colab": {
          "base_uri": "https://localhost:8080/"
        },
        "outputId": "852443c6-321b-430b-b077-234c00ad534a"
      },
      "execution_count": null,
      "outputs": [
        {
          "output_type": "stream",
          "name": "stdout",
          "text": [
            " area of square with length 25:   625\n"
          ]
        }
      ]
    }
  ]
}