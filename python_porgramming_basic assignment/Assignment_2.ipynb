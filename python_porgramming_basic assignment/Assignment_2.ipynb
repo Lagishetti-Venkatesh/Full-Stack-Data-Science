{
  "nbformat": 4,
  "nbformat_minor": 0,
  "metadata": {
    "colab": {
      "name": "Assignment_2.ipynb",
      "provenance": [],
      "collapsed_sections": []
    },
    "kernelspec": {
      "name": "python3",
      "display_name": "Python 3"
    },
    "language_info": {
      "name": "python"
    }
  },
  "cells": [
    {
      "cell_type": "markdown",
      "source": [
        "1. Write a Python program to convert kilometers to miles?"
      ],
      "metadata": {
        "id": "UiW2-p1wvXmj"
      }
    },
    {
      "cell_type": "code",
      "source": [
        "import pyinputplus\n",
        "\n",
        "#kilometeres in miles.\n",
        "one_km = 0.621371 \n",
        "\n",
        "km = pyinputplus.inputFloat(\"Enter the Km: \")\n",
        "print(\"{0}km == {1} miles: \".format(km, round((km*one_km),4)))"
      ],
      "metadata": {
        "id": "l2s4F0YEvpMA",
        "colab": {
          "base_uri": "https://localhost:8080/"
        },
        "outputId": "97063c01-99cc-4f35-cca5-fefcaaa5b3dc"
      },
      "execution_count": 4,
      "outputs": [
        {
          "output_type": "stream",
          "name": "stdout",
          "text": [
            "Enter the Km: 5\n",
            "5.0km == 3.1069 miles: \n"
          ]
        }
      ]
    },
    {
      "cell_type": "markdown",
      "source": [
        "2. Write a Python program to convert Celsius to Fahrenheit?"
      ],
      "metadata": {
        "id": "FPNTXnzhvXfX"
      }
    },
    {
      "cell_type": "code",
      "source": [
        "#one celsius in fahrenheit\n",
        "one_celsius = 32\n",
        "celsius = pyinputplus.inputFloat(\"Enter the Celsius Value: \")\n",
        "fahrenheit =  round(one_celsius+(celsius*(9/5)), 4)\n",
        "print(\"{0} Celsius = {1} Fahrenheit\".format(celsius,fahrenheit))"
      ],
      "metadata": {
        "id": "fjhEc1byvqBY",
        "colab": {
          "base_uri": "https://localhost:8080/"
        },
        "outputId": "0df31e9e-d37e-44e7-dbc5-d8a10e3b1689"
      },
      "execution_count": 11,
      "outputs": [
        {
          "output_type": "stream",
          "name": "stdout",
          "text": [
            "Enter the Celsius Value: dfd\n",
            "'dfd' is not a float.\n",
            "Enter the Celsius Value: df\n",
            "'df' is not a float.\n",
            "Enter the Celsius Value: 123\n",
            "123.0 Celsius = 253.4 Fahrenheit\n"
          ]
        }
      ]
    },
    {
      "cell_type": "markdown",
      "source": [
        "3. Write a Python program to display calendar?"
      ],
      "metadata": {
        "id": "D1sLr595vXX1"
      }
    },
    {
      "cell_type": "code",
      "source": [
        "import calendar\n",
        "\n",
        "def show_calendar(year):\n",
        "    return calendar.calendar(year)\n",
        "print(show_calendar(pyinputplus.inputInt(\"Please enter a year: \")))"
      ],
      "metadata": {
        "id": "MG51pemHvqgw",
        "colab": {
          "base_uri": "https://localhost:8080/"
        },
        "outputId": "555d3365-101e-478c-8591-fbdf8a7bc3f7"
      },
      "execution_count": 18,
      "outputs": [
        {
          "output_type": "stream",
          "name": "stdout",
          "text": [
            "Please enter a year: 2022\n",
            "                                  2022\n",
            "\n",
            "      January                   February                   March\n",
            "Mo Tu We Th Fr Sa Su      Mo Tu We Th Fr Sa Su      Mo Tu We Th Fr Sa Su\n",
            "                1  2          1  2  3  4  5  6          1  2  3  4  5  6\n",
            " 3  4  5  6  7  8  9       7  8  9 10 11 12 13       7  8  9 10 11 12 13\n",
            "10 11 12 13 14 15 16      14 15 16 17 18 19 20      14 15 16 17 18 19 20\n",
            "17 18 19 20 21 22 23      21 22 23 24 25 26 27      21 22 23 24 25 26 27\n",
            "24 25 26 27 28 29 30      28                        28 29 30 31\n",
            "31\n",
            "\n",
            "       April                      May                       June\n",
            "Mo Tu We Th Fr Sa Su      Mo Tu We Th Fr Sa Su      Mo Tu We Th Fr Sa Su\n",
            "             1  2  3                         1             1  2  3  4  5\n",
            " 4  5  6  7  8  9 10       2  3  4  5  6  7  8       6  7  8  9 10 11 12\n",
            "11 12 13 14 15 16 17       9 10 11 12 13 14 15      13 14 15 16 17 18 19\n",
            "18 19 20 21 22 23 24      16 17 18 19 20 21 22      20 21 22 23 24 25 26\n",
            "25 26 27 28 29 30         23 24 25 26 27 28 29      27 28 29 30\n",
            "                          30 31\n",
            "\n",
            "        July                     August                  September\n",
            "Mo Tu We Th Fr Sa Su      Mo Tu We Th Fr Sa Su      Mo Tu We Th Fr Sa Su\n",
            "             1  2  3       1  2  3  4  5  6  7                1  2  3  4\n",
            " 4  5  6  7  8  9 10       8  9 10 11 12 13 14       5  6  7  8  9 10 11\n",
            "11 12 13 14 15 16 17      15 16 17 18 19 20 21      12 13 14 15 16 17 18\n",
            "18 19 20 21 22 23 24      22 23 24 25 26 27 28      19 20 21 22 23 24 25\n",
            "25 26 27 28 29 30 31      29 30 31                  26 27 28 29 30\n",
            "\n",
            "      October                   November                  December\n",
            "Mo Tu We Th Fr Sa Su      Mo Tu We Th Fr Sa Su      Mo Tu We Th Fr Sa Su\n",
            "                1  2          1  2  3  4  5  6                1  2  3  4\n",
            " 3  4  5  6  7  8  9       7  8  9 10 11 12 13       5  6  7  8  9 10 11\n",
            "10 11 12 13 14 15 16      14 15 16 17 18 19 20      12 13 14 15 16 17 18\n",
            "17 18 19 20 21 22 23      21 22 23 24 25 26 27      19 20 21 22 23 24 25\n",
            "24 25 26 27 28 29 30      28 29 30                  26 27 28 29 30 31\n",
            "31\n",
            "\n"
          ]
        }
      ]
    },
    {
      "cell_type": "markdown",
      "source": [
        "4. Write a Python program to solve quadratic equation?"
      ],
      "metadata": {
        "id": "MG2UvJKNvXO6"
      }
    },
    {
      "cell_type": "code",
      "source": [
        "\n",
        "def quadratic_equation(a, b, c):\n",
        "    try:\n",
        "        desc = (b*b)- (4*a*c)\n",
        "        \n",
        "        if desc == 0:\n",
        "            x1 , x2 = -b/(2 *a), -b/(2 *a)\n",
        "            print(\"Roots are real and equal\")\n",
        "        elif desc> 0:\n",
        "            print(\"Roots are real and different\")\n",
        "            x1 = round((-b + (desc)**(1/2))/(2*a), 4)\n",
        "            x2 = round((-b - (desc)**(1/2))/(2*a), 4)\n",
        "\n",
        "        else:\n",
        "            print(\"Roots are imaginary and different\")\n",
        "            x1 = (-b + (desc)**(1/2))/(2*a)\n",
        "            x2 = 5(-b - (desc)**(1/2))/(2*a)\n",
        "\n",
        "        return x1, x2\n",
        "    except ZeroDivisionError:\n",
        "        print(ZeroDivisionError)\n",
        "\n",
        "\n",
        "a = pyinputplus.inputFloat(\"Enter the a value: \")\n",
        "b = pyinputplus.inputFloat(\"Enter the b value: \")\n",
        "c = pyinputplus.inputFloat(\"Enter the c value: \")\n",
        "print(quadratic_equation(a, b, c))"
      ],
      "metadata": {
        "id": "6rSdhzJbvq7d",
        "colab": {
          "base_uri": "https://localhost:8080/"
        },
        "outputId": "38118fcf-2d30-49b0-ed7a-5835933488e8"
      },
      "execution_count": 24,
      "outputs": [
        {
          "output_type": "stream",
          "name": "stdout",
          "text": [
            "Enter the a value: 4\n",
            "Enter the b value: 12\n",
            "Enter the c value: 2\n",
            "Roots are real and different\n",
            "(-0.1771, -2.8229)\n"
          ]
        }
      ]
    },
    {
      "cell_type": "markdown",
      "source": [
        "5. Write a Python program to swap two variables without temp variable?"
      ],
      "metadata": {
        "id": "aDmeKxotvXF3"
      }
    },
    {
      "cell_type": "code",
      "execution_count": 25,
      "metadata": {
        "id": "tEVRRpwSnEI2",
        "colab": {
          "base_uri": "https://localhost:8080/"
        },
        "outputId": "c2c3a12c-c6d5-4281-860d-03a0ff338d02"
      },
      "outputs": [
        {
          "output_type": "stream",
          "name": "stdout",
          "text": [
            "Enter any data: sample1\n",
            "Enter any data: sample2\n",
            "Before Swapping a = sample1, b = sample2\n",
            "After Swapping a = sample2, b = sample1\n"
          ]
        }
      ],
      "source": [
        "a = input(\"Enter any data: \")\n",
        "b = input(\"Enter any data: \")\n",
        "print(\"Before Swapping a = {0}, b = {1}\".format(a, b))\n",
        "a, b = b, a\n",
        "print(\"After Swapping a = {0}, b = {1}\".format(a, b))"
      ]
    }
  ]
}