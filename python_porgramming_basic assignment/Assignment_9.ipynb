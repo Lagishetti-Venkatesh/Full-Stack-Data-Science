{
  "nbformat": 4,
  "nbformat_minor": 0,
  "metadata": {
    "colab": {
      "name": "Assignment_9.ipynb",
      "provenance": [],
      "collapsed_sections": []
    },
    "kernelspec": {
      "name": "python3",
      "display_name": "Python 3"
    },
    "language_info": {
      "name": "python"
    }
  },
  "cells": [
    {
      "cell_type": "markdown",
      "source": [
        "1. Write a Python program to check if the given number is a Disarium Number?"
      ],
      "metadata": {
        "id": "EUAWu8tO-ISq"
      }
    },
    {
      "cell_type": "code",
      "source": [
        "def disarium_number(number):\n",
        "    k = 1\n",
        "    result = 0\n",
        "    for i in str(number):\n",
        "        result +=int(i)**k\n",
        "        k+=1\n",
        "    if number == result:\n",
        "        return f\"{number} is Disarium Number\"\n",
        "    else:\n",
        "        return f\"{number} Not a Disarium Number\"\n",
        "\n",
        "print(disarium_number(175))\n",
        "print(disarium_number(32))\n",
        "\n"
      ],
      "metadata": {
        "id": "XLNU6vRL-b1G",
        "colab": {
          "base_uri": "https://localhost:8080/"
        },
        "outputId": "c037330f-4231-4189-8b6f-aebfd739d832"
      },
      "execution_count": null,
      "outputs": [
        {
          "output_type": "stream",
          "name": "stdout",
          "text": [
            "175 is Disarium Number\n",
            "32 Not a Disarium Number\n"
          ]
        }
      ]
    },
    {
      "cell_type": "markdown",
      "source": [
        "2. Write a Python program to print all disarium numbers between 1 to 100?"
      ],
      "metadata": {
        "id": "VhiZdXZ7-IL8"
      }
    },
    {
      "cell_type": "code",
      "source": [
        "def disarium_number(number):\n",
        "    k = 1\n",
        "    result = 0\n",
        "    for i in str(number):\n",
        "        result +=int(i)**k\n",
        "        k+=1\n",
        "    if number == result:\n",
        "        return True\n",
        "    else:\n",
        "        return False\n",
        "\n",
        "print(\"disarium numbers within the range 1 to 1000\")\n",
        "for i in range(1, 1000):\n",
        "    if disarium_number(i):\n",
        "        print(i, end=\" \")\n",
        "    "
      ],
      "metadata": {
        "id": "aDSxWGAM-cSB",
        "colab": {
          "base_uri": "https://localhost:8080/"
        },
        "outputId": "db9bc1e5-e6c4-4d00-cea6-0f659a484897"
      },
      "execution_count": null,
      "outputs": [
        {
          "output_type": "stream",
          "name": "stdout",
          "text": [
            "disarium numbers within the range 1 to 1000\n",
            "1 2 3 4 5 6 7 8 9 89 135 175 518 598 "
          ]
        }
      ]
    },
    {
      "cell_type": "markdown",
      "source": [
        "3. Write a Python program to check if the given number is Happy Number?"
      ],
      "metadata": {
        "id": "9F0fYLQo-IF_"
      }
    },
    {
      "cell_type": "code",
      "source": [
        "def is_happy_number(number):\n",
        "    data =set()\n",
        "\n",
        "    while number != 1:\n",
        "        number = sum(int(i)**2 for i in str(number))\n",
        "        if number in data:\n",
        "            return False\n",
        "        data.add(number)\n",
        "    \n",
        "    return True\n",
        "\n",
        "\n",
        "\n",
        "\n",
        "number = int(input(\"Enter a number: \"))\n",
        "if is_happy_number(number):\n",
        "    print(f\"{number} is Happy number. \")\n",
        "else:\n",
        "    print(f\"{number} is not a Happy number.\")"
      ],
      "metadata": {
        "id": "CMTG1Za3-dHM",
        "colab": {
          "base_uri": "https://localhost:8080/"
        },
        "outputId": "ddceb64e-799c-4606-85dc-adbed7b6a0c8"
      },
      "execution_count": 5,
      "outputs": [
        {
          "output_type": "stream",
          "name": "stdout",
          "text": [
            "Enter a number: 23\n",
            "23 is Happy number. \n"
          ]
        }
      ]
    },
    {
      "cell_type": "markdown",
      "source": [
        "4. Write a Python program to print all happy numbers between 1 and 100?"
      ],
      "metadata": {
        "id": "eCLMIF4v-IB5"
      }
    },
    {
      "cell_type": "code",
      "source": [
        "def is_happy_number(number):\n",
        "    data =set()\n",
        "\n",
        "    while number != 1:\n",
        "        number = sum(int(i)**2 for i in str(number))\n",
        "        if number in data:\n",
        "            return False\n",
        "        data.add(number)\n",
        "    \n",
        "    return True\n",
        "\n",
        "for i in range(1, 100+1):\n",
        "    if is_happy_number(i):\n",
        "        print(i, end=\" \")"
      ],
      "metadata": {
        "id": "3oKcgW0F-dkt",
        "colab": {
          "base_uri": "https://localhost:8080/"
        },
        "outputId": "53ad2e2b-110d-47e6-fbad-87df623ddbb6"
      },
      "execution_count": 7,
      "outputs": [
        {
          "output_type": "stream",
          "name": "stdout",
          "text": [
            "1 7 10 13 19 23 28 31 32 44 49 68 70 79 82 86 91 94 97 100 "
          ]
        }
      ]
    },
    {
      "cell_type": "markdown",
      "source": [
        "5. Write a Python program to determine whether the given number is a Harshad Number?"
      ],
      "metadata": {
        "id": "bMxhrHKW-H88"
      }
    },
    {
      "cell_type": "code",
      "source": [
        "def harshad_number(number):\n",
        "\n",
        "    result_sum = sum(int(i) for i in str(number))\n",
        "    if number % result_sum == 0:\n",
        "        return True\n",
        "    else:\n",
        "        return False\n",
        "\n",
        "number = int(input(\"Enter Number: \"))\n",
        "if harshad_number(number):\n",
        "    print(f\"{number} is harshad number \")\n",
        "else:\n",
        "    print(f\"{number} is harshad number \")\n"
      ],
      "metadata": {
        "id": "3PrryaFK-d-B",
        "colab": {
          "base_uri": "https://localhost:8080/"
        },
        "outputId": "b7a647d1-780e-46c5-e6e5-dcfdf3949404"
      },
      "execution_count": 10,
      "outputs": [
        {
          "output_type": "stream",
          "name": "stdout",
          "text": [
            "Enter Number: 156\n",
            "156 is harshad number \n"
          ]
        }
      ]
    },
    {
      "cell_type": "markdown",
      "source": [
        "6. Write a Python program to print all pronic numbers between 1 and 100?"
      ],
      "metadata": {
        "id": "5q-7D3aP-H3i"
      }
    },
    {
      "cell_type": "code",
      "execution_count": 23,
      "metadata": {
        "id": "s06K_181owXp",
        "colab": {
          "base_uri": "https://localhost:8080/"
        },
        "outputId": "f4f0a907-558c-4fd6-e602-ef2f2fbf96f7"
      },
      "outputs": [
        {
          "output_type": "stream",
          "name": "stdout",
          "text": [
            "2 6 12 20 30 42 56 72 90 "
          ]
        }
      ],
      "source": [
        "def pronic_numbers():\n",
        "    for i in range(1, number+1):\n",
        "        result = i * (i+1)\n",
        "        if result <100: \n",
        "            print(i*(i+1), end =\" \")\n",
        "        else:\n",
        "            break\n",
        "pronic_numbers()"
      ]
    }
  ]
}