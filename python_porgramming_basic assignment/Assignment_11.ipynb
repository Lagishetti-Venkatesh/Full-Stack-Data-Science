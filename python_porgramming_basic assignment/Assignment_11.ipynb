{
  "nbformat": 4,
  "nbformat_minor": 0,
  "metadata": {
    "colab": {
      "name": "Assignment_11.ipynb",
      "provenance": [],
      "collapsed_sections": []
    },
    "kernelspec": {
      "name": "python3",
      "display_name": "Python 3"
    },
    "language_info": {
      "name": "python"
    }
  },
  "cells": [
    {
      "cell_type": "markdown",
      "source": [
        "1. Write a Python program to find words which are greater than given length k?"
      ],
      "metadata": {
        "id": "f8kimgct_1lG"
      }
    },
    {
      "cell_type": "code",
      "source": [
        "def words_greater_than_k(words, k):\n",
        "    for i in words.split(\" \"):\n",
        "        if len(i)> k:\n",
        "            print(i, end=\" \")\n",
        "words = input(\"Enter the words: \")\n",
        "k = int(input(\"Enter the K length: \"))\n",
        "words_greater_than_k(words, k)"
      ],
      "metadata": {
        "id": "ExkqHnyMAX4i",
        "colab": {
          "base_uri": "https://localhost:8080/"
        },
        "outputId": "d38c732d-772c-49b7-a16d-c4bd207bb7c6"
      },
      "execution_count": 1,
      "outputs": [
        {
          "output_type": "stream",
          "name": "stdout",
          "text": [
            "Enter the words: wet cat mat life is beautiful\n",
            "Enter the K length: 4\n",
            "beautiful "
          ]
        }
      ]
    },
    {
      "cell_type": "markdown",
      "source": [
        "2. Write a Python program for removing i-th character from a string?"
      ],
      "metadata": {
        "id": "fde0WvEK_1db"
      }
    },
    {
      "cell_type": "code",
      "source": [
        "def remove_ith_character(string, pos):\n",
        "    string_list = list(string)\n",
        "    string_list.pop(pos)\n",
        "    return \"\".join(string_list)\n",
        "    #return string.remove(string[pos])\n",
        "string_data = input(\"Enter the String Data: \")\n",
        "pos = int(input(\"Enter the position: \"))\n",
        "print(f\"Before removing the element at given position: {string_data}\")\n",
        "print(f\"After removing the element at given position: {remove_ith_character(string_data, pos)}\")"
      ],
      "metadata": {
        "id": "cE9J7SE3AYYt",
        "colab": {
          "base_uri": "https://localhost:8080/"
        },
        "outputId": "9ff1c3b2-646c-4750-d5ec-893b829ebf36"
      },
      "execution_count": 23,
      "outputs": [
        {
          "output_type": "stream",
          "name": "stdout",
          "text": [
            "Enter the String Data: sample data to be removed 1\n",
            "Enter the position: -1\n",
            "Before removing the element at given position: sample data to be removed 1\n",
            "After removing the element at given position: sample data to be removed \n"
          ]
        }
      ]
    },
    {
      "cell_type": "markdown",
      "source": [
        "3. Write a Python program to split and join a string?"
      ],
      "metadata": {
        "id": "Ju8iAnAO_1Xr"
      }
    },
    {
      "cell_type": "code",
      "source": [
        "def split_and_join(string_data):\n",
        "    splitted_string = string_data.split(\" \")\n",
        "    joined_data = \"-\".join(splitted_string)\n",
        "    return joined_data\n",
        "string_data = input(\"Enter the String Data: \")\n",
        "print(f\"Data after joining: {split_and_join(string_data)}\")"
      ],
      "metadata": {
        "id": "IjVjQcFCAYvi",
        "colab": {
          "base_uri": "https://localhost:8080/"
        },
        "outputId": "c45e50a2-6f9c-4528-9893-0d406a68247e"
      },
      "execution_count": 26,
      "outputs": [
        {
          "output_type": "stream",
          "name": "stdout",
          "text": [
            "Enter the String Data: sample data to be check split and join\n",
            "Data after joining: sample-data-to-be-check-split-and-join\n"
          ]
        }
      ]
    },
    {
      "cell_type": "markdown",
      "source": [
        "4. Write a Python to check if a given string is binary string or not?"
      ],
      "metadata": {
        "id": "RtOALsod_1RZ"
      }
    },
    {
      "cell_type": "code",
      "source": [
        "def check_binary(binary_string):\n",
        "    flag = 0\n",
        "    for i in binary_string:\n",
        "        if i in ['0', '1']:\n",
        "            flag = 0\n",
        "            continue\n",
        "        else:\n",
        "            flag = 1\n",
        "            break;\n",
        "    return flag\n",
        "string_data = input(\"Enter binary_string: \")\n",
        "\n",
        "if not check_binary(string_data):\n",
        "    print(f\"{string_data} is a binary string \")\n",
        "else:\n",
        "    print(f\"{string_data} is not a binary string\")\n"
      ],
      "metadata": {
        "id": "3pouguIAAZRV",
        "colab": {
          "base_uri": "https://localhost:8080/"
        },
        "outputId": "8b198e0b-2520-4ff3-8d89-ce54377f849d"
      },
      "execution_count": 29,
      "outputs": [
        {
          "output_type": "stream",
          "name": "stdout",
          "text": [
            "Enter binary_string: 1101010\n",
            "1101010is a binary string \n"
          ]
        }
      ]
    },
    {
      "cell_type": "markdown",
      "source": [
        "5. Write a Python program to find uncommon words from two Strings?"
      ],
      "metadata": {
        "id": "rusTQWY8_1Kw"
      }
    },
    {
      "cell_type": "code",
      "source": [
        "def check_uncommon_words(string_data1, string_data2):\n",
        "    set_1 = set(string_data1)\n",
        "    set_2 = set(string_data2)\n",
        "    uncommon_words = set_1.union(set_2).difference(set_1.intersection(set_2))\n",
        "    return uncommon_words\n",
        "\n",
        "string_data1 = input(\"Enter the String data \").split(\" \")\n",
        "string_data2 = input(\"Enter the String data \").split(\" \")\n",
        "print(f\"Uncommon words in two string are {check_uncommon_words(string_data1, string_data2)}\")\n"
      ],
      "metadata": {
        "id": "YJJ5_AcFAZwA",
        "colab": {
          "base_uri": "https://localhost:8080/"
        },
        "outputId": "598b8815-ed71-4c1a-8b24-88541a47bbdb"
      },
      "execution_count": 31,
      "outputs": [
        {
          "name": "stdout",
          "output_type": "stream",
          "text": [
            "Enter the String data cat mat pat fat lot\n",
            "Enter the String data kit pit cat mat fat\n"
          ]
        },
        {
          "output_type": "execute_result",
          "data": {
            "text/plain": [
              "{'kit', 'lot', 'pat', 'pit'}"
            ]
          },
          "metadata": {},
          "execution_count": 31
        }
      ]
    },
    {
      "cell_type": "markdown",
      "source": [
        "6. Write a Python to find all duplicate characters in string?"
      ],
      "metadata": {
        "id": "yV_lgQQn_02Q"
      }
    },
    {
      "cell_type": "code",
      "source": [
        "def find_duplicates(string_data):\n",
        "    duplicates_list = []\n",
        "    unique_elements = set(list(string_data))\n",
        "    for i in unique_elements:\n",
        "        if string_data.count(i) > 1:\n",
        "            duplicates_list.append(i)\n",
        "    return duplicates_list\n",
        "\n",
        "string_data = input(\"Enter the String Data \")\n",
        "print(f\"Dupicate characters within a string: {find_duplicates(string_data)}\")    "
      ],
      "metadata": {
        "id": "JycZ37gSAaKU",
        "colab": {
          "base_uri": "https://localhost:8080/"
        },
        "outputId": "92d51aaf-8e88-4e45-a9b7-39d86c55ae04"
      },
      "execution_count": 34,
      "outputs": [
        {
          "output_type": "stream",
          "name": "stdout",
          "text": [
            "Enter the List something is better than nothing\n",
            "Dupicate characters within a string ['g', 'i', 'n', 't', 'o', ' ', 's', 'h', 'e']\n"
          ]
        }
      ]
    },
    {
      "cell_type": "markdown",
      "source": [
        "7. Write a Python Program to check if a string contains any special character?"
      ],
      "metadata": {
        "id": "kOcTEM8h_ts9"
      }
    },
    {
      "cell_type": "code",
      "execution_count": 35,
      "metadata": {
        "id": "Q2rsFFAEousU",
        "colab": {
          "base_uri": "https://localhost:8080/"
        },
        "outputId": "c028e711-e0f7-4d9b-c9c5-69715bd70143"
      },
      "outputs": [
        {
          "output_type": "stream",
          "name": "stdout",
          "text": [
            "Enter a string with special characters: @consistency  #is !the $key \n",
            "Special Characters within a string are: ['@', '#', '!', '$']\n"
          ]
        }
      ],
      "source": [
        "def Check_special_charaters(string_data):\n",
        "    special_characters = '[@_!#$%^&*()<>?/\\|}{~:]'\n",
        "    special_chars = [i for i in string_data if i in special_characters]\n",
        "    return special_chars\n",
        "\n",
        "string_data = input(\"Enter a string with special characters: \")\n",
        "print(f\"Special Characters within a string are: {Check_special_charaters(string_data)}\")"
      ]
    }
  ]
}