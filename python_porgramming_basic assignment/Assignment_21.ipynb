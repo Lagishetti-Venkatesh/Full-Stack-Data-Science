{
  "nbformat": 4,
  "nbformat_minor": 0,
  "metadata": {
    "colab": {
      "name": "Assignment_21.ipynb",
      "provenance": [],
      "collapsed_sections": []
    },
    "kernelspec": {
      "name": "python3",
      "display_name": "Python 3"
    },
    "language_info": {
      "name": "python"
    }
  },
  "cells": [
    {
      "cell_type": "markdown",
      "source": [
        "Question1</br>\n",
        "Write a function that takes a list and a number as arguments. Add the number to </br>the end of the list, then remove the first element of the list. The </br>function should then return the updated list.</br>\n",
        "Examples</br>\n",
        "next_in_line([5, 6, 7, 8, 9], 1) ➞ [6, 7, 8, 9, 1]</br>\n",
        "\n",
        "next_in_line([7, 6, 3, 23, 17], 10) ➞ [6, 3, 23, 17, 10]</br>\n",
        "\n",
        "next_in_line([1, 10, 20, 42 ], 6) ➞ [10, 20, 42, 6]</br>\n",
        "\n",
        "next_in_line([], 6) ➞ \"No list has been selected\"</br>\n"
      ],
      "metadata": {
        "id": "Rwvytrh50x9w"
      }
    },
    {
      "cell_type": "code",
      "source": [
        "def next_in_line(list_values, number):\n",
        "    if list_values == []:\n",
        "        return \"No list has been selected.\"\n",
        "    else:\n",
        "        del list_values[0]\n",
        "        list_values.append(number)\n",
        "        return list_values\n",
        "\n",
        "print(f' [5, 6, 7, 8, 9], 1 --> {next_in_line([5, 6, 7, 8, 9], 1) }')\n",
        "print(f' [7, 6, 3, 23, 17], 10 --> {next_in_line([7, 6, 3, 23, 17], 10)}')\n",
        "print(f' [1, 10, 20, 42 ], 6 {next_in_line([1, 10, 20, 42 ], 6)}')\n",
        "print(f' [], 6  --> {next_in_line([], 6)}')"
      ],
      "metadata": {
        "id": "ddsImDsP1Al3",
        "colab": {
          "base_uri": "https://localhost:8080/"
        },
        "outputId": "df2a005a-abfe-4264-b5b0-cd2d10277bf0"
      },
      "execution_count": 2,
      "outputs": [
        {
          "output_type": "stream",
          "name": "stdout",
          "text": [
            " [5, 6, 7, 8, 9], 1 --> [6, 7, 8, 9, 1]\n",
            " [7, 6, 3, 23, 17], 10 --> [6, 3, 23, 17, 10]\n",
            " [1, 10, 20, 42 ], 6 [10, 20, 42, 6]\n",
            " [], 6  --> No list has been selected.\n"
          ]
        }
      ]
    },
    {
      "cell_type": "markdown",
      "source": [
        "Question2</br>\n",
        "Create the function that takes a list of dictionaries and returns the sum of </br>people's budgets.</br>\n",
        "Examples</br>\n",
        "get_budgets([</br>\n",
        "  { \"name\": \"John\", \"age\": 21, \"budget\": 23000 },</br>\n",
        "  { \"name\": \"Steve\",  \"age\": 32, \"budget\": 40000 },</br>\n",
        "  { \"name\": \"Martin\",  \"age\": 16, \"budget\": 2700 }</br>\n",
        "]) ➞ 65700</br>\n",
        "\n",
        "get_budgets([</br>\n",
        "  { \"name\": \"John\",  \"age\": 21, \"budget\": 29000 },</br>\n",
        "  { \"name\": \"Steve\",  \"age\": 32, \"budget\": 32000 },</br>\n",
        "  { \"name\": \"Martin\",  \"age\": 16, \"budget\": 1600 }</br>\n",
        "]) ➞ 62600</br>\n"
      ],
      "metadata": {
        "id": "Q-QgOfV00x2R"
      }
    },
    {
      "cell_type": "code",
      "source": [
        "def get_budgets(dict_values):\n",
        "    sum = 0\n",
        "    for i in dict_values:\n",
        "        sum+=i[\"budget\"]\n",
        "    return sum\n",
        "\n",
        "dict_1 = [\n",
        "{ \"name\": \"John\", \"age\": 21, \"budget\": 23000 },\n",
        "{ \"name\": \"Steve\", \"age\": 32, \"budget\": 40000 },\n",
        "{ \"name\": \"Martin\", \"age\": 16, \"budget\": 2700 }\n",
        "]\n",
        "dict_2 = [\n",
        "{ \"name\": \"John\", \"age\": 21, \"budget\": 29000 },\n",
        "{ \"name\": \"Steve\", \"age\": 32, \"budget\": 32000 },\n",
        "{ \"name\": \"Martin\", \"age\": 16, \"budget\": 1600 }\n",
        "]\n",
        "print(f'Budget of dict 1 {get_budgets(dict_1)}')\n",
        "print(f'Budget of dict 2 {get_budgets(dict_2)}' )"
      ],
      "metadata": {
        "id": "GQ9p0rDK1SFy",
        "colab": {
          "base_uri": "https://localhost:8080/"
        },
        "outputId": "2407e53f-39f4-478c-903e-84ad72eb619b"
      },
      "execution_count": 8,
      "outputs": [
        {
          "output_type": "stream",
          "name": "stdout",
          "text": [
            "Budget of dict 1 65700\n",
            "Budget of dict 2 62600\n"
          ]
        }
      ]
    },
    {
      "cell_type": "markdown",
      "source": [
        "Question3</br>\n",
        "Create a function that takes a string and returns a string with its letters in </br>alphabetical order.</br>\n",
        "Examples</br>\n",
        "alphabet_soup(\"hello\") ➞ \"ehllo\"</br>\n",
        "\n",
        "alphabet_soup(\"edabit\") ➞ \"abdeit\"</br>\n",
        "\n",
        "alphabet_soup(\"hacker\") ➞ \"acehkr\"</br>\n",
        "\n",
        "alphabet_soup(\"geek\") ➞ \"eegk\"</br>\n",
        "\n",
        "alphabet_soup(\"javascript\") ➞ \"aacijprstv\"</br>"
      ],
      "metadata": {
        "id": "WO9vtgZH0xqy"
      }
    },
    {
      "cell_type": "code",
      "source": [
        "def alphabet_soup(string_data):\n",
        "    return \"\".join(sorted(string_data))\n",
        "\n",
        "print(f'hello --> {alphabet_soup(\"hello\")}')\n",
        "print(f'edabit --> {alphabet_soup(\"edabit\")}')\n",
        "print(f'hacker--> {alphabet_soup(\"hacker\")}')\n",
        "print(f'geek --> {alphabet_soup(\"geek\")}')\n",
        "print(f'javascript--> {alphabet_soup(\"javascript\") }')"
      ],
      "metadata": {
        "id": "pAxYcxy71j8r",
        "colab": {
          "base_uri": "https://localhost:8080/"
        },
        "outputId": "c7a79dca-a8d8-4ccb-fba5-a548ae9f4e47"
      },
      "execution_count": 10,
      "outputs": [
        {
          "output_type": "stream",
          "name": "stdout",
          "text": [
            "hello --> ehllo\n",
            "edabit --> abdeit\n",
            "hacker--> acehkr\n",
            "geek --> eegk\n",
            "javascript--> aacijprstv\n"
          ]
        }
      ]
    },
    {
      "cell_type": "markdown",
      "source": [
        "Question4</br>\n",
        "Suppose that you invest $10,000 for 10 years at an interest rate of 6% </br>compounded monthly. What will be the value of your investment at the end of the 10 year period?</br>\n",
        "Create a function that accepts the principal p, the term in years t, the </br>interest rate r, and the number of compounding periods per year n. The </br>function returns the value at the end of term rounded to the nearest cent.</br>\n",
        "For the example above:</br>\n",
        "compound_interest(10000, 10, 0.06, 12) ➞ 18193.97</br>\n",
        "Note that the interest rate is given as a decimal and n=12 because with monthly</br> compounding there are 12 periods per year. Compounding can also be done annually, quarterly, weekly, or daily.</br>\n",
        "Examples</br>\n",
        "compound_interest(100, 1, 0.05, 1) ➞ 105.0</br>\n",
        "\n",
        "compound_interest(3500, 15, 0.1, 4) ➞ 15399.26</br>\n",
        "\n",
        "compound_interest(100000, 20, 0.15, 365) ➞ 2007316.26</br>\n"
      ],
      "metadata": {
        "id": "2zdAEgCX0xcv"
      }
    },
    {
      "cell_type": "code",
      "source": [
        "def compound_interest(principal, term, interest_rate , years):\n",
        "    ci = principal* (1 + (interest_rate/years))**(years*term)\n",
        "    return round(ci, 2)\n",
        "\n",
        "print(f'  compound_interest(100, 1, 0.05, 1) => {compound_interest(100, 1, 0.05, 1)}')\n",
        "print(f'  compound_interest(3500, 15, 0.1, 4)=> {compound_interest(3500, 15, 0.1, 4)}')\n",
        "print(f'  compound_interest(100000, 20, 0.15, 365)=>{compound_interest(100000, 20, 0.15, 365)}')"
      ],
      "metadata": {
        "id": "ycDd2kLt2Cym",
        "colab": {
          "base_uri": "https://localhost:8080/"
        },
        "outputId": "5f8d9ca9-0c66-4f98-f381-838ed0ebb927"
      },
      "execution_count": 11,
      "outputs": [
        {
          "output_type": "stream",
          "name": "stdout",
          "text": [
            "  compound_interest(100, 1, 0.05, 1) => 105.0\n",
            "  compound_interest(3500, 15, 0.1, 4)=> 15399.26\n",
            "  compound_interest(100000, 20, 0.15, 365)=>2007316.26\n"
          ]
        }
      ]
    },
    {
      "cell_type": "markdown",
      "source": [
        "Question5</br>\n",
        "Write a function that takes a list of elements and returns only the integers.\n",
        "Examples</br>\n",
        "return_only_integer([9, 2, \"space\", \"car\", \"lion\", 16]) ➞ [9, 2, 16]</br>\n",
        "\n",
        "return_only_integer([\"hello\", 81, \"basketball\", 123, \"fox\"]) ➞ [81, 123]</br>\n",
        "\n",
        "return_only_integer([10, \"121\", 56, 20, \"car\", 3, \"lion\"]) ➞ [10, 56, 20, 3]</br>\n",
        "\n",
        "return_only_integer([\"String\",  True,  3.3,  1]) ➞ [1]\n",
        "</br>"
      ],
      "metadata": {
        "id": "cxuWU35D0xIH"
      }
    },
    {
      "cell_type": "code",
      "execution_count": 13,
      "metadata": {
        "id": "6_mbuMQ7p0Sj",
        "colab": {
          "base_uri": "https://localhost:8080/"
        },
        "outputId": "203ea71c-0555-4def-a452-735490b893a4"
      },
      "outputs": [
        {
          "output_type": "stream",
          "name": "stdout",
          "text": [
            " [9, 2, \"space\", \"car\", \"lion\", 16] => [9, 2, 16]\n",
            " [\"hello\", 81, \"basketball\", 123, \"fox\"] => [81, 123]\n",
            " [10, \"121\", 56, 20, \"car\", 3, \"lion\"] => [10, 56, 20, 3]\n",
            " [\"String\", True, 3.3, 1] => [1]\n"
          ]
        }
      ],
      "source": [
        "def return_only_integer(list_values):\n",
        "    integer_list = []\n",
        "    for i in list_values:\n",
        "        if type(i) == int:\n",
        "            integer_list.append(int(i))\n",
        "    return integer_list\n",
        "\n",
        "print(f' [9, 2, \"space\", \"car\", \"lion\", 16] => {return_only_integer([9, 2, \"space\", \"car\", \"lion\", 16])}')\n",
        "print(f' [\"hello\", 81, \"basketball\", 123, \"fox\"] => {return_only_integer([\"hello\", 81, \"basketball\", 123, \"fox\"])}')\n",
        "print(f' [10, \"121\", 56, 20, \"car\", 3, \"lion\"] => {return_only_integer([10, \"121\", 56, 20, \"car\", 3, \"lion\"])}')\n",
        "print(f' [\"String\", True, 3.3, 1] => {return_only_integer([\"String\", True, 3.3, 1])}')\n"
      ]
    },
    {
      "cell_type": "code",
      "source": [
        ""
      ],
      "metadata": {
        "id": "xewIa0d7Dyzm"
      },
      "execution_count": null,
      "outputs": []
    }
  ]
}