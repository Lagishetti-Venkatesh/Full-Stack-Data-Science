{
  "nbformat": 4,
  "nbformat_minor": 0,
  "metadata": {
    "colab": {
      "name": "Assignment_14.ipynb",
      "provenance": [],
      "collapsed_sections": []
    },
    "kernelspec": {
      "name": "python3",
      "display_name": "Python 3"
    },
    "language_info": {
      "name": "python"
    }
  },
  "cells": [
    {
      "cell_type": "markdown",
      "source": [
        "1. Define a class with a generator which can iterate the numbers, which are divisible by 7, between a given range 0 and n. ?"
      ],
      "metadata": {
        "id": "Fr2l-yc6VKjd"
      }
    },
    {
      "cell_type": "code",
      "execution_count": 4,
      "metadata": {
        "id": "HQb3cOpZosLS",
        "colab": {
          "base_uri": "https://localhost:8080/"
        },
        "outputId": "648fde5f-ce0d-4d8d-dceb-562ce02627ee"
      },
      "outputs": [
        {
          "output_type": "stream",
          "name": "stdout",
          "text": [
            "Enter any integer value: 40\n",
            "[0, 7, 14, 21, 28, 35]\n"
          ]
        }
      ],
      "source": [
        "def divisible_by_7(n):\n",
        "    return [i for i in range(n) if i%7==0 ]\n",
        "print(f'{divisible_by_7(int(input(\"Enter any integer value: \")))}')"
      ]
    },
    {
      "cell_type": "markdown",
      "source": [
        "<p>2. Write a program to compute the frequency of the words from the input.</br> The output should output after sorting the key alphanumerically.</br> \n",
        "Suppose the following input is supplied to the program:</br> \n",
        "New to Python or choosing between Python 2 and Python 3? \n",
        "Read Python 2 or Python 3.</br> \n",
        "Then, the output should be:</br> \n",
        "2:2 </br> 3.:1</br>  3?:1</br>  New:1</br>  Python:5</br>  Read:1 </br> and:1</br>  between:1</br>  choosing:1</br>  or:2</br>  to:1</p>"
      ],
      "metadata": {
        "id": "eEMxO7BSVPjl"
      }
    },
    {
      "cell_type": "code",
      "source": [
        "def frequencey_count(string_data):\n",
        "    list_of_words = string_data.split(\" \")\n",
        "    unique = set(list_of_words)\n",
        "    for i in sorted(unique):\n",
        "        print(f'{i}: {list_of_words.count(i)}')\n",
        "frequencey_count(\"New to Python or choosing between Python 2 and Python 3? Read Python 2 or Python 3\")"
      ],
      "metadata": {
        "id": "iZjhmCs8VO6s",
        "colab": {
          "base_uri": "https://localhost:8080/"
        },
        "outputId": "c94ad0ac-67be-4662-db10-a4837bce4655"
      },
      "execution_count": 8,
      "outputs": [
        {
          "output_type": "stream",
          "name": "stdout",
          "text": [
            "2: 2\n",
            "3: 1\n",
            "3?: 1\n",
            "New: 1\n",
            "Python: 5\n",
            "Read: 1\n",
            "and: 1\n",
            "between: 1\n",
            "choosing: 1\n",
            "or: 2\n",
            "to: 1\n"
          ]
        }
      ]
    },
    {
      "cell_type": "markdown",
      "source": [
        "<p>3. Define a class Person and its two child classes:</br> Male and Female. </br>All classes have a method \"getGender\" which can print</br> \"Male\" for Male class and \"Female\" for Female class. ?</p>"
      ],
      "metadata": {
        "id": "92fhJwfwVwWf"
      }
    },
    {
      "cell_type": "code",
      "source": [
        "class Person:\n",
        "    pass\n",
        "class Male(Person):\n",
        "    def getGender():\n",
        "        return 'Male'\n",
        "\n",
        "class Female(Person):\n",
        "    def getGender():\n",
        "        return 'Female'\n",
        "\n",
        "print(f'{Male.getGender()}')\n",
        "print(f'{Female.getGender()}')"
      ],
      "metadata": {
        "id": "y3cVuzHbWICG",
        "colab": {
          "base_uri": "https://localhost:8080/"
        },
        "outputId": "9d077eac-584a-4986-a43e-27ce40951bdc"
      },
      "execution_count": 11,
      "outputs": [
        {
          "output_type": "stream",
          "name": "stdout",
          "text": [
            "Male\n",
            "Female\n"
          ]
        }
      ]
    },
    {
      "cell_type": "markdown",
      "source": [
        "<p>4. Please write a program to generate all sentences where subject is in </br>[\"I\", \"You\"] and verb is in [\"Play\", \"Love\"] and the object is in [\"Hockey\",\"Football\"] ?</p>"
      ],
      "metadata": {
        "id": "qe8ra-e0VOm5"
      }
    },
    {
      "cell_type": "code",
      "source": [
        "l1 = [\"I\", \"You\"]\n",
        "l2 = [\"Play\", \"Love\"]\n",
        "l3 = [\"Hockey\",\"Football\"]\n",
        "for i in l1:\n",
        "    for j in l2:\n",
        "        for k in l3:\n",
        "            print(i, j, k)"
      ],
      "metadata": {
        "id": "pptxn-dFWXjC",
        "colab": {
          "base_uri": "https://localhost:8080/"
        },
        "outputId": "0dfabf1b-3b29-4cb7-9149-0d1b24dc06e5"
      },
      "execution_count": 13,
      "outputs": [
        {
          "output_type": "stream",
          "name": "stdout",
          "text": [
            "I Play Hockey\n",
            "I Play Football\n",
            "I Love Hockey\n",
            "I Love Football\n",
            "You Play Hockey\n",
            "You Play Football\n",
            "You Love Hockey\n",
            "You Love Football\n"
          ]
        }
      ]
    },
    {
      "cell_type": "markdown",
      "source": [
        "5. Please write a program to compress and decompress the string \"hello world!hello world!hello world!hello world!\" ?"
      ],
      "metadata": {
        "id": "dk8ZbRX2WYHs"
      }
    },
    {
      "cell_type": "code",
      "source": [
        "import zlib\n",
        "string_data = 'hello world!hello world!hello world!hello world!'\n",
        "\n",
        "\n",
        "def compress(string_data):\n",
        "    a = bytes(str, 'utf-8')\n",
        "    b = zlib.compress(a)\n",
        "    print(b)\n",
        "    return b\n",
        "\n",
        "def decompress(compressed_string):\n",
        "    return zlib.decompress(compressed_string)\n",
        "\n",
        "compress_data = compress(string_data)\n",
        "\n",
        "print(compress_data)\n",
        "\n",
        "print(decompress(compress_data))\n"
      ],
      "metadata": {
        "id": "xJkJ6JdbWezA",
        "colab": {
          "base_uri": "https://localhost:8080/"
        },
        "outputId": "b322746f-a62d-4664-d9dc-e8d8f89c2162"
      },
      "execution_count": 1,
      "outputs": [
        {
          "output_type": "stream",
          "name": "stdout",
          "text": [
            "hel2o world!hel2o world!hel2o world!hel2o world!\n",
            "hello world!hello world!hello world!hello world!\n",
            "ineuron ful2 stack datascience\n",
            "ineuron full stack datascience\n"
          ]
        }
      ]
    },
    {
      "cell_type": "markdown",
      "source": [
        "6. Please write a binary search function which searches an item in a sorted list. The function should return the index of element to be searched in the list ?"
      ],
      "metadata": {
        "id": "rSb2UxyQWfdr"
      }
    },
    {
      "cell_type": "code",
      "source": [
        "\n",
        "def binary_search(in_list,in_num):\n",
        "    low = 0\n",
        "    high = len(in_list)-1\n",
        "    while low <= high:\n",
        "        mid = high+low//2\n",
        "        if in_list[mid] < in_num:\n",
        "            low = mid+1\n",
        "        elif in_list[mid] > in_num:\n",
        "            high = mid-1\n",
        "        else:\n",
        "            return mid\n",
        "    else:\n",
        "        return 'Input Element not in the list'\n",
        "\n",
        "sorted_list = [1,2,3,4,5,6,7,8,9,10]\n",
        "print(binary_search(sorted_list,8))\n",
        "print(binary_search(sorted_list,100))"
      ],
      "metadata": {
        "id": "HVGzwB16Xes1",
        "colab": {
          "base_uri": "https://localhost:8080/"
        },
        "outputId": "f7a7b4d3-77bf-4434-b5a2-2af8e52db6ba"
      },
      "execution_count": 2,
      "outputs": [
        {
          "output_type": "stream",
          "name": "stdout",
          "text": [
            "7\n",
            "Input Element not in the list\n"
          ]
        }
      ]
    },
    {
      "cell_type": "code",
      "source": [
        ""
      ],
      "metadata": {
        "id": "XSahZEafw3Bh"
      },
      "execution_count": null,
      "outputs": []
    }
  ]
}