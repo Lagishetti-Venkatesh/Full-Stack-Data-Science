{
  "nbformat": 4,
  "nbformat_minor": 0,
  "metadata": {
    "colab": {
      "name": "Assignment_23.ipynb",
      "provenance": [],
      "collapsed_sections": []
    },
    "kernelspec": {
      "name": "python3",
      "display_name": "Python 3"
    },
    "language_info": {
      "name": "python"
    }
  },
  "cells": [
    {
      "cell_type": "markdown",
      "source": [
        "Question 1</br>\n",
        "Create a function that takes a number as an argument and returns True or False </br>depending on whether the number is symmetrical or not. A number is</br> symmetrical when it is the same as its reverse.</br>\n",
        "Examples</br>\n",
        "is_symmetrical(7227) ➞ True</br>\n",
        "\n",
        "is_symmetrical(12567) ➞ False</br>\n",
        "\n",
        "is_symmetrical(44444444) ➞ True</br>\n",
        "\n",
        "is_symmetrical(9939) ➞ False</br>\n",
        "\n",
        "is_symmetrical(1112111) ➞ True</br>\n"
      ],
      "metadata": {
        "id": "qKsxrz2w4B7y"
      }
    },
    {
      "cell_type": "code",
      "source": [
        "def is_symmetrical(number):\n",
        "    number = str(number)\n",
        "    if number == number[::-1]:\n",
        "        return True\n",
        "    else:\n",
        "        return False\n",
        "\n",
        "\n",
        "print(f\"7227 : {is_symmetrical(7227)}\")\n",
        "print(f\"12567 :{is_symmetrical(12567)}\")\n",
        "print(f\"44444444 :{is_symmetrical(44444444)}\")\n",
        "print(f\"9939 : {is_symmetrical(9939)}\")\n",
        "print(f\"1112111 : {is_symmetrical(1112111)}\")"
      ],
      "metadata": {
        "id": "l0KO0lMZ4RX_",
        "colab": {
          "base_uri": "https://localhost:8080/"
        },
        "outputId": "a95ed772-0609-486b-8041-692c245b678c"
      },
      "execution_count": 5,
      "outputs": [
        {
          "output_type": "stream",
          "name": "stdout",
          "text": [
            "7227 : True\n",
            "12567 :False\n",
            "44444444 :True\n",
            "9939 : False\n",
            "1112111 : True\n"
          ]
        }
      ]
    },
    {
      "cell_type": "markdown",
      "source": [
        "Question 2</br>\n",
        "Given a string of numbers separated by a comma and space, return the product of the numbers.</br>\n",
        "Examples</br>\n",
        "multiply_nums(\"2, 3\") ➞ 6</br>\n",
        "\n",
        "multiply_nums(\"1, 2, 3, 4\") ➞ 24</br>\n",
        "\n",
        "multiply_nums(\"54, 75, 453, 0\") ➞ 0</br>\n",
        "\n",
        "multiply_nums(\"10, -2\") ➞ -20</br>\n"
      ],
      "metadata": {
        "id": "65mcuC_m4Bzw"
      }
    },
    {
      "cell_type": "code",
      "source": [
        "def multiply_nums(string_data):\n",
        "    list_values = [int(i) for i in string_data.split(\",\")]\n",
        "    result = 1\n",
        "    for i in list_values:\n",
        "        result*=i\n",
        "    return result\n",
        "print(f'product: {multiply_nums(\"2, 3\")}')\n",
        "print(f'product: {multiply_nums(\"1, 2, 3, 4\")}')\n",
        "print(f'product: {multiply_nums(\"54, 75, 453, 0\")}')\n",
        "print(f'product: {multiply_nums(\"10, -2\")}')"
      ],
      "metadata": {
        "id": "OVz_7eMB4aa5",
        "colab": {
          "base_uri": "https://localhost:8080/"
        },
        "outputId": "ed387bba-ce23-4621-c86e-fc69e9c470f6"
      },
      "execution_count": 6,
      "outputs": [
        {
          "output_type": "stream",
          "name": "stdout",
          "text": [
            "product: 6\n",
            "product: 24\n",
            "product: 0\n",
            "product: -20\n"
          ]
        }
      ]
    },
    {
      "cell_type": "markdown",
      "source": [
        "Question 3</br>\n",
        "Create a function that squares every digit of a number.</br>\n",
        "Examples</br>\n",
        "square_digits(9119) ➞ 811181</br>\n",
        "\n",
        "square_digits(2483) ➞ 416649</br>\n",
        "\n",
        "square_digits(3212) ➞ 9414</br>\n",
        "Notes</br>\n",
        "The function receives an integer and must return an integer.</br>"
      ],
      "metadata": {
        "id": "xSD1eqtB4Bwt"
      }
    },
    {
      "cell_type": "code",
      "source": [
        "def square_digits(number):\n",
        "    data = str(number)\n",
        "    modified_data = \"\"\n",
        "    for i in data:\n",
        "        modified_data += str(int(i)**2)\n",
        "\n",
        "    return int(modified_data)\n",
        "\n",
        "print(f\"square digits of 9119: {square_digits(9119)}\")\n",
        "print(f\"square digits of 2483: {square_digits(2483)}\")\n",
        "print(f\"square difits of 3212: {square_digits(3212)}\")\n"
      ],
      "metadata": {
        "id": "HBR4SriZ4lOb",
        "colab": {
          "base_uri": "https://localhost:8080/"
        },
        "outputId": "ad590cce-5636-4028-ce30-069d179b7fb7"
      },
      "execution_count": 7,
      "outputs": [
        {
          "output_type": "stream",
          "name": "stdout",
          "text": [
            "square digits of 9119: 811181\n",
            "square digits of 2483: 416649\n",
            "square difits of 3212: 9414\n"
          ]
        }
      ]
    },
    {
      "cell_type": "markdown",
      "source": [
        "Question 4</br>\n",
        "Create a function that sorts a list and removes all duplicate items from it.\n",
        "Examples</br>\n",
        "setify([1, 3, 3, 5, 5]) ➞ [1, 3, 5]\n",
        "</br>\n",
        "setify([4, 4, 4, 4]) ➞ [4]\n",
        "</br>\n",
        "setify([5, 7, 8, 9, 10, 15]) ➞ [5, 7, 8, 9, 10, 15]\n",
        "</br>\n",
        "setify([3, 3, 3, 2, 1]) ➞ [1, 2, 3]\n",
        "</br>"
      ],
      "metadata": {
        "id": "4_Af4CZo4BtR"
      }
    },
    {
      "cell_type": "code",
      "source": [
        "def setify(list_data):\n",
        "    return set(list_data)\n",
        "\n",
        "print(f\"unique values from list: {setify([1, 3, 3, 5, 5])}\")\n",
        "print(f\"unique values from list: {setify([4, 4, 4, 4])}\")\n",
        "print(f\"unique values from list: {setify([5, 7, 8, 9, 10, 15])} \")\n",
        "print(f\"unique values from list: {setify([3, 3, 3, 2, 1])}\")"
      ],
      "metadata": {
        "colab": {
          "base_uri": "https://localhost:8080/"
        },
        "id": "qnQIgePo4u1b",
        "outputId": "e54f882f-a861-4f94-f8e5-ca094c535dce"
      },
      "execution_count": 8,
      "outputs": [
        {
          "output_type": "stream",
          "name": "stdout",
          "text": [
            "unique values from list: {1, 3, 5}\n",
            "unique values from list: {4}\n",
            "unique values from list: {5, 7, 8, 9, 10, 15} \n",
            "unique values from list: {1, 2, 3}\n"
          ]
        }
      ]
    },
    {
      "cell_type": "markdown",
      "source": [
        "Question 5</br>\n",
        "Create a function that returns the mean of all digits.</br>\n",
        "Examples</br>\n",
        "mean(42) ➞ 3</br>\n",
        "</br>\n",
        "mean(12345) ➞ 3</br>\n",
        "\n",
        "mean(666) ➞ 6</br>\n",
        "Notes</br>\n",
        "    • The mean of all digits is the sum of digits / how many digits there are</br> (e.g. mean of digits in 512 is (5+1+2)/3(number of digits) = 8/3=2).\n",
        "    • The mean will always be an integer.\n"
      ],
      "metadata": {
        "id": "EiTkVUTP4BqS"
      }
    },
    {
      "cell_type": "code",
      "execution_count": 9,
      "metadata": {
        "id": "iWfL20KOpzDx",
        "colab": {
          "base_uri": "https://localhost:8080/"
        },
        "outputId": "974f27ad-63b5-448c-87d1-3355ab995667"
      },
      "outputs": [
        {
          "output_type": "stream",
          "name": "stdout",
          "text": [
            "mean 42 is 3\n",
            "mean 12345 is 3\n",
            "mean 666 is 6\n"
          ]
        }
      ],
      "source": [
        "def mean(number):\n",
        "    count = 0\n",
        "    sum = 0\n",
        "    for i in str(number):\n",
        "        sum+=int(i)\n",
        "        count+=1\n",
        "    return round(sum/count)\n",
        "print(f\"mean 42 is {mean(42)}\")\n",
        "print(f\"mean 12345 is {mean(12345)}\")\n",
        "print(f\"mean 666 is {mean(666)}\")\n"
      ]
    }
  ]
}