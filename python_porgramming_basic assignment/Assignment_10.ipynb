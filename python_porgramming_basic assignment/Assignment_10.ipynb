{
  "nbformat": 4,
  "nbformat_minor": 0,
  "metadata": {
    "colab": {
      "name": "Assignment_10.ipynb",
      "provenance": [],
      "collapsed_sections": []
    },
    "kernelspec": {
      "name": "python3",
      "display_name": "Python 3"
    },
    "language_info": {
      "name": "python"
    }
  },
  "cells": [
    {
      "cell_type": "markdown",
      "source": [
        "1. Write a Python program to find sum of elements in list?"
      ],
      "metadata": {
        "id": "0nCOsCVW-2JG"
      }
    },
    {
      "cell_type": "code",
      "source": [
        "def sum_of_elements(*list_data):\n",
        "    return sum(list_data)\n",
        "\n",
        "print(f\"result is {sum_of_elements(1, 2, 3, 4, 5, 6, 7)}\")"
      ],
      "metadata": {
        "id": "ZzEXVMjn_m54",
        "colab": {
          "base_uri": "https://localhost:8080/"
        },
        "outputId": "bcb2e0bd-4834-447a-b2ec-c4475aaa22a0"
      },
      "execution_count": 7,
      "outputs": [
        {
          "output_type": "stream",
          "name": "stdout",
          "text": [
            "result is 28\n"
          ]
        }
      ]
    },
    {
      "cell_type": "markdown",
      "source": [
        "2. Write a Python program to  Multiply all numbers in the list?"
      ],
      "metadata": {
        "id": "dJmZRB21-12E"
      }
    },
    {
      "cell_type": "code",
      "source": [
        "def multiplication_of_elements(*list_data):\n",
        "    result = 1\n",
        "    for i in list_data:\n",
        "        result*=i\n",
        "    return result\n",
        "print(f'result is  {multiplication_of_elements(1, 2, 3, 4, 5, 6, 7, 8)}')"
      ],
      "metadata": {
        "id": "Zsh_lZZF_mpS",
        "colab": {
          "base_uri": "https://localhost:8080/"
        },
        "outputId": "8f5313e3-ca80-459a-daac-0a518cd7b16f"
      },
      "execution_count": 8,
      "outputs": [
        {
          "output_type": "stream",
          "name": "stdout",
          "text": [
            "result is  40320\n"
          ]
        }
      ]
    },
    {
      "cell_type": "markdown",
      "source": [
        "3. Write a Python program to find smallest number in a list?"
      ],
      "metadata": {
        "id": "d06ihrm0-1tO"
      }
    },
    {
      "cell_type": "code",
      "source": [
        "def min_in_list(*list_data):\n",
        "    return min(list_data)\n",
        "\n",
        "print(f'min value is {min_in_list(23, 34, 65, 78, 89, 20, 32)}')"
      ],
      "metadata": {
        "id": "yNs-jLX3_ln8",
        "colab": {
          "base_uri": "https://localhost:8080/"
        },
        "outputId": "3940eb07-0092-4425-be4a-6d986096b6d1"
      },
      "execution_count": 9,
      "outputs": [
        {
          "output_type": "stream",
          "name": "stdout",
          "text": [
            "20\n"
          ]
        }
      ]
    },
    {
      "cell_type": "markdown",
      "source": [
        "4. Write a Python program to find largest number in a list?"
      ],
      "metadata": {
        "id": "31QoxwhW-1ih"
      }
    },
    {
      "cell_type": "code",
      "source": [
        "def max_in_list(*list_data):\n",
        "    return max(list_data)\n",
        "    \n",
        "print(f'max value is {max_in_list(12, 23, 43, 56, 1012, 2312)}')"
      ],
      "metadata": {
        "id": "z3MRanpJ_lHB",
        "colab": {
          "base_uri": "https://localhost:8080/"
        },
        "outputId": "2189b101-0c75-4979-affc-82face0b3a58"
      },
      "execution_count": 11,
      "outputs": [
        {
          "output_type": "stream",
          "name": "stdout",
          "text": [
            "max value is 2312\n"
          ]
        }
      ]
    },
    {
      "cell_type": "markdown",
      "source": [
        "5. Write a Python program to find second largest number in a list?"
      ],
      "metadata": {
        "id": "J_YooJg2-1Zm"
      }
    },
    {
      "cell_type": "code",
      "source": [
        "def second_largest(*list_data):\n",
        "    return sorted(list_data, reverse=True)[1]\n",
        "print(f\"Second Largest is {second_largest(1, 2, 3, 4, 5, 7, 23, 34)} \")"
      ],
      "metadata": {
        "id": "mEkEm_So_kpf",
        "colab": {
          "base_uri": "https://localhost:8080/"
        },
        "outputId": "e94fc800-b255-4ea1-8d9d-6cafaadbe7d5"
      },
      "execution_count": 12,
      "outputs": [
        {
          "output_type": "stream",
          "name": "stdout",
          "text": [
            "Second Largest is 23 \n"
          ]
        }
      ]
    },
    {
      "cell_type": "markdown",
      "source": [
        "6. Write a Python program to find N largest elements from a list?"
      ],
      "metadata": {
        "id": "zEXKB-Le-1Ss"
      }
    },
    {
      "cell_type": "code",
      "source": [
        "def n_largest_elements(n, *list_data):\n",
        "    return sorted(list_data, reverse=True)[0:n]\n",
        "\n",
        "print(f'n largest numbers in list {n_largest_elements(4, 23, 34, 45, 56, 23, 123, 23, 45, 45, 98)}')"
      ],
      "metadata": {
        "id": "_2PtFACh_kKZ",
        "colab": {
          "base_uri": "https://localhost:8080/"
        },
        "outputId": "019d22b1-6f2f-49b0-ecde-df6fe54dc95b"
      },
      "execution_count": 14,
      "outputs": [
        {
          "output_type": "stream",
          "name": "stdout",
          "text": [
            "n largest numbers in list [123, 98, 56, 45]\n"
          ]
        }
      ]
    },
    {
      "cell_type": "markdown",
      "source": [
        "7. Write a Python program to print even numbers in a list?"
      ],
      "metadata": {
        "id": "zFZZNtSK-1LA"
      }
    },
    {
      "cell_type": "code",
      "source": [
        "\n",
        "def even_numbers(list_data):\n",
        "    return [i for i in list_data if i%2 == 0]\n",
        "\n",
        "print(f\"even numbers : {even_numbers(list(range(30)))} \")"
      ],
      "metadata": {
        "id": "oR6BD3EM_jbD",
        "colab": {
          "base_uri": "https://localhost:8080/"
        },
        "outputId": "9b62321c-8db6-4ea0-f4d3-3cb2311c0fb7"
      },
      "execution_count": 27,
      "outputs": [
        {
          "output_type": "stream",
          "name": "stdout",
          "text": [
            "even numbers : [0, 2, 4, 6, 8, 10, 12, 14, 16, 18, 20, 22, 24, 26, 28] \n"
          ]
        }
      ]
    },
    {
      "cell_type": "markdown",
      "source": [
        "8. Write a Python program to print odd numbers in a List?"
      ],
      "metadata": {
        "id": "fAJVtbwP-1E6"
      }
    },
    {
      "cell_type": "code",
      "source": [
        "def odd_numbers(list_data):\n",
        "    return [i for i in list_data if i%2 !=0 ]\n",
        "\n",
        "print(f\"odd numbers : {odd_numbers(list(range(30)))} \")"
      ],
      "metadata": {
        "id": "5KruDmbS_iuI",
        "colab": {
          "base_uri": "https://localhost:8080/"
        },
        "outputId": "767fae1a-9aaa-4dd6-f8f8-6605d3d4d7d8"
      },
      "execution_count": 28,
      "outputs": [
        {
          "output_type": "stream",
          "name": "stdout",
          "text": [
            "odd numbers : [1, 3, 5, 7, 9, 11, 13, 15, 17, 19, 21, 23, 25, 27, 29] \n"
          ]
        }
      ]
    },
    {
      "cell_type": "markdown",
      "source": [
        "9. Write a Python program to Remove empty List from List?"
      ],
      "metadata": {
        "id": "nhie5_LD-0xx"
      }
    },
    {
      "cell_type": "code",
      "source": [
        "def remove_empty_list(list_data):\n",
        "    for i in list_data:\n",
        "        if i == []:\n",
        "            list_data.remove([])\n",
        "    return list_data\n",
        "    \n",
        "print(f'list of after removing empty list: {remove_empty_list([[], 1, 23,[],  34])}')\n"
      ],
      "metadata": {
        "id": "90DK8aC7_h_9",
        "colab": {
          "base_uri": "https://localhost:8080/"
        },
        "outputId": "27943f62-0bd4-4505-bc20-8b08b1ac1a48"
      },
      "execution_count": 49,
      "outputs": [
        {
          "output_type": "stream",
          "name": "stdout",
          "text": [
            "list of after removing empty list: [1, 23, 34]\n"
          ]
        }
      ]
    },
    {
      "cell_type": "markdown",
      "source": [
        "10. Write a Python program to Cloning or Copying a list?"
      ],
      "metadata": {
        "id": "6reBgYka-0oO"
      }
    },
    {
      "cell_type": "code",
      "source": [
        "def clonning(list_data):\n",
        "    cloned_list = list_data[:]\n",
        "    return cloned_list\n",
        " \n",
        "list_data = [1, 2, 3, 4, 5, 6, 7]\n",
        "print(f\"Before clonning {list_data}\")\n",
        "print(f'After Clonning {clonning(list_data)}')"
      ],
      "metadata": {
        "id": "8vShCClN_hzQ",
        "colab": {
          "base_uri": "https://localhost:8080/"
        },
        "outputId": "dc9549c9-5408-4790-bc74-ad045320d613"
      },
      "execution_count": 51,
      "outputs": [
        {
          "output_type": "stream",
          "name": "stdout",
          "text": [
            "Before clonning [1, 2, 3, 4, 5, 6, 7]\n",
            "After Clonning [1, 2, 3, 4, 5, 6, 7]\n"
          ]
        }
      ]
    },
    {
      "cell_type": "markdown",
      "source": [
        "11. Write a Python program to Count occurrences of an element in a list?"
      ],
      "metadata": {
        "id": "4-NJjtpZ-0dd"
      }
    },
    {
      "cell_type": "code",
      "source": [
        "def element_occurence(element, list_data):\n",
        "    indexes = []\n",
        "    for i in range(len(list_data)):\n",
        "        if list_data[i] == element:\n",
        "            indexes.append(i)\n",
        "    return indexes\n",
        "    \n",
        "print(f\"List of positions of element {element_occurence(3, [1, 2, 3, 4, 5, 6, 7, 8, 9, 3, 5, 3, 67, 3])}\")\n"
      ],
      "metadata": {
        "id": "2OgPH0IL_hdW",
        "colab": {
          "base_uri": "https://localhost:8080/"
        },
        "outputId": "1e1c9ac1-7c56-490c-f45d-aeb8b6adab92"
      },
      "execution_count": 58,
      "outputs": [
        {
          "output_type": "stream",
          "name": "stdout",
          "text": [
            "List of positions of element [2, 9, 11, 13]\n"
          ]
        }
      ]
    }
  ]
}