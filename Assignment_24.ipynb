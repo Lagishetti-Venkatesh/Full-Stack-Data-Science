{
  "nbformat": 4,
  "nbformat_minor": 0,
  "metadata": {
    "colab": {
      "name": "Assignment_24.ipynb",
      "provenance": [],
      "collapsed_sections": []
    },
    "kernelspec": {
      "name": "python3",
      "display_name": "Python 3"
    },
    "language_info": {
      "name": "python"
    }
  },
  "cells": [
    {
      "cell_type": "markdown",
      "source": [
        "1. What is the relationship between def statements and lambda expressions ?"
      ],
      "metadata": {
        "id": "5_99cE1LBukQ"
      }
    },
    {
      "cell_type": "code",
      "source": [
        "\"\"\"\n",
        "Answer:\n",
        " def is used to create a multi-line block of statements within a function.\n",
        " lambda is a single line expression function also called as a anonymous functions.\n",
        " lambda can also be assigned to a variable.\n",
        "\"\"\""
      ],
      "metadata": {
        "id": "kEfmtN7ICcP4"
      },
      "execution_count": null,
      "outputs": []
    },
    {
      "cell_type": "markdown",
      "source": [
        "2. What is the benefit of lambda?"
      ],
      "metadata": {
        "id": "39S7RvulBuZr"
      }
    },
    {
      "cell_type": "code",
      "source": [
        "\"\"\"\n",
        "Answer:\n",
        "1. can be used to define short function within a single line and reuse it.\n",
        "2. can be asssigned as a variable.\n",
        "3. Can be used to create Nameless or Anonymous functions inside some complex functions.\n",
        "\"\"\""
      ],
      "metadata": {
        "id": "9Zx0Np4ICb4w"
      },
      "execution_count": null,
      "outputs": []
    },
    {
      "cell_type": "markdown",
      "source": [
        "3. Compare and contrast map, filter, and reduce."
      ],
      "metadata": {
        "id": "g7TlI4nrBt0b"
      }
    },
    {
      "cell_type": "code",
      "source": [
        "\"\"\"\n",
        "Answer:\n",
        "map    --> will take function and iterables, and applies function to each iterables.\n",
        "            returns the list of modified values.\n",
        "filter --> will take the conditional function and iterables and\n",
        "           returns the list of iterables that satisfies the condition. \n",
        "reduce --> will take the function and iterables. Applies the function to iterables \n",
        "            returns the single value.\n",
        "\"\"\"\n",
        "#Example: \n",
        "from functools import reduce\n",
        "# map function\n",
        "print('Map : ',list(map(lambda x:x+x, [1,2,3,4])))\n",
        "# fitler function\n",
        "print('Filter :',list(filter(lambda x:x%2 !=0, [1,2,3,4])))\n",
        "# reduce function\n",
        "print('Reduce :',reduce(lambda x,y: x+y, [1,2,3,4,5,6]))"
      ],
      "metadata": {
        "id": "Ah1Cqd-wCbdk",
        "colab": {
          "base_uri": "https://localhost:8080/"
        },
        "outputId": "ee216616-ed09-482e-f300-2196a39c724c"
      },
      "execution_count": 3,
      "outputs": [
        {
          "output_type": "stream",
          "name": "stdout",
          "text": [
            "Map :  [2, 4, 6, 8]\n",
            "Filter : [1, 3]\n",
            "Reduce : 21\n"
          ]
        }
      ]
    },
    {
      "cell_type": "markdown",
      "source": [
        "4. What are function annotations, and how are they used?"
      ],
      "metadata": {
        "id": "TQYM7vayBtqb"
      }
    },
    {
      "cell_type": "code",
      "source": [
        "\"\"\"\n",
        "Answer:\n",
        "    function annotations are the ways to specify arguments types and return types.\n",
        "    so at the time of writing them they will get highlighted to support writing code.\n",
        "\n",
        "\"\"\"\n",
        "def sum_of_numbers(x:'int', y:'int')-> 'int':\n",
        "    return x+y\n",
        "    \n",
        "\n",
        "print(sum_of_numbers(2, 3))"
      ],
      "metadata": {
        "id": "HvuQYO8UCa2r",
        "colab": {
          "base_uri": "https://localhost:8080/"
        },
        "outputId": "2fe1d011-c2a6-4735-8d92-b0e1530c387a"
      },
      "execution_count": 13,
      "outputs": [
        {
          "output_type": "stream",
          "name": "stdout",
          "text": [
            "23\n"
          ]
        }
      ]
    },
    {
      "cell_type": "markdown",
      "source": [
        "5. What are recursive functions, and how are they used?"
      ],
      "metadata": {
        "id": "nLtTCBwOBthC"
      }
    },
    {
      "cell_type": "code",
      "source": [
        "\"\"\"\n",
        "Answer:\n",
        "    recursive funtions are the function which calls itself. \n",
        "    Base condition is must for the recursive functions. which checks at every stage of calling. \n",
        "    because without it the function can goto inifinite loop.\n",
        "\"\"\""
      ],
      "metadata": {
        "id": "oktkSYq7CZqT",
        "colab": {
          "base_uri": "https://localhost:8080/",
          "height": 70
        },
        "outputId": "678ed217-296c-45bb-ee9f-875d5fd8c08a"
      },
      "execution_count": 8,
      "outputs": [
        {
          "output_type": "execute_result",
          "data": {
            "text/plain": [
              "'\\nAnswer:\\n    recursive funtions are the function which calls itself. \\n    Base condition is must for the recursive functions. which checks at every stage of calling. \\n    because without it the function can goto inifinite loop.\\n'"
            ],
            "application/vnd.google.colaboratory.intrinsic+json": {
              "type": "string"
            }
          },
          "metadata": {},
          "execution_count": 8
        }
      ]
    },
    {
      "cell_type": "markdown",
      "source": [
        "6. What are some general design guidelines for coding functions?"
      ],
      "metadata": {
        "id": "e-81FINWBtVj"
      }
    },
    {
      "cell_type": "code",
      "source": [
        "\"\"\"\n",
        "Answer:\n",
        "--> Always use a docstring to explain the functionality of the function\n",
        "--> avoid using or limited use of global variables\n",
        "--> Proper Identation to increase the code readability\n",
        "--> try to follow a naming convention for function names (pascalCase or camelCase) and stick with the same convention throughout the application.\n",
        "--> Avoid using digits while choosing a variable name\n",
        "--> try to use a name for the function which conveys the purpose of the function\n",
        "--> Local variables should be named using camelCase format (ex: localVariable) whereas Global variables names should be using PascalCase (ex:GlobalVariable).\n",
        "--> Constant should be represented in allcaps (ex:CONSTANT).\n",
        "\n",
        "\"\"\""
      ],
      "metadata": {
        "id": "F2VIGMctCZRh"
      },
      "execution_count": null,
      "outputs": []
    },
    {
      "cell_type": "markdown",
      "source": [
        "7. Name three or more ways that functions can communicate results to a caller."
      ],
      "metadata": {
        "id": "VXsa9gZ6BtJ6"
      }
    },
    {
      "cell_type": "code",
      "execution_count": null,
      "metadata": {
        "id": "raekuHNGBV5o"
      },
      "outputs": [],
      "source": [
        "\"\"\"\n",
        "Answer:\n",
        "    some of the functions that can communicate results to a caller are: \n",
        "    print, return , yield, input\n",
        "\"\"\""
      ]
    }
  ]
}