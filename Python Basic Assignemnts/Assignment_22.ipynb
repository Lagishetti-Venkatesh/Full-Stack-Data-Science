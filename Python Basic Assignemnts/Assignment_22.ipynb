{
  "nbformat": 4,
  "nbformat_minor": 0,
  "metadata": {
    "colab": {
      "name": "Assignment_22.ipynb",
      "provenance": [],
      "collapsed_sections": []
    },
    "kernelspec": {
      "name": "python3",
      "display_name": "Python 3"
    },
    "language_info": {
      "name": "python"
    }
  },
  "cells": [
    {
      "cell_type": "markdown",
      "source": [
        "1. What is the result of the code, and explain?\n",
        "<p>\n",
        ">>> X = 'iNeuron'<br/>\n",
        ">>> def func():<br/>\n",
        "print(X)<br/>\n",
        ">>> func()\n",
        "</p>"
      ],
      "metadata": {
        "id": "CT68PV_tGHdo"
      }
    },
    {
      "cell_type": "code",
      "source": [
        "\"\"\"\n",
        "result: iNeuron\n",
        "\n",
        "Explanation: X is declared as a global variable. within a function the global variable X is called and\n",
        "             when the function is called the variable will be prinited.  \n",
        "\"\"\""
      ],
      "metadata": {
        "id": "2K_np4rfHd-V",
        "colab": {
          "base_uri": "https://localhost:8080/"
        },
        "outputId": "be856ddd-740e-463b-f7f2-c25e4723a2d2"
      },
      "execution_count": 1,
      "outputs": [
        {
          "output_type": "stream",
          "name": "stdout",
          "text": [
            "iNeuron\n"
          ]
        }
      ]
    },
    {
      "cell_type": "markdown",
      "source": [
        "2. What is the result of the code, and explain?\n",
        "<p>\n",
        ">>> X = 'iNeuron'<br />\n",
        ">>> def func():<br/>\n",
        "X = 'NI!'<br/>\n",
        ">>> func()<br/>\n",
        ">>> print(X)\n",
        "</p>"
      ],
      "metadata": {
        "id": "HWp-GwU-GHSc"
      }
    },
    {
      "cell_type": "code",
      "source": [
        "\"\"\"\n",
        "result: iNeuron\n",
        "\n",
        "Explanation: whatever the changes made within a function those changes will be refelced with a functiion.\n",
        "             variables declared within a function are called local variables.\n",
        "             Here X prints iNeuron beacuse the it is declared as gloabl variable. \n",
        "\n",
        "\n",
        "\"\"\"\n",
        "\n"
      ],
      "metadata": {
        "id": "W-Qr9ENSHfcU",
        "colab": {
          "base_uri": "https://localhost:8080/"
        },
        "outputId": "aeba89eb-b593-4f1b-b23c-9eeb46d2382d"
      },
      "execution_count": 2,
      "outputs": [
        {
          "output_type": "stream",
          "name": "stdout",
          "text": [
            "Ineuron\n"
          ]
        }
      ]
    },
    {
      "cell_type": "markdown",
      "source": [
        "3. What does this code print, and why?\n",
        "<p>\n",
        ">>> X = 'iNeuron'<br/>\n",
        ">>> def func():<br/>\n",
        "X = 'NI'<br/>\n",
        "print(X)<br/>\n",
        ">>> func()<br/>\n",
        ">>> print(X)<br/>\n",
        "</p>"
      ],
      "metadata": {
        "id": "rryNZHqaGHIT"
      }
    },
    {
      "cell_type": "code",
      "source": [
        "\"\"\"\n",
        "result:  Ni, iNeuron\n",
        "\n",
        "Explanation: X is declared as a global variable with a value iNeuron.\n",
        "             changes made within a function are valid within a function itself. so that's why when we acessed the variable within a \n",
        "             function it is printed as Ni, outside the function it is printed as iNeuron.\n",
        "\n",
        "\n",
        "\"\"\"\n"
      ],
      "metadata": {
        "id": "3ZN0OWm8Hg_k",
        "colab": {
          "base_uri": "https://localhost:8080/"
        },
        "outputId": "374e3e32-20e1-450e-9605-bfd25a3450ed"
      },
      "execution_count": 3,
      "outputs": [
        {
          "output_type": "stream",
          "name": "stdout",
          "text": [
            " Ni\n",
            "Ineuron\n"
          ]
        }
      ]
    },
    {
      "cell_type": "markdown",
      "source": [
        "4. What output does this code produce? Why?\n",
        "<p>\n",
        ">>> X = 'iNeuron'<br/>\n",
        ">>> def func():<br/>\n",
        "global X<br/>\n",
        "X = 'NI'<br/>\n",
        ">>> func()<br/>\n",
        ">>> print(X)<br/>\n",
        "</p>"
      ],
      "metadata": {
        "id": "VtETAPyLGG_X"
      }
    },
    {
      "cell_type": "code",
      "source": [
        "\"\"\"\n",
        "result: Ni, Ni\n",
        "\n",
        "Explanation: Here within a function we made the variable global using global keyword such that changes to the variable\n",
        "             within a function are accepted throught the program.\n",
        "\n",
        "\n",
        "\"\"\"\n"
      ],
      "metadata": {
        "id": "NHItPPcmHiTZ"
      },
      "execution_count": null,
      "outputs": []
    },
    {
      "cell_type": "markdown",
      "source": [
        "5. What about this code—what’s the output, and why?\n",
        "<p>\n",
        ">>> X = 'iNeuron'<br/>\n",
        ">>> def func():<br/>\n",
        "X = 'NI'<br/>\n",
        "def nested():<br/>\n",
        "print(X)<br/>\n",
        "nested()<br/>\n",
        ">>> func()<br/>\n",
        ">>> X<br/>\n",
        "</p>"
      ],
      "metadata": {
        "id": "4axZDzzuGG1Z"
      }
    },
    {
      "cell_type": "code",
      "source": [
        "\"\"\"\n",
        "result: iNeuron, iNeuron\n",
        "\n",
        "Explanation: Here in the above code eventhough changes made in func() those changes to the Variable X are limited within that function.\n",
        "             When X is called from nested function it is taking the local value within that function.\n",
        "             when X is called outside of the fuction the global value is accessed. \n",
        "\n",
        "\"\"\"\n",
        "X = \"Ineuron\"\n",
        "def func():\n",
        "    X = \" Ni\"\n",
        "    def nested():\n",
        "        print(X)\n",
        "    nested()\n",
        "func()\n",
        "print(X)\n"
      ],
      "metadata": {
        "id": "dkhLBVL7Hl9v",
        "colab": {
          "base_uri": "https://localhost:8080/"
        },
        "outputId": "e7dd797b-3da6-4d7f-cb7d-5bb2c5b4b7b0"
      },
      "execution_count": 6,
      "outputs": [
        {
          "output_type": "stream",
          "name": "stdout",
          "text": [
            " Ni\n",
            "Ineuron\n"
          ]
        }
      ]
    },
    {
      "cell_type": "markdown",
      "source": [
        "6. How about this code: what is its output in Python 3, and explain?\n",
        "<p>\n",
        ">>> def func():<br/>\n",
        "X = 'NI'<br/>\n",
        "def nested():<br/>\n",
        "nonlocal X<br/>\n",
        "X = 'Spam'<br/>\n",
        "nested()<br/>\n",
        "print(X)<br/>\n",
        ">>> func()<br/>\n",
        "</p>"
      ],
      "metadata": {
        "id": "oRKX-5JbGGrm"
      }
    },
    {
      "cell_type": "code",
      "execution_count": null,
      "metadata": {
        "id": "WpbWiIsXBElg"
      },
      "outputs": [],
      "source": [
        "\"\"\"\n",
        "result: Spam\n",
        "\n",
        "Explanation: using nonlocal keyword we are accessing the upper function variable and making the changes to it.\n",
        "             hence, making the changes to the X variable within a nested function will reflect in the upper function. \n",
        "\n",
        "\n",
        "\"\"\"\n",
        "def func():\n",
        "    X = \" Ni\"\n",
        "    def nested():\n",
        "        nonlocal X\n",
        "        X = \"Spam\"\n",
        "    nested()\n",
        "    print(X)\n",
        "\n",
        "func()\n",
        "\n"
      ]
    }
  ]
}