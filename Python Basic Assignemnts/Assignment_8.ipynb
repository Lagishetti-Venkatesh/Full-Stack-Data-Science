{
  "nbformat": 4,
  "nbformat_minor": 0,
  "metadata": {
    "colab": {
      "name": "Assignment_8.ipynb",
      "provenance": [],
      "collapsed_sections": []
    },
    "kernelspec": {
      "name": "python3",
      "display_name": "Python 3"
    },
    "language_info": {
      "name": "python"
    }
  },
  "cells": [
    {
      "cell_type": "markdown",
      "metadata": {
        "id": "x3p71zBKDaDP"
      },
      "source": [
        "1. Is the Python Standard Library included with PyInputPlus?"
      ]
    },
    {
      "cell_type": "code",
      "metadata": {
        "id": "3OJmsU4tOEm-"
      },
      "source": [
        "'''\n",
        "Answer:\n",
        "No, pyinputplus is a third party library and need to be installed manually.\n",
        "'''"
      ],
      "execution_count": null,
      "outputs": []
    },
    {
      "cell_type": "markdown",
      "metadata": {
        "id": "--aQ4i_ZDZ28"
      },
      "source": [
        "2. Why is PyInputPlus commonly imported with import pyinputplus as pypi?"
      ]
    },
    {
      "cell_type": "code",
      "metadata": {
        "id": "TlWCijNcOFbg"
      },
      "source": [
        "'''\n",
        "Answer:\n",
        "Since, it is not a inbuilt library it is manually imported.\n",
        "'''"
      ],
      "execution_count": null,
      "outputs": []
    },
    {
      "cell_type": "markdown",
      "metadata": {
        "id": "ATX1Aww5DZg3"
      },
      "source": [
        "3. How do you distinguish between inputInt() and inputFloat()?"
      ]
    },
    {
      "cell_type": "code",
      "metadata": {
        "id": "IUKyFDC4OGYb"
      },
      "source": [
        "'''\n",
        "Answer:\n",
        "At the time of taking input from the user \n",
        "inputInt() will accept only Integer values whereas\n",
        "inputFloat will accept only Float values\n",
        "if you enter other values it will again ask the user to enter the correct input.\n",
        "It will continue as long as the user enters the Correct format of input.\n",
        "'''"
      ],
      "execution_count": null,
      "outputs": []
    },
    {
      "cell_type": "markdown",
      "metadata": {
        "id": "waKg7L7xDZSI"
      },
      "source": [
        "4. Using PyInputPlus, how do you ensure that the user enters a whole number between 0 and 99?"
      ]
    },
    {
      "cell_type": "code",
      "metadata": {
        "id": "Cnp7CLVfOH05"
      },
      "source": [
        "'''\n",
        "Answer:\n",
        "inputnum(min, max) --> will take the number between 0, 99.\n",
        "this function takes the min and max values as a arguments.\n",
        "'''"
      ],
      "execution_count": null,
      "outputs": []
    },
    {
      "cell_type": "markdown",
      "metadata": {
        "id": "x218ou-KDZGt"
      },
      "source": [
        "5. What is transferred to the keyword arguments allowRegexes and blockRegexes?"
      ]
    },
    {
      "cell_type": "code",
      "metadata": {
        "id": "o2lCBUTHOIwN"
      },
      "source": [
        "'''\n",
        "Answer:\n",
        "allowRegexes will take the regex expression making sure that user enter the input in that particular format.\n",
        "blockRegexes will take the regex expression making sure that User Won't enter the input in that particular format.\n",
        "'''"
      ],
      "execution_count": null,
      "outputs": []
    },
    {
      "cell_type": "markdown",
      "metadata": {
        "id": "9loO-MFvDY9c"
      },
      "source": [
        "6. If a blank input is entered three times, what does inputStr(limit=3) do?"
      ]
    },
    {
      "cell_type": "code",
      "metadata": {
        "id": "5-WcbAiGOJnb"
      },
      "source": [
        "'''\n",
        "Answer:\n",
        "It will raise RetryLimitException if a blank input is entered 3 times.\n",
        "'''"
      ],
      "execution_count": null,
      "outputs": []
    },
    {
      "cell_type": "markdown",
      "metadata": {
        "id": "T_8EXXVwDYx3"
      },
      "source": [
        "7. If blank input is entered three times, what does inputStr(limit=3, default='hello') do?"
      ]
    },
    {
      "cell_type": "code",
      "metadata": {
        "id": "fgIj0WrbDWXn"
      },
      "source": [
        "'''\n",
        "Answer:\n",
        "It will return default value 'hello' if a blank input is entered 3 times.\n",
        "'''"
      ],
      "execution_count": null,
      "outputs": []
    }
  ]
}