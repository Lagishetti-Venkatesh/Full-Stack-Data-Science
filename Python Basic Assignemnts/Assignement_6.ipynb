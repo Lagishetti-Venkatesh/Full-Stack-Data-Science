{
  "nbformat": 4,
  "nbformat_minor": 0,
  "metadata": {
    "colab": {
      "name": "Assignement_6.ipynb",
      "provenance": [],
      "collapsed_sections": []
    },
    "kernelspec": {
      "name": "python3",
      "display_name": "Python 3"
    },
    "language_info": {
      "name": "python"
    }
  },
  "cells": [
    {
      "cell_type": "markdown",
      "metadata": {
        "id": "3cfXzy5bdaqw"
      },
      "source": [
        "1. What are escape characters, and how do you use them?"
      ]
    },
    {
      "cell_type": "code",
      "metadata": {
        "id": "ZQ1ww1rzeesp"
      },
      "source": [
        "'''\n",
        "Answer:\n",
        "A backslash followed by character is called escape characters each escape \n",
        "characters has its own purpose in programming.\n",
        "\\character \n",
        "eg \\n --> this is new line escape character.\n",
        "\n",
        "'''"
      ],
      "execution_count": null,
      "outputs": []
    },
    {
      "cell_type": "markdown",
      "metadata": {
        "id": "F_nqnN1Rdafq"
      },
      "source": [
        "2. What do the escape characters n and t stand for?"
      ]
    },
    {
      "cell_type": "code",
      "metadata": {
        "id": "6q9rrNvKeb5M"
      },
      "source": [
        "'''\n",
        "Answer:\n",
        "\\n --> new line\n",
        "\\t --> tab \n",
        "'''"
      ],
      "execution_count": null,
      "outputs": []
    },
    {
      "cell_type": "markdown",
      "metadata": {
        "id": "Y4_YD7andaML"
      },
      "source": [
        "3. What is the way to include backslash characters in a string?"
      ]
    },
    {
      "cell_type": "code",
      "metadata": {
        "colab": {
          "base_uri": "https://localhost:8080/"
        },
        "id": "jFgHxR7LeZTY",
        "outputId": "0d961618-04c9-4b95-c818-8a032a4ed861"
      },
      "source": [
        "\n",
        "print(\"this is sample \\'  --> backslash followed single quote \")  \n"
      ],
      "execution_count": null,
      "outputs": [
        {
          "output_type": "stream",
          "name": "stdout",
          "text": [
            "this is sample '  --> backslash followed single quote \n"
          ]
        }
      ]
    },
    {
      "cell_type": "markdown",
      "metadata": {
        "id": "ZN7n_PDadaBi"
      },
      "source": [
        "4. The string \"Howl's Moving Castle\" is a correct value. Why isn't the single quote character in the word Howl's not escaped a problem?"
      ]
    },
    {
      "cell_type": "code",
      "metadata": {
        "id": "GFPb5zI-eXjU"
      },
      "source": [
        "'''\n",
        "Answer:\n",
        "Here at the two terminals of string we used double quotes that's why single quote not escaped a problem. \n",
        "and the same goes for the converse when single quotes used at the terminals and double quote used within a string works.\n",
        "'''"
      ],
      "execution_count": null,
      "outputs": []
    },
    {
      "cell_type": "markdown",
      "metadata": {
        "id": "i_gq3bxjdZ3y"
      },
      "source": [
        "5. How do you write a string of newlines if you don't want to use the n character?"
      ]
    },
    {
      "cell_type": "code",
      "metadata": {
        "id": "Q6_0G6c6eWqK",
        "colab": {
          "base_uri": "https://localhost:8080/"
        },
        "outputId": "6b762f27-8015-4c4c-e39f-c7a1171da32e"
      },
      "source": [
        "'''\n",
        "Answer :\n",
        "Multiline strings allows use to write the the string of newline if we don't want to use the newline character.\n",
        "'''\n",
        "print('''venkatesh is happy\n",
        "to do DataScience''')"
      ],
      "execution_count": null,
      "outputs": [
        {
          "output_type": "stream",
          "name": "stdout",
          "text": [
            "venkatesh is happy\n",
            "to do DataScience\n"
          ]
        }
      ]
    },
    {
      "cell_type": "markdown",
      "metadata": {
        "id": "lgoPBwh5dZti"
      },
      "source": [
        "6. What are the values of the given expressions?\n",
        "\n",
        "'Hello, world!'[1]\n",
        "\n",
        "'Hello, world!'[0:5]\n",
        "\n",
        "'Hello, world!'[:5]\n",
        "\n",
        "'Hello, world!'[3:]\n"
      ]
    },
    {
      "cell_type": "code",
      "metadata": {
        "id": "7FqGA5USeVR_"
      },
      "source": [
        "'''\n",
        "Answer:\n",
        "'Hello, world!'[1] -->  would result 'e'\n",
        "\n",
        "'Hello, world!'[0:5] --> 'Hello'\n",
        "\n",
        "'Hello, world!'[:5]  --> 'Hello'\n",
        "\n",
        "'Hello, world!'[3:]  --> 'lo, world!'\n",
        "\n",
        "'''"
      ],
      "execution_count": null,
      "outputs": []
    },
    {
      "cell_type": "markdown",
      "metadata": {
        "id": "eTlPPeBedZDi"
      },
      "source": [
        "7. What are the values of the following expressions?\n",
        "\n",
        "'Hello'.upper()\n",
        "\n",
        "'Hello'.upper().isupper()\n",
        "\n",
        "'Hello'.upper().lower()\n"
      ]
    },
    {
      "cell_type": "code",
      "metadata": {
        "id": "RjPtf4M3eUa6"
      },
      "source": [
        "'''\n",
        "Answer:\n",
        "'Hello'.upper()  --> 'HELLO'\n",
        "\n",
        "'Hello'.upper().isupper() -->  True\n",
        "\n",
        "'Hello'.upper().lower() --> False\n",
        "\n",
        "'''"
      ],
      "execution_count": null,
      "outputs": []
    },
    {
      "cell_type": "markdown",
      "metadata": {
        "id": "QPPAO7Y2dY_U"
      },
      "source": [
        "8. What are the values of the following expressions?\n",
        "\n",
        "'Remember, remember, the fifth of July.'.split()\n",
        "\n",
        "'-'.join('There can only one.'.split())\n"
      ]
    },
    {
      "cell_type": "code",
      "metadata": {
        "id": "Oi2BLvZkeSNw"
      },
      "source": [
        "'''\n",
        "Answer:\n",
        "'Remember, remember, the fifth of July.'.split()   --> ['Remember,','remember,', 'the', 'fifth', 'of', 'July.']\n",
        "\n",
        "'-'.join('There can only one.'.split())    --> 'There-can-only-one.'\n",
        "'''\n"
      ],
      "execution_count": null,
      "outputs": []
    },
    {
      "cell_type": "markdown",
      "metadata": {
        "id": "TU1akyc8dY5B"
      },
      "source": [
        "9. What are the methods for right-justifying, left-justifying, and centering a string?"
      ]
    },
    {
      "cell_type": "code",
      "metadata": {
        "id": "rV8nXK4heRdC",
        "colab": {
          "base_uri": "https://localhost:8080/"
        },
        "outputId": "76f00fc6-9b91-47f2-9f25-e949952cccab"
      },
      "source": [
        "'''\n",
        "Answer:\n",
        "string.rjust(length, char/symbol) ---> will right-justify.\n",
        "string.ljust(length)  ---> will left justify.\n",
        "'''\n",
        "#Example\n",
        "sample = 'venkatesh'\n",
        "fill = '*'\n",
        "print(sample.rjust(20, fill))\n",
        "print(sample.ljust(20, '@'))"
      ],
      "execution_count": null,
      "outputs": [
        {
          "output_type": "stream",
          "name": "stdout",
          "text": [
            "***********venkatesh\n",
            "venkatesh@@@@@@@@@@@\n"
          ]
        }
      ]
    },
    {
      "cell_type": "markdown",
      "metadata": {
        "id": "tLTWDcc7eNvN"
      },
      "source": [
        "10. What is the best way to remove whitespace characters from the start or end?"
      ]
    },
    {
      "cell_type": "code",
      "metadata": {
        "id": "k3fRlIBhdP_i"
      },
      "source": [
        "'''\n",
        "Answer:\n",
        "string.strip() ---> bydefault will remove the white spaces from the string at the oth ends.\n",
        "string.rstrip() --> to remove the white spaces from the right side of the string.\n",
        "string.lstrip() --> to remove the white spaces form the left side of the string.\n",
        "'''"
      ],
      "execution_count": null,
      "outputs": []
    }
  ]
}