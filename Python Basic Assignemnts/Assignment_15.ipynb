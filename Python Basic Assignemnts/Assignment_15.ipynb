{
  "nbformat": 4,
  "nbformat_minor": 0,
  "metadata": {
    "colab": {
      "name": "Assignment_15.ipynb",
      "provenance": [],
      "collapsed_sections": []
    },
    "kernelspec": {
      "name": "python3",
      "display_name": "Python 3"
    },
    "language_info": {
      "name": "python"
    }
  },
  "cells": [
    {
      "cell_type": "markdown",
      "source": [
        "1.How many seconds are in an hour? Use the interactive interpreter as a calculator and multiply the number of seconds in a minute (60) by the number of minutes in an hour (also 60).\n"
      ],
      "metadata": {
        "id": "suOGFndWgobj"
      }
    },
    {
      "cell_type": "code",
      "source": [
        "#Answer\n",
        "print(60*60)"
      ],
      "metadata": {
        "id": "7i6_TFWbg9aq",
        "colab": {
          "base_uri": "https://localhost:8080/"
        },
        "outputId": "ad0a9c0f-f0ad-4ee6-b336-ad3407da2ddf"
      },
      "execution_count": null,
      "outputs": [
        {
          "output_type": "stream",
          "name": "stdout",
          "text": [
            "3600\n"
          ]
        }
      ]
    },
    {
      "cell_type": "markdown",
      "source": [
        "2. Assign the result from the previous task (seconds in an hour) to a variable called seconds_per_hour."
      ],
      "metadata": {
        "id": "tN4K0uaYgZwn"
      }
    },
    {
      "cell_type": "code",
      "source": [
        "#Answer\n",
        "seconds_per_hour = 60 * 60\n",
        "print(seconds_per_hour)"
      ],
      "metadata": {
        "id": "Wg074GVzg9Em",
        "colab": {
          "base_uri": "https://localhost:8080/"
        },
        "outputId": "ae2ecc98-49ed-41ad-bd7b-a5ff14851f75"
      },
      "execution_count": null,
      "outputs": [
        {
          "output_type": "stream",
          "name": "stdout",
          "text": [
            "3600\n"
          ]
        }
      ]
    },
    {
      "cell_type": "markdown",
      "source": [
        "3. How many seconds do you think there are in a day? Make use of the variables seconds per hour and minutes per hour."
      ],
      "metadata": {
        "id": "KbE9Tmx1gZfH"
      }
    },
    {
      "cell_type": "code",
      "source": [
        "#Answer\n",
        "#per day we will have 24 hours \n",
        "print(seconds_per_hour  * 24)"
      ],
      "metadata": {
        "id": "_rGa_AqGg8r4",
        "colab": {
          "base_uri": "https://localhost:8080/"
        },
        "outputId": "7c5cb19e-2e6f-40bd-ad33-5031ed498975"
      },
      "execution_count": null,
      "outputs": [
        {
          "output_type": "stream",
          "name": "stdout",
          "text": [
            "86400\n"
          ]
        }
      ]
    },
    {
      "cell_type": "markdown",
      "source": [
        "4. Calculate seconds per day again, but this time save the result in a variable called seconds_per_day"
      ],
      "metadata": {
        "id": "OQZJ86LGgZPG"
      }
    },
    {
      "cell_type": "code",
      "source": [
        "#Answer\n",
        "seconds_per_day = seconds_per_hour * 24 \n",
        "print(seconds_per_day)"
      ],
      "metadata": {
        "id": "Z7k8U4USg8ai",
        "colab": {
          "base_uri": "https://localhost:8080/"
        },
        "outputId": "ac7cdee6-a524-4075-c64f-6f25f1cfaeac"
      },
      "execution_count": null,
      "outputs": [
        {
          "output_type": "stream",
          "name": "stdout",
          "text": [
            "86400\n"
          ]
        }
      ]
    },
    {
      "cell_type": "markdown",
      "source": [
        "5. Divide seconds_per_day by seconds_per_hour. Use floating-point (/) division."
      ],
      "metadata": {
        "id": "x_Y2w2YwgY9q"
      }
    },
    {
      "cell_type": "code",
      "source": [
        "#Answer\n",
        "print(seconds_per_day/seconds_per_hour)"
      ],
      "metadata": {
        "id": "gSHO73X3g7wl",
        "colab": {
          "base_uri": "https://localhost:8080/"
        },
        "outputId": "19207636-f20d-4250-e089-3ccc0c73ae45"
      },
      "execution_count": null,
      "outputs": [
        {
          "output_type": "stream",
          "name": "stdout",
          "text": [
            "24.0\n"
          ]
        }
      ]
    },
    {
      "cell_type": "markdown",
      "source": [
        "6. Divide seconds_per_day by seconds_per_hour, using integer (//) division. Did this number agree with the floating-point value from the previous question, aside from the final .0?"
      ],
      "metadata": {
        "id": "_Iw8SXgWgYvF"
      }
    },
    {
      "cell_type": "code",
      "source": [
        "#Answer\n",
        "print(seconds_per_day//seconds_per_hour)\n",
        "# yes the number matches matches with floating point value."
      ],
      "metadata": {
        "id": "s-MhbKhcg7LK",
        "colab": {
          "base_uri": "https://localhost:8080/"
        },
        "outputId": "07c5da57-c09d-477f-c928-28f8877edabd"
      },
      "execution_count": null,
      "outputs": [
        {
          "output_type": "stream",
          "name": "stdout",
          "text": [
            "24\n"
          ]
        }
      ]
    },
    {
      "cell_type": "markdown",
      "source": [
        "7. Write a generator, genPrimes, that returns the sequence of prime numbers on successive calls to its next() method: 2, 3, 5, 7, 11, ...\n",
        "\n"
      ],
      "metadata": {
        "id": "38YwB1rYgYOU"
      }
    },
    {
      "cell_type": "code",
      "source": [
        "!pip install PyInputPlus"
      ],
      "metadata": {
        "id": "u7nBoSKK6Nn3"
      },
      "execution_count": null,
      "outputs": []
    },
    {
      "cell_type": "code",
      "execution_count": null,
      "metadata": {
        "id": "uMYItDVPgNbp",
        "colab": {
          "base_uri": "https://localhost:8080/"
        },
        "outputId": "869c0fa2-1bb3-489f-cddc-ccbc28f17bc6"
      },
      "outputs": [
        {
          "output_type": "stream",
          "name": "stdout",
          "text": [
            "Enter the Largest number below which you want to have primes: sd\n",
            "'sd' is not a number.\n",
            "Enter the Largest number below which you want to have primes: nu\n",
            "'nu' is not a number.\n",
            "Enter the Largest number below which you want to have primes: 76\n",
            "2, 3, 5, 7, 11, 13, 17, 19, 23, 29, 31, 37, 41, 43, 47, 53, 59, 61, 67, 71, 73, "
          ]
        }
      ],
      "source": [
        "#Answer\n",
        "\n",
        "import pyinputplus as pyinput\n",
        "\n",
        "def genPrimes(n):\n",
        "    for i in range(2,n):\n",
        "        k = 0\n",
        "        for j in range(2,i):\n",
        "            if(i%j == 0):\n",
        "                k+=1\n",
        "        if(k==0):\n",
        "            yield(i)\n",
        "            \n",
        "\n",
        "n = pyinput.inputNum(\"Enter the Largest number below which you want to have primes: \")\n",
        "result = genPrimes(n)\n",
        "prime = 1\n",
        "while(prime!= None):\n",
        "    try:\n",
        "        prime = next(result)\n",
        "        print(prime, end = \", \")\n",
        "    except(StopIteration):\n",
        "        break\n"
      ]
    }
  ]
}