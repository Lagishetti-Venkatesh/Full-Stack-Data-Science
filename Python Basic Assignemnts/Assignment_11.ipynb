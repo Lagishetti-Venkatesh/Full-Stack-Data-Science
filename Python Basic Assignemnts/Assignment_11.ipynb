{
  "nbformat": 4,
  "nbformat_minor": 0,
  "metadata": {
    "colab": {
      "name": "Assignment_11.ipynb",
      "provenance": [],
      "collapsed_sections": []
    },
    "kernelspec": {
      "name": "python3",
      "display_name": "Python 3"
    },
    "language_info": {
      "name": "python"
    }
  },
  "cells": [
    {
      "cell_type": "markdown",
      "source": [
        "1. Create an assert statement that throws an AssertionError if the variable spam is a negative integer."
      ],
      "metadata": {
        "id": "ty4rd3hMbEWI"
      }
    },
    {
      "cell_type": "code",
      "source": [
        "#Answer\n",
        "spam = -10\n",
        "assert spam >=0 , \"The Spam Variable should be greater than 10\""
      ],
      "metadata": {
        "id": "pcPvTJRBcXhX"
      },
      "execution_count": null,
      "outputs": []
    },
    {
      "cell_type": "markdown",
      "source": [
        "2. Write an assert statement that triggers an AssertionError if the variables eggs and bacon contain strings that are the same as each other, even if their cases are different (that is, 'hello' and 'hello' are considered the same, and 'goodbye' and 'GOODbye' are also considered the same)."
      ],
      "metadata": {
        "id": "j0QZ4uy9bETH"
      }
    },
    {
      "cell_type": "code",
      "source": [
        "#Answer\n",
        "eggs = \"goodbye\"\n",
        "bacon = \"GOODbye\"\n",
        "assert eggs.lower() == bacon.lower(), \"Both Strings doesn't Contain Same information\""
      ],
      "metadata": {
        "id": "364SkeTccW9i"
      },
      "execution_count": null,
      "outputs": []
    },
    {
      "cell_type": "markdown",
      "source": [
        "3. Create an assert statement that throws an AssertionError every time."
      ],
      "metadata": {
        "id": "tuUE25-kbEPY"
      }
    },
    {
      "cell_type": "code",
      "source": [
        "#Answer\n",
        "assert False , \"This Always throws Assertion Error \""
      ],
      "metadata": {
        "id": "9fkJzti1cWGQ"
      },
      "execution_count": null,
      "outputs": []
    },
    {
      "cell_type": "markdown",
      "source": [
        "4. What are the two lines that must be present in your software in order to call logging.debug()?"
      ],
      "metadata": {
        "id": "4le6pURrbENQ"
      }
    },
    {
      "cell_type": "code",
      "source": [
        "#Answer\n",
        "# The Below are the Two lines that need to be present in the software in ordder to call lgging.debug()\n",
        "\n",
        "import logging\n",
        "\n",
        "logging.basicConfig(level=logging.DEBUG, format=' %(asctime)s -%(levelname)s -  %(message)s')\n",
        "\n",
        "logging.debug( \"Debugging\")"
      ],
      "metadata": {
        "id": "utH84OjdcVdK",
        "colab": {
          "base_uri": "https://localhost:8080/"
        },
        "outputId": "27dca0f1-8bcd-41b7-d50b-0cf8dcbb78cd"
      },
      "execution_count": null,
      "outputs": [
        {
          "output_type": "stream",
          "name": "stderr",
          "text": [
            " 2022-01-25 15:00:43,475 -DEBUG -  Debugging\n"
          ]
        }
      ]
    },
    {
      "cell_type": "markdown",
      "source": [
        "5. What are the two lines that your program must have in order to have logging.debug() send a logging message to a file named programLog.txt?"
      ],
      "metadata": {
        "id": "JRLlR3nXbEIx"
      }
    },
    {
      "cell_type": "code",
      "source": [
        "#Answer\n",
        "#We also need to add filename argument to the logging.basicConfig() function to send a logging message to that particular file name.\n",
        "\n",
        "import logging\n",
        "\n",
        "logging.basicConfig(filename=\"programLog.txt\", level=logging.DEBUG, format=' %(asctime)s -%(levelname)s -  %(message)s')\n",
        "\n",
        "logging.debug(\"Log Message that need to be stored in a file.\")"
      ],
      "metadata": {
        "id": "2KTFMXhCcUzV"
      },
      "execution_count": null,
      "outputs": []
    },
    {
      "cell_type": "markdown",
      "source": [
        "6. What are the five levels of logging?"
      ],
      "metadata": {
        "id": "CE4Dq2D2bEGy"
      }
    },
    {
      "cell_type": "code",
      "source": [
        "'''\n",
        "Answer:\n",
        "DEBUG,ERROR, CRITICAL, INFO, WARNING are the five levels of logging.\n",
        "'''"
      ],
      "metadata": {
        "id": "95PiURoQcUYw"
      },
      "execution_count": null,
      "outputs": []
    },
    {
      "cell_type": "markdown",
      "source": [
        "7. What line of code would you add to your software to disable all logging messages?"
      ],
      "metadata": {
        "id": "AIf_PZuabEC4"
      }
    },
    {
      "cell_type": "code",
      "source": [
        "'''\n",
        "Answer:\n",
        "logging.disable(logging.CRITICAL) --> is used to disable all logging messages.\n",
        "'''"
      ],
      "metadata": {
        "id": "l_J_VTf9cTnp"
      },
      "execution_count": null,
      "outputs": []
    },
    {
      "cell_type": "markdown",
      "source": [
        "8.Why is using logging messages better than using print() to display the same message?"
      ],
      "metadata": {
        "id": "gVb3vDAebEAy"
      }
    },
    {
      "cell_type": "code",
      "source": [
        "'''\n",
        "Answer:\n",
        "Logging Messages allows us to store the Error in specified file with Specific Time stamp.\n",
        "whereas print() --> will just allow us to print the error at particular time of running.\n",
        "'''"
      ],
      "metadata": {
        "id": "nDdFqW4pcTES"
      },
      "execution_count": null,
      "outputs": []
    },
    {
      "cell_type": "markdown",
      "source": [
        "9. What are the differences between the Step Over, Step In, and Step Out buttons in the debugger?"
      ],
      "metadata": {
        "id": "rmSfS5cvbD7g"
      }
    },
    {
      "cell_type": "code",
      "source": [
        "'''\n",
        "Answer:\n",
        "Step over ---> This will execute the function at once.\n",
        "Step in   ---> This Will get into the function and allows us to execute the function step-by-step.\n",
        "step out  ---> This will allow us to come out of the function from any line of function after stepping into it.\n",
        "'''"
      ],
      "metadata": {
        "id": "--jKA70TcSoQ"
      },
      "execution_count": null,
      "outputs": []
    },
    {
      "cell_type": "markdown",
      "source": [
        "10.After you click Continue, when will the debugger stop ?"
      ],
      "metadata": {
        "id": "5cRUqdBXbD4h"
      }
    },
    {
      "cell_type": "code",
      "source": [
        "'''\n",
        "Answer:\n",
        "After we Click Continue the Debugger will stop at the next debugger point.\n",
        "'''"
      ],
      "metadata": {
        "id": "qwbrC6WVcR9P"
      },
      "execution_count": null,
      "outputs": []
    },
    {
      "cell_type": "markdown",
      "source": [
        "11. What is the concept of a breakpoint?"
      ],
      "metadata": {
        "id": "VnyH1KWKbD0m"
      }
    },
    {
      "cell_type": "code",
      "source": [
        "'''\n",
        "Answer:\n",
        "Breakpoint allow us to step the execution of program at certain step in a code and observe if there are any issues to resolve \n",
        "and fix the bugs if raised any.\n",
        "To set a break point in most of the editors you just need to click before line numbers and sometimes it varies from editor to editor\n",
        "'''"
      ],
      "metadata": {
        "id": "1YkLmqEGcREq"
      },
      "execution_count": null,
      "outputs": []
    }
  ]
}