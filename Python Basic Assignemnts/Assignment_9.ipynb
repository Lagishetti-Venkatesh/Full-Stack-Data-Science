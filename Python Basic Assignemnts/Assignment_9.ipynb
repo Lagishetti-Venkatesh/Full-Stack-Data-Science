{
  "nbformat": 4,
  "nbformat_minor": 0,
  "metadata": {
    "colab": {
      "name": "Assignment_9.ipynb",
      "provenance": [],
      "collapsed_sections": []
    },
    "kernelspec": {
      "name": "python3",
      "display_name": "Python 3"
    },
    "language_info": {
      "name": "python"
    }
  },
  "cells": [
    {
      "cell_type": "markdown",
      "metadata": {
        "id": "yjHybSnLD55v"
      },
      "source": [
        "1. To what does a relative path refer?"
      ]
    },
    {
      "cell_type": "code",
      "source": [
        "'''\n",
        "Answer:\n",
        "Relative paths refer to Present working directory.\n",
        "'''"
      ],
      "metadata": {
        "id": "8QvJatxl6lYe"
      },
      "execution_count": null,
      "outputs": []
    },
    {
      "cell_type": "markdown",
      "metadata": {
        "id": "XPsRkVypD5mP"
      },
      "source": [
        "2. What does an absolute path start with your operating system?"
      ]
    },
    {
      "cell_type": "code",
      "source": [
        "'''\n",
        "Answer:\n",
        "Absolute path start from root folder such as C:\\ in windows and home/ in linux."
      ],
      "metadata": {
        "id": "9Xv-i0Fv6nZC"
      },
      "execution_count": null,
      "outputs": []
    },
    {
      "cell_type": "markdown",
      "metadata": {
        "id": "EE4E-VDbD5W7"
      },
      "source": [
        "3. What do the functions os.getcwd() and os.chdir() do?"
      ]
    },
    {
      "cell_type": "code",
      "source": [
        "'''\n",
        "Answer:\n",
        "os.getcwd() will give the current working directory.\n",
        "os.chdir(Path) will change the working directory to the specified path.\n",
        "'''\n"
      ],
      "metadata": {
        "id": "05BaRs8t6oUi"
      },
      "execution_count": null,
      "outputs": []
    },
    {
      "cell_type": "markdown",
      "metadata": {
        "id": "jKwR1A7MD5Gk"
      },
      "source": [
        "4. What are the . and .. folders?"
      ]
    },
    {
      "cell_type": "code",
      "source": [
        "'''\n",
        "Answer:\n",
        ". --> refers to the current working folder.\n",
        ".. --> refers to the previous folder or parent folder."
      ],
      "metadata": {
        "id": "pexKurN16ptK"
      },
      "execution_count": null,
      "outputs": []
    },
    {
      "cell_type": "markdown",
      "metadata": {
        "id": "6euLlS1GD4zM"
      },
      "source": [
        "5. In C:\\bacon\\eggs\\spam.txt, which part is the dir name, and which part is the base name?"
      ]
    },
    {
      "cell_type": "code",
      "source": [
        "'''\n",
        "Answer:\n",
        "C:\\bacon\\eggs referes to directory name\n",
        "spam.txt referes to base name.\n",
        "'''"
      ],
      "metadata": {
        "id": "QttnXK706qZr"
      },
      "execution_count": null,
      "outputs": []
    },
    {
      "cell_type": "markdown",
      "metadata": {
        "id": "GT5JxKb8D31M"
      },
      "source": [
        "6. What are the three “mode” arguments that can be passed to the open() function?"
      ]
    },
    {
      "cell_type": "code",
      "source": [
        "'''\n",
        "Answer:\n",
        "'r' --> Read mode\n",
        "'w' --> write mode\n",
        "'a' --> append mode\n",
        "are the three modes whicha can be passed to open() function for \n",
        "reading, writing and appending\n",
        "\n",
        "'''"
      ],
      "metadata": {
        "id": "T8MT1O8K6q-I"
      },
      "execution_count": null,
      "outputs": []
    },
    {
      "cell_type": "markdown",
      "metadata": {
        "id": "FjTScGP8D3nZ"
      },
      "source": [
        "7. What happens if an existing file is opened in write mode?"
      ]
    },
    {
      "cell_type": "code",
      "source": [
        "'''\n",
        "Answer:\n",
        "the Contents within the file are deleted and new file with the same name is created.\n",
        "'''"
      ],
      "metadata": {
        "id": "t-f4Rh4s6riI"
      },
      "execution_count": null,
      "outputs": []
    },
    {
      "cell_type": "markdown",
      "metadata": {
        "id": "52flgo3oD3Vr"
      },
      "source": [
        "8. How do you tell the difference between read() and readlines()?"
      ]
    },
    {
      "cell_type": "code",
      "source": [
        "'''\n",
        "Answer:\n",
        "read() function will return the text of specified bytes within in it.\n",
        "if not mentioned whole text file content is returned.\n",
        "readlines() function will return the line of text as list.\n",
        "'''"
      ],
      "metadata": {
        "id": "_Ez6hzvX6sCI"
      },
      "execution_count": null,
      "outputs": []
    },
    {
      "cell_type": "markdown",
      "metadata": {
        "id": "-r8li--kD3IK"
      },
      "source": [
        "9. What data structure does a shelf value resemble?"
      ]
    },
    {
      "cell_type": "code",
      "source": [
        "'''\n",
        "Answer:\n",
        "It resembeles a dictionary. it works like a dictionary\n",
        "and has same methods keys() and values() like dictionary.\n",
        "'''"
      ],
      "metadata": {
        "id": "jCcBgu8I6swD"
      },
      "execution_count": null,
      "outputs": []
    }
  ]
}