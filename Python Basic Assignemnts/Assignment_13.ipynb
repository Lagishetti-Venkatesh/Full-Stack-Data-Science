{
  "nbformat": 4,
  "nbformat_minor": 0,
  "metadata": {
    "colab": {
      "name": "Assignment_13.ipynb",
      "provenance": [],
      "collapsed_sections": []
    },
    "kernelspec": {
      "name": "python3",
      "display_name": "Python 3"
    },
    "language_info": {
      "name": "python"
    }
  },
  "cells": [
    {
      "cell_type": "markdown",
      "source": [
        "1. What advantages do Excel spreadsheets have over CSV spreadsheets?"
      ],
      "metadata": {
        "id": "U06CWjKMd1uu"
      }
    },
    {
      "cell_type": "code",
      "source": [
        "'''\n",
        "Answer:\n",
        "CSV contains the string data seperated by comma \n",
        "where as in excel you can have data of different types,\n",
        "as many sheets you want to have, diferent sizes of cells, links \n",
        "and images or charts can be embed into it.\n",
        "'''"
      ],
      "metadata": {
        "id": "OjmlhzxveIJ6"
      },
      "execution_count": null,
      "outputs": []
    },
    {
      "cell_type": "markdown",
      "source": [
        "2.What do you pass to csv.reader() and csv.writer() to create reader and writer objects?"
      ],
      "metadata": {
        "id": "QG9k4muGd1lk"
      }
    },
    {
      "cell_type": "code",
      "source": [
        "'''\n",
        "Answer:\n",
        "an object returned after passing a file name in to the open() function is passed to the\n",
        "csv.reader() in an read mode\n",
        "csv.writer() in an write mode.\n",
        "'''"
      ],
      "metadata": {
        "id": "DLnqN4GjeHpC"
      },
      "execution_count": null,
      "outputs": []
    },
    {
      "cell_type": "markdown",
      "source": [
        "3. What modes do File objects for reader and writer objects need to be opened in?"
      ],
      "metadata": {
        "id": "HzG2_Gpud1dR"
      }
    },
    {
      "cell_type": "code",
      "source": [
        "'''\n",
        "Answer:\n",
        "For reader objects file object need to be opened in read mode 'r'.\n",
        "For Writer objects file object need to be opened in write moder 'w'.\n",
        "\n",
        "'''"
      ],
      "metadata": {
        "id": "NJbS8S-1eHOd"
      },
      "execution_count": null,
      "outputs": []
    },
    {
      "cell_type": "markdown",
      "source": [
        "4. What method takes a list argument and writes it to a CSV file?"
      ],
      "metadata": {
        "id": "TXS8vht3d1UU"
      }
    },
    {
      "cell_type": "code",
      "source": [
        "'''\n",
        "Answer:\n",
        "write_object.writerow(['e1', 'e2']) ---> will take the list argument and write to the csv file. \n",
        "'''"
      ],
      "metadata": {
        "id": "Uw5ZNGkGeGsU"
      },
      "execution_count": null,
      "outputs": []
    },
    {
      "cell_type": "markdown",
      "source": [
        "5. What do the keyword arguments delimiter and line terminator do?"
      ],
      "metadata": {
        "id": "jpAd70Mod0xb"
      }
    },
    {
      "cell_type": "code",
      "source": [
        "'''\n",
        "Answer:\n",
        "delimiter ---> it is used to specify the seperator symbol between two cell in a row.\n",
        "lineterminator  ---> it is used to specify the symbol used for newline or used at every end of the row. \n",
        "'''"
      ],
      "metadata": {
        "id": "rA7J3tbreGN7"
      },
      "execution_count": null,
      "outputs": []
    },
    {
      "cell_type": "markdown",
      "source": [
        "6. What function takes a string of JSON data and returns a Python data structure?"
      ],
      "metadata": {
        "id": "VlD0icy_d0n7"
      }
    },
    {
      "cell_type": "code",
      "source": [
        "'''\n",
        "Answer:\n",
        "json.loads(json string) ---> will take the jason string and returns the python Data structure.\n",
        "'''"
      ],
      "metadata": {
        "id": "3zKGx1KbeF2v"
      },
      "execution_count": null,
      "outputs": []
    },
    {
      "cell_type": "markdown",
      "source": [
        "7. What function takes a Python data structure and returns a string of JSON data?"
      ],
      "metadata": {
        "id": "upxmJUeid0c0"
      }
    },
    {
      "cell_type": "code",
      "execution_count": null,
      "metadata": {
        "id": "DzLqO6-Rdn7P"
      },
      "outputs": [],
      "source": [
        "'''\n",
        "Asnwer:\n",
        "json.dumps(Python_data_structure) will take the python data and returns the string of json.\n",
        "'''"
      ]
    }
  ]
}