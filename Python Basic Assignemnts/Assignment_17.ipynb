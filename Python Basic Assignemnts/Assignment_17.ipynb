{
  "nbformat": 4,
  "nbformat_minor": 0,
  "metadata": {
    "colab": {
      "name": "Assignment_17.ipynb",
      "provenance": [],
      "collapsed_sections": []
    },
    "kernelspec": {
      "name": "python3",
      "display_name": "Python 3"
    },
    "language_info": {
      "name": "python"
    }
  },
  "cells": [
    {
      "cell_type": "markdown",
      "source": [
        "1. Assign the value 7 to the variable guess_me. Then, write the conditional tests (if, else, and elif) to print the string 'too low' if guess_me is less than 7, 'too high' if greater than 7, and 'just right' if equal to 7."
      ],
      "metadata": {
        "id": "iQWd7Iwa1TZA"
      }
    },
    {
      "cell_type": "code",
      "source": [
        "#Answer\n",
        "guess_me = 7\n",
        "if guess_me < 7:\n",
        "    print('too low')\n",
        "elif guess_me > 7:\n",
        "    print('too high')\n",
        "elif(guess_me == 7):\n",
        "    print('just right')"
      ],
      "metadata": {
        "id": "BuQFWQKT2Zeo"
      },
      "execution_count": null,
      "outputs": []
    },
    {
      "cell_type": "markdown",
      "source": [
        "2. Assign the value 7 to the variable guess_me and the value 1 to the variable start. Write a while loop that compares start with guess_me. Print too low if start is less than guess me. If start equals guess_me, print 'found it!' and exit the loop. If start is greater than guess_me, print 'oops' and exit the loop. Increment start at the end of the loop."
      ],
      "metadata": {
        "id": "ksoVOFCz1b0f"
      }
    },
    {
      "cell_type": "code",
      "source": [
        "#Answer:\n",
        "guess_me = 7\n",
        "start = 1\n",
        "while(start < guess_me+1):\n",
        "    if start < guess_me:\n",
        "        print('too_low')\n",
        "    elif(start == guess_me):\n",
        "        print('found it')\n",
        "        break\n",
        "    elif(start > guess_me):\n",
        "        print('oops')\n",
        "        break\n",
        "    start+=1\n",
        "    "
      ],
      "metadata": {
        "id": "qRc2US_b2YCk",
        "colab": {
          "base_uri": "https://localhost:8080/"
        },
        "outputId": "966149e4-f9f1-41d2-afb2-14f30b623016"
      },
      "execution_count": null,
      "outputs": [
        {
          "output_type": "stream",
          "name": "stdout",
          "text": [
            "too_low\n",
            "too_low\n",
            "too_low\n",
            "too_low\n",
            "too_low\n",
            "too_low\n",
            "found it\n"
          ]
        }
      ]
    },
    {
      "cell_type": "markdown",
      "source": [
        "3. Print the following values of the list [3, 2, 1, 0] using a for loop."
      ],
      "metadata": {
        "id": "fBZZfCzt1bnl"
      }
    },
    {
      "cell_type": "code",
      "source": [
        "#Answer:\n",
        "sample = [3, 2, 1, 0]\n",
        "for element in sample:\n",
        "    print(element, end=\", \")"
      ],
      "metadata": {
        "id": "OHjiCYQ92WGH",
        "colab": {
          "base_uri": "https://localhost:8080/"
        },
        "outputId": "9449479a-5c52-4edb-e33b-286fb6fd0173"
      },
      "execution_count": null,
      "outputs": [
        {
          "output_type": "stream",
          "name": "stdout",
          "text": [
            "3, 2, 1, 0, "
          ]
        }
      ]
    },
    {
      "cell_type": "markdown",
      "source": [
        "4. Use a list comprehension to make a list of the even numbers in range(10)"
      ],
      "metadata": {
        "id": "UugcWz7i1bbt"
      }
    },
    {
      "cell_type": "code",
      "source": [
        "#Answer:\n",
        "even_list = [i for i in range(1, 10) if (i%2==0) ]\n",
        "print(even_list)"
      ],
      "metadata": {
        "id": "NVxEjJGB2Vi_",
        "colab": {
          "base_uri": "https://localhost:8080/"
        },
        "outputId": "d8de7a5b-c39a-4e02-eb21-bb40f21f9195"
      },
      "execution_count": null,
      "outputs": [
        {
          "output_type": "stream",
          "name": "stdout",
          "text": [
            "[2, 4, 6, 8]\n"
          ]
        }
      ]
    },
    {
      "cell_type": "markdown",
      "source": [
        "5. Use a dictionary comprehension to create the dictionary squares. Use range(10) to return the keys, and use the square of each key as its value."
      ],
      "metadata": {
        "id": "6G-yTDqX1bJj"
      }
    },
    {
      "cell_type": "code",
      "source": [
        "#Answer:\n",
        "square_dict = {i: i**2 for i in range(10)}\n",
        "print(square_dict)"
      ],
      "metadata": {
        "id": "HFl-Flil2Uo5",
        "colab": {
          "base_uri": "https://localhost:8080/"
        },
        "outputId": "0f438a52-ae97-4ebf-8c3c-6ba03707d753"
      },
      "execution_count": null,
      "outputs": [
        {
          "output_type": "stream",
          "name": "stdout",
          "text": [
            "{0: 0, 1: 1, 2: 4, 3: 9, 4: 16, 5: 25, 6: 36, 7: 49, 8: 64, 9: 81}\n"
          ]
        }
      ]
    },
    {
      "cell_type": "markdown",
      "source": [
        "6. Construct the set odd from the odd numbers in the range using a set comprehension (10)."
      ],
      "metadata": {
        "id": "erl6MzaX1a_A"
      }
    },
    {
      "cell_type": "code",
      "source": [
        "#Answer:\n",
        "odd_set = {i for i in range(10) if (i%2 != 0)}\n",
        "print(odd_set)"
      ],
      "metadata": {
        "id": "zSS1hY-k2Qnu",
        "colab": {
          "base_uri": "https://localhost:8080/"
        },
        "outputId": "f27ceef7-1f76-4ec2-e5ca-efb4e1b90e11"
      },
      "execution_count": null,
      "outputs": [
        {
          "output_type": "stream",
          "name": "stdout",
          "text": [
            "{1, 3, 5, 7, 9}\n"
          ]
        }
      ]
    },
    {
      "cell_type": "markdown",
      "source": [
        "7. Use a generator comprehension to return the string 'Got ' and a number for the numbers in range(10). Iterate through this by using a for loop."
      ],
      "metadata": {
        "id": "9Qj1WpDG1azK"
      }
    },
    {
      "cell_type": "code",
      "source": [
        "#Answer:\n",
        "gen_comp = ('Got_'+str(i) for i in range(10))\n",
        "print(\", \".join(gen_comp))"
      ],
      "metadata": {
        "id": "2Qas4LrO2QNL",
        "colab": {
          "base_uri": "https://localhost:8080/"
        },
        "outputId": "b06cd3af-0b36-46ca-dee0-a42a9223a948"
      },
      "execution_count": null,
      "outputs": [
        {
          "output_type": "stream",
          "name": "stdout",
          "text": [
            "Got_0, Got_1, Got_2, Got_3, Got_4, Got_5, Got_6, Got_7, Got_8, Got_9\n"
          ]
        }
      ]
    },
    {
      "cell_type": "markdown",
      "source": [
        "8. Define a function called good that returns the list ['Harry', 'Ron', 'Hermione']."
      ],
      "metadata": {
        "id": "11yk7FcJ1amF"
      }
    },
    {
      "cell_type": "code",
      "source": [
        "#Answer\n",
        "def good():\n",
        "    return ['Harry', 'Ron', 'Hermione']\n",
        "print(good())"
      ],
      "metadata": {
        "id": "_EULUNQE2Pko",
        "colab": {
          "base_uri": "https://localhost:8080/"
        },
        "outputId": "b3cc108e-d3b1-4c17-9d47-77b2f3ffe30b"
      },
      "execution_count": null,
      "outputs": [
        {
          "output_type": "stream",
          "name": "stdout",
          "text": [
            "['Harry', 'Ron', 'Hermione']\n"
          ]
        }
      ]
    },
    {
      "cell_type": "markdown",
      "source": [
        "9. Define a generator function called get_odds that returns the odd numbers from range(10). Use a for loop to find and print the third value returned."
      ],
      "metadata": {
        "id": "vuB65DqU1aZw"
      }
    },
    {
      "cell_type": "code",
      "source": [
        "#Answer\n",
        "def get_odds():\n",
        "    odd = []\n",
        "    for i in range(10):\n",
        "        if (i%2 != 0):\n",
        "            odd.append(i)\n",
        "\n",
        "    return odd[2]\n",
        "print(get_odds())"
      ],
      "metadata": {
        "id": "hSr14yXE2PAA",
        "colab": {
          "base_uri": "https://localhost:8080/"
        },
        "outputId": "09f6d3db-2999-47e1-fb7c-ea6609228858"
      },
      "execution_count": null,
      "outputs": [
        {
          "output_type": "stream",
          "name": "stdout",
          "text": [
            "5\n"
          ]
        }
      ]
    },
    {
      "cell_type": "markdown",
      "source": [
        "10. Define an exception called OopsException. Raise this exception to see what happens. Then write the code to catch this exception and print 'Caught an oops'."
      ],
      "metadata": {
        "id": "cSMDiK_h1aK5"
      }
    },
    {
      "cell_type": "code",
      "source": [
        "#Answer\n",
        "class OopsException():\n",
        "    pass\n",
        "\n",
        "def sample(n):\n",
        "    if n > 0:\n",
        "        raise OopsException()\n",
        "\n",
        "try:\n",
        "    sample(10)\n",
        "except :\n",
        "    print(\"Caught an oops\")\n"
      ],
      "metadata": {
        "id": "ukYDKFxJ2Odd",
        "colab": {
          "base_uri": "https://localhost:8080/"
        },
        "outputId": "f9649cdc-66ba-4692-acdb-f250571c006d"
      },
      "execution_count": null,
      "outputs": [
        {
          "output_type": "stream",
          "name": "stdout",
          "text": [
            "Number is positive\n"
          ]
        }
      ]
    },
    {
      "cell_type": "markdown",
      "source": [
        "11. Use zip() to make a dictionary called movies that pairs these lists: titles = ['Creature of Habit', 'Crewel Fate'] and plots = ['A nun turns into a monster', 'A haunted yarn shop'].\n",
        "\n"
      ],
      "metadata": {
        "id": "vQhmA7HU1Z03"
      }
    },
    {
      "cell_type": "code",
      "execution_count": null,
      "metadata": {
        "id": "KKb8lSFR1QCR",
        "colab": {
          "base_uri": "https://localhost:8080/"
        },
        "outputId": "42f1849b-0b60-4ed9-b0fa-50dab8a79ce3"
      },
      "outputs": [
        {
          "output_type": "stream",
          "name": "stdout",
          "text": [
            "{'Creature of Habit': 'A nun turns into a monster', 'Crewel Fate': 'A haunted yarn shop'}\n"
          ]
        }
      ],
      "source": [
        "#Answer\n",
        "titles = ['Creature of Habit', 'Crewel Fate']\n",
        "plots = ['A nun turns into a monster', 'A haunted yarn shop']\n",
        "movies = dict(zip(titles,plots))\n",
        "print(movies)"
      ]
    }
  ]
}