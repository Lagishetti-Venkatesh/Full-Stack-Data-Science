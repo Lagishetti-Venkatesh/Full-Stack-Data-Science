{
  "nbformat": 4,
  "nbformat_minor": 0,
  "metadata": {
    "colab": {
      "name": "Assignment_21.ipynb",
      "provenance": [],
      "collapsed_sections": []
    },
    "kernelspec": {
      "name": "python3",
      "display_name": "Python 3"
    },
    "language_info": {
      "name": "python"
    }
  },
  "cells": [
    {
      "cell_type": "markdown",
      "source": [
        "1. Add the current date to the text file today.txt as a string."
      ],
      "metadata": {
        "id": "B_F9OsDr_XuD"
      }
    },
    {
      "cell_type": "code",
      "source": [
        "import datetime\n",
        "\n",
        "date = open('today.txt', 'w')\n",
        "date.write(datetime.datetime.now().strftime('%d-%m-%Y'))\n",
        "date.close()"
      ],
      "metadata": {
        "id": "QsYKxrCdAwQR"
      },
      "execution_count": null,
      "outputs": []
    },
    {
      "cell_type": "markdown",
      "source": [
        "2. Read the text file today.txt into the string today_string"
      ],
      "metadata": {
        "id": "dxzONdn3_W9q"
      }
    },
    {
      "cell_type": "code",
      "source": [
        "date = open('today.txt','r')\n",
        "today_string = date.read()\n",
        "print(today_string)\n",
        "date.close()"
      ],
      "metadata": {
        "id": "uR2Zix8zAxiq",
        "colab": {
          "base_uri": "https://localhost:8080/"
        },
        "outputId": "c54b1913-00a3-43c1-802b-925637f94412"
      },
      "execution_count": null,
      "outputs": [
        {
          "output_type": "stream",
          "name": "stdout",
          "text": [
            "09-02-2022\n"
          ]
        }
      ]
    },
    {
      "cell_type": "markdown",
      "source": [
        "3. Parse the date from today_string."
      ],
      "metadata": {
        "id": "uslFgIZs_WyA"
      }
    },
    {
      "cell_type": "code",
      "source": [
        "from datetime import datetime\n",
        "\n",
        "date = datetime.strptime(today_string, '%d-%m-%Y')\n",
        "print(date)"
      ],
      "metadata": {
        "id": "NfNMGnPVAyeF",
        "colab": {
          "base_uri": "https://localhost:8080/"
        },
        "outputId": "ec93c151-cc24-4b3c-a4e6-38b89ad52dc8"
      },
      "execution_count": null,
      "outputs": [
        {
          "output_type": "stream",
          "name": "stdout",
          "text": [
            "2022-02-09 00:00:00\n"
          ]
        }
      ]
    },
    {
      "cell_type": "markdown",
      "source": [
        "4. List the files in your current directory"
      ],
      "metadata": {
        "id": "TjlokWKG_Wl0"
      }
    },
    {
      "cell_type": "code",
      "source": [
        "import os\n",
        "\n",
        "for folders, subfolders, files in os.walk(os.getcwd()):\n",
        "    for file in files:\n",
        "        print(file)\n"
      ],
      "metadata": {
        "id": "6JDSP0p8Ay-U",
        "colab": {
          "base_uri": "https://localhost:8080/"
        },
        "outputId": "bb1bcb8c-b3e1-44a1-80cf-710305c19ce7"
      },
      "execution_count": null,
      "outputs": [
        {
          "output_type": "stream",
          "name": "stdout",
          "text": [
            "today.txt\n",
            ".last_update_check.json\n",
            ".last_opt_in_prompt.yaml\n",
            "active_config\n",
            ".last_survey_prompt.yaml\n",
            "config_sentinel\n",
            "gce\n",
            "config_default\n",
            "14.30.57.022317.log\n",
            "14.31.40.709264.log\n",
            "14.31.33.364834.log\n",
            "14.31.58.218326.log\n",
            "14.31.16.993813.log\n",
            "14.31.57.576848.log\n",
            "anscombe.json\n",
            "README.md\n",
            "california_housing_train.csv\n",
            "mnist_train_small.csv\n",
            "mnist_test.csv\n",
            "california_housing_test.csv\n"
          ]
        }
      ]
    },
    {
      "cell_type": "markdown",
      "source": [
        "5. Create a list of all of the files in your parent directory (minimum five files should be available)."
      ],
      "metadata": {
        "id": "qic_ayvS_WY7"
      }
    },
    {
      "cell_type": "code",
      "source": [
        "import os\n",
        "print(os.listdir())"
      ],
      "metadata": {
        "id": "78y1RYGFA0Jy",
        "colab": {
          "base_uri": "https://localhost:8080/"
        },
        "outputId": "0ef74607-2f59-4494-9265-a36ec0ce26f2"
      },
      "execution_count": null,
      "outputs": [
        {
          "output_type": "stream",
          "name": "stdout",
          "text": [
            "['.config', 'today.txt', 'sample_data']\n"
          ]
        }
      ]
    },
    {
      "cell_type": "markdown",
      "source": [
        "6. Use multiprocessing to create three separate processes. Make each one wait a random number of seconds between one and five, print the current time, and then exit."
      ],
      "metadata": {
        "id": "9czsa-vK_WM0"
      }
    },
    {
      "cell_type": "code",
      "source": [
        "import multiprocessing\n",
        "import time\n",
        "import datetime\n",
        "import random\n",
        "def processOne():\n",
        "    print(\"process 1 Start Time {0}\".format(datetime.datetime.now()))\n",
        "    time.sleep(random.randint(1,5))\n",
        "    print(\"process 1 End Time {0}\".format(datetime.datetime.now()))\n",
        "\n",
        "def processTwo():\n",
        "    print('process 2 Start Time {0}'.format(datetime.datetime.now()))\n",
        "    time.sleep(random.randint(1,5))\n",
        "    print('process 2 End Time {0}'.format(datetime.datetime.now()))\n",
        "\n",
        "def processThree():\n",
        "    print('process 3 Start Time {0}'.format(datetime.datetime.now()))\n",
        "    time.sleep(random.randint(1,5))\n",
        "    print('process 3 End Time {0}'.format(datetime.datetime.now()))\n",
        "\n",
        "\n",
        "if __name__ == '__main__':\n",
        "    p1 = multiprocessing.Process(target=processOne)\n",
        "    p2 = multiprocessing.Process(target=processTwo)\n",
        "    p3 = multiprocessing.Process(target=processThree)\n",
        "\n",
        "p1.start()\n",
        "p2.start()\n",
        "p3.start()\n",
        "print('\\n\\n')\n",
        "p1.join()\n",
        "p2.join()\n",
        "p3.join()\n"
      ],
      "metadata": {
        "id": "vmDUPs3tA0zy",
        "colab": {
          "base_uri": "https://localhost:8080/"
        },
        "outputId": "0a8acf3a-6811-4697-9342-825cde4f9ac6"
      },
      "execution_count": null,
      "outputs": [
        {
          "output_type": "stream",
          "name": "stdout",
          "text": [
            "process 1 Start Time 2022-02-09 17:13:52.933115\n",
            "process 3 Start Time 2022-02-09 17:13:52.977262\n",
            "process 2 Start Time 2022-02-09 17:13:52.974038\n",
            "\n",
            "\n",
            "\n",
            "process 3 End Time 2022-02-09 17:13:57.000316\n",
            "process 2 End Time 2022-02-09 17:13:57.001074\n",
            "process 1 End Time 2022-02-09 17:13:57.972128\n"
          ]
        }
      ]
    },
    {
      "cell_type": "markdown",
      "source": [
        "7. Create a date object of your day of birth."
      ],
      "metadata": {
        "id": "xBcdElsf_WCZ"
      }
    },
    {
      "cell_type": "code",
      "source": [
        "#Answer\n",
        "from datetime import datetime\n",
        "\n",
        "my_DOB = datetime.strptime('29/12/1997', '%d/%m/%Y')\n",
        "print(my_DOB)"
      ],
      "metadata": {
        "id": "z0ts4ZHGA1zK",
        "colab": {
          "base_uri": "https://localhost:8080/"
        },
        "outputId": "69bac3d4-b86b-4d62-c07e-2e1e094b8328"
      },
      "execution_count": null,
      "outputs": [
        {
          "output_type": "stream",
          "name": "stdout",
          "text": [
            "1997-12-29 00:00:00\n"
          ]
        }
      ]
    },
    {
      "cell_type": "markdown",
      "source": [
        "8. What day of the week was your day of birth?"
      ],
      "metadata": {
        "id": "gURAcNvZ_V4a"
      }
    },
    {
      "cell_type": "code",
      "source": [
        "#Answer\n",
        "from datetime import datetime\n",
        "\n",
        "my_DOB = datetime(1997, 12, 29)\n",
        "print('Day',my_DOB.strftime('%A'))"
      ],
      "metadata": {
        "id": "AqpOiKjjA2j9",
        "colab": {
          "base_uri": "https://localhost:8080/"
        },
        "outputId": "77849244-68d4-40b0-8045-e836835b98fe"
      },
      "execution_count": null,
      "outputs": [
        {
          "output_type": "stream",
          "name": "stdout",
          "text": [
            "Day Monday\n"
          ]
        }
      ]
    },
    {
      "cell_type": "markdown",
      "source": [
        "9. When will you be (or when were you) 10,000 days old?"
      ],
      "metadata": {
        "id": "RcNf9gN1_VvW"
      }
    },
    {
      "cell_type": "code",
      "source": [
        "#Answer\n",
        "from datetime import datetime, timedelta\n",
        "\n",
        "my_dob = datetime.strptime(\"29/12/1997\",'%d/%m/%Y')\n",
        "future_date = my_dob-timedelta(10000)\n",
        "future_date"
      ],
      "metadata": {
        "id": "FUM3ymquA4CK",
        "colab": {
          "base_uri": "https://localhost:8080/"
        },
        "outputId": "c1dc34fe-0ea6-482b-ab55-6f8d64d387c8"
      },
      "execution_count": null,
      "outputs": [
        {
          "output_type": "execute_result",
          "data": {
            "text/plain": [
              "datetime.datetime(1970, 8, 13, 0, 0)"
            ]
          },
          "metadata": {},
          "execution_count": 9
        }
      ]
    }
  ]
}