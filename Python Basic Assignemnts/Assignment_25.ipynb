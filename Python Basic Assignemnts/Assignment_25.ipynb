{
  "nbformat": 4,
  "nbformat_minor": 0,
  "metadata": {
    "colab": {
      "name": "Assignment_25.ipynb",
      "provenance": [],
      "collapsed_sections": []
    },
    "kernelspec": {
      "name": "python3",
      "display_name": "Python 3"
    },
    "language_info": {
      "name": "python"
    }
  },
  "cells": [
    {
      "cell_type": "markdown",
      "source": [
        "1) . What is the difference between enclosing a list comprehension in square brackets and parentheses?"
      ],
      "metadata": {
        "id": "37gBG-rp254e"
      }
    },
    {
      "cell_type": "code",
      "source": [
        "\"\"\"\n",
        "Answer:\n",
        "Enclosing list comprehension in square brackets will return a list of elements. \n",
        "whereas while enclosing with the paranthesis will return the generator object. \n",
        "\"\"\""
      ],
      "metadata": {
        "id": "v-QFB3Bn3zFa"
      },
      "execution_count": null,
      "outputs": []
    },
    {
      "cell_type": "markdown",
      "source": [
        "2) What is the relationship between generators and iterators?"
      ],
      "metadata": {
        "id": "VRVbSdSK25th"
      }
    },
    {
      "cell_type": "code",
      "source": [
        "\"\"\"\n",
        "Answer:\n",
        "--->To create iterators we use iterate() function. Iterators were much more memory efficient.\n",
        "--->to create Generators we use function with yield keywords. which saves the local variable value.\n",
        "    generators helps us to write fast and compact code. \n",
        "    both of them uses next() function to iterate through the elements.\n",
        "    and Generator is sub class of iterators.\n",
        "\"\"\""
      ],
      "metadata": {
        "id": "WRBrKe2Z3ypB"
      },
      "execution_count": null,
      "outputs": []
    },
    {
      "cell_type": "markdown",
      "source": [
        "3) What are the signs that a function is a generator function?"
      ],
      "metadata": {
        "id": "X-noArIP25jn"
      }
    },
    {
      "cell_type": "code",
      "source": [
        "\"\"\"\n",
        "Answer:\n",
        "    Generator uses the yield keyword within a function instead of return keyword. \n",
        "    yield stores the data as local variables.\n",
        "\"\"\"\n"
      ],
      "metadata": {
        "id": "7dppMqmf3yPM"
      },
      "execution_count": null,
      "outputs": []
    },
    {
      "cell_type": "markdown",
      "source": [
        "4) What is the purpose of a yield statement?"
      ],
      "metadata": {
        "id": "bkmb1Ilb25ZI"
      }
    },
    {
      "cell_type": "code",
      "source": [
        "\"\"\"\n",
        "yield is a keyword used within a function to store the local variables in place of return keyword.\n",
        "\"\"\""
      ],
      "metadata": {
        "id": "4NY8q5BJ3xyp"
      },
      "execution_count": null,
      "outputs": []
    },
    {
      "cell_type": "markdown",
      "source": [
        "5) What is the relationship between map calls and list comprehensions? Make a comparison and contrast between the two."
      ],
      "metadata": {
        "id": "0ljyrgRQ244l"
      }
    },
    {
      "cell_type": "code",
      "execution_count": null,
      "metadata": {
        "id": "quwoatL92xC9"
      },
      "outputs": [],
      "source": [
        "\"\"\"\n",
        "Answer:\n",
        "List comprehension is faster than map when we need to evaluate expressions that are too long or complicated to express\n",
        "List comprehension is more concise and easier to read as compared to map.\n",
        "List comprehension allows filtering. In map, we have no such facility. For example, to print all odd numbers in range of 50, we can write [n for n in range(50) if n%2 != 0]. There is no alternate for it in map\n",
        "List comprehension are used when a list of results is required as final output.but map only returns a map object. it needs to be explicitly coverted to desired datatype.\n",
        "Map is faster in case of calling an already defined function on a set of values.\n",
        "\"\"\""
      ]
    }
  ]
}