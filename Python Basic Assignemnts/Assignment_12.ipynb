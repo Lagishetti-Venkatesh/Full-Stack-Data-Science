{
  "nbformat": 4,
  "nbformat_minor": 0,
  "metadata": {
    "colab": {
      "name": "Assignment_12.ipynb",
      "provenance": [],
      "collapsed_sections": []
    },
    "kernelspec": {
      "name": "python3",
      "display_name": "Python 3"
    },
    "language_info": {
      "name": "python"
    }
  },
  "cells": [
    {
      "cell_type": "markdown",
      "source": [
        "1. In what modes should the PdfFileReader() and PdfFileWriter() File objects will be opened?"
      ],
      "metadata": {
        "id": "N-y6QAHmc6N8"
      }
    },
    {
      "cell_type": "code",
      "source": [
        "'''\n",
        "Answer:\n",
        "PdfFileReader() ---> 'rb' read binary mode.\n",
        "PdfFileWriter() ---> 'wb' write binary mode.\n",
        "\n",
        "'''"
      ],
      "metadata": {
        "id": "gjid46hsdiGj"
      },
      "execution_count": null,
      "outputs": []
    },
    {
      "cell_type": "markdown",
      "source": [
        "2. From a PdfFileReader object, how do you get a Page object for page 5?"
      ],
      "metadata": {
        "id": "59GPoWVrc6GR"
      }
    },
    {
      "cell_type": "code",
      "source": [
        "'''\n",
        "Answer:\n",
        "PdfFileReader_object.getPage(4) ---> will give you page object.\n",
        "getPage function uses 0 indexing here.\n",
        "'''"
      ],
      "metadata": {
        "id": "EY1HxNo2dhmu"
      },
      "execution_count": null,
      "outputs": []
    },
    {
      "cell_type": "markdown",
      "source": [
        "3. What PdfFileReader variable stores the number of pages in the PDF document?"
      ],
      "metadata": {
        "id": "_4cwiC6tc5-K"
      }
    },
    {
      "cell_type": "code",
      "source": [
        "'''\n",
        "Answer:\n",
        "PdfFileReader_object.numPages ---> will store the number of PDF Pages. \n",
        "'''"
      ],
      "metadata": {
        "id": "ckpnGSFedgdY"
      },
      "execution_count": null,
      "outputs": []
    },
    {
      "cell_type": "markdown",
      "source": [
        "4. If a PdfFileReader object’s PDF is encrypted with the password swordfish, what must you do before you can obtain Page objects from it?"
      ],
      "metadata": {
        "id": "balMfmFJc53P"
      }
    },
    {
      "cell_type": "code",
      "source": [
        "'''\n",
        "Answer:\n",
        "we need to decrypt the file by using decrypt function of the PdfFileReader_object.\n",
        "PdfFileReader_object.decrypt(\"swordfish\")\n",
        "'''"
      ],
      "metadata": {
        "id": "YZQxwrzsdf9A"
      },
      "execution_count": null,
      "outputs": []
    },
    {
      "cell_type": "markdown",
      "source": [
        "5. What methods do you use to rotate a page?"
      ],
      "metadata": {
        "id": "Cn5i0by1c5wN"
      }
    },
    {
      "cell_type": "code",
      "source": [
        "'''\n",
        "Answer:\n",
        "page.rotateClockWise(number) \n",
        "page.rotateCounterClockWise(number)\n",
        "are the methods used to rotate the PDf Pages.\n",
        "'''"
      ],
      "metadata": {
        "id": "69e0S0VYdfdv"
      },
      "execution_count": null,
      "outputs": []
    },
    {
      "cell_type": "markdown",
      "source": [
        "6. What is the difference between a Run object and a Paragraph object?"
      ],
      "metadata": {
        "id": "6hdFz9Nuc5o7"
      }
    },
    {
      "cell_type": "code",
      "source": [
        "'''\n",
        "Answer:\n",
        "Run object --> it is a group of Characters which are adjacent to each other.\n",
        "Paragraph  -->  it is a collection of runs together which begins when user Enter button or Return while typing a word document.\n",
        "'''"
      ],
      "metadata": {
        "id": "sBTQqftjder5"
      },
      "execution_count": null,
      "outputs": []
    },
    {
      "cell_type": "markdown",
      "source": [
        "7. How do you obtain a list of Paragraph objects for a Document object that’s stored in a variable named doc?"
      ],
      "metadata": {
        "id": "1Qe8EfqLc5hZ"
      }
    },
    {
      "cell_type": "code",
      "source": [
        "'''\n",
        "Answer:\n",
        "Document_object.paragraphs --> will give a list of Paragraph objects.\n",
        "'''"
      ],
      "metadata": {
        "id": "kEY2xe_Mdd-z"
      },
      "execution_count": null,
      "outputs": []
    },
    {
      "cell_type": "markdown",
      "source": [
        "8. What type of object has bold, underline, italic, strike, and outline variables?"
      ],
      "metadata": {
        "id": "h-hBOK6-c5ZE"
      }
    },
    {
      "cell_type": "code",
      "source": [
        "'''\n",
        "Answer:\n",
        "Run Object will have bold, underline, italic, strike, and outline variables.\n",
        "'''"
      ],
      "metadata": {
        "id": "MSzZ4xVpddkT"
      },
      "execution_count": null,
      "outputs": []
    },
    {
      "cell_type": "markdown",
      "source": [
        "9. What is the difference between False, True, and None for the bold variable?"
      ],
      "metadata": {
        "id": "hOGkYOitc417"
      }
    },
    {
      "cell_type": "code",
      "source": [
        "'''\n",
        "Answer:\n",
        "True --> will make the run object bold.\n",
        "False --> will make the run object not bold.\n",
        "None --> will make the run object to use style's bold setting.\n",
        "'''"
      ],
      "metadata": {
        "id": "7azf2S00ddLt"
      },
      "execution_count": null,
      "outputs": []
    },
    {
      "cell_type": "markdown",
      "source": [
        "10. How do you create a Document object for a new Word document?"
      ],
      "metadata": {
        "id": "eZKSwfbkc4ru"
      }
    },
    {
      "cell_type": "code",
      "source": [
        "'''\n",
        "Answer:\n",
        "docx.Document() will create new Document file.\n",
        "'''"
      ],
      "metadata": {
        "id": "1y-3ZPCsdcnB"
      },
      "execution_count": null,
      "outputs": []
    },
    {
      "cell_type": "markdown",
      "source": [
        "11. How do you add a paragraph with the text 'Hello, there!' to a Document object stored in a variable named doc?"
      ],
      "metadata": {
        "id": "pJV6q5fGc4g9"
      }
    },
    {
      "cell_type": "code",
      "source": [
        "'''\n",
        "Answer:\n",
        "document_object.add_paragraph(\"Hello, there!') -->  will add a paragraph to Document. \n",
        "'''"
      ],
      "metadata": {
        "id": "8PfZKS1ydcJF"
      },
      "execution_count": null,
      "outputs": []
    },
    {
      "cell_type": "markdown",
      "source": [
        "12. What integers represent the levels of headings available in Word documents?"
      ],
      "metadata": {
        "id": "D0kjUDo0c4Xn"
      }
    },
    {
      "cell_type": "code",
      "execution_count": null,
      "metadata": {
        "id": "Vf39XGUCctLs"
      },
      "outputs": [],
      "source": [
        "'''\n",
        "Answer:\n",
        "Discrete Integer Values like  0, 1, 2, 3, 4\n",
        "'''"
      ]
    }
  ]
}