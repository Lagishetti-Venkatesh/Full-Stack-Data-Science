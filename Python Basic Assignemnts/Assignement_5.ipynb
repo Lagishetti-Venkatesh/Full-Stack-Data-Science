{
  "nbformat": 4,
  "nbformat_minor": 0,
  "metadata": {
    "colab": {
      "name": "Assignement_5.ipynb",
      "provenance": [],
      "collapsed_sections": []
    },
    "kernelspec": {
      "name": "python3",
      "display_name": "Python 3"
    },
    "language_info": {
      "name": "python"
    }
  },
  "cells": [
    {
      "cell_type": "markdown",
      "metadata": {
        "id": "-cskT6JAbgPn"
      },
      "source": [
        "1. What does an empty dictionary's code look like?"
      ]
    },
    {
      "cell_type": "code",
      "metadata": {
        "id": "4sPG7S3_c8gY",
        "colab": {
          "base_uri": "https://localhost:8080/"
        },
        "outputId": "ebe95fd8-f61d-46f7-88f4-94534fa36fd6"
      },
      "source": [
        "'''\n",
        "Answer:\n",
        "{} --> empty dictionary.\n",
        "'''"
      ],
      "execution_count": null,
      "outputs": [
        {
          "output_type": "execute_result",
          "data": {
            "text/plain": [
              "{}"
            ]
          },
          "metadata": {},
          "execution_count": 7
        }
      ]
    },
    {
      "cell_type": "markdown",
      "metadata": {
        "id": "9g5v0xkQbc9W"
      },
      "source": [
        "2. What is the value of a dictionary value with the key 'foo' and the value 42?"
      ]
    },
    {
      "cell_type": "code",
      "metadata": {
        "id": "EnAslxOHc9Pg"
      },
      "source": [
        "'''\n",
        "Answer:\n",
        "{'foo': 42} --> dictionary with key 'foo' and value 42.\n",
        "\n",
        "'''"
      ],
      "execution_count": null,
      "outputs": []
    },
    {
      "cell_type": "markdown",
      "metadata": {
        "id": "qktnqM0gbcv1"
      },
      "source": [
        "3. What is the most significant distinction between a dictionary and a list?"
      ]
    },
    {
      "cell_type": "code",
      "metadata": {
        "id": "3Nzp3-7Yc96n"
      },
      "source": [
        "'''\n",
        "Answer:\n",
        "dictionary is used for storing the key and value as a pairs. in dictionaries keys can of any data but it should be of single value\n",
        "but values can set of objects like list, tuples, set etc.,  \n",
        "Eg: {key1:value1, key2:value2, key3:value3}\n",
        "whereas list is used only for storing the values. in list values can be string, number, float etc.,\n",
        "Eg: [1, 'a', True]\n",
        "'''\n"
      ],
      "execution_count": null,
      "outputs": []
    },
    {
      "cell_type": "markdown",
      "metadata": {
        "id": "mUqUq11NbckQ"
      },
      "source": [
        "4. What happens if you try to access spam['foo'] if spam is {'bar': 100}?"
      ]
    },
    {
      "cell_type": "code",
      "metadata": {
        "id": "R8ZU9DH1c-kg"
      },
      "source": [
        "'''\n",
        "Answer:\n",
        "it throws key error as there is no key named 'foo' within a dictionary.\n",
        "'''"
      ],
      "execution_count": null,
      "outputs": []
    },
    {
      "cell_type": "markdown",
      "metadata": {
        "id": "sfEyEnjMbcZm"
      },
      "source": [
        "5. If a dictionary is stored in spam, what is the difference between the expressions 'cat' in spam and 'cat' in spam.keys()?"
      ]
    },
    {
      "cell_type": "code",
      "metadata": {
        "id": "MfV5Btw4c_Gl"
      },
      "source": [
        "'''\n",
        "Answer:\n",
        "Either Way it means the same \n",
        "because in this expression  'cat' in spam by default the dictionary checks the keys the cat value.\n",
        "whereas in this expression  'cat' in spam.keys() here we are specifying the list of keys to check that 'cat' value is present in the list of keys.  \n",
        "'''"
      ],
      "execution_count": null,
      "outputs": []
    },
    {
      "cell_type": "markdown",
      "metadata": {
        "id": "k37wJM8gbcLy"
      },
      "source": [
        "6. If a dictionary is stored in spam, what is the difference between the expressions 'cat' in spam and 'cat' in spam.values()?"
      ]
    },
    {
      "cell_type": "code",
      "metadata": {
        "id": "J15UWMM3dACq"
      },
      "source": [
        "'''\n",
        "Answer:\n",
        "In the Expression 'cat' in spam 'cat' is checked whether the value exits in the set of keys in a dictionary\n",
        "whereas in the expression 'cat' in spam.values() the 'cat' value is checked with the set of values in a dictionary.\n",
        "'''"
      ],
      "execution_count": null,
      "outputs": []
    },
    {
      "cell_type": "markdown",
      "metadata": {
        "id": "yY1Ne08Zbb4j"
      },
      "source": [
        "7. What is a shortcut for the following code?\n",
        "\n",
        "if 'color' not in spam:\n",
        "spam['color'] = 'black\n"
      ]
    },
    {
      "cell_type": "code",
      "metadata": {
        "id": "LEi6XTcldCLS"
      },
      "source": [
        "'''\n",
        "Answer:\n",
        "\n",
        "spam.setdefault('color', 'black')\n",
        "'''"
      ],
      "execution_count": null,
      "outputs": []
    },
    {
      "cell_type": "markdown",
      "metadata": {
        "id": "rSSibK6TbbsZ"
      },
      "source": [
        "8. How do you \"pretty print\" dictionary values using which module and function?"
      ]
    },
    {
      "cell_type": "code",
      "metadata": {
        "id": "WJHL4LM4dDwd",
        "colab": {
          "base_uri": "https://localhost:8080/"
        },
        "outputId": "56fb93ed-d303-4900-f5f6-d12fd791700a"
      },
      "source": [
        "'''\n",
        "pprint.pprint(dictionary.values()) --> will print the dictionary values.\n",
        "pprint --> this is the module name.\n",
        "pprint() --> this is the function wihtin the pprint module.\n",
        "pprint.pprint() --> this is how we call the function.\n",
        "'''\n",
        "#Example\n",
        "import pprint\n",
        "a = {'a':1, 'b':2, 'c':3, 'd':4, 'e':5, 'f':6, 'g':7, 'h':8}\n",
        "pprint.pprint(a.values(), width=1)\n"
      ],
      "execution_count": 1,
      "outputs": [
        {
          "output_type": "stream",
          "name": "stdout",
          "text": [
            "dict_values([1, 2, 3, 4, 5, 6, 7, 8])\n"
          ]
        }
      ]
    }
  ]
}