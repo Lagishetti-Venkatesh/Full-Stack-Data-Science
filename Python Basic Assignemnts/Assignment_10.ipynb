{
  "nbformat": 4,
  "nbformat_minor": 0,
  "metadata": {
    "colab": {
      "name": "Assignment_10.ipynb",
      "provenance": [],
      "collapsed_sections": []
    },
    "kernelspec": {
      "name": "python3",
      "display_name": "Python 3"
    },
    "language_info": {
      "name": "python"
    }
  },
  "cells": [
    {
      "cell_type": "markdown",
      "metadata": {
        "id": "Aa2q6urwEsu9"
      },
      "source": [
        "1. How do you distinguish between shutil.copy() and shutil.copytree()?"
      ]
    },
    {
      "cell_type": "code",
      "metadata": {
        "id": "-TLDgKS3E-cQ"
      },
      "source": [
        "'''\n",
        "Answer:\n",
        "shutil.copy() will copy the single file.\n",
        "shutil.copytree() will copy an entire folder and every folders and files in it.\n",
        "'''"
      ],
      "execution_count": null,
      "outputs": []
    },
    {
      "cell_type": "markdown",
      "metadata": {
        "id": "o009dtJkEsg4"
      },
      "source": [
        "2. What function is used to rename files??"
      ]
    },
    {
      "cell_type": "code",
      "metadata": {
        "id": "bZt1TYa_E-_V"
      },
      "source": [
        "'''\n",
        "Answer:\n",
        "shutil.move() --> function wil rename the files by moving the contents to the new file\n",
        "'''"
      ],
      "execution_count": null,
      "outputs": []
    },
    {
      "cell_type": "markdown",
      "metadata": {
        "id": "wiAYBXWsEsSm"
      },
      "source": [
        "3. What is the difference between the delete functions in the send2trash and shutil modules?"
      ]
    },
    {
      "cell_type": "code",
      "metadata": {
        "id": "_nSE2nYgE_cw"
      },
      "source": [
        "'''\n",
        "Answer:\n",
        "send2trash function will the move file or folder to recyclebin.\n",
        "shutil functions will delete the file or folders completely.\n",
        "'''"
      ],
      "execution_count": null,
      "outputs": []
    },
    {
      "cell_type": "markdown",
      "metadata": {
        "id": "NZIvvBuaEsFZ"
      },
      "source": [
        "4.ZipFile objects have a close() method just like File objects’ close() method. What ZipFile method is equivalent to File objects’ open() method?"
      ]
    },
    {
      "cell_type": "code",
      "metadata": {
        "id": "DGQuZHtBFA63"
      },
      "source": [
        "'''\n",
        "Answer:\n",
        "The zipfile.ZipFile() function is same like open() function\n",
        "the first argument is the filename, and the second argument is the mode to open the ZIP \n",
        "file in (read, write, or append).\n",
        "'''"
      ],
      "execution_count": null,
      "outputs": []
    },
    {
      "cell_type": "markdown",
      "metadata": {
        "id": "fmPeNDYiEr0m"
      },
      "source": [
        "5. Create a programme that searches a folder tree for files with a certain file extension (such as .pdf or .jpg). Copy these files from whatever location they are in to a new folder.\n",
        "\n"
      ]
    },
    {
      "cell_type": "code",
      "metadata": {
        "id": "dYqNJqooFDgq",
        "colab": {
          "base_uri": "https://localhost:8080/"
        },
        "outputId": "fbb87b3d-5579-496f-eb64-a1245a990292"
      },
      "source": [
        "# programme that searches a folder tree for files with a .csv file extension and copies them to\n",
        "#another folder. \n",
        "import os, shutil\n",
        "\n",
        "#Here I have used the google colab file paths and Destination is newly created folder.\n",
        "sourcefolder = r\"/content/sample_data\"\n",
        "dFolder = r\"/content/Destination\"\n",
        "extensions = [\".csv\"]\n",
        "count = 0\n",
        "for folderPath, _, filenames in os.walk(sourcefolder):\n",
        "\n",
        "    for filename in filenames:\n",
        "        name, ext = os.path.splitext(filename)\n",
        "        if ext in extensions:\n",
        "            sourcefilePath = folderPath + os.path.sep + filename\n",
        "            shutil.copy(sourcefilePath, dFolder)\n",
        "            count+=1\n",
        "\n",
        "print(\"Number of File Copied: \"+str(count)+ \" which has Extensions: \"+ \", \".join(extensions))\n"
      ],
      "execution_count": 3,
      "outputs": [
        {
          "output_type": "stream",
          "name": "stdout",
          "text": [
            "Number of File Copied: 4 which has Extensions: .csv\n"
          ]
        }
      ]
    }
  ]
}