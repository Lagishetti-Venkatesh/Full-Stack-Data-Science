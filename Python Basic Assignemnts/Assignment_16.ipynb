{
  "nbformat": 4,
  "nbformat_minor": 0,
  "metadata": {
    "colab": {
      "name": "Assignment_16.ipynb",
      "provenance": [],
      "collapsed_sections": []
    },
    "kernelspec": {
      "name": "python3",
      "display_name": "Python 3"
    },
    "language_info": {
      "name": "python"
    }
  },
  "cells": [
    {
      "cell_type": "markdown",
      "source": [
        "1. Create a list called years_list, starting with the year of your birth, and each year thereafter until the year of your fifth birthday. For example, if you were born in 1980. the list would be years_list = [1980, 1981, 1982, 1983, 1984, 1985]."
      ],
      "metadata": {
        "id": "tTWLS0gvhTuL"
      }
    },
    {
      "cell_type": "code",
      "source": [
        "#Answer\n",
        "years_list = []\n",
        "YOB = int(input(\"Please Enter Year of Birth.\"))\n",
        "\n",
        "for year in range(YOB, YOB+6):\n",
        "    years_list.append(year)\n",
        "print(years_list)"
      ],
      "metadata": {
        "id": "YgG2Eyk6i7lT",
        "colab": {
          "base_uri": "https://localhost:8080/"
        },
        "outputId": "4e186114-2fc9-425c-af10-dafa2d9293eb"
      },
      "execution_count": null,
      "outputs": [
        {
          "output_type": "stream",
          "name": "stdout",
          "text": [
            "Please Enter Year of Birth.1980\n",
            "[1980, 1981, 1982, 1983, 1984, 1985]\n"
          ]
        }
      ]
    },
    {
      "cell_type": "markdown",
      "source": [
        "\n",
        "2. In which year in years_list was your third birthday? Remember, you were 0 years of age for your first year.\n"
      ],
      "metadata": {
        "id": "D-A1qyouhTnH"
      }
    },
    {
      "cell_type": "code",
      "source": [
        "'''\n",
        "Answer:\n",
        "1982 was my 3rd birthday.\n",
        "years_list[2] -->Way to Access my third irthday from the List\n",
        "'''"
      ],
      "metadata": {
        "id": "DNIjdtcxi69N",
        "colab": {
          "base_uri": "https://localhost:8080/",
          "height": 35
        },
        "outputId": "c607a881-8ac3-4b7b-e759-934121eaa842"
      },
      "execution_count": null,
      "outputs": [
        {
          "output_type": "execute_result",
          "data": {
            "application/vnd.google.colaboratory.intrinsic+json": {
              "type": "string"
            },
            "text/plain": [
              "'\\nAnswer:\\n1982 was my 3rd birthday.\\nyears_list[2] -->Way to Access my third irthday from the List\\n'"
            ]
          },
          "metadata": {},
          "execution_count": 2
        }
      ]
    },
    {
      "cell_type": "markdown",
      "source": [
        "3. In the years list, which year were you the oldest?"
      ],
      "metadata": {
        "id": "c0rbAjFnhTgQ"
      }
    },
    {
      "cell_type": "code",
      "source": [
        "'''\n",
        "Answer:\n",
        "in the fifth year I am the oldest which can be accessed by --> years_list[-1] or years_list[5]\n",
        "'''"
      ],
      "metadata": {
        "id": "uyN9zXHAi6im",
        "colab": {
          "base_uri": "https://localhost:8080/",
          "height": 35
        },
        "outputId": "c6cd640f-ebd3-4448-9452-f4c2e91c10fc"
      },
      "execution_count": null,
      "outputs": [
        {
          "output_type": "execute_result",
          "data": {
            "application/vnd.google.colaboratory.intrinsic+json": {
              "type": "string"
            },
            "text/plain": [
              "'\\nAnswer:\\nin the fifth year I am the oldest which can be accessed by --> years_list[-1] or years_list[5]\\n'"
            ]
          },
          "metadata": {},
          "execution_count": 3
        }
      ]
    },
    {
      "cell_type": "markdown",
      "source": [
        "4. Make a list called things with these three strings as elements: \"mozzarella\", \"cinderella\", \"salmonella\"."
      ],
      "metadata": {
        "id": "GtPIszdqhTZN"
      }
    },
    {
      "cell_type": "code",
      "source": [
        "#Answer\n",
        "things = [\"mozzarella\", \"cinderella\", \"salmonella\"]"
      ],
      "metadata": {
        "id": "IMlSGhtui6PR"
      },
      "execution_count": null,
      "outputs": []
    },
    {
      "cell_type": "markdown",
      "source": [
        "5. Capitalize the element in things that refers to a person and then print the list. Did it change the element in the list?"
      ],
      "metadata": {
        "id": "8JxI7aLqhTRn"
      }
    },
    {
      "cell_type": "code",
      "source": [
        "#Answer\n",
        "for thing in things:\n",
        "    print(thing.capitalize())\n",
        "print(things)\n",
        "#No, it won't changes the elements of the list"
      ],
      "metadata": {
        "id": "FDqLqByXi5ua",
        "colab": {
          "base_uri": "https://localhost:8080/"
        },
        "outputId": "b5bc5655-37dd-4b7e-8c7f-130e93067799"
      },
      "execution_count": null,
      "outputs": [
        {
          "output_type": "stream",
          "name": "stdout",
          "text": [
            "Mozzarella\n",
            "Cinderella\n",
            "Salmonella\n",
            "['mozzarella', 'cinderella', 'salmonella']\n"
          ]
        }
      ]
    },
    {
      "cell_type": "markdown",
      "source": [
        "6. Make a surprise list with the elements \"Groucho,\" \"Chico,\" and \"Harpo.\""
      ],
      "metadata": {
        "id": "fsl4ZjFNhTKo"
      }
    },
    {
      "cell_type": "code",
      "source": [
        "#Answer\n",
        "surprise = [\"Groucho\" ,\"Chico\", \"Harpo\"]"
      ],
      "metadata": {
        "id": "6GtI7xYni5Yh"
      },
      "execution_count": null,
      "outputs": []
    },
    {
      "cell_type": "markdown",
      "source": [
        "7. Lowercase the last element of the surprise list, reverse it, and then capitalize it."
      ],
      "metadata": {
        "id": "Snt1NAW0hTDH"
      }
    },
    {
      "cell_type": "code",
      "source": [
        "#Answer\n",
        "surprise[-1] = surprise[-1].lower() #Lowering the last element\n",
        "print(surprise[-1][::-1].capitalize()) #Reversing and capitalizing the last element.\n",
        "print(surprise)"
      ],
      "metadata": {
        "id": "yjhTfpwVi4bU",
        "colab": {
          "base_uri": "https://localhost:8080/"
        },
        "outputId": "6d3724d6-cf28-45f0-a617-14c4dfae1283"
      },
      "execution_count": null,
      "outputs": [
        {
          "output_type": "stream",
          "name": "stdout",
          "text": [
            "Oprah\n",
            "['Groucho', 'Chico', 'harpo']\n"
          ]
        }
      ]
    },
    {
      "cell_type": "markdown",
      "source": [
        "8. Make an English-to-French dictionary called e2f and print it. Here are your starter words: dog is chien, cat is chat, and walrus is morse."
      ],
      "metadata": {
        "id": "rCQEsw1XhS7O"
      }
    },
    {
      "cell_type": "code",
      "source": [
        "#Answer\n",
        "e2f = {'dog':'chien', 'cat':'chat', 'walrus':'morse'}"
      ],
      "metadata": {
        "id": "IC18QHBvi4IX"
      },
      "execution_count": null,
      "outputs": []
    },
    {
      "cell_type": "markdown",
      "source": [
        "9. Write the French word for walrus in your three-word dictionary e2f."
      ],
      "metadata": {
        "id": "ATYA8FFmhS1D"
      }
    },
    {
      "cell_type": "code",
      "source": [
        "#Answer\n",
        "print(e2f.get('walrus'))\n",
        "print(e2f['walrus'])"
      ],
      "metadata": {
        "id": "xSy1CodWi3fU",
        "colab": {
          "base_uri": "https://localhost:8080/"
        },
        "outputId": "6a2a29a1-3432-45bd-af95-4b8a720524b4"
      },
      "execution_count": null,
      "outputs": [
        {
          "output_type": "stream",
          "name": "stdout",
          "text": [
            "morse\n",
            "morse\n"
          ]
        }
      ]
    },
    {
      "cell_type": "markdown",
      "source": [
        "10. Make a French-to-English dictionary called f2e from e2f. Use the items method."
      ],
      "metadata": {
        "id": "0U_0yfb8hStj"
      }
    },
    {
      "cell_type": "code",
      "source": [
        "#Answer\n",
        "f2e = dict([element[::-1] for element in e2f.items()])\n",
        "print(f2e)"
      ],
      "metadata": {
        "id": "JOwLqTW1i3EC",
        "colab": {
          "base_uri": "https://localhost:8080/"
        },
        "outputId": "af8dba92-9d58-4813-bcc8-8e5146e470a9"
      },
      "execution_count": null,
      "outputs": [
        {
          "output_type": "stream",
          "name": "stdout",
          "text": [
            "{'chien': 'dog', 'chat': 'cat', 'morse': 'walrus'}\n"
          ]
        }
      ]
    },
    {
      "cell_type": "markdown",
      "source": [
        "11. Print the English version of the French word chien using f2e."
      ],
      "metadata": {
        "id": "4V0PBYawhSl7"
      }
    },
    {
      "cell_type": "code",
      "source": [
        "#Answer\n",
        "print(f2e['chien'])"
      ],
      "metadata": {
        "id": "TQ2NvbrEi2d-",
        "colab": {
          "base_uri": "https://localhost:8080/"
        },
        "outputId": "586b4405-248d-4322-e75d-4ec75ddcfe53"
      },
      "execution_count": null,
      "outputs": [
        {
          "output_type": "stream",
          "name": "stdout",
          "text": [
            "dog\n"
          ]
        }
      ]
    },
    {
      "cell_type": "markdown",
      "source": [
        "12. Make and print a set of English words from the keys in e2f."
      ],
      "metadata": {
        "id": "WJb6P_wihSd4"
      }
    },
    {
      "cell_type": "code",
      "source": [
        "#Answer\n",
        "print(list(e2f.keys()))"
      ],
      "metadata": {
        "id": "kSkkZppvi15b",
        "colab": {
          "base_uri": "https://localhost:8080/"
        },
        "outputId": "60311d4e-50ba-41ba-f2fa-cd95b05e5aa3"
      },
      "execution_count": null,
      "outputs": [
        {
          "output_type": "stream",
          "name": "stdout",
          "text": [
            "['dog', 'cat', 'walrus']\n"
          ]
        }
      ]
    },
    {
      "cell_type": "markdown",
      "source": [
        "13. Make a multilevel dictionary called life. Use these strings for the topmost keys: 'animals', 'plants', and 'other'. Make the 'animals' key refer to another dictionary with the keys 'cats', 'octopi', and 'emus'. Make the 'cats' key refer to a list of strings with the values 'Henri', 'Grumpy', and 'Lucy'. Make all the other keys refer to empty dictionaries."
      ],
      "metadata": {
        "id": "hPcuTFlehSWm"
      }
    },
    {
      "cell_type": "code",
      "source": [
        "#Answer\n",
        "life = {'animals':{'cats':['Henry', 'Grumpy', 'Lucy'], 'octopi':{}, 'emus':{}}, 'plants':{}, 'other':{}}\n",
        "print(life)"
      ],
      "metadata": {
        "id": "o3Tk7VWKi1di",
        "colab": {
          "base_uri": "https://localhost:8080/"
        },
        "outputId": "4005a9d2-4b5f-4f72-e461-b5497014bf5d"
      },
      "execution_count": null,
      "outputs": [
        {
          "output_type": "stream",
          "name": "stdout",
          "text": [
            "{'animals': {'cats': ['Henry', 'Grumpy', 'Lucy'], 'octopi': {}, 'emus': {}}, 'plants': {}, 'other': {}}\n"
          ]
        }
      ]
    },
    {
      "cell_type": "markdown",
      "source": [
        "14. Print the top-level keys of life."
      ],
      "metadata": {
        "id": "VILb44FihSCL"
      }
    },
    {
      "cell_type": "code",
      "source": [
        "#Answer\n",
        "print(list(life.keys()))"
      ],
      "metadata": {
        "id": "ubp-z5bDi1Mf",
        "colab": {
          "base_uri": "https://localhost:8080/"
        },
        "outputId": "5db24495-dc27-4515-af03-9cf7c93bdfb2"
      },
      "execution_count": null,
      "outputs": [
        {
          "output_type": "stream",
          "name": "stdout",
          "text": [
            "['animals', 'plants', 'other']\n"
          ]
        }
      ]
    },
    {
      "cell_type": "markdown",
      "source": [
        "15. Print the keys for life['animals']."
      ],
      "metadata": {
        "id": "Kfb_Je13hQ6w"
      }
    },
    {
      "cell_type": "code",
      "source": [
        "#Answer\n",
        "print(list(life['animals'].keys()))"
      ],
      "metadata": {
        "id": "xtpBGyyui0la",
        "colab": {
          "base_uri": "https://localhost:8080/"
        },
        "outputId": "6a5508b7-dba5-48d8-fc18-c26d5b5be9a9"
      },
      "execution_count": null,
      "outputs": [
        {
          "output_type": "stream",
          "name": "stdout",
          "text": [
            "['cats', 'octopi', 'emus']\n"
          ]
        }
      ]
    },
    {
      "cell_type": "markdown",
      "source": [
        "16. Print the values for life['animals']['cats']"
      ],
      "metadata": {
        "id": "CFJG_K38hQx5"
      }
    },
    {
      "cell_type": "code",
      "execution_count": null,
      "metadata": {
        "id": "Zm35WLf2hCJE",
        "colab": {
          "base_uri": "https://localhost:8080/"
        },
        "outputId": "3e08a112-b60e-496f-82cf-d0699e324ad5"
      },
      "outputs": [
        {
          "output_type": "stream",
          "name": "stdout",
          "text": [
            "['Henry', 'Grumpy', 'Lucy']\n"
          ]
        }
      ],
      "source": [
        "#Answer\n",
        "print((life['animals']['cats']))"
      ]
    }
  ]
}