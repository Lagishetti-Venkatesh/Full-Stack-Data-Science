{
  "nbformat": 4,
  "nbformat_minor": 0,
  "metadata": {
    "colab": {
      "name": "Assignment_1.ipynb",
      "provenance": [],
      "collapsed_sections": []
    },
    "kernelspec": {
      "name": "python3",
      "display_name": "Python 3"
    },
    "language_info": {
      "name": "python"
    }
  },
  "cells": [
    {
      "cell_type": "markdown",
      "metadata": {
        "id": "CoGFk9An0Dqf"
      },
      "source": [
        "1. In the below elements which of them are values or an expression? eg:- values can be integer or string and expressions will be mathematical operators.\n",
        "\n",
        "'*'\n",
        "\n",
        "'hello'\n",
        "\n",
        "-87.8\n",
        "\n",
        "- \n",
        "\n",
        "/ \n",
        "\n",
        "+\t\n",
        "\n",
        "6"
      ]
    },
    {
      "cell_type": "code",
      "source": [
        "'''\n",
        "Answer :\n",
        " * ---> multiplication (Mathematical operator)\n",
        "\n",
        " 'hello' ---> string\n",
        " -87.8 ---> negative float value\n",
        " - ---> subtraction (Mathematical operator)\n",
        " / ---> division (Mathematical operator)\n",
        " + ---> addition ((Mathematical operator)\n",
        " 6 ---> value\n",
        "'''"
      ],
      "metadata": {
        "id": "Q6pFYfUoawwD"
      },
      "execution_count": null,
      "outputs": []
    },
    {
      "cell_type": "markdown",
      "source": [
        "2. What is the difference between string and variable?\n"
      ],
      "metadata": {
        "id": "-W9uEOpFavN_"
      }
    },
    {
      "cell_type": "code",
      "source": [
        "'''\n",
        "Answer: \n",
        "\n",
        "String is a data type in which alphabets, group of alphabets, integers and floating  (in string data type only) data can be represented as values in programming. \n",
        "\n",
        "Variable is a naming convention used for Storing the values of any data type in programming.\n",
        "\n",
        "'''"
      ],
      "metadata": {
        "id": "_T1-AkJvbBff"
      },
      "execution_count": null,
      "outputs": []
    },
    {
      "cell_type": "markdown",
      "source": [
        "3. Describe three different data types.\n"
      ],
      "metadata": {
        "id": "OyITYA8YcZPS"
      }
    },
    {
      "cell_type": "code",
      "source": [
        "'''\n",
        "Answer: \n",
        "\n",
        "integer : numerical data without involving of decimal values. eg: 1, 2, 3\n",
        "\n",
        "Float : Numerical Data which involves Decimal values eg: 1.1, 1.2, 1.3, 1.4\n",
        "\n",
        "string : group of characters which may be of alphabets, symbols etc., eg: \"venkatesh\", \"ineuron@gmail.com\".\n",
        "'''"
      ],
      "metadata": {
        "id": "HAFXSz4DccAK"
      },
      "execution_count": null,
      "outputs": []
    },
    {
      "cell_type": "markdown",
      "source": [
        "4. What is an expression made up of? What do all expressions do?\n"
      ],
      "metadata": {
        "id": "K_R4B2M1cjib"
      }
    },
    {
      "cell_type": "code",
      "source": [
        "'''\n",
        "Answer: \n",
        "\n",
        "Expression is a collection of values, operators and operands . Its Purpose is to create a outcome or result with appropriate changes.\n",
        "\n",
        "'''"
      ],
      "metadata": {
        "id": "o6yOz-xdckuN"
      },
      "execution_count": null,
      "outputs": []
    },
    {
      "cell_type": "markdown",
      "source": [
        "5. This assignment statements, like spam = 10. What is the difference between an expression and a statement?\n"
      ],
      "metadata": {
        "id": "8BflndpXcqC4"
      }
    },
    {
      "cell_type": "code",
      "source": [
        "'''\n",
        "Answer: Stantements are solely for making appropriate changes within the code wheras Expressions are for creating the desired outcome/result providing sideby side changes \n",
        "\n",
        "'''"
      ],
      "metadata": {
        "id": "tIy5Q34KcrEb"
      },
      "execution_count": null,
      "outputs": []
    },
    {
      "cell_type": "markdown",
      "source": [
        "6. After running the following code, what does the variable bacon contain?\n",
        "\n",
        "bacon = 22\n",
        "\n",
        "bacon + 1"
      ],
      "metadata": {
        "id": "WiBGd5R3c0-t"
      }
    },
    {
      "cell_type": "code",
      "source": [
        "'''\n",
        "Answer : bacon contains the integer value of 22.\n",
        "'''"
      ],
      "metadata": {
        "id": "Nncy5TLBcyLw"
      },
      "execution_count": null,
      "outputs": []
    },
    {
      "cell_type": "markdown",
      "source": [
        "7. What should the values of the following two terms be?\n",
        "\n",
        "'spam' + 'spamspam'\n",
        "\n",
        "'spam' * 3"
      ],
      "metadata": {
        "id": "RaC0KKGpc_Pa"
      }
    },
    {
      "cell_type": "code",
      "source": [
        "'''\n",
        "Answer: \n",
        "\n",
        "'spam' + 'spamspam'  would result  'spamspamspam'\n",
        "\n",
        "'spam' * 3 would result 'spamspamspam'\n",
        "\n",
        "'''"
      ],
      "metadata": {
        "id": "9RhmsxK6dEGF"
      },
      "execution_count": null,
      "outputs": []
    },
    {
      "cell_type": "markdown",
      "source": [
        "8. Why is eggs a valid variable name while 100 is invalid?\n"
      ],
      "metadata": {
        "id": "8IVw6gumdIsA"
      }
    },
    {
      "cell_type": "code",
      "source": [
        "'''\n",
        "Answer:   \n",
        "\n",
        "According to the naming convetion rules of the programming variable name should start either by alphabets or _(underscore) and should not start with numbers or numbers cannot be variables because they are treated as values and symbols cannot be used as a variable naming.\n",
        "\n",
        "'''"
      ],
      "metadata": {
        "id": "RS6uUzSNdKCY"
      },
      "execution_count": null,
      "outputs": []
    },
    {
      "cell_type": "markdown",
      "source": [
        "9. What three functions can be used to get the integer, floating-point number, or string version of a value?\n"
      ],
      "metadata": {
        "id": "sSdsnQ-RdQj4"
      }
    },
    {
      "cell_type": "code",
      "source": [
        "'''\n",
        "Answer:   \n",
        "int(value) --> for integer conversion.\n",
        "\n",
        "float(value) --> for floating conversion.\n",
        "\n",
        "str(value) --> for string cpnversion.\n",
        "\n",
        "'''"
      ],
      "metadata": {
        "id": "V_pJ3mtsdQLA"
      },
      "execution_count": null,
      "outputs": []
    },
    {
      "cell_type": "markdown",
      "source": [
        "10. Why does this expression cause an error? How can you fix it?\n",
        "'I have eaten ' + 99 + ' burritos.'\n"
      ],
      "metadata": {
        "id": "HzF5q7FodZXM"
      }
    },
    {
      "cell_type": "code",
      "metadata": {
        "id": "aX6XvGae9-Ks"
      },
      "source": [
        "'''\n",
        "Answer:\n",
        "In the above expression integer value is present between string or heterogeneous data types are present resulting type error.\n",
        "\n",
        "Fixed solution: 'I have eaten ' + str(99) + ' burritos.'\n",
        "'''"
      ],
      "execution_count": null,
      "outputs": []
    }
  ]
}