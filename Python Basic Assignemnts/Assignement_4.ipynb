{
  "nbformat": 4,
  "nbformat_minor": 0,
  "metadata": {
    "colab": {
      "name": "Assignement_4.ipynb",
      "provenance": [],
      "collapsed_sections": []
    },
    "kernelspec": {
      "name": "python3",
      "display_name": "Python 3"
    },
    "language_info": {
      "name": "python"
    }
  },
  "cells": [
    {
      "cell_type": "markdown",
      "metadata": {
        "id": "nYsTaafMZBVj"
      },
      "source": [
        "1. What exactly is []?"
      ]
    },
    {
      "cell_type": "code",
      "metadata": {
        "id": "80v9mhN1cV3Y"
      },
      "source": [
        "'''\n",
        "Answer:\n",
        "[] is a empty list.\n",
        "'''"
      ],
      "execution_count": null,
      "outputs": []
    },
    {
      "cell_type": "markdown",
      "metadata": {
        "id": "sAKnEggrZDZH"
      },
      "source": [
        "2. In a list of values stored in a variable called spam, how would you assign the value 'hello' as the third value? (Assume [2, 4, 6, 8, 10] are in spam.)\n",
        "\n"
      ]
    },
    {
      "cell_type": "code",
      "metadata": {
        "id": "DY_94CSPcWyk"
      },
      "source": [
        "'''\n",
        "Answer:\n",
        "spam = [2, 4, 6, 8, 20]\n",
        "spam[2] = \"hello\"   --> way to assign third value as \"hello\".\n",
        "\n",
        "'''\n"
      ],
      "execution_count": null,
      "outputs": []
    },
    {
      "cell_type": "markdown",
      "metadata": {
        "id": "IcgmjwHCZBSh"
      },
      "source": [
        "Let's pretend the spam includes the list ['a', 'b', 'c', 'd'] for the next three queries\n",
        "\n",
        "3. What is the value of spam[int(int('3' * 2) / 11)]?"
      ]
    },
    {
      "cell_type": "code",
      "metadata": {
        "id": "AQNs259IcXb2"
      },
      "source": [
        "'''\n",
        "Answer:\n",
        "spam[int(int('3' * 2) / 11)]\n",
        "output: 'd'\n",
        "'''"
      ],
      "execution_count": null,
      "outputs": []
    },
    {
      "cell_type": "markdown",
      "metadata": {
        "id": "0k4R-oUxZBOg"
      },
      "source": [
        "4. What is the value of spam[-1]?"
      ]
    },
    {
      "cell_type": "code",
      "metadata": {
        "id": "1sdND7PMcYgd"
      },
      "source": [
        "'''\n",
        "Answer:\n",
        "spam[-1]\n",
        "output: 'd'\n",
        "'''"
      ],
      "execution_count": null,
      "outputs": []
    },
    {
      "cell_type": "markdown",
      "metadata": {
        "id": "0TwmWQ3tZBMg"
      },
      "source": [
        "5. What is the value of spam[:2]?"
      ]
    },
    {
      "cell_type": "code",
      "metadata": {
        "id": "bmAa9ClycZ93"
      },
      "source": [
        "'''\n",
        "Answer:\n",
        "spam[:2]\n",
        "output: ['a','b']\n",
        "'''"
      ],
      "execution_count": null,
      "outputs": []
    },
    {
      "cell_type": "markdown",
      "metadata": {
        "id": "oHVk4ZR0ZBIz"
      },
      "source": [
        "Let's pretend bacon has the list [3.14, 'cat,' 11, 'cat,' True] for the next three questions.\n",
        "6. What is the value of bacon.index('cat')?\n"
      ]
    },
    {
      "cell_type": "code",
      "metadata": {
        "id": "wWQoH4a8cdK9"
      },
      "source": [
        "'''\n",
        "Answer:\n",
        "bacon.index('cat') \n",
        "output: 1\n",
        "'''"
      ],
      "execution_count": null,
      "outputs": []
    },
    {
      "cell_type": "markdown",
      "metadata": {
        "id": "sN0yMWVDZBGy"
      },
      "source": [
        "7. How does bacon.append(99) change the look of the list value in bacon?"
      ]
    },
    {
      "cell_type": "code",
      "metadata": {
        "id": "QMszjWo3ceph"
      },
      "source": [
        "'''\n",
        "Answer:\n",
        "bacon.append(99)\n",
        "will the update the list from  [3.14, 'cat,' 11, 'cat,' True] to  [3.14, 'cat', 11, 'cat,' True, 99] \n",
        "'''"
      ],
      "execution_count": null,
      "outputs": []
    },
    {
      "cell_type": "markdown",
      "metadata": {
        "id": "dR-154U9ZBC5"
      },
      "source": [
        "8. How does bacon.remove('cat') change the look of the list in bacon?"
      ]
    },
    {
      "cell_type": "code",
      "metadata": {
        "id": "bjyOx3FVcf5-"
      },
      "source": [
        "'''\n",
        "Answer:\n",
        "bacon.remove('cat') will remove the 'cat' value from list\n",
        "list will get updated from  [3.14, 'cat,' 11, 'cat,' True] to  [3.14,  11, 'cat,' True] \n",
        "'''"
      ],
      "execution_count": null,
      "outputs": []
    },
    {
      "cell_type": "markdown",
      "metadata": {
        "id": "u0uUn5rIZBBF"
      },
      "source": [
        "9. What are the list concatenation and list replication operators?"
      ]
    },
    {
      "cell_type": "code",
      "metadata": {
        "id": "Z_q5xyFzcg4b"
      },
      "source": [
        "'''\n",
        "Answer:\n",
        "list = [1, 2, 3, 4, 5]\n",
        "lst + [6, 7, 8] ---> here list concatenation operator is  +\n",
        "lst * 3   ---> here  list replication operator is *\n",
        "'''\n"
      ],
      "execution_count": null,
      "outputs": []
    },
    {
      "cell_type": "markdown",
      "metadata": {
        "id": "qndSyL0bZA9W"
      },
      "source": [
        "10. What is difference between the list methods append() and insert()?"
      ]
    },
    {
      "cell_type": "code",
      "metadata": {
        "id": "jr4-nUv2ciZi"
      },
      "source": [
        "'''\n",
        "Answer:\n",
        "lst.append(element) will add the element into the existing list at the end.\n",
        "lst.insert(index, element) will insert element at the particular index of the list.\n",
        "'''"
      ],
      "execution_count": null,
      "outputs": []
    },
    {
      "cell_type": "markdown",
      "metadata": {
        "id": "WtIYLp8eZA7X"
      },
      "source": [
        "11. What are the two methods for removing items from a list?"
      ]
    },
    {
      "cell_type": "code",
      "metadata": {
        "id": "7pBRrxqbcjhL"
      },
      "source": [
        "'''\n",
        "Answer:\n",
        "lst.pop() --> will remove the last element from the list.\n",
        "lst.remove(element)  ---> will remove the particular element from the list.\n",
        "del lst[index] ---> will delete the element from the list at a particular index.\n",
        "'''"
      ],
      "execution_count": null,
      "outputs": []
    },
    {
      "cell_type": "markdown",
      "metadata": {
        "id": "phWa48AXZA4V"
      },
      "source": [
        "12. Describe how list values and string values are identical."
      ]
    },
    {
      "cell_type": "code",
      "metadata": {
        "id": "KLYX3-YMckl5"
      },
      "source": [
        "'''\n",
        "Answer:\n",
        "string and list vaules are identical because indexing, slicing rules are same and can be accessed in for loops in same manner\n",
        "'''"
      ],
      "execution_count": null,
      "outputs": []
    },
    {
      "cell_type": "markdown",
      "metadata": {
        "id": "hx_dym_pZA2S"
      },
      "source": [
        "13. What's the difference between tuples and lists?"
      ]
    },
    {
      "cell_type": "code",
      "metadata": {
        "id": "uDD07mzcclQX"
      },
      "source": [
        "'''\n",
        "Answer:\n",
        "list --> it is a mutable object in which values can be updated manipulated and has symbol for list is [].\n",
        "tuples --> it is immutable object in which values cannot be updated or manipulated and has symbol for tuple is ().\n",
        "'''"
      ],
      "execution_count": null,
      "outputs": []
    },
    {
      "cell_type": "markdown",
      "metadata": {
        "id": "UIgm8myrZINX"
      },
      "source": [
        "14. How do you type a tuple value that only contains the integer 42?\n",
        "\n",
        "\n",
        "\n"
      ]
    },
    {
      "cell_type": "code",
      "metadata": {
        "id": "xHv3_EDPcmiy"
      },
      "source": [
        "'''\n",
        "(42,) --> trailing comma is mandatory to declare tuple with the value 42.\n",
        "'''"
      ],
      "execution_count": null,
      "outputs": []
    },
    {
      "cell_type": "markdown",
      "metadata": {
        "id": "dh3PqLIqZHmt"
      },
      "source": [
        "15. How do you get a list value's tuple form? How do you get a tuple value's list form?"
      ]
    },
    {
      "cell_type": "code",
      "metadata": {
        "id": "Npl3_ITJcn3u"
      },
      "source": [
        "'''\n",
        "Answer:\n",
        "list vlues in tuples form by using function tuple(list_values).\n",
        "tuple values in the list form by using function list(tuple_values)\n",
        "\n",
        "'''\n"
      ],
      "execution_count": null,
      "outputs": []
    },
    {
      "cell_type": "markdown",
      "metadata": {
        "id": "WWKHqwHBay7I"
      },
      "source": [
        "16. Variables that \"contain\" list values are not necessarily lists themselves. Instead, what do they contain?"
      ]
    },
    {
      "cell_type": "code",
      "metadata": {
        "id": "xQcpFAkqco5m"
      },
      "source": [
        "'''\n",
        "Answer:\n",
        "variables contain the reference of the list something like stores the address of list of objects.\n",
        "'''"
      ],
      "execution_count": null,
      "outputs": []
    },
    {
      "cell_type": "markdown",
      "metadata": {
        "id": "cm8pS3SBa29l"
      },
      "source": [
        "17. How do you distinguish between copy.copy() and copy.deepcopy()?"
      ]
    },
    {
      "cell_type": "code",
      "metadata": {
        "id": "iXS2p2BVcrGG"
      },
      "source": [
        "'''\n",
        "copy.copy() ---> will create another reference to the existing data.\n",
        "copy.deepcopy() ---> will create new copy of data with a new refernce. \n",
        "'''"
      ],
      "execution_count": null,
      "outputs": []
    }
  ]
}