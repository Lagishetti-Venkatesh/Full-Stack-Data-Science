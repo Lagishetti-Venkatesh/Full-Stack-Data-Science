{
  "nbformat": 4,
  "nbformat_minor": 0,
  "metadata": {
    "colab": {
      "name": "Assignment_18.ipynb",
      "provenance": [],
      "collapsed_sections": []
    },
    "kernelspec": {
      "name": "python3",
      "display_name": "Python 3"
    },
    "language_info": {
      "name": "python"
    }
  },
  "cells": [
    {
      "cell_type": "markdown",
      "source": [
        "1. Create a zoo.py file first. Define the hours() function, which prints the string 'Open 9-5 daily'. Then, use the interactive interpreter to import the zoo module and call its hours() function."
      ],
      "metadata": {
        "id": "IiwotvCG45qh"
      }
    },
    {
      "cell_type": "code",
      "source": [
        "#Here I have uploaded zoo the file in my gdrive and accessing in Colab.\n",
        "import sys\n",
        "sys.path.append('/content/drive/MyDrive/Colab Notebooks/Ineuron/zoo.py')"
      ],
      "metadata": {
        "id": "w4XfOPGa7P-f"
      },
      "execution_count": null,
      "outputs": []
    },
    {
      "cell_type": "code",
      "source": [
        " import zoo\n",
        " zoo.hours()\n"
      ],
      "metadata": {
        "colab": {
          "base_uri": "https://localhost:8080/"
        },
        "id": "XsXV3UDkVhDa",
        "outputId": "307932e4-6259-446a-ff9a-c7b2d823a54f"
      },
      "execution_count": null,
      "outputs": [
        {
          "output_type": "stream",
          "name": "stdout",
          "text": [
            "Open 9-5 daily\n"
          ]
        }
      ]
    },
    {
      "cell_type": "markdown",
      "source": [
        "2. In the interactive interpreter, import the zoo module as menagerie and call its hours() function."
      ],
      "metadata": {
        "id": "kOVaMqfn45aR"
      }
    },
    {
      "cell_type": "code",
      "source": [
        "import zoo as menagerie\n",
        "menagerie.hours()"
      ],
      "metadata": {
        "id": "fMqgtOsb7OH1",
        "colab": {
          "base_uri": "https://localhost:8080/"
        },
        "outputId": "573acfc7-ead0-42d9-95be-fd11a4d5638d"
      },
      "execution_count": null,
      "outputs": [
        {
          "output_type": "stream",
          "name": "stdout",
          "text": [
            "Open 9-5 daily\n"
          ]
        }
      ]
    },
    {
      "cell_type": "markdown",
      "source": [
        "3. Using the interpreter, explicitly import and call the hours() function from zoo."
      ],
      "metadata": {
        "id": "hmnsuQtj45PB"
      }
    },
    {
      "cell_type": "code",
      "source": [
        "from zoo import hours\n",
        "hours()"
      ],
      "metadata": {
        "id": "Y3AN7PBq7Nmx",
        "colab": {
          "base_uri": "https://localhost:8080/"
        },
        "outputId": "f07aedcf-aa12-4dab-b8d4-121e2fa80152"
      },
      "execution_count": null,
      "outputs": [
        {
          "output_type": "stream",
          "name": "stdout",
          "text": [
            "Open 9-5 daily\n"
          ]
        }
      ]
    },
    {
      "cell_type": "markdown",
      "source": [
        "4. Import the hours() function as info and call it."
      ],
      "metadata": {
        "id": "zj7JUfB645El"
      }
    },
    {
      "cell_type": "code",
      "source": [
        "from zoo import hours as info\n",
        "info() "
      ],
      "metadata": {
        "id": "JoQhzpgo6Cym",
        "colab": {
          "base_uri": "https://localhost:8080/"
        },
        "outputId": "759d4006-7255-4096-d589-a059d9fdc0bc"
      },
      "execution_count": null,
      "outputs": [
        {
          "output_type": "stream",
          "name": "stdout",
          "text": [
            "Open 9-5 daily\n"
          ]
        }
      ]
    },
    {
      "cell_type": "markdown",
      "source": [
        "5. Create a plain dictionary with the key-value pairs 'a': 1, 'b': 2, and 'c': 3, and print it out."
      ],
      "metadata": {
        "id": "UdauRooe445v"
      }
    },
    {
      "cell_type": "code",
      "source": [
        "plain_dict = {'a':1, 'b':2, 'c':3}\n",
        "print(plain_dict)"
      ],
      "metadata": {
        "id": "XQzA0r8D6CUI",
        "colab": {
          "base_uri": "https://localhost:8080/"
        },
        "outputId": "94b3eb6d-3d19-4e5d-9e7f-a4a6a742c3c8"
      },
      "execution_count": null,
      "outputs": [
        {
          "output_type": "stream",
          "name": "stdout",
          "text": [
            "{'a': 1, 'b': 2, 'c': 3}\n"
          ]
        }
      ]
    },
    {
      "cell_type": "markdown",
      "source": [
        "6. Make an OrderedDict called fancy from the same pairs listed in 5 and print it. Did it print in the same order as plain?"
      ],
      "metadata": {
        "id": "D54YV87Q44wI"
      }
    },
    {
      "cell_type": "code",
      "source": [
        "from collections import OrderedDict\n",
        "fancy = OrderedDict(plain_dict)\n",
        "print(\"plain_dictionary --->{0}\".format(plain_dict))\n",
        "print(\"Fancy dictionary --->{0}\".format(fancy))\n"
      ],
      "metadata": {
        "id": "d-irfBPN6B0T",
        "colab": {
          "base_uri": "https://localhost:8080/"
        },
        "outputId": "838659e4-22fc-4346-d0d1-99e64a2affe8"
      },
      "execution_count": null,
      "outputs": [
        {
          "output_type": "stream",
          "name": "stdout",
          "text": [
            "plain_dictionary --->{'a': 1, 'b': 2, 'c': 3}\n",
            "Fancy dictionary --->OrderedDict([('a', 1), ('b', 2), ('c', 3)])\n"
          ]
        }
      ]
    },
    {
      "cell_type": "markdown",
      "source": [
        "###Answer \n",
        "Yes it printed in the same oder"
      ],
      "metadata": {
        "id": "HmmEafZgY0Lt"
      }
    },
    {
      "cell_type": "markdown",
      "source": [
        "7. Make a default dictionary called dict_of_lists and pass it the argument list. Make the list dict_of_lists['a'] and append the value 'something for a' to it in one assignment. Print dict_of_lists['a']."
      ],
      "metadata": {
        "id": "StzU4guF44kI"
      }
    },
    {
      "cell_type": "code",
      "execution_count": null,
      "metadata": {
        "id": "oJbMxJrY4eVA",
        "colab": {
          "base_uri": "https://localhost:8080/"
        },
        "outputId": "93146205-5132-451b-d370-96743797f7c7"
      },
      "outputs": [
        {
          "output_type": "stream",
          "name": "stdout",
          "text": [
            "something for a\n"
          ]
        }
      ],
      "source": [
        "from collections import defaultdict\n",
        "dict_of_list = defaultdict(list)\n",
        "dict_of_list['a'] = 'something for a'\n",
        "print(dict_of_list['a'])"
      ]
    }
  ]
}