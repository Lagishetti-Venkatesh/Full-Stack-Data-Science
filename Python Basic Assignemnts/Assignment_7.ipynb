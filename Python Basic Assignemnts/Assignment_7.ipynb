{
  "nbformat": 4,
  "nbformat_minor": 0,
  "metadata": {
    "colab": {
      "name": "Assignment_7.ipynb",
      "provenance": [],
      "collapsed_sections": []
    },
    "kernelspec": {
      "name": "python3",
      "display_name": "Python 3"
    },
    "language_info": {
      "name": "python"
    }
  },
  "cells": [
    {
      "cell_type": "markdown",
      "metadata": {
        "id": "x1Q6zjOJBMUQ"
      },
      "source": [
        "\n",
        "1. What is the name of the feature responsible for generating Regex objects?\n"
      ]
    },
    {
      "cell_type": "code",
      "metadata": {
        "id": "02dypSq2GgPE"
      },
      "source": [
        "'''\n",
        "Answer:\n",
        "re.compile(pattern) --> will generate regex objects of desired pattern.\n",
        "'''\n"
      ],
      "execution_count": null,
      "outputs": []
    },
    {
      "cell_type": "markdown",
      "metadata": {
        "id": "j7PVDLMgBMEC"
      },
      "source": [
        "2. Why do raw strings often appear in Regex objects?"
      ]
    },
    {
      "cell_type": "code",
      "metadata": {
        "id": "ykEnfw5HGhHQ"
      },
      "source": [
        "'''\n",
        "Answer:\n",
        "raw string are used So, in regex object because backslash cannot be used as a escape characters.\n",
        "\n",
        "'''"
      ],
      "execution_count": null,
      "outputs": []
    },
    {
      "cell_type": "markdown",
      "metadata": {
        "id": "mu5fecYvBL2r"
      },
      "source": [
        "3. What is the return value of the search() method?"
      ]
    },
    {
      "cell_type": "code",
      "metadata": {
        "id": "oNkCXtZFGhk5"
      },
      "source": [
        "'''\n",
        "Answer:\n",
        "search() method will return the matched objects else will return the None.\n",
        "'''"
      ],
      "execution_count": null,
      "outputs": []
    },
    {
      "cell_type": "markdown",
      "metadata": {
        "id": "e-K5SKmJBLm3"
      },
      "source": [
        "4. From a Match item, how do you get the actual strings that match the pattern?"
      ]
    },
    {
      "cell_type": "code",
      "metadata": {
        "id": "1PmvQu9oGiEY"
      },
      "source": [
        "'''\n",
        "Answer:\n",
        "matchedobject.group() method will return the actual string that match the pattern.\n",
        "'''"
      ],
      "execution_count": null,
      "outputs": []
    },
    {
      "cell_type": "markdown",
      "metadata": {
        "id": "cb_IZkv7BLYS"
      },
      "source": [
        "5. In the regex which created from the r'(\\d\\d\\d)-(\\d\\d\\d-\\d\\d\\d\\d)', what does group zero cover? Group 2? Group 1?"
      ]
    },
    {
      "cell_type": "code",
      "metadata": {
        "id": "ZrYToeYgGjCh"
      },
      "source": [
        "'''\n",
        "Answer:\n",
        "group zero ---> covers the whole matched pattern\n",
        "group 1 ---> will cover the (\\d\\d\\d) group.\n",
        "group 2 ---> will cover the (\\d\\d\\d-\\d\\d\\d\\d) group.\n",
        "\n",
        "'''"
      ],
      "execution_count": null,
      "outputs": []
    },
    {
      "cell_type": "markdown",
      "metadata": {
        "id": "WsCTaB8bBLL0"
      },
      "source": [
        "6. In standard expression syntax, parentheses and intervals have distinct meanings. How can you tell a regex that you want it to fit real parentheses and periods?"
      ]
    },
    {
      "cell_type": "code",
      "metadata": {
        "id": "wDmmgv5NGjsi"
      },
      "source": [
        "'''\n",
        "by using backslash \\ followed by parentheses and intervals or symbols which have distinct meaning in regex we can escape.\n",
        "'''"
      ],
      "execution_count": null,
      "outputs": []
    },
    {
      "cell_type": "markdown",
      "metadata": {
        "id": "rLI1V_ztBLCq"
      },
      "source": [
        "7. The findall() method returns a string list or a list of string tuples. What causes it to return one of the two options?"
      ]
    },
    {
      "cell_type": "code",
      "metadata": {
        "id": "IBJuNqv7GkfI"
      },
      "source": [
        "'''\n",
        "findall() method return is dependent on the grouped pattern or ungrouped pattern \n",
        "if it is ungrouped it will return the list of matched strings.\n",
        "it is grouped it will return the list of tuples having mactched strings. \n",
        "'''"
      ],
      "execution_count": null,
      "outputs": []
    },
    {
      "cell_type": "markdown",
      "metadata": {
        "id": "7CEq-O6EBK5V"
      },
      "source": [
        "8. In standard expressions, what does the | character mean?"
      ]
    },
    {
      "cell_type": "code",
      "metadata": {
        "id": "VebWrFf8GlQ1"
      },
      "source": [
        "'''\n",
        "Answer:\n",
        "in regex the Character | is called as a pipe which is used for situations of finding either pattern1 or pattern2\n",
        "syntax:\n",
        "   re.compile(r'pattern1|pattern2')\n",
        "    \n",
        "'''"
      ],
      "execution_count": null,
      "outputs": []
    },
    {
      "cell_type": "markdown",
      "metadata": {
        "id": "PDmoUiYtBKvR"
      },
      "source": [
        "9. In regular expressions, what does the character stand for?"
      ]
    },
    {
      "cell_type": "code",
      "metadata": {
        "id": "vjRjEK5MGmU1"
      },
      "source": [
        "'''\n",
        "Answer:\n",
        "? stands for Matching zero or one of the preceeding group.\n",
        "'''"
      ],
      "execution_count": null,
      "outputs": []
    },
    {
      "cell_type": "markdown",
      "metadata": {
        "id": "VZgTVwzSBKmG"
      },
      "source": [
        "10.In regular expressions, what is the difference between the + and * characters?"
      ]
    },
    {
      "cell_type": "code",
      "metadata": {
        "id": "fe2eI8EaGnGY"
      },
      "source": [
        "'''\n",
        "Answer:\n",
        "+ match preceeding character atleast one time or more/greater number of times.\n",
        "* match preceeding character atleast zero time or more/greater number of  times.\n",
        "'''"
      ],
      "execution_count": null,
      "outputs": []
    },
    {
      "cell_type": "markdown",
      "metadata": {
        "id": "08irx1ttBKbS"
      },
      "source": [
        "11. What is the difference between {4} and {4,5} in regular expression?"
      ]
    },
    {
      "cell_type": "code",
      "metadata": {
        "id": "64IYizDaGn68"
      },
      "source": [
        "'''\n",
        "{4}--> Match preceeding character exactly at 4 times.\n",
        "{4, 5}  --> MAtch Preceeding Character exactly at 4 or 5 times.\n",
        "'''"
      ],
      "execution_count": null,
      "outputs": []
    },
    {
      "cell_type": "markdown",
      "metadata": {
        "id": "ZdLuswFdBKQd"
      },
      "source": [
        "12. What do you mean by the \\d, \\w, and \\s shorthand character classes signify in regular expressions?"
      ]
    },
    {
      "cell_type": "code",
      "metadata": {
        "id": "e8VK6LoRGpTU"
      },
      "source": [
        "'''\n",
        "Answer:\n",
        "\\d signify the single digits.\n",
        "\\w signify the single letter, digit and underscore.\n",
        "\\s signify the single space character.\n",
        "'''"
      ],
      "execution_count": null,
      "outputs": []
    },
    {
      "cell_type": "markdown",
      "metadata": {
        "id": "buaSl_aTBKFW"
      },
      "source": [
        "13. What do means by \\D, \\W, and \\S shorthand character classes signify in regular expressions?"
      ]
    },
    {
      "cell_type": "code",
      "metadata": {
        "id": "WmVr_iJ1Gp0W"
      },
      "source": [
        "'''\n",
        "Answer:\n",
        "\\D -->  matches any decimal digit not a part of  \\d.\n",
        "\\W --> matches any character which is not a part of \\w.\n",
        "\\S --> matches any character which is not a part of \\s.\n",
        "'''"
      ],
      "execution_count": null,
      "outputs": []
    },
    {
      "cell_type": "code",
      "metadata": {
        "id": "V1-PE_AEGqjo"
      },
      "source": [
        "#####################################################################\n",
        "#14. What is the difference between '.*' and '.*?'\n",
        "#####################################################################\n",
        "'''\n",
        "Answer:\n",
        " .* is a greedy approach will try to match as many repetitions of the quantified pattern as possible\n",
        " .*? is a non-greed approach will try to match as few repetitions of the quantified pattern as possible.\n",
        "'''"
      ],
      "execution_count": null,
      "outputs": []
    },
    {
      "cell_type": "markdown",
      "metadata": {
        "id": "mqe-R32iBImN"
      },
      "source": [
        "15. What is the syntax for matching both numbers and lowercase letters with a character class?"
      ]
    },
    {
      "cell_type": "code",
      "metadata": {
        "id": "VTtYUsI4GuQF"
      },
      "source": [
        "'''\n",
        "Answer:\n",
        "[a-z0-9]\n",
        "'''"
      ],
      "execution_count": null,
      "outputs": []
    },
    {
      "cell_type": "markdown",
      "metadata": {
        "id": "UgrNeVliBIiD"
      },
      "source": [
        "16. What is the procedure for making a normal expression in regax case insensitive?"
      ]
    },
    {
      "cell_type": "code",
      "metadata": {
        "id": "F1f5sY5uGuqp"
      },
      "source": [
        "'''\n",
        "Answer:\n",
        "re.compile(pattern, re.I)\n",
        "re.I or re.IGNORECASE --> will ignore the cases. and makes the \n",
        "'''"
      ],
      "execution_count": null,
      "outputs": []
    },
    {
      "cell_type": "markdown",
      "metadata": {
        "id": "xokmUbXQBIf7"
      },
      "source": [
        "17. What does the . character normally match? What does it match if re.DOTALL is passed as 2nd argument in re.compile()?"
      ]
    },
    {
      "cell_type": "code",
      "metadata": {
        "id": "tusx_0GVGvHU"
      },
      "source": [
        "'''\n",
        "Answer\n",
        "Period (.) --> will match any character other than newline\n",
        "re.DOTALL --> will match any character all the character along with the new line.\n",
        "'''"
      ],
      "execution_count": null,
      "outputs": []
    },
    {
      "cell_type": "markdown",
      "metadata": {
        "id": "ojJadN7qBIbj"
      },
      "source": [
        "18. If numReg = re.compile(r'\\d+'), what will numRegex.sub('X', '11 drummers, 10 pipers, five rings, 4 hen') return?"
      ]
    },
    {
      "cell_type": "code",
      "metadata": {
        "id": "qqakR1JgGwAD"
      },
      "source": [
        "'''\n",
        "Answer:\n",
        "numRegex.sub('X', '11 drummers, 10 pipers, five rings, 4 hen') \n",
        "will replace the digits with the character X in the string \"11 drummers, 10 pipers, five rings, 4 hen\" which results in \"X drummers, X pipers, five rings, X hen\"\n",
        "'''"
      ],
      "execution_count": null,
      "outputs": []
    },
    {
      "cell_type": "markdown",
      "metadata": {
        "id": "E3rdKQO_BIZA"
      },
      "source": [
        "19. What does passing re.VERBOSE as the 2nd argument to re.compile() allow to do?"
      ]
    },
    {
      "cell_type": "code",
      "source": [
        "'''\n",
        "Answer:\n",
        "re.VERBOSE will allow you to pass the comments, white spaces and new line to the pattern that need to be matched\n",
        "'''"
      ],
      "metadata": {
        "id": "ZEdLzT7HtmIa"
      },
      "execution_count": null,
      "outputs": []
    },
    {
      "cell_type": "markdown",
      "metadata": {
        "id": "3L4_ryFjBIVk"
      },
      "source": [
        "20. How would you write a regex that match a number with comma for every three digits? It must match the given following:\n",
        "\n",
        "'42'\n",
        "\n",
        "'1,234'\n",
        "\n",
        "'6,368,745'\n",
        "\n",
        "but not the following:\n",
        "\n",
        "'12,34,567' (which has only two digits between the commas)\n",
        "\n",
        "'1234' (which lacks commas)\n"
      ]
    },
    {
      "cell_type": "code",
      "source": [
        "import re\n",
        "\n",
        "def matchtext(text):\n",
        "    pattern = re.compile(r'^\\d{1,3}(,\\d{3})*$')\n",
        "    print(pattern.search(text))\n",
        "\n",
        "print(matchtext('42'))\n",
        "print(matchtext('1,234'))\n",
        "print(matchtext('6,368,745'))\n",
        "print(matchtext('12,34,567' ))\n",
        "print(matchtext('1234'))"
      ],
      "metadata": {
        "colab": {
          "base_uri": "https://localhost:8080/"
        },
        "id": "o29JtQGlnlZ4",
        "outputId": "9862147f-e2b5-44a0-bb62-b1f326d9e822"
      },
      "execution_count": null,
      "outputs": [
        {
          "output_type": "stream",
          "name": "stdout",
          "text": [
            "<re.Match object; span=(0, 2), match='42'>\n",
            "None\n",
            "<re.Match object; span=(0, 5), match='1,234'>\n",
            "None\n",
            "<re.Match object; span=(0, 9), match='6,368,745'>\n",
            "None\n",
            "None\n",
            "None\n",
            "None\n",
            "None\n"
          ]
        }
      ]
    },
    {
      "cell_type": "markdown",
      "metadata": {
        "id": "L8sUV_IKBISJ"
      },
      "source": [
        "21. How would you write a regex that matches the full name of someone whose last name is Watanabe? You can assume that the first name that comes before it will always be one word that begins with a capital letter. The regex must match\n",
        "\n",
        " the following:\n",
        "\n",
        "'Haruto Watanabe'\n",
        "\n",
        "'Alice Watanabe'\n",
        "\n",
        "'RoboCop Watanabe'\n",
        "\n",
        "but not the following:\n",
        "\n",
        "'haruto Watanabe' (where the first name is not capitalized)\n",
        "\n",
        "'Mr. Watanabe' (where the preceding word has a nonletter character)\n",
        "\n",
        "'Watanabe' (which has no first name)\n",
        "\n",
        "'Haruto watanabe' (where Watanabe is not capitalized)\n"
      ]
    },
    {
      "cell_type": "code",
      "metadata": {
        "id": "Yty20IpBG0Eu",
        "colab": {
          "base_uri": "https://localhost:8080/"
        },
        "outputId": "470905f4-99c9-49ad-ef7e-e04355b97168"
      },
      "source": [
        "import re\n",
        "\n",
        "def matchtext(text):\n",
        "    pattern = re.compile(r'[A-Z][a-z]*\\sWatanabe')\n",
        "    print(pattern.search(text))\n",
        "\n",
        "print(matchtext('Haruto Watanabe Alice Watanabe'))\n",
        "print(matchtext('Alice Watanabe'))\n",
        "print(matchtext('RoboCop Watanabe'))\n",
        "print(matchtext('haruto Watanabe'))\n",
        "print(matchtext('Watanabe'))\n",
        "print(matchtext('Mr. Watanabe'))\n",
        "print(matchtext('Haruto watanabe'))\n",
        "\n"
      ],
      "execution_count": null,
      "outputs": [
        {
          "output_type": "stream",
          "name": "stdout",
          "text": [
            "<re.Match object; span=(0, 15), match='Haruto Watanabe'>\n",
            "None\n",
            "<re.Match object; span=(0, 14), match='Alice Watanabe'>\n",
            "None\n",
            "<re.Match object; span=(4, 16), match='Cop Watanabe'>\n",
            "None\n",
            "None\n",
            "None\n",
            "None\n",
            "None\n",
            "None\n",
            "None\n",
            "None\n",
            "None\n"
          ]
        }
      ]
    },
    {
      "cell_type": "markdown",
      "metadata": {
        "id": "KM9LEoK6BIPQ"
      },
      "source": [
        "22. How would you write a regex that matches a sentence where the first word is either Alice, Bob, or Carol; the second word is either eats, pets, or throws; the third word is apples, cats, or baseballs; and the sentence ends with a period? This regex should be case-insensitive. It must match the following:\n",
        "\n",
        "'Alice eats apples.'\n",
        "\n",
        "'Bob pets cats.'\n",
        "\n",
        "'Carol throws baseballs.'\n",
        "\n",
        "'Alice throws Apples.'\n",
        "\n",
        "'BOB EATS CATS.'\n",
        "\n",
        "but not the following:\n",
        "\n",
        "'RoboCop eats apples.'\n",
        "\n",
        "'ALICE THROWS FOOTBALLS.'\n",
        "\n",
        "'Carol eats 7 cats.'\n",
        "\n"
      ]
    },
    {
      "cell_type": "code",
      "metadata": {
        "id": "xSdq94t4G9Tc",
        "colab": {
          "base_uri": "https://localhost:8080/"
        },
        "outputId": "ff8893fa-5150-43c0-c5f5-a608821e087b"
      },
      "source": [
        "\n",
        "def matchtext(text):\n",
        "    pattern = re.compile(r'(Alice|Bob|Carol)\\s(eats|pets|throws)\\s(apples|cats|baseballs)\\.', re.I)\n",
        "    print(pattern.search(text))\n",
        "\n",
        "print(matchtext('Alice eats apples.'))\n",
        "print(matchtext('Bob pets cats.'))\n",
        "print(matchtext('Carol throws baseballs.'))\n",
        "print(matchtext('Alice throws Apples.'))\n",
        "print(matchtext('BOB EATS CATS.'))\n",
        "print(matchtext('RoboCop eats apples.'))\n",
        "print(matchtext('ALICE THROWS FOOTBALLS.'))\n",
        "print(matchtext('Carol eats 7 cats.'))"
      ],
      "execution_count": null,
      "outputs": [
        {
          "output_type": "stream",
          "name": "stdout",
          "text": [
            "<re.Match object; span=(0, 18), match='Alice eats apples.'>\n",
            "None\n",
            "<re.Match object; span=(0, 14), match='Bob pets cats.'>\n",
            "None\n",
            "<re.Match object; span=(0, 23), match='Carol throws baseballs.'>\n",
            "None\n",
            "<re.Match object; span=(0, 20), match='Alice throws Apples.'>\n",
            "None\n",
            "<re.Match object; span=(0, 14), match='BOB EATS CATS.'>\n",
            "None\n",
            "None\n",
            "None\n",
            "None\n",
            "None\n",
            "None\n",
            "None\n"
          ]
        }
      ]
    },
    {
      "cell_type": "code",
      "source": [
        ""
      ],
      "metadata": {
        "id": "BB5SuN7kzR16"
      },
      "execution_count": null,
      "outputs": []
    }
  ]
}