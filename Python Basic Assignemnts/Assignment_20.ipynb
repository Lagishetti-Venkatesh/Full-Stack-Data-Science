{
 "cells": [
  {
   "cell_type": "markdown",
   "metadata": {
    "id": "aWV4VXtK-Kgy"
   },
   "source": [
    "1. Set the variable test1 to the string 'This is a test of the emergency text system,' and save test1 to a file named test.txt."
   ]
  },
  {
   "cell_type": "code",
   "execution_count": 1,
   "metadata": {
    "id": "UALF9i6X-waW"
   },
   "outputs": [],
   "source": [
    "test1 = 'This is a test of the emergency text system,'\n",
    "file = open('test.txt', 'w')\n",
    "file.write(test1)\n",
    "file.close()"
   ]
  },
  {
   "cell_type": "markdown",
   "metadata": {
    "id": "DAIxHKur-KXa"
   },
   "source": [
    "2. Read the contents of the file test.txt into the variable test2. Is there a difference between test 1 and test 2?"
   ]
  },
  {
   "cell_type": "code",
   "execution_count": 2,
   "metadata": {
    "colab": {
     "base_uri": "https://localhost:8080/"
    },
    "id": "1uL69NMg-xBi",
    "outputId": "fac59f9d-8ae5-4a60-9915-9cf7878db151"
   },
   "outputs": [
    {
     "name": "stdout",
     "output_type": "stream",
     "text": [
      "This is a test of the emergency text system,\n"
     ]
    }
   ],
   "source": [
    "file = open('test.txt', 'r')\n",
    "test2 = file.read()\n",
    "file.close()\n",
    "print(test2)"
   ]
  },
  {
   "cell_type": "markdown",
   "metadata": {
    "id": "VMAZrwAn-KMg"
   },
   "source": [
    "3. Create a CSV file called books.csv by using these lines:\n",
    "<p>\n",
    "title,author,year</br>\n",
    "The Weirdstone of Brisingamen,Alan Garner,1960</br>\n",
    "Perdido Street Station,China Miéville,2000</br>\n",
    "Thud!,Terry Pratchett,2005</br>\n",
    "The Spellman Files,Lisa Lutz,2007</br>\n",
    "Small Gods,Terry Pratchett,1992</br>\n",
    "</p>"
   ]
  },
  {
   "cell_type": "code",
   "execution_count": 3,
   "metadata": {
    "id": "WGMWmyrd-xh2"
   },
   "outputs": [],
   "source": [
    "data = '''title,author,year\n",
    "The Weirdstone of Brisingamen,Alan Garner,1960\n",
    "Perdido Street Station,China Miéville,2000\n",
    "Thud!,Terry Pratchett,2005\n",
    "The Spellman Files,Lisa Lutz,2007\n",
    "Small Gods,Terry Pratchett,1992'''\n",
    "file = open('books.csv', 'w')\n",
    "file.write(data)\n",
    "file.close()\n"
   ]
  },
  {
   "cell_type": "markdown",
   "metadata": {
    "id": "RbSoGjPd-KE0"
   },
   "source": [
    "4. Use the sqlite3 module to create a SQLite database called books.db, and a table called books with these fields: title (text), author (text), and year (integer)."
   ]
  },
  {
   "cell_type": "code",
   "execution_count": 4,
   "metadata": {
    "id": "3vpd-E-3-uNc"
   },
   "outputs": [],
   "source": [
    "import sqlite3\n",
    "\n",
    "connection = sqlite3.connect('books.db')\n",
    "cursor = connection.cursor()\n",
    "cursor.execute(\"CREATE Table books(title TEXT, author TEXT, year INTEGER)\")\n",
    "connection.commit()\n",
    "connection.close()\n"
   ]
  },
  {
   "cell_type": "markdown",
   "metadata": {
    "id": "80F8D2rn-J8V"
   },
   "source": [
    "5. Read books.csv and insert its data into the book table."
   ]
  },
  {
   "cell_type": "code",
   "execution_count": 5,
   "metadata": {
    "id": "3Fn3EDk9-trB"
   },
   "outputs": [],
   "source": [
    "import sqlite3\n",
    "import csv\n",
    "connection = sqlite3.connect('books.db')\n",
    "cursor = connection.cursor()\n",
    "with open('books.csv', 'r') as data:\n",
    "    books = csv.DictReader(data)\n",
    "    for book in books:\n",
    "        cursor.execute(\"INSERT INTO books VALUES(?,?,?)\", (book['title'], book['author'], book['year']))\n",
    "connection.commit()\n",
    "connection.close()"
   ]
  },
  {
   "cell_type": "markdown",
   "metadata": {
    "id": "YWr5BmVG-Jze"
   },
   "source": [
    "6. Select and print the title column from the book table in alphabetical order."
   ]
  },
  {
   "cell_type": "code",
   "execution_count": 6,
   "metadata": {
    "colab": {
     "base_uri": "https://localhost:8080/"
    },
    "id": "P64e4oDT-tTZ",
    "outputId": "1695074d-bff8-415e-f031-eb5c9081f09b"
   },
   "outputs": [
    {
     "name": "stdout",
     "output_type": "stream",
     "text": [
      "Perdido Street Station\n",
      "Small Gods\n",
      "The Spellman Files\n",
      "The Weirdstone of Brisingamen\n",
      "Thud!\n"
     ]
    }
   ],
   "source": [
    "connection = sqlite3.connect('books.db')\n",
    "cursor = connection.cursor()\n",
    "result = cursor.execute('SELECT title from books ORDER BY title ASC')\n",
    "for data in result:\n",
    "    print(data[0])\n",
    "connection.commit()\n",
    "connection.close()"
   ]
  },
  {
   "cell_type": "markdown",
   "metadata": {
    "id": "nrHO3q5S-Jrg"
   },
   "source": [
    "7. From the book table, select and print all columns in the order of publication."
   ]
  },
  {
   "cell_type": "code",
   "execution_count": 7,
   "metadata": {
    "colab": {
     "base_uri": "https://localhost:8080/"
    },
    "id": "jvDWtni1-s5k",
    "outputId": "6ff51c9a-9406-4fcf-f20c-4d2b45c67a14"
   },
   "outputs": [
    {
     "name": "stdout",
     "output_type": "stream",
     "text": [
      "('The Weirdstone of Brisingamen', 'Alan Garner', 1960)\n",
      "('Small Gods', 'Terry Pratchett', 1992)\n",
      "('Perdido Street Station', 'China Miéville', 2000)\n",
      "('Thud!', 'Terry Pratchett', 2005)\n",
      "('The Spellman Files', 'Lisa Lutz', 2007)\n"
     ]
    }
   ],
   "source": [
    "connection = sqlite3.connect('books.db')\n",
    "cursor = connection.cursor()\n",
    "result = cursor.execute('SELECT * from books ORDER BY year')\n",
    "for data in result:\n",
    "    print(data)\n",
    "connection.commit()\n",
    "connection.close()"
   ]
  },
  {
   "cell_type": "markdown",
   "metadata": {
    "id": "_xkFk-_q-FXT"
   },
   "source": [
    "8. Use the sqlalchemy module to connect to the sqlite3 database books.db that you just made in exercise 6."
   ]
  },
  {
   "cell_type": "code",
   "execution_count": 8,
   "metadata": {},
   "outputs": [
    {
     "name": "stdout",
     "output_type": "stream",
     "text": [
      "Requirement already satisfied: sqlalchemy in /home/venkatesh/.local/lib/python3.9/site-packages (1.4.31)\n",
      "Requirement already satisfied: greenlet!=0.4.17 in /home/venkatesh/.local/lib/python3.9/site-packages (from sqlalchemy) (1.1.2)\n"
     ]
    }
   ],
   "source": [
    "!pip3 install sqlalchemy"
   ]
  },
  {
   "cell_type": "code",
   "execution_count": 9,
   "metadata": {
    "colab": {
     "base_uri": "https://localhost:8080/"
    },
    "id": "84rHenSC-sh9",
    "outputId": "e7c9c4bd-6cf8-4926-f042-75dece8ceccf"
   },
   "outputs": [
    {
     "data": {
      "text/plain": [
       "Engine(sqlite:///books.db)"
      ]
     },
     "execution_count": 9,
     "metadata": {},
     "output_type": "execute_result"
    }
   ],
   "source": [
    "import sqlalchemy\n",
    "connection = sqlalchemy.create_engine('sqlite:///books.db')\n",
    "connection"
   ]
  },
  {
   "cell_type": "markdown",
   "metadata": {
    "id": "fVBPyAgu-FMR"
   },
   "source": [
    "9. Install the Redis server and the Python redis library (pip install redis) on your computer. Create a Redis hash called test with the fields count (1) and name ('Fester Bestertester'). Print all the fields for test."
   ]
  },
  {
   "cell_type": "code",
   "execution_count": 10,
   "metadata": {},
   "outputs": [
    {
     "name": "stdout",
     "output_type": "stream",
     "text": [
      "Requirement already satisfied: redis in /home/venkatesh/.local/lib/python3.9/site-packages (4.1.3)\n",
      "Requirement already satisfied: packaging>=20.4 in /usr/lib/python3/dist-packages (from redis) (20.9)\n",
      "Requirement already satisfied: deprecated>=1.2.3 in /home/venkatesh/.local/lib/python3.9/site-packages (from redis) (1.2.13)\n",
      "Requirement already satisfied: wrapt<2,>=1.10 in /home/venkatesh/.local/lib/python3.9/site-packages (from deprecated>=1.2.3->redis) (1.13.3)\n"
     ]
    }
   ],
   "source": [
    "! python3 -m pip install redis"
   ]
  },
  {
   "cell_type": "code",
   "execution_count": 11,
   "metadata": {
    "colab": {
     "base_uri": "https://localhost:8080/",
     "height": 433
    },
    "id": "kf3jvnfUP7gT",
    "outputId": "67949682-658c-4fa5-f0eb-df8f7b502546"
   },
   "outputs": [
    {
     "name": "stdout",
     "output_type": "stream",
     "text": [
      "Test:  {b'Name': b'Fester Bestertester', b'count': b'1'}\n",
      "Test2:  {b'Name': b'Fester Bestertester', b'count': b'1'}\n"
     ]
    },
    {
     "name": "stderr",
     "output_type": "stream",
     "text": [
      "<ipython-input-11-d0608032521a>:11: DeprecationWarning: Redis.hmset() is deprecated. Use Redis.hset() instead.\n",
      "  conn.hmset('test2', test)\n"
     ]
    }
   ],
   "source": [
    "import redis\n",
    "import redis\n",
    "conn = redis.Redis('localhost')\n",
    "\n",
    "test = {\"Name\":\"Fester Bestertester\", 'count':1}\n",
    "\n",
    "conn.hset(\"test\", 'Name',\"Fester Bestertester\")\n",
    "conn.hset(\"test\", \"count\", 1)\n",
    "\n",
    "print('Test: ',conn.hgetall('test'))\n",
    "conn.hmset('test2', test)\n",
    "print(\"Test2: \",conn.hgetall('test2'))"
   ]
  },
  {
   "cell_type": "markdown",
   "metadata": {
    "id": "bL6iytB1-FCJ"
   },
   "source": [
    "10. Increment the count field of test and print it."
   ]
  },
  {
   "cell_type": "code",
   "execution_count": 12,
   "metadata": {
    "id": "iz-HAIAq-As-"
   },
   "outputs": [
    {
     "data": {
      "text/plain": [
       "b'2'"
      ]
     },
     "execution_count": 12,
     "metadata": {},
     "output_type": "execute_result"
    }
   ],
   "source": [
    "conn.hincrby('test', 'count', 1)\n",
    "conn.hget('test', 'count')"
   ]
  },
  {
   "cell_type": "code",
   "execution_count": null,
   "metadata": {},
   "outputs": [],
   "source": []
  }
 ],
 "metadata": {
  "colab": {
   "collapsed_sections": [],
   "name": "Assignment_20.ipynb",
   "provenance": []
  },
  "kernelspec": {
   "display_name": "Python 3",
   "language": "python",
   "name": "python3"
  },
  "language_info": {
   "codemirror_mode": {
    "name": "ipython",
    "version": 3
   },
   "file_extension": ".py",
   "mimetype": "text/x-python",
   "name": "python",
   "nbconvert_exporter": "python",
   "pygments_lexer": "ipython3",
   "version": "3.9.7"
  }
 },
 "nbformat": 4,
 "nbformat_minor": 1
}
