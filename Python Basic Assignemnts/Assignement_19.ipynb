{
  "nbformat": 4,
  "nbformat_minor": 0,
  "metadata": {
    "colab": {
      "name": "Assignement_19.ipynb",
      "provenance": [],
      "collapsed_sections": []
    },
    "kernelspec": {
      "name": "python3",
      "display_name": "Python 3"
    },
    "language_info": {
      "name": "python"
    }
  },
  "cells": [
    {
      "cell_type": "markdown",
      "source": [
        "1. Make a class called Thing with no contents and print it. Then, create an object called example from this class and also print it. Are the printed values the same or different?"
      ],
      "metadata": {
        "id": "203CimBE9MEI"
      }
    },
    {
      "cell_type": "code",
      "source": [
        "class Thing:\n",
        "    pass\n",
        "print(Thing)\n",
        "ob = Thing()\n",
        "print(ob)"
      ],
      "metadata": {
        "id": "WGf1vt8m95p6",
        "colab": {
          "base_uri": "https://localhost:8080/"
        },
        "outputId": "13ad1304-b868-475b-e7a6-7a11b224b66e"
      },
      "execution_count": null,
      "outputs": [
        {
          "output_type": "stream",
          "name": "stdout",
          "text": [
            "<class '__main__.Thing'>\n",
            "<__main__.Thing object at 0x7f5086f2d2d0>\n"
          ]
        }
      ]
    },
    {
      "cell_type": "markdown",
      "source": [
        "###Answer:\n",
        "No both are not Same."
      ],
      "metadata": {
        "id": "3q6GUTazbDRw"
      }
    },
    {
      "cell_type": "markdown",
      "source": [
        "2. Create a new class called Thing2 and add the value 'abc' to the letters class attribute. Letters should be printed."
      ],
      "metadata": {
        "id": "OdD1FNwb9L5N"
      }
    },
    {
      "cell_type": "code",
      "source": [
        "class Thing2():\n",
        "    letters = 'abc'\n",
        "ob = Thing2()\n",
        "print(ob.letters)"
      ],
      "metadata": {
        "id": "D8nTEnBH94a-",
        "colab": {
          "base_uri": "https://localhost:8080/"
        },
        "outputId": "dca12b7b-37b7-4695-c9ba-b72cd03f4125"
      },
      "execution_count": null,
      "outputs": [
        {
          "output_type": "stream",
          "name": "stdout",
          "text": [
            "abc\n"
          ]
        }
      ]
    },
    {
      "cell_type": "markdown",
      "source": [
        "3. Make yet another class called, of course, Thing3. This time, assign the value 'xyz' to an instance (object) attribute called letters. Print letters. Do you need to make an object from the class to do this?"
      ],
      "metadata": {
        "id": "2g_lzNT29Lwl"
      }
    },
    {
      "cell_type": "code",
      "source": [
        "class Thing3():\n",
        "    def __init__(self):\n",
        "        self.letters = 'xyz'\n",
        "ob = Thing3()\n",
        "\n",
        "print(ob.letters)\n",
        "#Yes we need an object from class to do this."
      ],
      "metadata": {
        "id": "4Vmv5CPK9385",
        "colab": {
          "base_uri": "https://localhost:8080/"
        },
        "outputId": "6d99869e-1382-4b4d-ee46-c42c173e514d"
      },
      "execution_count": null,
      "outputs": [
        {
          "output_type": "stream",
          "name": "stdout",
          "text": [
            "xyz\n"
          ]
        }
      ]
    },
    {
      "cell_type": "markdown",
      "source": [
        "4. Create an Element class with the instance attributes name, symbol, and number. Create a class object with the values 'Hydrogen,' 'H,' and 1."
      ],
      "metadata": {
        "id": "ycHftfek9LjR"
      }
    },
    {
      "cell_type": "code",
      "source": [
        "class Element():\n",
        "    def __init__(self, name, symbol, number):\n",
        "        self.name = name\n",
        "        self.symbol = symbol\n",
        "        self.number = number\n",
        "ob = Element('Hydrogen', 'H', 1)\n",
        "print(ob.name, ob.symbol, ob.number, sep=\", \")"
      ],
      "metadata": {
        "id": "ffLeM4IM92qd",
        "colab": {
          "base_uri": "https://localhost:8080/"
        },
        "outputId": "78f8db2a-5d02-4329-9f6b-92c8637f7e32"
      },
      "execution_count": null,
      "outputs": [
        {
          "output_type": "stream",
          "name": "stdout",
          "text": [
            "Hydrogen, H, 1\n"
          ]
        }
      ]
    },
    {
      "cell_type": "markdown",
      "source": [
        "5. Make a dictionary with these keys and values: 'name': 'Hydrogen', 'symbol': 'H', 'number': 1. Then, create an object called hydrogen from class Element using this dictionary."
      ],
      "metadata": {
        "id": "byzRVHoZ82R4"
      }
    },
    {
      "cell_type": "code",
      "source": [
        "dict_elements = {'name':'Hydrogen', 'symbol':'H', 'number':1}\n",
        "hydrogen = Element(dict_elements['name'],dict_elements['symbol'], dict_elements['number'])\n",
        "print(hydrogen.name, hydrogen.symbol, hydrogen.number, sep=\"\\n\")"
      ],
      "metadata": {
        "id": "M965CcWx92RX",
        "colab": {
          "base_uri": "https://localhost:8080/"
        },
        "outputId": "b793bcb4-2877-4379-e63f-6e5aaed239e8"
      },
      "execution_count": null,
      "outputs": [
        {
          "output_type": "stream",
          "name": "stdout",
          "text": [
            "Hydrogen\n",
            "H\n",
            "1\n"
          ]
        }
      ]
    },
    {
      "cell_type": "markdown",
      "source": [
        "6. For the Element class, define a method called dump() that prints the values of the object’s attributes (name, symbol, and number). Create the hydrogen object from this new definition and use dump() to print its attributes."
      ],
      "metadata": {
        "id": "NN3tuHp682FV"
      }
    },
    {
      "cell_type": "code",
      "source": [
        "class Element:\n",
        "    def __init__(self, name, symbol, number):\n",
        "        self.name = name\n",
        "        self.symbol = symbol\n",
        "        self.number = number\n",
        "    def dump(self):\n",
        "        return \"name:{0}, symbol:{1}, number:{2}\".format(self.name, self.symbol, self.number)\n",
        "hydrogen = Element('Hydrogen', 'H', 1)\n",
        "print(hydrogen.dump())\n"
      ],
      "metadata": {
        "id": "nPjW1irk91Fx",
        "colab": {
          "base_uri": "https://localhost:8080/"
        },
        "outputId": "3d41b8b4-7383-42eb-e1d6-38248ba59b0f"
      },
      "execution_count": null,
      "outputs": [
        {
          "output_type": "stream",
          "name": "stdout",
          "text": [
            "name:Hydrogen, symbol:H, number:1\n"
          ]
        }
      ]
    },
    {
      "cell_type": "markdown",
      "source": [
        "7. Call print(hydrogen). In the definition of Element, change the name of method dump to __str__, create a new hydrogen object, and call print(hydrogen) again."
      ],
      "metadata": {
        "id": "TQdd_akG8146"
      }
    },
    {
      "cell_type": "code",
      "source": [
        "\n",
        "print(hydrogen)\n",
        "class Element:\n",
        "    def __init__(self, name, symbol, number):\n",
        "        self.name = name\n",
        "        self.symbol = symbol\n",
        "        self.number = number\n",
        "    def __str__(self):\n",
        "        return \"name:{0}, symbol:{1}, number:{2}\".format(self.name, self.symbol, self.number)\n",
        "hydrogen = Element('Hydrogen', 'H', 1)\n",
        "print(hydrogen)"
      ],
      "metadata": {
        "id": "EBKIpmNV90jS",
        "colab": {
          "base_uri": "https://localhost:8080/"
        },
        "outputId": "653c49c7-1699-4da5-c4af-25b6cef7e618"
      },
      "execution_count": null,
      "outputs": [
        {
          "output_type": "stream",
          "name": "stdout",
          "text": [
            "<__main__.Element object at 0x7f5083cc5850>\n",
            "name:Hydrogen, symbol:H, number:1\n"
          ]
        }
      ]
    },
    {
      "cell_type": "markdown",
      "source": [
        "8. Modify Element to make the attributes name, symbol, and number private. Define a getter property for each to return its value."
      ],
      "metadata": {
        "id": "jUj0aieJ81sW"
      }
    },
    {
      "cell_type": "code",
      "source": [
        "class Element:\n",
        "    def __init__(self, name, symbol, number):\n",
        "        self.__name = name\n",
        "        self.__symbol=symbol\n",
        "        self.__number = number\n",
        "    @property\n",
        "    def name(self):\n",
        "        return self.__name\n",
        "    \n",
        "    @property\n",
        "    def symbol(self):\n",
        "        return self.__symbol\n",
        "    @property\n",
        "    def number(self):\n",
        "        return self.__number\n",
        "\n",
        "hydrogen = Element('Hydrogen', 'H', 1)\n",
        "print(hydrogen.name, hydrogen.symbol, hydrogen.number, sep = \", \")  \n",
        "     "
      ],
      "metadata": {
        "id": "VSCKw90c9z1B",
        "colab": {
          "base_uri": "https://localhost:8080/"
        },
        "outputId": "f0dde9e3-f5cb-4d5b-dd6f-969c8670bfaa"
      },
      "execution_count": null,
      "outputs": [
        {
          "output_type": "stream",
          "name": "stdout",
          "text": [
            "Hydrogen, H, 1\n"
          ]
        }
      ]
    },
    {
      "cell_type": "markdown",
      "source": [
        "9. Define three classes: Bear, Rabbit, and Octothorpe. For each, define only one method: eats(). This should return 'berries' (Bear), 'clover' (Rabbit), or 'campers' (Octothorpe). Create one object from each and print what it eats."
      ],
      "metadata": {
        "id": "vqRrkqZ_81XV"
      }
    },
    {
      "cell_type": "code",
      "source": [
        "class Bear:\n",
        "    def eats(self):\n",
        "        return 'berries'\n",
        "class Rabbit:\n",
        "    def eats(self):\n",
        "        return 'clover'\n",
        "class Octothrope:\n",
        "    def eats(self):\n",
        "        return 'campers'\n",
        "\n",
        "b = Bear()\n",
        "print(b.eats())\n",
        "c = Rabbit()\n",
        "print(c.eats())\n",
        "O = Octothrope()\n",
        "print(O.eats())"
      ],
      "metadata": {
        "id": "K1K8OZt79zE5",
        "colab": {
          "base_uri": "https://localhost:8080/"
        },
        "outputId": "da496faf-641a-4f2d-ceb1-eef29cc1e3a4"
      },
      "execution_count": null,
      "outputs": [
        {
          "output_type": "stream",
          "name": "stdout",
          "text": [
            "berries\n",
            "clover\n",
            "campers\n"
          ]
        }
      ]
    },
    {
      "cell_type": "markdown",
      "source": [
        "10. Define these classes: Laser, Claw, and SmartPhone. Each has only one method: does(). This returns 'disintegrate' (Laser), 'crush' (Claw), or 'ring' (SmartPhone). Then, define the class Robot that has one instance (object) of each of these. Define a does() method for the Robot that prints what its component objects do."
      ],
      "metadata": {
        "id": "8YvW3ERT81JS"
      }
    },
    {
      "cell_type": "code",
      "execution_count": null,
      "metadata": {
        "id": "AkqIknWk8qyK",
        "colab": {
          "base_uri": "https://localhost:8080/",
          "height": 35
        },
        "outputId": "8765466b-ddf9-4fcb-a497-7b0ab0328d3c"
      },
      "outputs": [
        {
          "output_type": "execute_result",
          "data": {
            "application/vnd.google.colaboratory.intrinsic+json": {
              "type": "string"
            },
            "text/plain": [
              "'Laser:disintegrate, Claw :crush, smartphone: ring'"
            ]
          },
          "metadata": {},
          "execution_count": 14
        }
      ],
      "source": [
        "class Laser():\n",
        "    def does(self):\n",
        "        return 'disintegrate'\n",
        "class Claw():\n",
        "    def does(self):\n",
        "        return 'crush'\n",
        "class SmartPhone():\n",
        "    def does(self):\n",
        "        return 'ring'\n",
        "class Robot():\n",
        "    def __init__(self):\n",
        "        self.laser = Laser()\n",
        "        self.claw = Claw()\n",
        "        self.smartphone = SmartPhone()\n",
        "    def does(self):\n",
        "        return 'Laser:{0}, Claw :{1}, smartphone: {2}'.format(self.laser.does(), self.claw.does(), self.smartphone.does())\n",
        "\n",
        "R = Robot()\n",
        "R.does()"
      ]
    }
  ]
}