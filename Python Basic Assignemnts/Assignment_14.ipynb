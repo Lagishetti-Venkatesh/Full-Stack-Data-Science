{
  "nbformat": 4,
  "nbformat_minor": 0,
  "metadata": {
    "colab": {
      "name": "Assignment_14.ipynb",
      "provenance": [],
      "collapsed_sections": []
    },
    "kernelspec": {
      "name": "python3",
      "display_name": "Python 3"
    },
    "language_info": {
      "name": "python"
    }
  },
  "cells": [
    {
      "cell_type": "markdown",
      "source": [
        "1. What does RGBA stand for?"
      ],
      "metadata": {
        "id": "tEac2fMJe2fP"
      }
    },
    {
      "cell_type": "code",
      "source": [
        "'''\n",
        "RGBA  stands for Red, green, Blue, Alpha(transparency) color values ranging from 0, 255 in each color.\n",
        "'''"
      ],
      "metadata": {
        "id": "zCoZYYL_gITd"
      },
      "execution_count": null,
      "outputs": []
    },
    {
      "cell_type": "markdown",
      "source": [
        "2. From the Pillow module, how do you get the RGBA value of any images?"
      ],
      "metadata": {
        "id": "eXAGYcWle2Xz"
      }
    },
    {
      "cell_type": "code",
      "source": [
        "#Answer\n",
        "from PIL import Image\n",
        "import numpy as np\n",
        "\n",
        "img = Image.open(\"/content/download.jpeg\") ## Here I took sample image For Code.\n",
        "rgba_val = img.convert('RGBA')\n",
        "print(np.array(rgba_val.getdata()))\n",
        "\n",
        "# the above code will print the RGBA values of image as a array."
      ],
      "metadata": {
        "id": "-B-o1VMRgHzO",
        "colab": {
          "base_uri": "https://localhost:8080/"
        },
        "outputId": "f849d5bb-b2d9-4b63-de4b-2d60f0df859a"
      },
      "execution_count": null,
      "outputs": [
        {
          "output_type": "stream",
          "name": "stdout",
          "text": [
            "[[ 83 128 157 255]\n",
            " [ 83 128 157 255]\n",
            " [ 83 128 157 255]\n",
            " ...\n",
            " [ 58 102 127 255]\n",
            " [ 58 102 127 255]\n",
            " [ 58 102 127 255]]\n"
          ]
        }
      ]
    },
    {
      "cell_type": "markdown",
      "source": [
        "3. What is a box tuple, and how does it work?"
      ],
      "metadata": {
        "id": "J1dJM20me2Qr"
      }
    },
    {
      "cell_type": "code",
      "source": [
        "'''\n",
        "Answer:\n",
        "box tuple (X, Y, W, H) is tuple Data that takes 4 values which referes the following:\n",
        "1st value refers left-edge X co-ordinate.\n",
        "2nd value refers top Y co-ordinate.\n",
        "3rd value refers width.\n",
        "4th value refers height.\n",
        "These are used for cropping the image.\n",
        "\n",
        "'''"
      ],
      "metadata": {
        "id": "ptylvPfSgHWS"
      },
      "execution_count": null,
      "outputs": []
    },
    {
      "cell_type": "markdown",
      "source": [
        "4. Use your image and load in notebook then, How can you find out the width and height of an Image object?"
      ],
      "metadata": {
        "id": "_TDM_OTQe2Io"
      }
    },
    {
      "cell_type": "code",
      "source": [
        "#Answer\n",
        "from PIL import Image\n",
        "img = Image.open(\"/content/download.jpeg\")\n",
        "print(img.size)  #size variable gives the width and height of the object.\n"
      ],
      "metadata": {
        "id": "2dHKQKTvgHBJ",
        "colab": {
          "base_uri": "https://localhost:8080/"
        },
        "outputId": "890e24da-c2d4-487a-e05d-eefd2c9b082d"
      },
      "execution_count": null,
      "outputs": [
        {
          "output_type": "stream",
          "name": "stdout",
          "text": [
            "(259, 194)\n"
          ]
        }
      ]
    },
    {
      "cell_type": "markdown",
      "source": [
        "5. What method would you call to get Image object for a 100×100 image, excluding the lower-left quarter of it?"
      ],
      "metadata": {
        "id": "ZNWdNVM9e2Am"
      }
    },
    {
      "cell_type": "code",
      "source": [
        "'''\n",
        "image_object.crop((0, 50, 50, 50))\n",
        "inside crop object tuple of 4 values should be present.\n",
        "'''"
      ],
      "metadata": {
        "id": "SZ7omW_ygGnj"
      },
      "execution_count": null,
      "outputs": []
    },
    {
      "cell_type": "markdown",
      "source": [
        "6. After making changes to an Image object, how could you save it as an image file?"
      ],
      "metadata": {
        "id": "oUHYtAcse1aU"
      }
    },
    {
      "cell_type": "code",
      "source": [
        "'''\n",
        "Answer:\n",
        "image_object.save('filename.png') ---> will save the image with the file name mentioned. \n",
        "'''"
      ],
      "metadata": {
        "id": "LkMeALt6gGUj"
      },
      "execution_count": null,
      "outputs": []
    },
    {
      "cell_type": "markdown",
      "source": [
        "7. What module contains Pillow’s shape-drawing code?"
      ],
      "metadata": {
        "id": "NB5FzqZse1Ti"
      }
    },
    {
      "cell_type": "code",
      "source": [
        "'''\n",
        "Answer:\n",
        "ImageDraw module contains methods to draw shapes on image ojects.\n",
        "'''"
      ],
      "metadata": {
        "id": "oa1ibggUgGCr"
      },
      "execution_count": null,
      "outputs": []
    },
    {
      "cell_type": "markdown",
      "source": [
        "8. Image objects do not have drawing methods. What kind of object does? How do you get this kind of object?"
      ],
      "metadata": {
        "id": "vMy43Bzle1HF"
      }
    },
    {
      "cell_type": "code",
      "execution_count": null,
      "metadata": {
        "id": "-Xf0sBghenkk"
      },
      "outputs": [],
      "source": [
        "'''\n",
        "Answer:\n",
        "ImageDraw Module has shape drawing methods for drawing shapes on image objects.\n",
        "shapes like line(), rectangle(), ellipse() and polygon().\n",
        "\n",
        "'''"
      ]
    }
  ]
}