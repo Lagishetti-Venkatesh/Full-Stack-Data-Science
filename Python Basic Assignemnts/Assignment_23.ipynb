{
  "nbformat": 4,
  "nbformat_minor": 0,
  "metadata": {
    "colab": {
      "name": "Assignment_23.ipynb",
      "provenance": [],
      "collapsed_sections": []
    },
    "kernelspec": {
      "name": "python3",
      "display_name": "Python 3"
    },
    "language_info": {
      "name": "python"
    }
  },
  "cells": [
    {
      "cell_type": "markdown",
      "source": [
        "\n",
        "1. What is the result of the code, and why?\n",
        "<p>\n",
        ">>> def func(a, b=6, c=8):<br/>\n",
        "print(a, b, c)<br/>\n",
        ">>> func(1, 2)<br/>\n",
        "<p>"
      ],
      "metadata": {
        "id": "vTlUaPIpDPo4"
      }
    },
    {
      "cell_type": "code",
      "source": [
        "\"\"\"\n",
        "result: 1 2 8\n",
        "\n",
        "Explanation: Here at the time of defining the function default values are set.\n",
        "             hence while calling the function if the values are not passed those default values are used\n",
        "             within the function if any values are not passed to it.\n",
        "             while calling a and b values are passed but c value is not passed it took the default value.\n",
        "\"\"\"\n"
      ],
      "metadata": {
        "id": "0BYwHAYPFZxj",
        "colab": {
          "base_uri": "https://localhost:8080/"
        },
        "outputId": "22c49b39-6cc3-4db5-aa9e-9a7d51ba261c"
      },
      "execution_count": 1,
      "outputs": [
        {
          "output_type": "stream",
          "name": "stdout",
          "text": [
            "1 2 8\n"
          ]
        }
      ]
    },
    {
      "cell_type": "markdown",
      "source": [
        "2. What is the result of this code, and why?\n",
        "<p>\n",
        ">>> def func(a, b, c=5):<br/>\n",
        "print(a, b, c)<br/>\n",
        ">>> func(1, c=3, b=2)\n",
        "</p>"
      ],
      "metadata": {
        "id": "e2flWysfD6rQ"
      }
    },
    {
      "cell_type": "code",
      "source": [
        "\"\"\"\n",
        "result: 1 2 3\n",
        "Explanation: when function is called values are passed with the variable assigning values.\n",
        "             irrespective of the order of the arguments. hence variable takes those values with the variable names a, b, c\n",
        "             and prints within a function.\n",
        "\"\"\"\n"
      ],
      "metadata": {
        "id": "g-N-mKytFYlV"
      },
      "execution_count": null,
      "outputs": []
    },
    {
      "cell_type": "markdown",
      "source": [
        "3. How about this code: what is its result, and why?\n",
        "<p>\n",
        ">>> def func(a, *pargs):<br/>\n",
        "print(a, pargs)<br/>\n",
        ">>> func(1, 2, 3)\n",
        "</p>"
      ],
      "metadata": {
        "id": "ZeHSMxDNEJJA"
      }
    },
    {
      "cell_type": "code",
      "source": [
        "\"\"\"\n",
        "result: 1 (2, 3)\n",
        "Explanation: Here except the first argument rest of the arguments are \n",
        "            assigned to the variable pargs with *(asterik) symbol before to it.\n",
        "            function takes this arguments  as a tuple object and you can access the elements using indexing.\n",
        "             \n",
        "\"\"\"\n"
      ],
      "metadata": {
        "id": "An3N7RrHFXHb",
        "colab": {
          "base_uri": "https://localhost:8080/"
        },
        "outputId": "fe2abdb1-ef6f-4b5b-9daf-16b86558f9f7"
      },
      "execution_count": 4,
      "outputs": [
        {
          "output_type": "stream",
          "name": "stdout",
          "text": [
            "1 3\n"
          ]
        }
      ]
    },
    {
      "cell_type": "markdown",
      "source": [
        "4. What does this code print, and why?\n",
        "<p>\n",
        ">>> def func(a, **kargs):<br/>\n",
        "print(a, kargs)<br/>\n",
        ">>> func(a=1, c=3, b=2)\n",
        "</p>"
      ],
      "metadata": {
        "id": "IGv01Yw2EQAz"
      }
    },
    {
      "cell_type": "code",
      "source": [
        "\"\"\"\n",
        "result:1 {'b': 2, 'c': 3}\n",
        "Explanation:Here except the first argument rest of the arguments are \n",
        "            assigned to the variable kargs with **( double asterik) symbol before to it.\n",
        "            function takes this arguments  as a dictionary object and you can access the elements using key.\n",
        "            it is mandatory to pass the arguments with names.\n",
        "\"\"\"\n"
      ],
      "metadata": {
        "id": "_gt53JBTFVq1"
      },
      "execution_count": null,
      "outputs": []
    },
    {
      "cell_type": "markdown",
      "source": [
        "5. What gets printed by this, and explain?\n",
        "<p>\n",
        ">>> def func(a, b, c=8, d=5): print(a, b, c, d)<br/>\n",
        ">>> func(1, *(5, 6))\n",
        "</p>"
      ],
      "metadata": {
        "id": "SbhSxXdBEPqR"
      }
    },
    {
      "cell_type": "code",
      "source": [
        "\"\"\"\n",
        "result: 1 5 6 5\n",
        "Explanation: Here when calling the function 2nd argument is passed as a tuple with *(asterik symbol)\n",
        "             so while executing the function b, c arguments will the takes this values(*(5, 6)).\n",
        "             while d prints its default value, if the 3rd value is passed in the tuple that value will be printed.\n",
        "\n",
        "\"\"\"\n",
        "def func(a, b, c = 8, d=5):\n",
        "    print(a,b, c, d)\n",
        "func(1,*(5,6))"
      ],
      "metadata": {
        "id": "sI6lDlCqFVRS",
        "colab": {
          "base_uri": "https://localhost:8080/"
        },
        "outputId": "006166f7-109c-4977-bfd7-5b406028da7b"
      },
      "execution_count": 9,
      "outputs": [
        {
          "output_type": "stream",
          "name": "stdout",
          "text": [
            "1 5 6 5\n"
          ]
        }
      ]
    },
    {
      "cell_type": "markdown",
      "source": [
        "6. what is the result of this, and explain?\n",
        "<p>\n",
        ">>> def func(a, b, c): a = 2; b[0] = 'x'; c['a'] = 'y'<br/>\n",
        ">>> l=1; m=[1]; n={'a':0}<br/>\n",
        ">>> func(l, m, n)<br/>\n",
        ">>> l, m, n\n",
        "</p>\n"
      ],
      "metadata": {
        "id": "ZidWamehEPKY"
      }
    },
    {
      "cell_type": "code",
      "source": [
        "\"\"\"\n",
        "result: 1 ['x'] {'a': 'y'}\n",
        "Explanation: ;(semicolon) in programming implies end of statement. \n",
        "                Hence defining the function in single line allows after indentation.\n",
        "                variables within the global won't affect with the changes in the function.\n",
        "                but list and dictionary object will have a effect when changes are done within a function.\n",
        "                that's why data within the list and dictionary values changed. \n",
        "\"\"\"\n"
      ],
      "metadata": {
        "id": "izGRFkP9FU2Y",
        "colab": {
          "base_uri": "https://localhost:8080/"
        },
        "outputId": "934ff490-1a86-4685-aed1-d6ae9e8967b7"
      },
      "execution_count": 13,
      "outputs": [
        {
          "output_type": "stream",
          "name": "stdout",
          "text": [
            "1 ['x'] {'a': 'y'}\n"
          ]
        }
      ]
    },
    {
      "cell_type": "code",
      "source": [
        ""
      ],
      "metadata": {
        "id": "ISBtPBil7K44"
      },
      "execution_count": null,
      "outputs": []
    }
  ]
}