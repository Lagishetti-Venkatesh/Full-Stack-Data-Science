{
  "nbformat": 4,
  "nbformat_minor": 0,
  "metadata": {
    "colab": {
      "name": "Assignement_3.ipynb",
      "provenance": [],
      "collapsed_sections": []
    },
    "kernelspec": {
      "name": "python3",
      "display_name": "Python 3"
    },
    "language_info": {
      "name": "python"
    }
  },
  "cells": [
    {
      "cell_type": "markdown",
      "metadata": {
        "id": "oOpVJtMuu_EE"
      },
      "source": [
        "1. Why are functions advantageous to have in your programs?"
      ]
    },
    {
      "cell_type": "code",
      "metadata": {
        "id": "OXYbDOpNv1Kj"
      },
      "source": [
        "'''\n",
        "Answer:\n",
        "1. Functions helps us in reducing the resusages of block of code to perform specific action.\n",
        "2. Functions Helps us in maitaining a clear structure of program avoiding the confusion.\n",
        "3. Functions makes the code easier to read , update and make look the code easier.\n",
        "'''"
      ],
      "execution_count": null,
      "outputs": []
    },
    {
      "cell_type": "markdown",
      "metadata": {
        "id": "kx93DtGyu_BD"
      },
      "source": [
        "2. When does the code in a function run: when it's specified or when it's called?"
      ]
    },
    {
      "cell_type": "code",
      "metadata": {
        "id": "n_q3BDGGv4qE"
      },
      "source": [
        "'''\n",
        "Answer:\n",
        "code in functions runs when the functions is called. not when defined.\n",
        "'''"
      ],
      "execution_count": null,
      "outputs": []
    },
    {
      "cell_type": "markdown",
      "metadata": {
        "id": "Ff-PjsbQu-nE"
      },
      "source": [
        "3. What statement creates a function?\n",
        "\n"
      ]
    },
    {
      "cell_type": "code",
      "metadata": {
        "id": "nKbWtA7yv6dZ"
      },
      "source": [
        "'''\n",
        "Answer:\n",
        "def function_name(parameters):\n",
        "    statements\n",
        "\n",
        "    return (value or values)\n",
        "def --> keyword used for creating the funciton\n",
        "function_name --> Function name should be related to the functionality that you want to perform.\n",
        "parameters --> these are values which are passed to functions to which either can be used in performing the functionality.\n",
        "statements --> here we will be writing the set of statements to perform the functionality that we wish to\n",
        "return --> this is used for the returning the value or set of values which can be list or tuples.\n",
        "'''"
      ],
      "execution_count": null,
      "outputs": []
    },
    {
      "cell_type": "markdown",
      "metadata": {
        "id": "4Km7UvtWu-kF"
      },
      "source": [
        "\n",
        "4. What is the difference between a function and a function call?"
      ]
    },
    {
      "cell_type": "code",
      "metadata": {
        "id": "T9WI5K5av7Uv"
      },
      "source": [
        "'''\n",
        "Answer:\n",
        "function --> it is where the process is defined with set of statements to acheive the particular result, parameters passed to it, and few keywords like def, return etc.,\n",
        "function call --> it is where we call the function to by passing the parameters (if required) and gets a values if the function has returned values at the time of definition.\n",
        "'''"
      ],
      "execution_count": null,
      "outputs": []
    },
    {
      "cell_type": "markdown",
      "metadata": {
        "id": "9TvQHdDlu-fn"
      },
      "source": [
        "5. How many global scopes are there in a Python program? How many local scopes?"
      ]
    },
    {
      "cell_type": "code",
      "metadata": {
        "id": "MCwDoku8v8bt"
      },
      "source": [
        "'''\n",
        "Answer:\n",
        "There is only one type of the global scope in python which works till program terminates.\n",
        "local scopes are those variables defined within a function which works only within that functionand throws error when used outside of the function. \n",
        "'''"
      ],
      "execution_count": null,
      "outputs": []
    },
    {
      "cell_type": "markdown",
      "metadata": {
        "id": "FdTYZgsau-dn"
      },
      "source": [
        "6. What happens to variables in a local scope when the function call returns?"
      ]
    },
    {
      "cell_type": "code",
      "metadata": {
        "id": "Upo7onJ8v9uN"
      },
      "source": [
        "'''\n",
        "Answer:\n",
        "local variable become undefined when the function call returns. and when tried to used outside of the function it throws Error\n",
        "'''"
      ],
      "execution_count": null,
      "outputs": []
    },
    {
      "cell_type": "markdown",
      "metadata": {
        "id": "pHXKYN4xu-ZM"
      },
      "source": [
        "7. What is the concept of a return value? Is it possible to have a return value in an expression?"
      ]
    },
    {
      "cell_type": "code",
      "metadata": {
        "id": "-U9CPA-RwRHM"
      },
      "source": [
        "'''\n",
        "Answer:\n",
        "the purpose of the return value is to make the function return a data which may be list, string, integer etc., with appropriate changes on that data.\n",
        "'''"
      ],
      "execution_count": null,
      "outputs": []
    },
    {
      "cell_type": "markdown",
      "metadata": {
        "id": "KPsETjKWu-XL"
      },
      "source": [
        "8. If a function does not have a return statement, what is the return value of a call to that function?"
      ]
    },
    {
      "cell_type": "code",
      "metadata": {
        "id": "6dm4wqXqwSMt"
      },
      "source": [
        "'''\n",
        "if the function does not have a return statement the function return type is None.\n",
        "'''"
      ],
      "execution_count": null,
      "outputs": []
    },
    {
      "cell_type": "markdown",
      "metadata": {
        "id": "KtUnTGqvu-Sh"
      },
      "source": [
        "9. How do you make a function variable refer to the global variable?"
      ]
    },
    {
      "cell_type": "code",
      "metadata": {
        "id": "30IXrLNMwT0I"
      },
      "source": [
        "'''\n",
        "Answer\n",
        "global variable_name  --> in this way we refer function variable to global variable.\n",
        "here global is the keyword used to make the variable global so that it can be accessed throught a program.\n",
        "'''"
      ],
      "execution_count": null,
      "outputs": []
    },
    {
      "cell_type": "markdown",
      "metadata": {
        "id": "sJ7aVGAku-Qk"
      },
      "source": [
        "10. What is the data type of None?"
      ]
    },
    {
      "cell_type": "code",
      "metadata": {
        "id": "7ySrZ7V_wVuW"
      },
      "source": [
        "'''\n",
        "Answer:\n",
        "None is the data type of the class NoneType\n",
        "'''"
      ],
      "execution_count": null,
      "outputs": []
    },
    {
      "cell_type": "markdown",
      "metadata": {
        "id": "vHQhIdREu-Ms"
      },
      "source": [
        "11. What does the sentence import areallyourpetsnamederic do?"
      ]
    },
    {
      "cell_type": "code",
      "metadata": {
        "id": "xAKhNnTEwWfk"
      },
      "source": [
        "'''\n",
        "Answer:\n",
        "import areallyourpetsnamederic\n",
        "will import the module areallyourpetsnamederic to make use of it if it exists \n",
        "else it will throw module not found error. \n",
        "'''"
      ],
      "execution_count": null,
      "outputs": []
    },
    {
      "cell_type": "markdown",
      "metadata": {
        "id": "LcO1XLXUu-Kt"
      },
      "source": [
        "12. If you had a bacon() feature in a spam module, what would you call it after importing spam?"
      ]
    },
    {
      "cell_type": "code",
      "metadata": {
        "id": "vZFf_2JSwXCW"
      },
      "source": [
        "'''\n",
        "spam.beacon() -->in this way we call the function of the particular module spam.\n",
        "\n",
        "'''"
      ],
      "execution_count": null,
      "outputs": []
    },
    {
      "cell_type": "markdown",
      "metadata": {
        "id": "xUWZohrOu-Hd"
      },
      "source": [
        "13. What can you do to save a programme from crashing if it encounters an error?"
      ]
    },
    {
      "cell_type": "code",
      "metadata": {
        "id": "sk-906bPwY28"
      },
      "source": [
        "'''\n",
        "I will make use of the try except concept so code which has probable chances of \n",
        "getting an error goes into try block and handling that error will be done in exception block.\n",
        "\n",
        "'''"
      ],
      "execution_count": null,
      "outputs": []
    },
    {
      "cell_type": "markdown",
      "metadata": {
        "id": "ebLoSYmmu-EI"
      },
      "source": [
        "14. What is the purpose of the try clause? What is the purpose of the except clause?"
      ]
    },
    {
      "cell_type": "code",
      "metadata": {
        "id": "E66Nh2eSwZk8"
      },
      "source": [
        "'''\n",
        "answer:\n",
        "try and except clause are used together for block of code to handle any errors if any raised within the block of code\n",
        "so that whole program won't crash and can executes the rest of the statements and after the block\n",
        "'''"
      ],
      "execution_count": null,
      "outputs": []
    }
  ]
}