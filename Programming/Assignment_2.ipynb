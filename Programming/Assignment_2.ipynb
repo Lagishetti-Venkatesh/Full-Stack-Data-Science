{
  "nbformat": 4,
  "nbformat_minor": 0,
  "metadata": {
    "colab": {
      "name": "Assignment_2.ipynb",
      "provenance": [],
      "collapsed_sections": []
    },
    "kernelspec": {
      "name": "python3",
      "display_name": "Python 3"
    },
    "language_info": {
      "name": "python"
    }
  },
  "cells": [
    {
      "cell_type": "markdown",
      "metadata": {
        "id": "tbLsuFuKANEV"
      },
      "source": [
        "1.What are the two values of the Boolean data type? How do you write them?"
      ]
    },
    {
      "cell_type": "code",
      "metadata": {
        "id": "eu-UMP6J_-rr"
      },
      "source": [
        "'''\n",
        "Answer:\n",
        "Two Values of Boolean Data Type  are 0 and 1. In python We Write them 0 as False and 1 as True\n",
        "'''"
      ],
      "execution_count": null,
      "outputs": []
    },
    {
      "cell_type": "markdown",
      "metadata": {
        "id": "4jrOXxQoA2Gi"
      },
      "source": [
        "2. What are the three different types of Boolean operators?"
      ]
    },
    {
      "cell_type": "code",
      "metadata": {
        "id": "JVRdDds3A5s9"
      },
      "source": [
        "'''\n",
        "Answer :\n",
        "Three Different types of Boolean Operators are \"and (&)\" , \"or (|)\"  and \"not(~)\"\n",
        "'''"
      ],
      "execution_count": null,
      "outputs": []
    },
    {
      "cell_type": "markdown",
      "metadata": {
        "id": "V4UNek2sCAfV"
      },
      "source": [
        "3. Make a list of each Boolean operator's truth tables (i.e. every possible combination of Boolean values for the operator and what it evaluate)."
      ]
    },
    {
      "cell_type": "code",
      "metadata": {
        "id": "Yo0Kh8YSBjgT"
      },
      "source": [
        "'''\n",
        "Answer:\n",
        "Note:\n",
        "Assumption True as 1 , False as 0.\n",
        "\n",
        "AND (&) Truth Table\n",
        " A | B | A and B |\n",
        " 1 | 1 |    1    |\n",
        " 1 | 0 |    0    |\n",
        " 0 | 1 |    0    |\n",
        " 0 | 0 |    0    |\n",
        "\n",
        "OR (|) Truth Table\n",
        " A | B | A or B |\n",
        " 1 | 1 |    1    |\n",
        " 1 | 0 |    1    |\n",
        " 0 | 1 |    1    |\n",
        " 0 | 0 |    0    |\n",
        "\n",
        "not (~) table\n",
        " A | ~A |\n",
        " 1 | 0 |\n",
        " 0 | 1 |\n",
        "\n",
        "'''"
      ],
      "execution_count": null,
      "outputs": []
    },
    {
      "cell_type": "markdown",
      "metadata": {
        "id": "rquOZUNzEmW6"
      },
      "source": [
        "4. What are the values of the following expressions?\n",
        "\n",
        "(5 > 4) and (3 == 5)\n",
        "\n",
        "not (5 > 4)\n",
        "\n",
        "(5 > 4) or (3 == 5)\n",
        "\n",
        "not ((5 > 4) or (3 == 5))\n",
        "\n",
        "(True and True) and (True == False)\n",
        "\n",
        "(not False) or (not True)\n"
      ]
    },
    {
      "cell_type": "code",
      "metadata": {
        "id": "fbiHlDBpBpxD"
      },
      "source": [
        "'''\n",
        "Answer:\n",
        "\n",
        "(5 > 4) and (3 == 5)   ---> False\n",
        "\n",
        "not (5 > 4)            ---> False\n",
        "\n",
        "(5 > 4) or (3 == 5)    ---> True\n",
        "\n",
        "not ((5 > 4) or (3 == 5)) ---> False\n",
        "\n",
        "(True and True) and (True == False) ---> True\n",
        "\n",
        "(not False) or (not True) ---> True\n",
        "\n",
        "'''"
      ],
      "execution_count": null,
      "outputs": []
    },
    {
      "cell_type": "markdown",
      "metadata": {
        "id": "6cY0n6eSFcJB"
      },
      "source": [
        "5. What are the six comparison operators?"
      ]
    },
    {
      "cell_type": "code",
      "metadata": {
        "id": "h9GSw8zvFjU3"
      },
      "source": [
        "'''\n",
        "Six comparision operators are:\n",
        "1. (>) greater than.\n",
        "2. (<) less than.\n",
        "3. (==) Equal to.\n",
        "4. (!=) Not Equal to.\n",
        "5. (>=) greater than or Equal to\n",
        "6. (<=) Less Than or Equal to \n",
        "'''"
      ],
      "execution_count": null,
      "outputs": []
    },
    {
      "cell_type": "markdown",
      "metadata": {
        "id": "Z6Sh3vbwKVxj"
      },
      "source": [
        "6. How do you tell the difference between the equal to and assignment operators?Describe a condition and when you would use one."
      ]
    },
    {
      "cell_type": "code",
      "metadata": {
        "id": "XidtEAp2KZAO"
      },
      "source": [
        "'''\n",
        "Answer:\n",
        "Equal to is represented by this \"==\" Symbol whereas assignement is represented by this \"=\" symbol.\n",
        "\n",
        "Equal to(==) is used for comparing Two Values of any datatype and whereas assignement(=) symbol is used for the assigning the value to the variable.\n",
        "\n",
        "Eg:\n",
        "(5==10) here we ued equal to(==) symbol to compare 2 values of integer data type.\n",
        "\n",
        "a = 5 here we used assignment symbol to (=) assign a integer value to variable named a.\n",
        " \n",
        "\n",
        "'''"
      ],
      "execution_count": null,
      "outputs": []
    },
    {
      "cell_type": "markdown",
      "metadata": {
        "id": "oGExfs9uMx56"
      },
      "source": [
        "7. Identify the three blocks in this code:\n",
        "\n",
        "spam = 0\n",
        "\n",
        "if spam == 10:\n",
        "\n",
        "print('eggs')\n",
        "\n",
        "\n",
        "if spam > 5:\n",
        "\n",
        "print('bacon')\n",
        "\n",
        "else:\n",
        "\n",
        "print('ham')\n",
        "\n",
        "print('spam')\n",
        "\n",
        "print('spam')\n"
      ]
    },
    {
      "cell_type": "code",
      "metadata": {
        "colab": {
          "base_uri": "https://localhost:8080/"
        },
        "id": "y2JmbEJ0M94f",
        "outputId": "1237e36b-20d2-4639-98e5-d97a4e2779e0"
      },
      "source": [
        "#Answer\n",
        "#1st block of code\n",
        "spam = 0\n",
        "if spam == 10:\n",
        "    print('eggs')\n",
        "\n",
        "#2nd block of Code\n",
        "if spam > 5:\n",
        "    print('bacon')\n",
        "\n",
        "#3rd block of code\n",
        "else:\n",
        "    print('ham')\n",
        "    print('spam')\n",
        "    print('spam')\n"
      ],
      "execution_count": null,
      "outputs": [
        {
          "output_type": "stream",
          "name": "stdout",
          "text": [
            "ham\n",
            "spam\n",
            "spam\n"
          ]
        }
      ]
    },
    {
      "cell_type": "markdown",
      "metadata": {
        "id": "MHUE_4Y5NsIa"
      },
      "source": [
        "8. Write code that prints\n",
        "\n",
        "Hello if 1 is stored in spam,\n",
        " \n",
        "prints Howdy if 2 is stored in spam, \n",
        "\n",
        "and prints Greetings! if anything else is stored in spam."
      ]
    },
    {
      "cell_type": "code",
      "metadata": {
        "colab": {
          "base_uri": "https://localhost:8080/"
        },
        "id": "H5Pd3fPqNieE",
        "outputId": "0e7eb80b-19df-4e68-815b-02c5ba3c56dc"
      },
      "source": [
        "spam = 3\n",
        "if spam == 1:\n",
        "    print(\"Hello\")\n",
        "elif spam == 2:\n",
        "    print(\"Howdy\")\n",
        "else:\n",
        "    print(\"Greetings!\")\n"
      ],
      "execution_count": null,
      "outputs": [
        {
          "output_type": "stream",
          "name": "stdout",
          "text": [
            "Greetings!\n"
          ]
        }
      ]
    },
    {
      "cell_type": "markdown",
      "metadata": {
        "id": "7HAkj3sfO1Zi"
      },
      "source": [
        "9.If your programme is stuck in an endless loop, what keys you’ll press?"
      ]
    },
    {
      "cell_type": "code",
      "metadata": {
        "id": "EMIrAjHcOt-S"
      },
      "source": [
        "'''\n",
        "in programming break is the keyword used to come out of the loop.\n",
        "If the program is running from the terminal we can press ctrl+c\n",
        "in jupyter notebook we try to press restart \n",
        "\n",
        "'''"
      ],
      "execution_count": null,
      "outputs": []
    },
    {
      "cell_type": "markdown",
      "metadata": {
        "id": "FTe6A4VtSiuF"
      },
      "source": [
        "10. How can you tell the difference between break and continue?"
      ]
    },
    {
      "cell_type": "code",
      "metadata": {
        "colab": {
          "base_uri": "https://localhost:8080/"
        },
        "id": "o_Y2O3idPOsZ",
        "outputId": "8a75a54a-ab42-4afb-d06f-52c5e4c3a7ad"
      },
      "source": [
        "a = 10\n",
        "i = 1\n",
        "while i < 10:\n",
        "    if i  == 3:\n",
        "        i+=1\n",
        "        continue\n",
        "    if i == 6:\n",
        "        break\n",
        "    i+=1\n",
        "    print(i)\n",
        "'''\n",
        "Answer:\n",
        "break statement will come out of the loop completely without executing the rest of the iterations.\n",
        "whereas continue statement will only not exeutes the below statements of particular iteration of the loop.\n",
        "-->in the above code when i value is 3 the i value is gettting updated and continue is executed without printing the value 4 \n",
        "here it is leaving execution of the particular iteration.\n",
        "--> whereas break statement is executed when i value is 6 and comes out of the loop and leaves execution of the rest of the iterations.\n",
        "\n",
        "'''"
      ],
      "execution_count": null,
      "outputs": [
        {
          "output_type": "stream",
          "name": "stdout",
          "text": [
            "2\n",
            "3\n",
            "5\n",
            "6\n"
          ]
        }
      ]
    },
    {
      "cell_type": "markdown",
      "metadata": {
        "id": "NFUlGKTPhoHQ"
      },
      "source": [
        "11. In a for loop, what is the difference between range(10), range(0, 10), and range(0, 10, 1)?"
      ]
    },
    {
      "cell_type": "code",
      "metadata": {
        "id": "ow4LEtGPTXyS"
      },
      "source": [
        "'''\n",
        "answer:\n",
        "basic syntax: range(start, end, step)\n",
        "\n",
        "range(10) --> here it will generate the 10 integer values start from 0 ending with 9.\n",
        "in this start index is 0 and step is 1 is taken as by default.\n",
        "\n",
        "range(0, 10) --> here also it generates the 10 integer values stating from 0 to 9.\n",
        "in this step is taken 1 by default.\n",
        "\n",
        "range(0, 10, 1) --> here also it generates the 10 integer values stating from 0 to 9.\n",
        "with all values defined.\n",
        "Here all syntxes are correct to generate 10 values in sequences.\n",
        " but in case change in the context like if we want to generate the values from 10 to 100 with gap value of 10 \n",
        " then syntax is range(10, 100, 10). \n",
        "'''"
      ],
      "execution_count": null,
      "outputs": []
    },
    {
      "cell_type": "markdown",
      "metadata": {
        "id": "VROVKmhtjjS2"
      },
      "source": [
        "12. Write a short program that prints the numbers 1 to 10 using a for loop. Then write an equivalent program that prints the numbers 1 to 10 using a while loop."
      ]
    },
    {
      "cell_type": "code",
      "metadata": {
        "colab": {
          "base_uri": "https://localhost:8080/"
        },
        "id": "tXXwYnL_jkkr",
        "outputId": "6bbc55d9-2fa2-46e0-e70a-d6691d0b8884"
      },
      "source": [
        "#For loop\n",
        "for i in range(1, 11):\n",
        "    print(i, end=\" \")\n",
        "\n",
        "print()\n",
        "\n",
        "#while loop\n",
        "j = 1\n",
        "while j <= 10:\n",
        "    print(j, end = \" \")\n",
        "    j+=1\n"
      ],
      "execution_count": null,
      "outputs": [
        {
          "output_type": "stream",
          "name": "stdout",
          "text": [
            "1 2 3 4 5 6 7 8 9 10 \n",
            "1 2 3 4 5 6 7 8 9 10 "
          ]
        }
      ]
    },
    {
      "cell_type": "markdown",
      "metadata": {
        "id": "wEFyYeFckvfy"
      },
      "source": [
        "13. If you had a function named bacon() inside a module named spam, how would you call it after importing spam?"
      ]
    },
    {
      "cell_type": "code",
      "metadata": {
        "id": "3312mpMij5M1"
      },
      "source": [
        "'''\n",
        "import spam\n",
        "\n",
        "spam.bacon() # i will calll function with . symbol along with the function name.\n",
        "\n",
        "'''"
      ],
      "execution_count": null,
      "outputs": []
    }
  ]
}